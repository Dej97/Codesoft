{
 "cells": [
  {
   "cell_type": "code",
   "execution_count": 413,
   "metadata": {},
   "outputs": [],
   "source": [
    "import pandas as pd \n",
    "import numpy as np \n",
    "import matplotlib.pyplot as plt \n",
    "import seaborn as sbr\n",
    "import plotly.express as px \n",
    "from sklearn.model_selection import train_test_split\n"
   ]
  },
  {
   "cell_type": "markdown",
   "metadata": {},
   "source": [
    "**DATA CLEANING**"
   ]
  },
  {
   "cell_type": "code",
   "execution_count": 414,
   "metadata": {},
   "outputs": [],
   "source": [
    "df=pd.read_csv(\"IMDb Movies India.csv\",encoding='latin') "
   ]
  },
  {
   "cell_type": "code",
   "execution_count": 415,
   "metadata": {},
   "outputs": [
    {
     "data": {
      "text/html": [
       "<div>\n",
       "<style scoped>\n",
       "    .dataframe tbody tr th:only-of-type {\n",
       "        vertical-align: middle;\n",
       "    }\n",
       "\n",
       "    .dataframe tbody tr th {\n",
       "        vertical-align: top;\n",
       "    }\n",
       "\n",
       "    .dataframe thead th {\n",
       "        text-align: right;\n",
       "    }\n",
       "</style>\n",
       "<table border=\"1\" class=\"dataframe\">\n",
       "  <thead>\n",
       "    <tr style=\"text-align: right;\">\n",
       "      <th></th>\n",
       "      <th>Name</th>\n",
       "      <th>Year</th>\n",
       "      <th>Duration</th>\n",
       "      <th>Genre</th>\n",
       "      <th>Rating</th>\n",
       "      <th>Votes</th>\n",
       "      <th>Director</th>\n",
       "      <th>Actor 1</th>\n",
       "      <th>Actor 2</th>\n",
       "      <th>Actor 3</th>\n",
       "    </tr>\n",
       "  </thead>\n",
       "  <tbody>\n",
       "    <tr>\n",
       "      <th>0</th>\n",
       "      <td></td>\n",
       "      <td>NaN</td>\n",
       "      <td>NaN</td>\n",
       "      <td>Drama</td>\n",
       "      <td>NaN</td>\n",
       "      <td>NaN</td>\n",
       "      <td>J.S. Randhawa</td>\n",
       "      <td>Manmauji</td>\n",
       "      <td>Birbal</td>\n",
       "      <td>Rajendra Bhatia</td>\n",
       "    </tr>\n",
       "    <tr>\n",
       "      <th>1</th>\n",
       "      <td>#Gadhvi (He thought he was Gandhi)</td>\n",
       "      <td>(2019)</td>\n",
       "      <td>109 min</td>\n",
       "      <td>Drama</td>\n",
       "      <td>7.0</td>\n",
       "      <td>8</td>\n",
       "      <td>Gaurav Bakshi</td>\n",
       "      <td>Rasika Dugal</td>\n",
       "      <td>Vivek Ghamande</td>\n",
       "      <td>Arvind Jangid</td>\n",
       "    </tr>\n",
       "    <tr>\n",
       "      <th>2</th>\n",
       "      <td>#Homecoming</td>\n",
       "      <td>(2021)</td>\n",
       "      <td>90 min</td>\n",
       "      <td>Drama, Musical</td>\n",
       "      <td>NaN</td>\n",
       "      <td>NaN</td>\n",
       "      <td>Soumyajit Majumdar</td>\n",
       "      <td>Sayani Gupta</td>\n",
       "      <td>Plabita Borthakur</td>\n",
       "      <td>Roy Angana</td>\n",
       "    </tr>\n",
       "    <tr>\n",
       "      <th>3</th>\n",
       "      <td>#Yaaram</td>\n",
       "      <td>(2019)</td>\n",
       "      <td>110 min</td>\n",
       "      <td>Comedy, Romance</td>\n",
       "      <td>4.4</td>\n",
       "      <td>35</td>\n",
       "      <td>Ovais Khan</td>\n",
       "      <td>Prateik</td>\n",
       "      <td>Ishita Raj</td>\n",
       "      <td>Siddhant Kapoor</td>\n",
       "    </tr>\n",
       "    <tr>\n",
       "      <th>4</th>\n",
       "      <td>...And Once Again</td>\n",
       "      <td>(2010)</td>\n",
       "      <td>105 min</td>\n",
       "      <td>Drama</td>\n",
       "      <td>NaN</td>\n",
       "      <td>NaN</td>\n",
       "      <td>Amol Palekar</td>\n",
       "      <td>Rajat Kapoor</td>\n",
       "      <td>Rituparna Sengupta</td>\n",
       "      <td>Antara Mali</td>\n",
       "    </tr>\n",
       "  </tbody>\n",
       "</table>\n",
       "</div>"
      ],
      "text/plain": [
       "                                 Name    Year Duration            Genre   \n",
       "0                                         NaN      NaN            Drama  \\\n",
       "1  #Gadhvi (He thought he was Gandhi)  (2019)  109 min            Drama   \n",
       "2                         #Homecoming  (2021)   90 min   Drama, Musical   \n",
       "3                             #Yaaram  (2019)  110 min  Comedy, Romance   \n",
       "4                   ...And Once Again  (2010)  105 min            Drama   \n",
       "\n",
       "   Rating Votes            Director       Actor 1             Actor 2   \n",
       "0     NaN   NaN       J.S. Randhawa      Manmauji              Birbal  \\\n",
       "1     7.0     8       Gaurav Bakshi  Rasika Dugal      Vivek Ghamande   \n",
       "2     NaN   NaN  Soumyajit Majumdar  Sayani Gupta   Plabita Borthakur   \n",
       "3     4.4    35          Ovais Khan       Prateik          Ishita Raj   \n",
       "4     NaN   NaN        Amol Palekar  Rajat Kapoor  Rituparna Sengupta   \n",
       "\n",
       "           Actor 3  \n",
       "0  Rajendra Bhatia  \n",
       "1    Arvind Jangid  \n",
       "2       Roy Angana  \n",
       "3  Siddhant Kapoor  \n",
       "4      Antara Mali  "
      ]
     },
     "execution_count": 415,
     "metadata": {},
     "output_type": "execute_result"
    }
   ],
   "source": [
    "df.head()"
   ]
  },
  {
   "cell_type": "code",
   "execution_count": 416,
   "metadata": {},
   "outputs": [
    {
     "data": {
      "text/html": [
       "<div>\n",
       "<style scoped>\n",
       "    .dataframe tbody tr th:only-of-type {\n",
       "        vertical-align: middle;\n",
       "    }\n",
       "\n",
       "    .dataframe tbody tr th {\n",
       "        vertical-align: top;\n",
       "    }\n",
       "\n",
       "    .dataframe thead th {\n",
       "        text-align: right;\n",
       "    }\n",
       "</style>\n",
       "<table border=\"1\" class=\"dataframe\">\n",
       "  <thead>\n",
       "    <tr style=\"text-align: right;\">\n",
       "      <th></th>\n",
       "      <th>Name</th>\n",
       "      <th>Year</th>\n",
       "      <th>Duration</th>\n",
       "      <th>Genre</th>\n",
       "      <th>Rating</th>\n",
       "      <th>Votes</th>\n",
       "      <th>Director</th>\n",
       "      <th>Actor 1</th>\n",
       "      <th>Actor 2</th>\n",
       "      <th>Actor 3</th>\n",
       "    </tr>\n",
       "  </thead>\n",
       "  <tbody>\n",
       "    <tr>\n",
       "      <th>15504</th>\n",
       "      <td>Zulm Ko Jala Doonga</td>\n",
       "      <td>(1988)</td>\n",
       "      <td>NaN</td>\n",
       "      <td>Action</td>\n",
       "      <td>4.6</td>\n",
       "      <td>11</td>\n",
       "      <td>Mahendra Shah</td>\n",
       "      <td>Naseeruddin Shah</td>\n",
       "      <td>Sumeet Saigal</td>\n",
       "      <td>Suparna Anand</td>\n",
       "    </tr>\n",
       "    <tr>\n",
       "      <th>15505</th>\n",
       "      <td>Zulmi</td>\n",
       "      <td>(1999)</td>\n",
       "      <td>129 min</td>\n",
       "      <td>Action, Drama</td>\n",
       "      <td>4.5</td>\n",
       "      <td>655</td>\n",
       "      <td>Kuku Kohli</td>\n",
       "      <td>Akshay Kumar</td>\n",
       "      <td>Twinkle Khanna</td>\n",
       "      <td>Aruna Irani</td>\n",
       "    </tr>\n",
       "    <tr>\n",
       "      <th>15506</th>\n",
       "      <td>Zulmi Raj</td>\n",
       "      <td>(2005)</td>\n",
       "      <td>NaN</td>\n",
       "      <td>Action</td>\n",
       "      <td>NaN</td>\n",
       "      <td>NaN</td>\n",
       "      <td>Kiran Thej</td>\n",
       "      <td>Sangeeta Tiwari</td>\n",
       "      <td>NaN</td>\n",
       "      <td>NaN</td>\n",
       "    </tr>\n",
       "    <tr>\n",
       "      <th>15507</th>\n",
       "      <td>Zulmi Shikari</td>\n",
       "      <td>(1988)</td>\n",
       "      <td>NaN</td>\n",
       "      <td>Action</td>\n",
       "      <td>NaN</td>\n",
       "      <td>NaN</td>\n",
       "      <td>NaN</td>\n",
       "      <td>NaN</td>\n",
       "      <td>NaN</td>\n",
       "      <td>NaN</td>\n",
       "    </tr>\n",
       "    <tr>\n",
       "      <th>15508</th>\n",
       "      <td>Zulm-O-Sitam</td>\n",
       "      <td>(1998)</td>\n",
       "      <td>130 min</td>\n",
       "      <td>Action, Drama</td>\n",
       "      <td>6.2</td>\n",
       "      <td>20</td>\n",
       "      <td>K.C. Bokadia</td>\n",
       "      <td>Dharmendra</td>\n",
       "      <td>Jaya Prada</td>\n",
       "      <td>Arjun Sarja</td>\n",
       "    </tr>\n",
       "  </tbody>\n",
       "</table>\n",
       "</div>"
      ],
      "text/plain": [
       "                      Name    Year Duration          Genre  Rating Votes   \n",
       "15504  Zulm Ko Jala Doonga  (1988)      NaN         Action     4.6    11  \\\n",
       "15505                Zulmi  (1999)  129 min  Action, Drama     4.5   655   \n",
       "15506            Zulmi Raj  (2005)      NaN         Action     NaN   NaN   \n",
       "15507        Zulmi Shikari  (1988)      NaN         Action     NaN   NaN   \n",
       "15508         Zulm-O-Sitam  (1998)  130 min  Action, Drama     6.2    20   \n",
       "\n",
       "            Director           Actor 1         Actor 2        Actor 3  \n",
       "15504  Mahendra Shah  Naseeruddin Shah   Sumeet Saigal  Suparna Anand  \n",
       "15505     Kuku Kohli      Akshay Kumar  Twinkle Khanna    Aruna Irani  \n",
       "15506     Kiran Thej   Sangeeta Tiwari             NaN            NaN  \n",
       "15507            NaN               NaN             NaN            NaN  \n",
       "15508   K.C. Bokadia        Dharmendra      Jaya Prada    Arjun Sarja  "
      ]
     },
     "execution_count": 416,
     "metadata": {},
     "output_type": "execute_result"
    }
   ],
   "source": [
    "df.tail()"
   ]
  },
  {
   "cell_type": "code",
   "execution_count": 417,
   "metadata": {},
   "outputs": [
    {
     "name": "stdout",
     "output_type": "stream",
     "text": [
      "<class 'pandas.core.frame.DataFrame'>\n",
      "RangeIndex: 15509 entries, 0 to 15508\n",
      "Data columns (total 10 columns):\n",
      " #   Column    Non-Null Count  Dtype  \n",
      "---  ------    --------------  -----  \n",
      " 0   Name      15509 non-null  object \n",
      " 1   Year      14981 non-null  object \n",
      " 2   Duration  7240 non-null   object \n",
      " 3   Genre     13632 non-null  object \n",
      " 4   Rating    7919 non-null   float64\n",
      " 5   Votes     7920 non-null   object \n",
      " 6   Director  14984 non-null  object \n",
      " 7   Actor 1   13892 non-null  object \n",
      " 8   Actor 2   13125 non-null  object \n",
      " 9   Actor 3   12365 non-null  object \n",
      "dtypes: float64(1), object(9)\n",
      "memory usage: 1.2+ MB\n"
     ]
    }
   ],
   "source": [
    "df.info()"
   ]
  },
  {
   "cell_type": "code",
   "execution_count": 418,
   "metadata": {},
   "outputs": [
    {
     "data": {
      "text/plain": [
       "Name         0.000000\n",
       "Year         3.404475\n",
       "Duration    53.317429\n",
       "Genre       12.102650\n",
       "Rating      48.939326\n",
       "Votes       48.932878\n",
       "Director     3.385131\n",
       "Actor 1     10.426204\n",
       "Actor 2     15.371720\n",
       "Actor 3     20.272100\n",
       "dtype: float64"
      ]
     },
     "execution_count": 418,
     "metadata": {},
     "output_type": "execute_result"
    }
   ],
   "source": [
    "df.isna().sum()/df.shape[0]*100\n"
   ]
  },
  {
   "cell_type": "code",
   "execution_count": 419,
   "metadata": {},
   "outputs": [
    {
     "data": {
      "text/plain": [
       "Name         object\n",
       "Year         object\n",
       "Duration     object\n",
       "Genre        object\n",
       "Rating      float64\n",
       "Votes        object\n",
       "Director     object\n",
       "Actor 1      object\n",
       "Actor 2      object\n",
       "Actor 3      object\n",
       "dtype: object"
      ]
     },
     "execution_count": 419,
     "metadata": {},
     "output_type": "execute_result"
    }
   ],
   "source": [
    "df.dtypes"
   ]
  },
  {
   "cell_type": "markdown",
   "metadata": {},
   "source": [
    "**YEAR COLUMN**"
   ]
  },
  {
   "cell_type": "code",
   "execution_count": 420,
   "metadata": {},
   "outputs": [
    {
     "name": "stdout",
     "output_type": "stream",
     "text": [
      "int32\n"
     ]
    }
   ],
   "source": [
    "df['Year']=df['Year'].str.replace(r'\\(|\\)','',regex=True) #replace the() wiht ''\n",
    "df.dropna(subset='Year',inplace=True)\n",
    "df['Year']=df['Year'].astype(int)\n",
    "print(df['Year'].dtype)"
   ]
  },
  {
   "cell_type": "markdown",
   "metadata": {},
   "source": [
    "**Name Column**"
   ]
  },
  {
   "cell_type": "code",
   "execution_count": 421,
   "metadata": {},
   "outputs": [],
   "source": [
    "df['Name'] = df['Name'].str.extract('([A-Za-z\\s\\'\\-]+)')\n"
   ]
  },
  {
   "cell_type": "markdown",
   "metadata": {},
   "source": [
    "**Votes column**"
   ]
  },
  {
   "cell_type": "code",
   "execution_count": 422,
   "metadata": {},
   "outputs": [
    {
     "data": {
      "text/plain": [
       "dtype('float64')"
      ]
     },
     "execution_count": 422,
     "metadata": {},
     "output_type": "execute_result"
    }
   ],
   "source": [
    "df['Votes']=pd.to_numeric(df['Votes'].str.replace(',',''),errors='coerce')\n",
    "\n",
    "df['Votes'].dtype\n"
   ]
  },
  {
   "cell_type": "markdown",
   "metadata": {},
   "source": [
    "**Dealing with null values**"
   ]
  },
  {
   "cell_type": "code",
   "execution_count": 423,
   "metadata": {},
   "outputs": [],
   "source": [
    "df.dropna(subset=['Name', 'Year', 'Duration', 'Rating', 'Votes', 'Director', 'Actor 1', 'Actor 2', 'Actor 3'], inplace=True)\n"
   ]
  },
  {
   "cell_type": "markdown",
   "metadata": {},
   "source": [
    "**replacing nullvalues with the mode in Genre**"
   ]
  },
  {
   "cell_type": "code",
   "execution_count": 424,
   "metadata": {},
   "outputs": [],
   "source": [
    "df['Genre'].fillna(df['Genre'].mode()[0],inplace=True)\n"
   ]
  },
  {
   "cell_type": "code",
   "execution_count": 425,
   "metadata": {},
   "outputs": [
    {
     "name": "stdout",
     "output_type": "stream",
     "text": [
      "<class 'pandas.core.frame.DataFrame'>\n",
      "Index: 5681 entries, 1 to 15508\n",
      "Data columns (total 10 columns):\n",
      " #   Column    Non-Null Count  Dtype  \n",
      "---  ------    --------------  -----  \n",
      " 0   Name      5681 non-null   object \n",
      " 1   Year      5681 non-null   int32  \n",
      " 2   Duration  5681 non-null   object \n",
      " 3   Genre     5681 non-null   object \n",
      " 4   Rating    5681 non-null   float64\n",
      " 5   Votes     5681 non-null   float64\n",
      " 6   Director  5681 non-null   object \n",
      " 7   Actor 1   5681 non-null   object \n",
      " 8   Actor 2   5681 non-null   object \n",
      " 9   Actor 3   5681 non-null   object \n",
      "dtypes: float64(2), int32(1), object(7)\n",
      "memory usage: 466.0+ KB\n"
     ]
    }
   ],
   "source": [
    "df.info()"
   ]
  },
  {
   "cell_type": "code",
   "execution_count": 426,
   "metadata": {},
   "outputs": [
    {
     "data": {
      "text/plain": [
       "Name        0.0\n",
       "Year        0.0\n",
       "Duration    0.0\n",
       "Genre       0.0\n",
       "Rating      0.0\n",
       "Votes       0.0\n",
       "Director    0.0\n",
       "Actor 1     0.0\n",
       "Actor 2     0.0\n",
       "Actor 3     0.0\n",
       "dtype: float64"
      ]
     },
     "execution_count": 426,
     "metadata": {},
     "output_type": "execute_result"
    }
   ],
   "source": [
    "df.isna().sum()/df.shape[0]*100\n"
   ]
  },
  {
   "cell_type": "code",
   "execution_count": 427,
   "metadata": {},
   "outputs": [
    {
     "data": {
      "text/html": [
       "<div>\n",
       "<style scoped>\n",
       "    .dataframe tbody tr th:only-of-type {\n",
       "        vertical-align: middle;\n",
       "    }\n",
       "\n",
       "    .dataframe tbody tr th {\n",
       "        vertical-align: top;\n",
       "    }\n",
       "\n",
       "    .dataframe thead th {\n",
       "        text-align: right;\n",
       "    }\n",
       "</style>\n",
       "<table border=\"1\" class=\"dataframe\">\n",
       "  <thead>\n",
       "    <tr style=\"text-align: right;\">\n",
       "      <th></th>\n",
       "      <th>Name</th>\n",
       "      <th>Year</th>\n",
       "      <th>Duration</th>\n",
       "      <th>Genre</th>\n",
       "      <th>Rating</th>\n",
       "      <th>Votes</th>\n",
       "      <th>Director</th>\n",
       "      <th>Actor 1</th>\n",
       "      <th>Actor 2</th>\n",
       "      <th>Actor 3</th>\n",
       "    </tr>\n",
       "  </thead>\n",
       "  <tbody>\n",
       "    <tr>\n",
       "      <th>1</th>\n",
       "      <td>Gadhvi</td>\n",
       "      <td>2019</td>\n",
       "      <td>109 min</td>\n",
       "      <td>Drama</td>\n",
       "      <td>7.0</td>\n",
       "      <td>8.0</td>\n",
       "      <td>Gaurav Bakshi</td>\n",
       "      <td>Rasika Dugal</td>\n",
       "      <td>Vivek Ghamande</td>\n",
       "      <td>Arvind Jangid</td>\n",
       "    </tr>\n",
       "    <tr>\n",
       "      <th>3</th>\n",
       "      <td>Yaaram</td>\n",
       "      <td>2019</td>\n",
       "      <td>110 min</td>\n",
       "      <td>Comedy, Romance</td>\n",
       "      <td>4.4</td>\n",
       "      <td>35.0</td>\n",
       "      <td>Ovais Khan</td>\n",
       "      <td>Prateik</td>\n",
       "      <td>Ishita Raj</td>\n",
       "      <td>Siddhant Kapoor</td>\n",
       "    </tr>\n",
       "  </tbody>\n",
       "</table>\n",
       "</div>"
      ],
      "text/plain": [
       "      Name  Year Duration            Genre  Rating  Votes       Director   \n",
       "1  Gadhvi   2019  109 min            Drama     7.0    8.0  Gaurav Bakshi  \\\n",
       "3   Yaaram  2019  110 min  Comedy, Romance     4.4   35.0     Ovais Khan   \n",
       "\n",
       "        Actor 1         Actor 2          Actor 3  \n",
       "1  Rasika Dugal  Vivek Ghamande    Arvind Jangid  \n",
       "3       Prateik      Ishita Raj  Siddhant Kapoor  "
      ]
     },
     "execution_count": 427,
     "metadata": {},
     "output_type": "execute_result"
    }
   ],
   "source": [
    "df.head(2)"
   ]
  },
  {
   "cell_type": "code",
   "execution_count": 428,
   "metadata": {},
   "outputs": [],
   "source": [
    "df.drop_duplicates(inplace=True)"
   ]
  },
  {
   "cell_type": "code",
   "execution_count": 429,
   "metadata": {},
   "outputs": [],
   "source": [
    "df = df.rename(columns={'Duration': 'Duration m'})\n"
   ]
  },
  {
   "cell_type": "code",
   "execution_count": 430,
   "metadata": {},
   "outputs": [
    {
     "data": {
      "text/html": [
       "<div>\n",
       "<style scoped>\n",
       "    .dataframe tbody tr th:only-of-type {\n",
       "        vertical-align: middle;\n",
       "    }\n",
       "\n",
       "    .dataframe tbody tr th {\n",
       "        vertical-align: top;\n",
       "    }\n",
       "\n",
       "    .dataframe thead th {\n",
       "        text-align: right;\n",
       "    }\n",
       "</style>\n",
       "<table border=\"1\" class=\"dataframe\">\n",
       "  <thead>\n",
       "    <tr style=\"text-align: right;\">\n",
       "      <th></th>\n",
       "      <th>Name</th>\n",
       "      <th>Year</th>\n",
       "      <th>Duration m</th>\n",
       "      <th>Genre</th>\n",
       "      <th>Rating</th>\n",
       "      <th>Votes</th>\n",
       "      <th>Director</th>\n",
       "      <th>Actor 1</th>\n",
       "      <th>Actor 2</th>\n",
       "      <th>Actor 3</th>\n",
       "    </tr>\n",
       "  </thead>\n",
       "  <tbody>\n",
       "    <tr>\n",
       "      <th>1</th>\n",
       "      <td>Gadhvi</td>\n",
       "      <td>2019</td>\n",
       "      <td>109 min</td>\n",
       "      <td>Drama</td>\n",
       "      <td>7.0</td>\n",
       "      <td>8.0</td>\n",
       "      <td>Gaurav Bakshi</td>\n",
       "      <td>Rasika Dugal</td>\n",
       "      <td>Vivek Ghamande</td>\n",
       "      <td>Arvind Jangid</td>\n",
       "    </tr>\n",
       "    <tr>\n",
       "      <th>3</th>\n",
       "      <td>Yaaram</td>\n",
       "      <td>2019</td>\n",
       "      <td>110 min</td>\n",
       "      <td>Comedy, Romance</td>\n",
       "      <td>4.4</td>\n",
       "      <td>35.0</td>\n",
       "      <td>Ovais Khan</td>\n",
       "      <td>Prateik</td>\n",
       "      <td>Ishita Raj</td>\n",
       "      <td>Siddhant Kapoor</td>\n",
       "    </tr>\n",
       "    <tr>\n",
       "      <th>5</th>\n",
       "      <td>Aur Pyaar Ho Gaya</td>\n",
       "      <td>1997</td>\n",
       "      <td>147 min</td>\n",
       "      <td>Comedy, Drama, Musical</td>\n",
       "      <td>4.7</td>\n",
       "      <td>827.0</td>\n",
       "      <td>Rahul Rawail</td>\n",
       "      <td>Bobby Deol</td>\n",
       "      <td>Aishwarya Rai Bachchan</td>\n",
       "      <td>Shammi Kapoor</td>\n",
       "    </tr>\n",
       "    <tr>\n",
       "      <th>6</th>\n",
       "      <td>Yahaan</td>\n",
       "      <td>2005</td>\n",
       "      <td>142 min</td>\n",
       "      <td>Drama, Romance, War</td>\n",
       "      <td>7.4</td>\n",
       "      <td>1086.0</td>\n",
       "      <td>Shoojit Sircar</td>\n",
       "      <td>Jimmy Sheirgill</td>\n",
       "      <td>Minissha Lamba</td>\n",
       "      <td>Yashpal Sharma</td>\n",
       "    </tr>\n",
       "    <tr>\n",
       "      <th>8</th>\n",
       "      <td>A Question Mark</td>\n",
       "      <td>2012</td>\n",
       "      <td>82 min</td>\n",
       "      <td>Horror, Mystery, Thriller</td>\n",
       "      <td>5.6</td>\n",
       "      <td>326.0</td>\n",
       "      <td>Allyson Patel</td>\n",
       "      <td>Yash Dave</td>\n",
       "      <td>Muntazir Ahmad</td>\n",
       "      <td>Kiran Bhatia</td>\n",
       "    </tr>\n",
       "    <tr>\n",
       "      <th>...</th>\n",
       "      <td>...</td>\n",
       "      <td>...</td>\n",
       "      <td>...</td>\n",
       "      <td>...</td>\n",
       "      <td>...</td>\n",
       "      <td>...</td>\n",
       "      <td>...</td>\n",
       "      <td>...</td>\n",
       "      <td>...</td>\n",
       "      <td>...</td>\n",
       "    </tr>\n",
       "    <tr>\n",
       "      <th>15493</th>\n",
       "      <td>Zubaan</td>\n",
       "      <td>2015</td>\n",
       "      <td>115 min</td>\n",
       "      <td>Drama</td>\n",
       "      <td>6.1</td>\n",
       "      <td>408.0</td>\n",
       "      <td>Mozez Singh</td>\n",
       "      <td>Vicky Kaushal</td>\n",
       "      <td>Sarah Jane Dias</td>\n",
       "      <td>Raaghavv Chanana</td>\n",
       "    </tr>\n",
       "    <tr>\n",
       "      <th>15494</th>\n",
       "      <td>Zubeidaa</td>\n",
       "      <td>2001</td>\n",
       "      <td>153 min</td>\n",
       "      <td>Biography, Drama, History</td>\n",
       "      <td>6.2</td>\n",
       "      <td>1496.0</td>\n",
       "      <td>Shyam Benegal</td>\n",
       "      <td>Karisma Kapoor</td>\n",
       "      <td>Rekha</td>\n",
       "      <td>Manoj Bajpayee</td>\n",
       "    </tr>\n",
       "    <tr>\n",
       "      <th>15503</th>\n",
       "      <td>Zulm Ki Zanjeer</td>\n",
       "      <td>1989</td>\n",
       "      <td>125 min</td>\n",
       "      <td>Action, Crime, Drama</td>\n",
       "      <td>5.8</td>\n",
       "      <td>44.0</td>\n",
       "      <td>S.P. Muthuraman</td>\n",
       "      <td>Chiranjeevi</td>\n",
       "      <td>Jayamalini</td>\n",
       "      <td>Rajinikanth</td>\n",
       "    </tr>\n",
       "    <tr>\n",
       "      <th>15505</th>\n",
       "      <td>Zulmi</td>\n",
       "      <td>1999</td>\n",
       "      <td>129 min</td>\n",
       "      <td>Action, Drama</td>\n",
       "      <td>4.5</td>\n",
       "      <td>655.0</td>\n",
       "      <td>Kuku Kohli</td>\n",
       "      <td>Akshay Kumar</td>\n",
       "      <td>Twinkle Khanna</td>\n",
       "      <td>Aruna Irani</td>\n",
       "    </tr>\n",
       "    <tr>\n",
       "      <th>15508</th>\n",
       "      <td>Zulm-O-Sitam</td>\n",
       "      <td>1998</td>\n",
       "      <td>130 min</td>\n",
       "      <td>Action, Drama</td>\n",
       "      <td>6.2</td>\n",
       "      <td>20.0</td>\n",
       "      <td>K.C. Bokadia</td>\n",
       "      <td>Dharmendra</td>\n",
       "      <td>Jaya Prada</td>\n",
       "      <td>Arjun Sarja</td>\n",
       "    </tr>\n",
       "  </tbody>\n",
       "</table>\n",
       "<p>5681 rows × 10 columns</p>\n",
       "</div>"
      ],
      "text/plain": [
       "                    Name  Year Duration m                      Genre  Rating   \n",
       "1                Gadhvi   2019    109 min                      Drama     7.0  \\\n",
       "3                 Yaaram  2019    110 min            Comedy, Romance     4.4   \n",
       "5      Aur Pyaar Ho Gaya  1997    147 min     Comedy, Drama, Musical     4.7   \n",
       "6                 Yahaan  2005    142 min        Drama, Romance, War     7.4   \n",
       "8        A Question Mark  2012     82 min  Horror, Mystery, Thriller     5.6   \n",
       "...                  ...   ...        ...                        ...     ...   \n",
       "15493             Zubaan  2015    115 min                      Drama     6.1   \n",
       "15494           Zubeidaa  2001    153 min  Biography, Drama, History     6.2   \n",
       "15503    Zulm Ki Zanjeer  1989    125 min       Action, Crime, Drama     5.8   \n",
       "15505              Zulmi  1999    129 min              Action, Drama     4.5   \n",
       "15508       Zulm-O-Sitam  1998    130 min              Action, Drama     6.2   \n",
       "\n",
       "        Votes         Director          Actor 1                 Actor 2   \n",
       "1         8.0    Gaurav Bakshi     Rasika Dugal          Vivek Ghamande  \\\n",
       "3        35.0       Ovais Khan          Prateik              Ishita Raj   \n",
       "5       827.0     Rahul Rawail       Bobby Deol  Aishwarya Rai Bachchan   \n",
       "6      1086.0   Shoojit Sircar  Jimmy Sheirgill          Minissha Lamba   \n",
       "8       326.0    Allyson Patel        Yash Dave          Muntazir Ahmad   \n",
       "...       ...              ...              ...                     ...   \n",
       "15493   408.0      Mozez Singh    Vicky Kaushal         Sarah Jane Dias   \n",
       "15494  1496.0    Shyam Benegal   Karisma Kapoor                   Rekha   \n",
       "15503    44.0  S.P. Muthuraman      Chiranjeevi              Jayamalini   \n",
       "15505   655.0       Kuku Kohli     Akshay Kumar          Twinkle Khanna   \n",
       "15508    20.0     K.C. Bokadia       Dharmendra              Jaya Prada   \n",
       "\n",
       "                Actor 3  \n",
       "1         Arvind Jangid  \n",
       "3       Siddhant Kapoor  \n",
       "5         Shammi Kapoor  \n",
       "6        Yashpal Sharma  \n",
       "8          Kiran Bhatia  \n",
       "...                 ...  \n",
       "15493  Raaghavv Chanana  \n",
       "15494    Manoj Bajpayee  \n",
       "15503       Rajinikanth  \n",
       "15505       Aruna Irani  \n",
       "15508       Arjun Sarja  \n",
       "\n",
       "[5681 rows x 10 columns]"
      ]
     },
     "execution_count": 430,
     "metadata": {},
     "output_type": "execute_result"
    }
   ],
   "source": [
    "df"
   ]
  },
  {
   "cell_type": "code",
   "execution_count": 431,
   "metadata": {},
   "outputs": [],
   "source": [
    "df['Votes']=df['Votes'].astype(int)"
   ]
  },
  {
   "cell_type": "code",
   "execution_count": 432,
   "metadata": {},
   "outputs": [],
   "source": [
    "df['Duration m']=pd.to_numeric(df['Duration m'].str.replace('min',''),errors='coerce')\n"
   ]
  },
  {
   "cell_type": "code",
   "execution_count": 433,
   "metadata": {},
   "outputs": [
    {
     "data": {
      "text/plain": [
       "Name          0\n",
       "Year          0\n",
       "Duration m    0\n",
       "Genre         0\n",
       "Rating        0\n",
       "Votes         0\n",
       "Director      0\n",
       "Actor 1       0\n",
       "Actor 2       0\n",
       "Actor 3       0\n",
       "dtype: int64"
      ]
     },
     "execution_count": 433,
     "metadata": {},
     "output_type": "execute_result"
    }
   ],
   "source": [
    "df.isnull().sum()"
   ]
  },
  {
   "cell_type": "code",
   "execution_count": 434,
   "metadata": {},
   "outputs": [
    {
     "data": {
      "text/html": [
       "<div>\n",
       "<style scoped>\n",
       "    .dataframe tbody tr th:only-of-type {\n",
       "        vertical-align: middle;\n",
       "    }\n",
       "\n",
       "    .dataframe tbody tr th {\n",
       "        vertical-align: top;\n",
       "    }\n",
       "\n",
       "    .dataframe thead th {\n",
       "        text-align: right;\n",
       "    }\n",
       "</style>\n",
       "<table border=\"1\" class=\"dataframe\">\n",
       "  <thead>\n",
       "    <tr style=\"text-align: right;\">\n",
       "      <th></th>\n",
       "      <th>Name</th>\n",
       "      <th>Year</th>\n",
       "      <th>Duration m</th>\n",
       "      <th>Genre</th>\n",
       "      <th>Rating</th>\n",
       "      <th>Votes</th>\n",
       "      <th>Director</th>\n",
       "      <th>Actor 1</th>\n",
       "      <th>Actor 2</th>\n",
       "      <th>Actor 3</th>\n",
       "    </tr>\n",
       "  </thead>\n",
       "  <tbody>\n",
       "    <tr>\n",
       "      <th>1</th>\n",
       "      <td>Gadhvi</td>\n",
       "      <td>2019</td>\n",
       "      <td>109</td>\n",
       "      <td>Drama</td>\n",
       "      <td>7.0</td>\n",
       "      <td>8</td>\n",
       "      <td>Gaurav Bakshi</td>\n",
       "      <td>Rasika Dugal</td>\n",
       "      <td>Vivek Ghamande</td>\n",
       "      <td>Arvind Jangid</td>\n",
       "    </tr>\n",
       "    <tr>\n",
       "      <th>3</th>\n",
       "      <td>Yaaram</td>\n",
       "      <td>2019</td>\n",
       "      <td>110</td>\n",
       "      <td>Comedy, Romance</td>\n",
       "      <td>4.4</td>\n",
       "      <td>35</td>\n",
       "      <td>Ovais Khan</td>\n",
       "      <td>Prateik</td>\n",
       "      <td>Ishita Raj</td>\n",
       "      <td>Siddhant Kapoor</td>\n",
       "    </tr>\n",
       "    <tr>\n",
       "      <th>5</th>\n",
       "      <td>Aur Pyaar Ho Gaya</td>\n",
       "      <td>1997</td>\n",
       "      <td>147</td>\n",
       "      <td>Comedy, Drama, Musical</td>\n",
       "      <td>4.7</td>\n",
       "      <td>827</td>\n",
       "      <td>Rahul Rawail</td>\n",
       "      <td>Bobby Deol</td>\n",
       "      <td>Aishwarya Rai Bachchan</td>\n",
       "      <td>Shammi Kapoor</td>\n",
       "    </tr>\n",
       "    <tr>\n",
       "      <th>6</th>\n",
       "      <td>Yahaan</td>\n",
       "      <td>2005</td>\n",
       "      <td>142</td>\n",
       "      <td>Drama, Romance, War</td>\n",
       "      <td>7.4</td>\n",
       "      <td>1086</td>\n",
       "      <td>Shoojit Sircar</td>\n",
       "      <td>Jimmy Sheirgill</td>\n",
       "      <td>Minissha Lamba</td>\n",
       "      <td>Yashpal Sharma</td>\n",
       "    </tr>\n",
       "    <tr>\n",
       "      <th>8</th>\n",
       "      <td>A Question Mark</td>\n",
       "      <td>2012</td>\n",
       "      <td>82</td>\n",
       "      <td>Horror, Mystery, Thriller</td>\n",
       "      <td>5.6</td>\n",
       "      <td>326</td>\n",
       "      <td>Allyson Patel</td>\n",
       "      <td>Yash Dave</td>\n",
       "      <td>Muntazir Ahmad</td>\n",
       "      <td>Kiran Bhatia</td>\n",
       "    </tr>\n",
       "  </tbody>\n",
       "</table>\n",
       "</div>"
      ],
      "text/plain": [
       "                Name  Year  Duration m                      Genre  Rating   \n",
       "1            Gadhvi   2019         109                      Drama     7.0  \\\n",
       "3             Yaaram  2019         110            Comedy, Romance     4.4   \n",
       "5  Aur Pyaar Ho Gaya  1997         147     Comedy, Drama, Musical     4.7   \n",
       "6             Yahaan  2005         142        Drama, Romance, War     7.4   \n",
       "8    A Question Mark  2012          82  Horror, Mystery, Thriller     5.6   \n",
       "\n",
       "   Votes        Director          Actor 1                 Actor 2   \n",
       "1      8   Gaurav Bakshi     Rasika Dugal          Vivek Ghamande  \\\n",
       "3     35      Ovais Khan          Prateik              Ishita Raj   \n",
       "5    827    Rahul Rawail       Bobby Deol  Aishwarya Rai Bachchan   \n",
       "6   1086  Shoojit Sircar  Jimmy Sheirgill          Minissha Lamba   \n",
       "8    326   Allyson Patel        Yash Dave          Muntazir Ahmad   \n",
       "\n",
       "           Actor 3  \n",
       "1    Arvind Jangid  \n",
       "3  Siddhant Kapoor  \n",
       "5    Shammi Kapoor  \n",
       "6   Yashpal Sharma  \n",
       "8     Kiran Bhatia  "
      ]
     },
     "execution_count": 434,
     "metadata": {},
     "output_type": "execute_result"
    }
   ],
   "source": [
    "df.head()"
   ]
  },
  {
   "cell_type": "markdown",
   "metadata": {},
   "source": [
    "**EDA PROCESS**"
   ]
  },
  {
   "cell_type": "code",
   "execution_count": 435,
   "metadata": {},
   "outputs": [
    {
     "data": {
      "text/html": [
       "<div>\n",
       "<style scoped>\n",
       "    .dataframe tbody tr th:only-of-type {\n",
       "        vertical-align: middle;\n",
       "    }\n",
       "\n",
       "    .dataframe tbody tr th {\n",
       "        vertical-align: top;\n",
       "    }\n",
       "\n",
       "    .dataframe thead th {\n",
       "        text-align: right;\n",
       "    }\n",
       "</style>\n",
       "<table border=\"1\" class=\"dataframe\">\n",
       "  <thead>\n",
       "    <tr style=\"text-align: right;\">\n",
       "      <th></th>\n",
       "      <th>Name</th>\n",
       "      <th>Year</th>\n",
       "      <th>Duration m</th>\n",
       "      <th>Genre</th>\n",
       "      <th>Rating</th>\n",
       "      <th>Votes</th>\n",
       "      <th>Director</th>\n",
       "      <th>Actor 1</th>\n",
       "      <th>Actor 2</th>\n",
       "      <th>Actor 3</th>\n",
       "    </tr>\n",
       "  </thead>\n",
       "  <tbody>\n",
       "    <tr>\n",
       "      <th>6062</th>\n",
       "      <td>India's Daughter</td>\n",
       "      <td>2015</td>\n",
       "      <td>63</td>\n",
       "      <td>Documentary, Biography, Crime</td>\n",
       "      <td>8.2</td>\n",
       "      <td>1998</td>\n",
       "      <td>Leslee Udwin</td>\n",
       "      <td>Asha Devi</td>\n",
       "      <td>Badri Singh</td>\n",
       "      <td>Satendra</td>\n",
       "    </tr>\n",
       "    <tr>\n",
       "      <th>6063</th>\n",
       "      <td>India's Daughter</td>\n",
       "      <td>2015</td>\n",
       "      <td>120</td>\n",
       "      <td>Action, Crime, Drama</td>\n",
       "      <td>6.9</td>\n",
       "      <td>21</td>\n",
       "      <td>Rupesh Paul</td>\n",
       "      <td>Omkar Das Manikpuri</td>\n",
       "      <td>Amann Grewal</td>\n",
       "      <td>Vishal Om Prakash</td>\n",
       "    </tr>\n",
       "    <tr>\n",
       "      <th>6217</th>\n",
       "      <td>ISIS</td>\n",
       "      <td>2017</td>\n",
       "      <td>92</td>\n",
       "      <td>Action</td>\n",
       "      <td>6.4</td>\n",
       "      <td>18</td>\n",
       "      <td>Yuvraj Kumar</td>\n",
       "      <td>Amrityan</td>\n",
       "      <td>Moshin Bhat</td>\n",
       "      <td>Snighdadeep Chatterji</td>\n",
       "    </tr>\n",
       "    <tr>\n",
       "      <th>6219</th>\n",
       "      <td>ISIS</td>\n",
       "      <td>2017</td>\n",
       "      <td>135</td>\n",
       "      <td>Action</td>\n",
       "      <td>7.5</td>\n",
       "      <td>8</td>\n",
       "      <td>Yuvraj Kumar</td>\n",
       "      <td>Yuvraj Kumar</td>\n",
       "      <td>Manon Faure</td>\n",
       "      <td>Rasheed Naz</td>\n",
       "    </tr>\n",
       "    <tr>\n",
       "      <th>8401</th>\n",
       "      <td>M</td>\n",
       "      <td>2014</td>\n",
       "      <td>118</td>\n",
       "      <td>Drama, Romance</td>\n",
       "      <td>3.9</td>\n",
       "      <td>14</td>\n",
       "      <td>Suresh Jain</td>\n",
       "      <td>Seema Dogra</td>\n",
       "      <td>Paras Sharma</td>\n",
       "      <td>Sushma Sharma</td>\n",
       "    </tr>\n",
       "  </tbody>\n",
       "</table>\n",
       "</div>"
      ],
      "text/plain": [
       "                  Name  Year  Duration m                          Genre   \n",
       "6062  India's Daughter  2015          63  Documentary, Biography, Crime  \\\n",
       "6063  India's Daughter  2015         120           Action, Crime, Drama   \n",
       "6217              ISIS  2017          92                         Action   \n",
       "6219              ISIS  2017         135                         Action   \n",
       "8401                 M  2014         118                 Drama, Romance   \n",
       "\n",
       "      Rating  Votes      Director              Actor 1       Actor 2   \n",
       "6062     8.2   1998  Leslee Udwin            Asha Devi   Badri Singh  \\\n",
       "6063     6.9     21   Rupesh Paul  Omkar Das Manikpuri  Amann Grewal   \n",
       "6217     6.4     18  Yuvraj Kumar             Amrityan   Moshin Bhat   \n",
       "6219     7.5      8  Yuvraj Kumar         Yuvraj Kumar   Manon Faure   \n",
       "8401     3.9     14   Suresh Jain          Seema Dogra  Paras Sharma   \n",
       "\n",
       "                    Actor 3  \n",
       "6062               Satendra  \n",
       "6063      Vishal Om Prakash  \n",
       "6217  Snighdadeep Chatterji  \n",
       "6219            Rasheed Naz  \n",
       "8401          Sushma Sharma  "
      ]
     },
     "execution_count": 435,
     "metadata": {},
     "output_type": "execute_result"
    }
   ],
   "source": [
    "duplicate = df.groupby(['Name', 'Year']).filter(lambda x: len(x) > 1)\n",
    "duplicate.head(5)"
   ]
  },
  {
   "cell_type": "code",
   "execution_count": 436,
   "metadata": {},
   "outputs": [],
   "source": [
    "df.drop_duplicates(subset=['Name'], keep=False,inplace=True)\n"
   ]
  },
  {
   "cell_type": "code",
   "execution_count": 437,
   "metadata": {},
   "outputs": [
    {
     "name": "stdout",
     "output_type": "stream",
     "text": [
      "<class 'pandas.core.frame.DataFrame'>\n",
      "Index: 4990 entries, 1 to 15508\n",
      "Data columns (total 10 columns):\n",
      " #   Column      Non-Null Count  Dtype  \n",
      "---  ------      --------------  -----  \n",
      " 0   Name        4990 non-null   object \n",
      " 1   Year        4990 non-null   int32  \n",
      " 2   Duration m  4990 non-null   int64  \n",
      " 3   Genre       4990 non-null   object \n",
      " 4   Rating      4990 non-null   float64\n",
      " 5   Votes       4990 non-null   int32  \n",
      " 6   Director    4990 non-null   object \n",
      " 7   Actor 1     4990 non-null   object \n",
      " 8   Actor 2     4990 non-null   object \n",
      " 9   Actor 3     4990 non-null   object \n",
      "dtypes: float64(1), int32(2), int64(1), object(6)\n",
      "memory usage: 389.8+ KB\n"
     ]
    }
   ],
   "source": [
    "df.info()"
   ]
  },
  {
   "cell_type": "code",
   "execution_count": 438,
   "metadata": {},
   "outputs": [
    {
     "data": {
      "text/html": [
       "<div>\n",
       "<style scoped>\n",
       "    .dataframe tbody tr th:only-of-type {\n",
       "        vertical-align: middle;\n",
       "    }\n",
       "\n",
       "    .dataframe tbody tr th {\n",
       "        vertical-align: top;\n",
       "    }\n",
       "\n",
       "    .dataframe thead th {\n",
       "        text-align: right;\n",
       "    }\n",
       "</style>\n",
       "<table border=\"1\" class=\"dataframe\">\n",
       "  <thead>\n",
       "    <tr style=\"text-align: right;\">\n",
       "      <th></th>\n",
       "      <th>Name</th>\n",
       "      <th>Year</th>\n",
       "      <th>Duration m</th>\n",
       "      <th>Genre</th>\n",
       "      <th>Rating</th>\n",
       "      <th>Votes</th>\n",
       "      <th>Director</th>\n",
       "      <th>Actor 1</th>\n",
       "      <th>Actor 2</th>\n",
       "      <th>Actor 3</th>\n",
       "    </tr>\n",
       "  </thead>\n",
       "  <tbody>\n",
       "    <tr>\n",
       "      <th>1</th>\n",
       "      <td>Gadhvi</td>\n",
       "      <td>2019</td>\n",
       "      <td>109</td>\n",
       "      <td>Drama</td>\n",
       "      <td>7.0</td>\n",
       "      <td>8</td>\n",
       "      <td>Gaurav Bakshi</td>\n",
       "      <td>Rasika Dugal</td>\n",
       "      <td>Vivek Ghamande</td>\n",
       "      <td>Arvind Jangid</td>\n",
       "    </tr>\n",
       "    <tr>\n",
       "      <th>3</th>\n",
       "      <td>Yaaram</td>\n",
       "      <td>2019</td>\n",
       "      <td>110</td>\n",
       "      <td>Comedy, Romance</td>\n",
       "      <td>4.4</td>\n",
       "      <td>35</td>\n",
       "      <td>Ovais Khan</td>\n",
       "      <td>Prateik</td>\n",
       "      <td>Ishita Raj</td>\n",
       "      <td>Siddhant Kapoor</td>\n",
       "    </tr>\n",
       "  </tbody>\n",
       "</table>\n",
       "</div>"
      ],
      "text/plain": [
       "      Name  Year  Duration m            Genre  Rating  Votes       Director   \n",
       "1  Gadhvi   2019         109            Drama     7.0      8  Gaurav Bakshi  \\\n",
       "3   Yaaram  2019         110  Comedy, Romance     4.4     35     Ovais Khan   \n",
       "\n",
       "        Actor 1         Actor 2          Actor 3  \n",
       "1  Rasika Dugal  Vivek Ghamande    Arvind Jangid  \n",
       "3       Prateik      Ishita Raj  Siddhant Kapoor  "
      ]
     },
     "execution_count": 438,
     "metadata": {},
     "output_type": "execute_result"
    }
   ],
   "source": [
    "df.head(2)"
   ]
  },
  {
   "cell_type": "markdown",
   "metadata": {},
   "source": [
    "**The most productive year**\n",
    " "
   ]
  },
  {
   "cell_type": "code",
   "execution_count": 439,
   "metadata": {},
   "outputs": [
    {
     "data": {
      "text/html": [
       "<div>\n",
       "<style scoped>\n",
       "    .dataframe tbody tr th:only-of-type {\n",
       "        vertical-align: middle;\n",
       "    }\n",
       "\n",
       "    .dataframe tbody tr th {\n",
       "        vertical-align: top;\n",
       "    }\n",
       "\n",
       "    .dataframe thead th {\n",
       "        text-align: right;\n",
       "    }\n",
       "</style>\n",
       "<table border=\"1\" class=\"dataframe\">\n",
       "  <thead>\n",
       "    <tr style=\"text-align: right;\">\n",
       "      <th></th>\n",
       "      <th>Year</th>\n",
       "      <th>Duration m</th>\n",
       "      <th>Rating</th>\n",
       "      <th>Votes</th>\n",
       "    </tr>\n",
       "  </thead>\n",
       "  <tbody>\n",
       "    <tr>\n",
       "      <th>count</th>\n",
       "      <td>4990.000000</td>\n",
       "      <td>4990.000000</td>\n",
       "      <td>4990.000000</td>\n",
       "      <td>4990.000000</td>\n",
       "    </tr>\n",
       "    <tr>\n",
       "      <th>mean</th>\n",
       "      <td>1997.270942</td>\n",
       "      <td>132.425251</td>\n",
       "      <td>5.900561</td>\n",
       "      <td>2697.899399</td>\n",
       "    </tr>\n",
       "    <tr>\n",
       "      <th>std</th>\n",
       "      <td>19.460295</td>\n",
       "      <td>25.452874</td>\n",
       "      <td>1.382698</td>\n",
       "      <td>13991.695180</td>\n",
       "    </tr>\n",
       "    <tr>\n",
       "      <th>min</th>\n",
       "      <td>1931.000000</td>\n",
       "      <td>21.000000</td>\n",
       "      <td>1.100000</td>\n",
       "      <td>5.000000</td>\n",
       "    </tr>\n",
       "    <tr>\n",
       "      <th>25%</th>\n",
       "      <td>1984.000000</td>\n",
       "      <td>117.000000</td>\n",
       "      <td>5.000000</td>\n",
       "      <td>29.000000</td>\n",
       "    </tr>\n",
       "    <tr>\n",
       "      <th>50%</th>\n",
       "      <td>2003.000000</td>\n",
       "      <td>134.000000</td>\n",
       "      <td>6.100000</td>\n",
       "      <td>124.000000</td>\n",
       "    </tr>\n",
       "    <tr>\n",
       "      <th>75%</th>\n",
       "      <td>2014.000000</td>\n",
       "      <td>149.750000</td>\n",
       "      <td>6.900000</td>\n",
       "      <td>908.750000</td>\n",
       "    </tr>\n",
       "    <tr>\n",
       "      <th>max</th>\n",
       "      <td>2021.000000</td>\n",
       "      <td>321.000000</td>\n",
       "      <td>10.000000</td>\n",
       "      <td>591417.000000</td>\n",
       "    </tr>\n",
       "  </tbody>\n",
       "</table>\n",
       "</div>"
      ],
      "text/plain": [
       "              Year   Duration m       Rating          Votes\n",
       "count  4990.000000  4990.000000  4990.000000    4990.000000\n",
       "mean   1997.270942   132.425251     5.900561    2697.899399\n",
       "std      19.460295    25.452874     1.382698   13991.695180\n",
       "min    1931.000000    21.000000     1.100000       5.000000\n",
       "25%    1984.000000   117.000000     5.000000      29.000000\n",
       "50%    2003.000000   134.000000     6.100000     124.000000\n",
       "75%    2014.000000   149.750000     6.900000     908.750000\n",
       "max    2021.000000   321.000000    10.000000  591417.000000"
      ]
     },
     "execution_count": 439,
     "metadata": {},
     "output_type": "execute_result"
    }
   ],
   "source": [
    "df.describe() #numerical values"
   ]
  },
  {
   "cell_type": "code",
   "execution_count": 440,
   "metadata": {},
   "outputs": [
    {
     "data": {
      "text/html": [
       "<div>\n",
       "<style scoped>\n",
       "    .dataframe tbody tr th:only-of-type {\n",
       "        vertical-align: middle;\n",
       "    }\n",
       "\n",
       "    .dataframe tbody tr th {\n",
       "        vertical-align: top;\n",
       "    }\n",
       "\n",
       "    .dataframe thead th {\n",
       "        text-align: right;\n",
       "    }\n",
       "</style>\n",
       "<table border=\"1\" class=\"dataframe\">\n",
       "  <thead>\n",
       "    <tr style=\"text-align: right;\">\n",
       "      <th></th>\n",
       "      <th>Name</th>\n",
       "      <th>Genre</th>\n",
       "      <th>Director</th>\n",
       "      <th>Actor 1</th>\n",
       "      <th>Actor 2</th>\n",
       "      <th>Actor 3</th>\n",
       "    </tr>\n",
       "  </thead>\n",
       "  <tbody>\n",
       "    <tr>\n",
       "      <th>count</th>\n",
       "      <td>4990</td>\n",
       "      <td>4990</td>\n",
       "      <td>4990</td>\n",
       "      <td>4990</td>\n",
       "      <td>4990</td>\n",
       "      <td>4990</td>\n",
       "    </tr>\n",
       "    <tr>\n",
       "      <th>unique</th>\n",
       "      <td>4990</td>\n",
       "      <td>353</td>\n",
       "      <td>2331</td>\n",
       "      <td>1876</td>\n",
       "      <td>2225</td>\n",
       "      <td>2428</td>\n",
       "    </tr>\n",
       "    <tr>\n",
       "      <th>top</th>\n",
       "      <td>Gadhvi</td>\n",
       "      <td>Drama</td>\n",
       "      <td>David Dhawan</td>\n",
       "      <td>Jeetendra</td>\n",
       "      <td>Rekha</td>\n",
       "      <td>Pran</td>\n",
       "    </tr>\n",
       "    <tr>\n",
       "      <th>freq</th>\n",
       "      <td>1</td>\n",
       "      <td>789</td>\n",
       "      <td>32</td>\n",
       "      <td>82</td>\n",
       "      <td>44</td>\n",
       "      <td>46</td>\n",
       "    </tr>\n",
       "  </tbody>\n",
       "</table>\n",
       "</div>"
      ],
      "text/plain": [
       "           Name  Genre      Director    Actor 1 Actor 2 Actor 3\n",
       "count      4990   4990          4990       4990    4990    4990\n",
       "unique     4990    353          2331       1876    2225    2428\n",
       "top     Gadhvi   Drama  David Dhawan  Jeetendra   Rekha    Pran\n",
       "freq          1    789            32         82      44      46"
      ]
     },
     "execution_count": 440,
     "metadata": {},
     "output_type": "execute_result"
    }
   ],
   "source": [
    "df.describe(include='O') #string values "
   ]
  },
  {
   "cell_type": "code",
   "execution_count": 441,
   "metadata": {},
   "outputs": [],
   "source": [
    "colors = ['#6990AD']"
   ]
  },
  {
   "cell_type": "code",
   "execution_count": 442,
   "metadata": {},
   "outputs": [
    {
     "data": {
      "text/plain": [
       "2021"
      ]
     },
     "execution_count": 442,
     "metadata": {},
     "output_type": "execute_result"
    }
   ],
   "source": [
    "df['Year'].max()"
   ]
  },
  {
   "cell_type": "code",
   "execution_count": 443,
   "metadata": {},
   "outputs": [],
   "source": [
    "df['Year']=df['Year'].astype(int)"
   ]
  },
  {
   "cell_type": "markdown",
   "metadata": {},
   "source": [
    "**Year**"
   ]
  },
  {
   "cell_type": "code",
   "execution_count": 444,
   "metadata": {},
   "outputs": [
    {
     "data": {
      "application/vnd.plotly.v1+json": {
       "config": {
        "plotlyServerURL": "https://plotly.com"
       },
       "data": [
        {
         "alignmentgroup": "True",
         "bingroup": "x",
         "histnorm": "probability",
         "hovertemplate": "Year=%{x}<br>probability=%{y}<extra></extra>",
         "legendgroup": "",
         "marker": {
          "color": "#FF33FF",
          "pattern": {
           "shape": ""
          }
         },
         "name": "",
         "offsetgroup": "",
         "orientation": "v",
         "showlegend": false,
         "type": "histogram",
         "x": [
          2019,
          2019,
          1997,
          2005,
          2012,
          2014,
          2004,
          2016,
          2012,
          2018,
          2010,
          2017,
          2005,
          1993,
          2002,
          2004,
          2016,
          2012,
          1994,
          2019,
          2017,
          2012,
          2003,
          2014,
          1998,
          2017,
          1979,
          2019,
          2002,
          1974,
          2014,
          2012,
          2003,
          2019,
          2009,
          2018,
          2015,
          2015,
          2006,
          1981,
          2020,
          2019,
          1985,
          2013,
          2019,
          2011,
          2012,
          2012,
          1974,
          2011,
          2014,
          2007,
          2005,
          1988,
          2016,
          2006,
          2011,
          1987,
          2019,
          2009,
          2003,
          2017,
          2019,
          2005,
          2016,
          2017,
          2016,
          2005,
          2010,
          2016,
          2020,
          2017,
          2019,
          2013,
          2013,
          2016,
          2005,
          2019,
          2008,
          1999,
          2018,
          2009,
          2017,
          2016,
          2004,
          1968,
          2018,
          1982,
          1977,
          2019,
          1982,
          2013,
          1950,
          1991,
          1969,
          1993,
          2009,
          1977,
          2016,
          1977,
          1994,
          1987,
          1990,
          1993,
          1988,
          1989,
          2001,
          2009,
          2000,
          1953,
          1978,
          1987,
          1963,
          2003,
          1990,
          1985,
          1992,
          1976,
          2000,
          1991,
          1984,
          1988,
          1990,
          1984,
          1993,
          2007,
          1968,
          1986,
          1988,
          1989,
          1989,
          1989,
          1979,
          1966,
          1990,
          1997,
          1975,
          2012,
          2001,
          2007,
          2018,
          2001,
          2008,
          1967,
          1982,
          1984,
          1970,
          2004,
          2003,
          1980,
          1975,
          1985,
          2019,
          1972,
          1970,
          1994,
          2009,
          1971,
          1976,
          1974,
          1964,
          2002,
          1980,
          1981,
          2003,
          1985,
          1997,
          2011,
          1974,
          1954,
          1962,
          2007,
          1999,
          2010,
          2005,
          1977,
          2013,
          1968,
          2014,
          1984,
          1965,
          1992,
          1993,
          1966,
          1997,
          1996,
          1995,
          2006,
          1998,
          1974,
          1956,
          1966,
          2011,
          1995,
          1984,
          1957,
          2012,
          1995,
          2004,
          2015,
          1994,
          2004,
          2004,
          2013,
          1980,
          1955,
          1995,
          1977,
          1968,
          1973,
          1970,
          1984,
          2010,
          1936,
          2009,
          2019,
          2014,
          2010,
          2010,
          1965,
          1954,
          2001,
          2007,
          2010,
          1983,
          1955,
          1990,
          2017,
          1983,
          2019,
          1978,
          1980,
          1985,
          2016,
          2004,
          1997,
          1986,
          2001,
          1991,
          1950,
          2014,
          1983,
          1972,
          1985,
          1988,
          1997,
          1990,
          1997,
          1981,
          1996,
          1997,
          2000,
          2002,
          1980,
          2009,
          2019,
          1995,
          1979,
          1979,
          2016,
          2015,
          2010,
          1996,
          2009,
          1985,
          2004,
          2018,
          2012,
          2012,
          2009,
          2017,
          1974,
          1996,
          2021,
          2017,
          2001,
          1991,
          2004,
          2020,
          2013,
          1965,
          1991,
          1979,
          2014,
          1995,
          1999,
          2002,
          1989,
          2001,
          2006,
          2017,
          1977,
          1952,
          2009,
          1985,
          2006,
          2019,
          1973,
          1979,
          1980,
          2019,
          2019,
          1966,
          1954,
          1977,
          2017,
          1953,
          2015,
          2015,
          2020,
          1984,
          2009,
          2010,
          1997,
          1986,
          2015,
          2011,
          1994,
          1967,
          2016,
          1975,
          1958,
          1936,
          1961,
          1978,
          2019,
          1990,
          1952,
          2013,
          2001,
          1974,
          1990,
          2014,
          1986,
          2001,
          2021,
          1966,
          1986,
          2005,
          1967,
          2016,
          2017,
          1973,
          1971,
          1952,
          1977,
          1999,
          1953,
          2016,
          2003,
          1994,
          1990,
          1985,
          1983,
          2018,
          1975,
          1986,
          1984,
          1995,
          1992,
          1996,
          1998,
          2011,
          1995,
          2020,
          2015,
          1960,
          1967,
          1969,
          2010,
          2005,
          1969,
          2003,
          2009,
          1968,
          2013,
          1997,
          2013,
          1974,
          1986,
          1993,
          1946,
          1982,
          1978,
          2016,
          1971,
          1992,
          1975,
          1989,
          1982,
          1972,
          2000,
          2006,
          1968,
          1962,
          2002,
          1969,
          2008,
          1991,
          2021,
          1994,
          2006,
          1966,
          1972,
          1960,
          2006,
          1977,
          2007,
          2015,
          1993,
          2005,
          2010,
          2007,
          1960,
          2006,
          1977,
          2007,
          1996,
          1975,
          1980,
          1975,
          1972,
          1974,
          1957,
          1964,
          1969,
          1994,
          1983,
          2001,
          1999,
          2019,
          1996,
          2010,
          1967,
          1983,
          1982,
          2019,
          1978,
          2004,
          2012,
          2018,
          1984,
          1993,
          1952,
          2017,
          2010,
          2018,
          2001,
          1986,
          1962,
          2000,
          2020,
          2012,
          2018,
          2020,
          2005,
          2007,
          1990,
          1978,
          2020,
          2010,
          2020,
          2013,
          1968,
          1993,
          1998,
          1979,
          2007,
          2013,
          1988,
          1998,
          2016,
          2010,
          1997,
          1978,
          1987,
          1986,
          2017,
          1983,
          1951,
          1990,
          1984,
          1964,
          2002,
          2007,
          2020,
          2016,
          2019,
          1969,
          1982,
          1964,
          1991,
          2000,
          2001,
          1990,
          1940,
          2016,
          2017,
          2018,
          2009,
          2006,
          1999,
          2017,
          2001,
          2017,
          2019,
          2015,
          1990,
          1955,
          2016,
          2017,
          1957,
          2018,
          2012,
          1986,
          2013,
          1962,
          2018,
          2014,
          1985,
          1985,
          2017,
          2015,
          2008,
          2005,
          2008,
          1970,
          2017,
          1984,
          2003,
          2009,
          1973,
          1978,
          1983,
          1999,
          1989,
          1998,
          2018,
          2002,
          1987,
          1993,
          1969,
          1945,
          1986,
          1980,
          2015,
          2014,
          1982,
          2010,
          1998,
          2016,
          2015,
          2019,
          1971,
          2017,
          2013,
          1989,
          1982,
          2019,
          1990,
          1951,
          1966,
          1967,
          1968,
          2019,
          1941,
          1967,
          1965,
          1985,
          1964,
          1954,
          2020,
          1952,
          2021,
          2013,
          2015,
          1976,
          2015,
          1996,
          2015,
          2017,
          1956,
          2019,
          1976,
          2012,
          2017,
          1968,
          1992,
          2014,
          1968,
          2020,
          1962,
          2010,
          1990,
          1983,
          1973,
          1992,
          1957,
          1963,
          1994,
          2013,
          2014,
          2015,
          1991,
          2016,
          2017,
          2021,
          1950,
          1955,
          2009,
          2005,
          2004,
          2015,
          2012,
          1959,
          2015,
          2019,
          1981,
          2006,
          2001,
          1956,
          1981,
          2019,
          1979,
          2019,
          2018,
          1989,
          2000,
          1972,
          1950,
          2014,
          2011,
          1993,
          1993,
          2013,
          2016,
          2017,
          2017,
          2005,
          2016,
          1972,
          1983,
          1992,
          1982,
          1964,
          2001,
          2010,
          1985,
          1980,
          1981,
          1992,
          1983,
          1997,
          1994,
          1969,
          1964,
          1952,
          1995,
          2005,
          1985,
          1992,
          2017,
          2014,
          1960,
          2015,
          2013,
          2017,
          1982,
          2015,
          2015,
          2013,
          2018,
          1961,
          2018,
          2013,
          2001,
          2005,
          2005,
          1986,
          1970,
          1985,
          1994,
          1997,
          1969,
          1997,
          1972,
          2000,
          1959,
          1956,
          2001,
          1994,
          1996,
          1980,
          1979,
          1976,
          2001,
          2017,
          2017,
          2017,
          2020,
          1976,
          2017,
          2019,
          2002,
          1942,
          2017,
          1985,
          2018,
          2010,
          1981,
          1998,
          1988,
          2003,
          1982,
          1965,
          2007,
          2011,
          1935,
          2011,
          2016,
          2012,
          2018,
          1958,
          2007,
          2017,
          2010,
          1965,
          1999,
          2012,
          2014,
          1999,
          2014,
          2011,
          2018,
          2016,
          1989,
          2011,
          1977,
          1969,
          2000,
          1974,
          1937,
          2007,
          2012,
          2000,
          1982,
          1989,
          2009,
          2018,
          1963,
          2011,
          1980,
          2013,
          1984,
          2001,
          2017,
          1966,
          1954,
          2017,
          2019,
          2012,
          1966,
          1988,
          1999,
          1981,
          2005,
          2008,
          1959,
          2004,
          2015,
          1971,
          2020,
          2019,
          2019,
          2012,
          2009,
          2017,
          2009,
          2013,
          1963,
          2005,
          2014,
          2011,
          2017,
          2012,
          1992,
          2016,
          2016,
          2014,
          2011,
          2009,
          1993,
          1960,
          2019,
          1980,
          1998,
          2019,
          2013,
          2008,
          1972,
          2015,
          2001,
          2003,
          2001,
          1954,
          1997,
          2002,
          2013,
          2021,
          1965,
          1961,
          2018,
          1968,
          2010,
          2011,
          2015,
          2004,
          2018,
          2015,
          2001,
          2011,
          2017,
          2016,
          2007,
          1971,
          2016,
          1966,
          2000,
          2020,
          2018,
          2014,
          2013,
          2012,
          2010,
          2015,
          2020,
          2005,
          2005,
          2019,
          2008,
          2005,
          2019,
          2013,
          2003,
          2015,
          2000,
          2017,
          2007,
          1986,
          1991,
          2020,
          1986,
          1971,
          2009,
          2019,
          2007,
          2009,
          2015,
          2012,
          2001,
          1996,
          2005,
          2012,
          1994,
          1977,
          2012,
          1985,
          2016,
          2014,
          1977,
          1997,
          2019,
          2004,
          2007,
          2007,
          1977,
          1981,
          2012,
          2012,
          1978,
          2014,
          2009,
          2015,
          2000,
          2012,
          1977,
          2011,
          2003,
          2016,
          2012,
          2011,
          2002,
          1977,
          1958,
          2020,
          1992,
          2003,
          1986,
          2008,
          2000,
          2019,
          2010,
          1959,
          1965,
          2005,
          2006,
          1967,
          2005,
          1969,
          1999,
          1967,
          1975,
          1934,
          1989,
          2001,
          1948,
          1993,
          2007,
          1935,
          1984,
          2002,
          1957,
          1980,
          1961,
          1955,
          1975,
          1974,
          2015,
          2010,
          2013,
          1981,
          1983,
          2011,
          2017,
          1994,
          2014,
          2018,
          2007,
          2017,
          2015,
          2005,
          1981,
          1992,
          1965,
          2013,
          1981,
          1977,
          2020,
          1960,
          2020,
          2019,
          1952,
          1961,
          2019,
          2007,
          2012,
          2013,
          2016,
          2013,
          2019,
          1998,
          1996,
          1961,
          1996,
          1959,
          1971,
          1976,
          1967,
          2001,
          2016,
          2019,
          2005,
          2018,
          2016,
          2014,
          2011,
          1998,
          1962,
          2015,
          2006,
          2006,
          2009,
          2020,
          2016,
          2019,
          1976,
          2011,
          2012,
          2005,
          2020,
          2000,
          2019,
          1993,
          2015,
          1954,
          2013,
          2002,
          1974,
          1990,
          1977,
          2001,
          1975,
          1982,
          1980,
          1975,
          2003,
          2020,
          2019,
          1974,
          1997,
          2016,
          2006,
          1975,
          2003,
          2003,
          2015,
          2014,
          2010,
          2020,
          1989,
          2010,
          2013,
          2016,
          2012,
          2015,
          2008,
          2006,
          2020,
          2002,
          1974,
          1986,
          2021,
          2008,
          2020,
          2009,
          1983,
          2006,
          1992,
          2014,
          2020,
          2000,
          2011,
          2016,
          2014,
          1994,
          2010,
          2016,
          1992,
          2011,
          2019,
          2005,
          2021,
          1997,
          1966,
          1953,
          1964,
          2012,
          2005,
          2018,
          1997,
          2019,
          2014,
          2010,
          2010,
          1987,
          1980,
          2017,
          2009,
          2017,
          1975,
          2015,
          1998,
          1950,
          1999,
          1986,
          1977,
          2000,
          2000,
          2000,
          1993,
          2011,
          1978,
          2011,
          1993,
          1985,
          1987,
          1997,
          1995,
          1991,
          1998,
          2016,
          2012,
          2019,
          1996,
          2020,
          2020,
          1982,
          2005,
          1988,
          2019,
          2019,
          2007,
          1997,
          2003,
          2006,
          1949,
          1970,
          1993,
          2014,
          2006,
          2008,
          2018,
          1972,
          1950,
          2008,
          2001,
          1997,
          2001,
          1982,
          1992,
          2013,
          1975,
          1988,
          2017,
          2016,
          2013,
          2009,
          2019,
          2008,
          2016,
          2006,
          2016,
          2017,
          2018,
          2014,
          2016,
          1987,
          2014,
          2001,
          1976,
          1975,
          1992,
          2013,
          1997,
          1990,
          1987,
          2000,
          2005,
          2002,
          2007,
          2009,
          1957,
          2014,
          1985,
          2018,
          2011,
          2011,
          2012,
          2009,
          2012,
          2012,
          2007,
          2002,
          1980,
          2008,
          1982,
          1991,
          2011,
          2014,
          1958,
          2015,
          2009,
          2005,
          1966,
          1978,
          2002,
          2019,
          2004,
          2019,
          2019,
          2018,
          2000,
          1997,
          2018,
          2000,
          2006,
          2007,
          1973,
          1980,
          2007,
          1993,
          1981,
          2008,
          2016,
          1975,
          1991,
          2015,
          1977,
          1992,
          1986,
          1997,
          1961,
          2011,
          1950,
          2017,
          2001,
          2020,
          2010,
          2007,
          2007,
          1951,
          1979,
          1959,
          2004,
          2008,
          2009,
          2003,
          1935,
          1975,
          1989,
          1981,
          2002,
          2019,
          1982,
          1940,
          2012,
          1989,
          1991,
          1992,
          1978,
          1968,
          2020,
          2009,
          2001,
          1959,
          2015,
          1974,
          1966,
          2006,
          2007,
          1963,
          1993,
          1991,
          2002,
          2005,
          2017,
          2018,
          1992,
          2003,
          2014,
          2008,
          2005,
          1993,
          1999,
          2004,
          2004,
          1967,
          2003,
          2000,
          2016,
          1998,
          1993,
          1997,
          2011,
          2016,
          1987,
          2002,
          1994,
          1977,
          1953,
          1987,
          1996,
          1947,
          2015,
          1950,
          1986,
          1995,
          1980,
          2016,
          2015,
          1982,
          1990,
          2014,
          2016,
          1993,
          1967,
          1976,
          1957,
          1980,
          1969,
          1953,
          1971,
          2015,
          1982,
          2010,
          1968,
          1972,
          1935,
          1975,
          1968,
          2009,
          2016,
          1978,
          1974,
          1998,
          1980,
          1989,
          1969,
          1971,
          1977,
          1959,
          1988,
          2014,
          2017,
          2004,
          1940,
          1969,
          1998,
          2015,
          2019,
          2019,
          2011,
          2008,
          2016,
          2006,
          1990,
          2017,
          1964,
          1971,
          1964,
          2020,
          1977,
          1983,
          2006,
          2007,
          1986,
          2019,
          2005,
          2011,
          2018,
          2015,
          1999,
          2013,
          1931,
          2014,
          2019,
          2009,
          2013,
          1990,
          2015,
          2019,
          1994,
          1992,
          2003,
          1994,
          1943,
          2015,
          1949,
          1964,
          2010,
          2016,
          1967,
          2000,
          1977,
          1998,
          2003,
          2015,
          2011,
          1984,
          1979,
          1937,
          2015,
          2010,
          1998,
          2002,
          1983,
          2002,
          2020,
          2007,
          1966,
          1976,
          2010,
          1996,
          1992,
          1995,
          1971,
          1973,
          2009,
          1998,
          2014,
          2012,
          2001,
          2019,
          1994,
          1989,
          2001,
          2019,
          1946,
          2018,
          1972,
          2005,
          2000,
          2003,
          1981,
          1986,
          1978,
          1983,
          1980,
          1980,
          2020,
          1972,
          1986,
          2007,
          2002,
          1985,
          1985,
          1963,
          2003,
          1989,
          1990,
          1981,
          1957,
          1991,
          2017,
          1972,
          2004,
          1981,
          1993,
          1992,
          1983,
          1968,
          2005,
          2007,
          1992,
          2019,
          1986,
          2012,
          1970,
          1990,
          1971,
          2015,
          1986,
          1960,
          1969,
          1968,
          1963,
          1957,
          2020,
          1965,
          2009,
          1969,
          2000,
          2015,
          2018,
          1996,
          2012,
          2013,
          1949,
          2009,
          2008,
          2009,
          1956,
          2012,
          2018,
          2014,
          2007,
          2019,
          2019,
          1947,
          2008,
          1984,
          2005,
          2002,
          2020,
          2012,
          2003,
          2007,
          2018,
          2001,
          2020,
          2015,
          2011,
          1985,
          2019,
          2013,
          1976,
          1988,
          2019,
          2019,
          2006,
          2017,
          2016,
          2006,
          1983,
          1977,
          1967,
          1989,
          2009,
          2019,
          2012,
          2021,
          1963,
          2016,
          2012,
          1954,
          2016,
          2004,
          1981,
          2006,
          2002,
          1983,
          2005,
          2012,
          2019,
          2014,
          2008,
          2017,
          1996,
          2013,
          2021,
          2010,
          2013,
          2015,
          1991,
          1990,
          2016,
          2000,
          2014,
          2017,
          2021,
          2016,
          2007,
          2007,
          1953,
          2020,
          2003,
          2011,
          2016,
          2007,
          1959,
          2015,
          2012,
          2009,
          2019,
          2016,
          2016,
          2018,
          2007,
          2009,
          2018,
          2016,
          2014,
          2013,
          2020,
          2017,
          1960,
          2005,
          2012,
          2017,
          1973,
          1966,
          2015,
          2007,
          2001,
          1995,
          2006,
          1999,
          1989,
          2000,
          2004,
          2012,
          2009,
          1978,
          2004,
          2017,
          2017,
          2018,
          2011,
          2016,
          2016,
          1986,
          2000,
          2014,
          2016,
          2006,
          1980,
          1978,
          1983,
          1988,
          2003,
          1937,
          2013,
          2012,
          2006,
          1984,
          2018,
          1972,
          2005,
          1955,
          2018,
          1993,
          1974,
          2011,
          2014,
          2016,
          1989,
          2004,
          1992,
          1975,
          1993,
          1980,
          1973,
          2002,
          1986,
          2018,
          1989,
          1985,
          2008,
          2013,
          1978,
          1963,
          1998,
          1985,
          1984,
          2004,
          1990,
          1992,
          1989,
          1967,
          1987,
          1948,
          1988,
          1961,
          1977,
          1998,
          1976,
          1996,
          2008,
          1990,
          2016,
          1982,
          1992,
          2019,
          2020,
          1997,
          2020,
          1998,
          1973,
          1956,
          1997,
          1985,
          1981,
          2007,
          1984,
          2020,
          2013,
          2004,
          2000,
          2016,
          2007,
          2013,
          1968,
          2019,
          2008,
          1963,
          1983,
          1999,
          2018,
          1968,
          2010,
          2010,
          2017,
          2008,
          2006,
          2019,
          2007,
          2019,
          2008,
          1989,
          1959,
          2013,
          1970,
          1994,
          1982,
          1948,
          1972,
          2013,
          2015,
          1993,
          2017,
          2001,
          1963,
          2013,
          2016,
          2012,
          1979,
          1971,
          1995,
          2015,
          2015,
          1997,
          1997,
          2017,
          1965,
          2020,
          2020,
          2014,
          2009,
          2012,
          2020,
          2019,
          2019,
          1970,
          1988,
          1995,
          2014,
          1995,
          1961,
          2020,
          2020,
          2019,
          1997,
          2016,
          1981,
          1993,
          1969,
          2015,
          2010,
          1962,
          2008,
          2002,
          2003,
          2011,
          1974,
          2002,
          1971,
          1986,
          1990,
          2020,
          2000,
          1998,
          2014,
          2016,
          2015,
          2014,
          2011,
          1984,
          1977,
          2020,
          1956,
          2017,
          2021,
          1962,
          2018,
          2008,
          1996,
          1956,
          1978,
          2000,
          1985,
          2018,
          2015,
          1997,
          2018,
          1967,
          2004,
          1979,
          1984,
          2005,
          2017,
          1974,
          2019,
          2016,
          2014,
          2020,
          2011,
          2014,
          2018,
          1991,
          2000,
          1979,
          1950,
          2018,
          2015,
          2020,
          1967,
          1971,
          1976,
          1982,
          2004,
          2008,
          2000,
          1962,
          2014,
          2018,
          1999,
          1968,
          1971,
          1993,
          2012,
          2018,
          1967,
          2007,
          1998,
          1991,
          2011,
          2020,
          2004,
          2003,
          2014,
          2015,
          2004,
          2003,
          1968,
          1998,
          2003,
          2014,
          1970,
          1992,
          1999,
          1982,
          2018,
          2008,
          1999,
          2021,
          2010,
          2010,
          2016,
          2010,
          2010,
          1991,
          1964,
          1998,
          1988,
          1997,
          2008,
          2012,
          2014,
          2015,
          2000,
          2018,
          2007,
          2018,
          2010,
          1987,
          2018,
          2014,
          2008,
          1965,
          1987,
          1996,
          2017,
          2017,
          1973,
          2002,
          1977,
          1987,
          2010,
          1988,
          2004,
          2015,
          1999,
          1985,
          1970,
          2014,
          2003,
          2005,
          2020,
          2007,
          2018,
          2017,
          2013,
          1985,
          2011,
          2006,
          1999,
          1981,
          2017,
          2018,
          2018,
          2016,
          2019,
          1991,
          2000,
          2009,
          2010,
          1958,
          1999,
          1987,
          2008,
          1991,
          1999,
          1994,
          1989,
          2019,
          1999,
          1946,
          2014,
          1994,
          1993,
          1993,
          2001,
          2004,
          2002,
          1977,
          1951,
          1980,
          1985,
          1980,
          2002,
          1999,
          1995,
          1983,
          1990,
          1988,
          2000,
          2004,
          2010,
          2005,
          1971,
          2015,
          1999,
          2011,
          2002,
          1945,
          2019,
          2003,
          1980,
          2006,
          2006,
          2007,
          2014,
          2002,
          1983,
          1974,
          2014,
          2003,
          2015,
          2018,
          1998,
          2006,
          2019,
          2004,
          2010,
          2010,
          2019,
          2010,
          2015,
          2020,
          2015,
          2018,
          2005,
          2013,
          2010,
          2020,
          2015,
          2006,
          2018,
          2014,
          2010,
          2017,
          1994,
          1989,
          1986,
          1954,
          2007,
          1974,
          1987,
          1977,
          1994,
          1974,
          1994,
          2012,
          2017,
          2003,
          2001,
          2019,
          1996,
          2020,
          1958,
          1932,
          1989,
          2017,
          1984,
          1935,
          1994,
          1986,
          1982,
          1959,
          1974,
          1980,
          2005,
          1987,
          2012,
          1991,
          1991,
          2018,
          1969,
          2003,
          1992,
          1974,
          1999,
          1973,
          2005,
          2006,
          2017,
          1996,
          2019,
          2012,
          2013,
          1974,
          2013,
          1997,
          2016,
          2004,
          2017,
          2015,
          1994,
          2018,
          2003,
          2015,
          2018,
          2010,
          1992,
          2010,
          1998,
          2015,
          2013,
          1962,
          2003,
          2010,
          1981,
          2014,
          2012,
          1990,
          2017,
          1989,
          2004,
          1993,
          1969,
          1960,
          1996,
          1987,
          1975,
          1985,
          1990,
          1992,
          1992,
          1992,
          1999,
          1983,
          2006,
          1998,
          2010,
          2018,
          2008,
          1971,
          1976,
          2006,
          1983,
          2015,
          1999,
          1972,
          1989,
          2017,
          1965,
          1961,
          1963,
          2012,
          2016,
          2007,
          1967,
          2019,
          2018,
          2013,
          2019,
          1977,
          1978,
          2017,
          1984,
          2001,
          1955,
          2007,
          1969,
          1999,
          2019,
          2016,
          2007,
          2015,
          1994,
          1951,
          2020,
          1975,
          1990,
          2009,
          1995,
          2009,
          1973,
          1989,
          1977,
          2003,
          2013,
          1980,
          2018,
          1995,
          1977,
          2012,
          1987,
          2021,
          1950,
          1995,
          1994,
          2006,
          2003,
          1986,
          1972,
          2016,
          2012,
          1936,
          2012,
          2018,
          2008,
          1979,
          1965,
          1985,
          2009,
          2017,
          1984,
          2020,
          1968,
          1987,
          2006,
          1989,
          1959,
          1990,
          2013,
          2015,
          1980,
          2012,
          2017,
          1992,
          2002,
          1991,
          1979,
          1990,
          1981,
          1969,
          1984,
          1996,
          1983,
          1986,
          1991,
          1982,
          1990,
          1976,
          1970,
          1935,
          1936,
          1997,
          1967,
          2018,
          2019,
          1955,
          2003,
          1953,
          2012,
          1973,
          2019,
          2007,
          1998,
          2010,
          2019,
          1985,
          1991,
          1961,
          1964,
          2017,
          1938,
          2014,
          1991,
          1969,
          2006,
          2017,
          2000,
          1960,
          2003,
          2012,
          2005,
          2011,
          1992,
          2008,
          1999,
          2012,
          2001,
          1950,
          2003,
          2005,
          1967,
          1966,
          1971,
          1965,
          2013,
          1980,
          2007,
          1957,
          1982,
          1970,
          2012,
          2013,
          2017,
          2000,
          2019,
          2000,
          1973,
          1989,
          2007,
          2007,
          1994,
          1968,
          1997,
          2019,
          1997,
          2017,
          2016,
          1973,
          2017,
          2019,
          2021,
          1968,
          1989,
          2000,
          1998,
          2017,
          2016,
          1989,
          2019,
          2007,
          1983,
          1944,
          2019,
          1981,
          1980,
          2017,
          2002,
          2021,
          1987,
          2013,
          2021,
          2015,
          1959,
          2017,
          1965,
          2005,
          2018,
          1979,
          1999,
          1975,
          2018,
          2020,
          2000,
          1981,
          2010,
          2004,
          1975,
          1987,
          1982,
          2014,
          2020,
          1989,
          2002,
          1990,
          2018,
          1970,
          2021,
          2016,
          2006,
          1994,
          2001,
          1998,
          1999,
          1976,
          2019,
          1963,
          2006,
          1961,
          1988,
          2011,
          1999,
          2006,
          2019,
          1981,
          2017,
          1996,
          1998,
          2019,
          2017,
          1990,
          2003,
          2012,
          2016,
          2008,
          1989,
          1981,
          1973,
          1968,
          2014,
          1963,
          2000,
          1984,
          2013,
          1999,
          2007,
          2013,
          2010,
          2012,
          1971,
          1959,
          2003,
          1992,
          2009,
          2005,
          1960,
          1989,
          1960,
          1986,
          1977,
          1993,
          2019,
          2002,
          1959,
          2018,
          1976,
          1996,
          1948,
          1997,
          2001,
          2012,
          2013,
          2009,
          2009,
          1984,
          1989,
          1997,
          1963,
          1999,
          2019,
          1949,
          1959,
          1994,
          2000,
          1989,
          2019,
          1988,
          2013,
          2016,
          2005,
          1993,
          1994,
          1995,
          2014,
          1983,
          1998,
          2018,
          1985,
          1984,
          2014,
          1977,
          1985,
          2000,
          1979,
          2010,
          1999,
          2014,
          1978,
          2018,
          2008,
          2019,
          1988,
          1984,
          1993,
          1974,
          1991,
          1973,
          2018,
          1964,
          2001,
          1957,
          1983,
          2018,
          1971,
          1970,
          1981,
          2013,
          2006,
          2015,
          2004,
          1987,
          1991,
          2015,
          1997,
          1997,
          1959,
          1983,
          1993,
          2018,
          2020,
          2002,
          2016,
          2019,
          2012,
          2020,
          1976,
          1984,
          2018,
          2004,
          1993,
          1976,
          2007,
          1993,
          2004,
          2019,
          1986,
          2017,
          2005,
          2015,
          2006,
          2019,
          1965,
          1984,
          1980,
          2007,
          2011,
          1990,
          1988,
          2000,
          1989,
          2018,
          1975,
          1977,
          2016,
          2008,
          2010,
          2010,
          1992,
          1996,
          1968,
          1970,
          2012,
          1981,
          1988,
          1991,
          1981,
          1974,
          1996,
          1977,
          1999,
          1989,
          1991,
          1999,
          2006,
          1958,
          1974,
          2015,
          2007,
          1980,
          1992,
          2020,
          1983,
          2010,
          1982,
          1994,
          1987,
          1964,
          1992,
          2005,
          1975,
          2003,
          1997,
          2014,
          1980,
          2020,
          2003,
          2016,
          2014,
          2008,
          2014,
          1992,
          1977,
          1963,
          1962,
          1993,
          1986,
          2019,
          2004,
          2015,
          2017,
          2009,
          1974,
          1937,
          1990,
          2008,
          1943,
          1956,
          2012,
          1986,
          2005,
          2004,
          1978,
          2009,
          2019,
          1983,
          1977,
          2010,
          2002,
          2010,
          1989,
          1960,
          1993,
          1964,
          1991,
          1999,
          2005,
          2003,
          2021,
          1976,
          2005,
          2002,
          2003,
          1986,
          1978,
          1974,
          2020,
          1972,
          2001,
          2020,
          2014,
          1997,
          1997,
          2008,
          2018,
          2017,
          1993,
          1996,
          1997,
          2012,
          2004,
          2020,
          1990,
          2000,
          1981,
          2006,
          2013,
          1993,
          2011,
          2011,
          2003,
          2018,
          2007,
          2001,
          1998,
          2015,
          2003,
          2018,
          2002,
          2018,
          2005,
          2006,
          1987,
          1985,
          2014,
          2017,
          2000,
          1974,
          2007,
          2000,
          2008,
          2010,
          2018,
          2014,
          2000,
          2007,
          2011,
          2002,
          2005,
          2016,
          2012,
          2001,
          2005,
          2004,
          1994,
          2011,
          2007,
          2019,
          2016,
          2017,
          1992,
          1966,
          2014,
          2011,
          1953,
          1975,
          2010,
          2001,
          2006,
          2013,
          2017,
          1997,
          2010,
          2021,
          1979,
          2005,
          2001,
          2004,
          2013,
          1984,
          1971,
          1991,
          2004,
          1999,
          1966,
          1978,
          1971,
          1960,
          2002,
          2012,
          1992,
          2010,
          1991,
          2016,
          2011,
          1989,
          2018,
          2019,
          2013,
          2018,
          1967,
          1997,
          2010,
          1993,
          2020,
          2012,
          2012,
          1964,
          1939,
          2008,
          2014,
          1990,
          2016,
          2002,
          2004,
          2009,
          2004,
          2017,
          2013,
          1988,
          2017,
          2010,
          2007,
          2014,
          2017,
          2012,
          2007,
          2019,
          2018,
          2012,
          1939,
          2012,
          2019,
          2007,
          2014,
          2016,
          2016,
          2013,
          2019,
          2001,
          2020,
          2014,
          2003,
          2015,
          2012,
          2019,
          2007,
          2005,
          2009,
          2020,
          2009,
          2012,
          2014,
          2017,
          2011,
          2020,
          2013,
          1993,
          2019,
          1991,
          1986,
          2016,
          2017,
          2003,
          1997,
          2011,
          2015,
          2011,
          2009,
          2016,
          2009,
          2006,
          2004,
          1966,
          2006,
          2016,
          2001,
          2009,
          1989,
          1959,
          2018,
          2020,
          2016,
          2018,
          2021,
          1981,
          2008,
          2018,
          2011,
          2018,
          2012,
          2018,
          2016,
          2008,
          2010,
          2019,
          2009,
          2009,
          2015,
          2017,
          2014,
          2005,
          2020,
          2019,
          2018,
          2018,
          2011,
          2017,
          2012,
          2015,
          2012,
          2019,
          2014,
          1962,
          1970,
          1960,
          1986,
          2002,
          1996,
          1964,
          2018,
          1980,
          2008,
          1984,
          1995,
          2018,
          1984,
          2017,
          2013,
          2021,
          2014,
          2017,
          2016,
          2021,
          1994,
          1959,
          2019,
          2009,
          1974,
          2004,
          2006,
          1958,
          2016,
          2009,
          2015,
          2013,
          2004,
          1996,
          1979,
          1985,
          1989,
          1983,
          1981,
          2013,
          1985,
          1987,
          1998,
          2012,
          2008,
          1990,
          2016,
          2007,
          2015,
          1959,
          1969,
          2013,
          1957,
          1995,
          2005,
          2015,
          1981,
          2014,
          1983,
          1989,
          1986,
          1962,
          2004,
          2015,
          1994,
          2013,
          2021,
          2003,
          1998,
          1971,
          2014,
          1999,
          1978,
          2017,
          2019,
          1988,
          2005,
          2002,
          2005,
          1987,
          2017,
          1991,
          1967,
          2021,
          1998,
          2001,
          2019,
          2006,
          2020,
          2010,
          1994,
          1966,
          1969,
          1971,
          2004,
          1972,
          1999,
          1973,
          1983,
          2013,
          1981,
          2007,
          2019,
          2015,
          2014,
          1976,
          1962,
          1954,
          1980,
          2007,
          1974,
          2018,
          2017,
          1974,
          2003,
          1984,
          2018,
          2014,
          2019,
          2014,
          2007,
          1955,
          2019,
          2003,
          2019,
          2017,
          2002,
          1987,
          2019,
          2014,
          1971,
          2015,
          2017,
          2014,
          2002,
          2005,
          1986,
          1999,
          1991,
          1970,
          2001,
          1985,
          2004,
          2011,
          2017,
          2016,
          2013,
          1985,
          2013,
          2003,
          2018,
          1998,
          2003,
          1983,
          2002,
          2012,
          1958,
          1972,
          1932,
          1954,
          2005,
          1975,
          1976,
          2009,
          2018,
          2020,
          2010,
          1942,
          1981,
          1979,
          1992,
          2015,
          1991,
          2018,
          1982,
          1971,
          1998,
          1962,
          1967,
          2018,
          1997,
          1956,
          1961,
          1964,
          2010,
          1971,
          2006,
          1995,
          1973,
          1992,
          1971,
          1986,
          1968,
          1970,
          1989,
          1990,
          1978,
          2020,
          1985,
          1966,
          1988,
          1984,
          1985,
          2000,
          1971,
          1988,
          2008,
          1972,
          2011,
          2013,
          1998,
          2012,
          2013,
          1970,
          1968,
          2009,
          1963,
          2018,
          1992,
          1965,
          2002,
          1981,
          1984,
          1944,
          1969,
          2004,
          1979,
          2003,
          1985,
          2006,
          2018,
          2001,
          2017,
          1989,
          2011,
          2013,
          2012,
          1967,
          2019,
          1972,
          2010,
          2020,
          2011,
          1975,
          2011,
          1999,
          2010,
          1986,
          2004,
          2017,
          1954,
          2017,
          1957,
          2016,
          1949,
          1998,
          1936,
          1957,
          2012,
          1935,
          1989,
          2015,
          2016,
          2005,
          2018,
          2016,
          2008,
          2000,
          2019,
          2004,
          2008,
          2002,
          2018,
          2001,
          1989,
          2006,
          2016,
          2011,
          2016,
          1998,
          1965,
          1997,
          1994,
          2000,
          2015,
          1984,
          2014,
          2009,
          2016,
          1994,
          1987,
          2019,
          2001,
          2013,
          2017,
          1972,
          2008,
          2011,
          2015,
          2013,
          2001,
          2015,
          1970,
          2021,
          2004,
          2009,
          2021,
          1999,
          1957,
          1975,
          2007,
          2014,
          2004,
          2005,
          2017,
          1977,
          1997,
          1997,
          2015,
          2016,
          2015,
          2017,
          2017,
          2019,
          2018,
          2003,
          1986,
          1983,
          1963,
          2001,
          1992,
          2011,
          2004,
          2008,
          1988,
          1977,
          2018,
          1988,
          2016,
          2014,
          2015,
          2016,
          2008,
          2014,
          2003,
          2008,
          2013,
          2021,
          2003,
          2005,
          2012,
          2011,
          2011,
          2003,
          2014,
          2017,
          1999,
          1942,
          1978,
          1987,
          1978,
          2004,
          2019,
          2019,
          2004,
          1992,
          2017,
          1993,
          1995,
          2017,
          2015,
          2018,
          2005,
          2020,
          2013,
          1984,
          2006,
          2016,
          2007,
          2008,
          2011,
          2017,
          2010,
          1970,
          2010,
          2005,
          2012,
          2018,
          2015,
          2011,
          2002,
          2004,
          1992,
          1976,
          1972,
          1991,
          1995,
          1979,
          1986,
          2005,
          2016,
          1987,
          2017,
          1991,
          1977,
          1994,
          2013,
          1989,
          1971,
          1968,
          2000,
          1986,
          1967,
          2021,
          1979,
          1943,
          1981,
          1962,
          2006,
          2010,
          2009,
          1996,
          1982,
          1973,
          2018,
          2007,
          2018,
          1982,
          2010,
          2014,
          2007,
          1969,
          2018,
          2007,
          1955,
          1981,
          1991,
          2017,
          1963,
          1940,
          1978,
          1986,
          1992,
          2013,
          1986,
          1954,
          1969,
          2015,
          1957,
          2011,
          1962,
          1951,
          1947,
          1999,
          1955,
          1979,
          1953,
          1957,
          2013,
          2005,
          1959,
          2018,
          1956,
          1974,
          1990,
          1971,
          2001,
          2003,
          1995,
          1961,
          2021,
          2005,
          1946,
          1957,
          2003,
          1966,
          2016,
          1980,
          2007,
          1990,
          2014,
          2005,
          1966,
          1956,
          1986,
          2009,
          2017,
          2015,
          2000,
          1989,
          2017,
          1958,
          2015,
          1996,
          1996,
          1974,
          2019,
          1938,
          2019,
          2011,
          1983,
          2007,
          1965,
          1980,
          1989,
          1975,
          1992,
          2005,
          2020,
          2011,
          2010,
          2007,
          2018,
          2021,
          2017,
          1979,
          1967,
          2011,
          2019,
          2011,
          2019,
          2018,
          1991,
          1990,
          1999,
          2020,
          2014,
          2012,
          2008,
          2002,
          2018,
          2019,
          2017,
          2019,
          2006,
          1995,
          2008,
          2017,
          1988,
          2002,
          2007,
          2017,
          2012,
          2006,
          2020,
          2018,
          2015,
          2010,
          2013,
          2001,
          2014,
          1971,
          2019,
          2004,
          2018,
          2016,
          2008,
          1999,
          1989,
          1965,
          2013,
          2013,
          2003,
          1961,
          1968,
          2020,
          2014,
          1977,
          1985,
          2015,
          2003,
          2012,
          2008,
          2015,
          2019,
          2009,
          2001,
          2012,
          2003,
          1981,
          1995,
          2003,
          1988,
          1990,
          1988,
          2013,
          1984,
          2010,
          1992,
          1985,
          2018,
          1973,
          1985,
          2018,
          2005,
          1968,
          1941,
          2019,
          2014,
          2021,
          2020,
          2019,
          1959,
          2019,
          2018,
          1956,
          2004,
          1969,
          1984,
          2018,
          2019,
          1986,
          1967,
          1977,
          2018,
          1992,
          1974,
          2018,
          2010,
          2008,
          2008,
          1958,
          1992,
          2020,
          2019,
          2010,
          1996,
          2000,
          1953,
          1996,
          2010,
          2015,
          1987,
          1995,
          1994,
          1993,
          2014,
          1971,
          1963,
          2003,
          1989,
          2015,
          1972,
          1992,
          1997,
          2020,
          2018,
          2018,
          1972,
          1989,
          1989,
          2005,
          1968,
          2018,
          1985,
          2007,
          1984,
          2005,
          1961,
          2018,
          1985,
          2017,
          1985,
          1966,
          2014,
          2011,
          2004,
          2013,
          2003,
          1974,
          1991,
          1967,
          1970,
          1961,
          1980,
          1968,
          2010,
          1957,
          2009,
          2008,
          1995,
          2012,
          1986,
          2010,
          1993,
          1955,
          2008,
          2019,
          2017,
          1999,
          1987,
          1988,
          1984,
          1978,
          1985,
          1973,
          2018,
          1978,
          2015,
          2010,
          2013,
          2011,
          2017,
          2017,
          2000,
          2006,
          1974,
          2004,
          2018,
          1958,
          2008,
          1993,
          1980,
          2016,
          1945,
          1993,
          1991,
          1966,
          1978,
          1993,
          1964,
          2008,
          2010,
          2013,
          2019,
          2017,
          2019,
          1984,
          1966,
          2013,
          1985,
          2016,
          2015,
          2003,
          1972,
          2016,
          2016,
          2017,
          2017,
          2002,
          2021,
          1972,
          1934,
          2014,
          2014,
          2018,
          2004,
          1993,
          2018,
          2012,
          2019,
          2015,
          1992,
          2004,
          1992,
          1990,
          1993,
          2013,
          1995,
          2004,
          1964,
          1981,
          1965,
          2017,
          2004,
          1958,
          2017,
          1973,
          2013,
          1991,
          2017,
          2003,
          2019,
          2004,
          2019,
          2006,
          1990,
          2020,
          1987,
          1991,
          1991,
          2010,
          1981,
          1994,
          1971,
          1995,
          1998,
          1992,
          1981,
          1974,
          1962,
          1989,
          1970,
          1991,
          2015,
          1982,
          1974,
          1983,
          1994,
          1996,
          1997,
          2004,
          2010,
          1997,
          1943,
          1997,
          1994,
          2005,
          1978,
          1973,
          1962,
          1994,
          1981,
          2016,
          2018,
          2016,
          2003,
          1983,
          1983,
          1986,
          1970,
          1933,
          1984,
          1978,
          1989,
          2014,
          1965,
          1972,
          2002,
          2010,
          2011,
          2015,
          1973,
          1993,
          1987,
          2019,
          2006,
          2003,
          1998,
          1999,
          2005,
          1998,
          2001,
          2014,
          2001,
          2003,
          1981,
          1991,
          1969,
          1992,
          1985,
          1990,
          1990,
          1988,
          1969,
          1969,
          1991,
          1986,
          1987,
          1990,
          1987,
          1971,
          1986,
          1966,
          2006,
          1985,
          1984,
          1975,
          1984,
          2017,
          2012,
          1988,
          2001,
          2001,
          1986,
          1988,
          1998,
          2013,
          2009,
          1980,
          2013,
          2011,
          2017,
          1979,
          2017,
          1958,
          2019,
          1975,
          1976,
          1972,
          2013,
          1995,
          1972,
          1992,
          2020,
          1967,
          2021,
          2009,
          1987,
          2010,
          2012,
          2016,
          2018,
          2008,
          2013,
          2008,
          1983,
          2018,
          1954,
          2021,
          2009,
          2017,
          1990,
          2008,
          2003,
          1995,
          2011,
          2014,
          2015,
          2017,
          1969,
          1953,
          1978,
          2001,
          2018,
          2016,
          1955,
          2019,
          2015,
          2004,
          1956,
          1982,
          1959,
          1995,
          2018,
          1968,
          1994,
          2003,
          1952,
          1996,
          1997,
          2000,
          2014,
          1969,
          1999,
          2013,
          2013,
          2018,
          2010,
          1974,
          1992,
          1951,
          1936,
          1992,
          2000,
          1962,
          1972,
          2004,
          2010,
          2010,
          2012,
          1994,
          2019,
          1981,
          1977,
          1996,
          1984,
          2017,
          1967,
          1980,
          1977,
          2007,
          1995,
          2019,
          1989,
          1943,
          2017,
          2020,
          1984,
          1985,
          1985,
          2008,
          2010,
          2017,
          2013,
          1988,
          2010,
          1991,
          2005,
          1985,
          2013,
          2019,
          1944,
          2015,
          1996,
          2015,
          2017,
          1993,
          1983,
          2006,
          1982,
          1995,
          2019,
          2013,
          2017,
          2013,
          1975,
          1959,
          2019,
          2010,
          2015,
          2015,
          1986,
          2007,
          2013,
          2011,
          2018,
          1944,
          2004,
          1995,
          2011,
          2016,
          2009,
          1980,
          2007,
          2007,
          2017,
          2018,
          2021,
          2000,
          2020,
          2006,
          2001,
          2005,
          2007,
          2019,
          1962,
          2019,
          1974,
          1971,
          2002,
          1996,
          1988,
          2018,
          2005,
          2001,
          2014,
          2017,
          2010,
          1988,
          1979,
          2013,
          1965,
          2002,
          2007,
          2019,
          2014,
          1972,
          2012,
          2014,
          2021,
          2003,
          2009,
          2008,
          2019,
          2014,
          1995,
          2016,
          2008,
          2009,
          1999,
          2011,
          2016,
          2005,
          2010,
          1988,
          2019,
          1991,
          2015,
          1993,
          1970,
          2018,
          1974,
          1990,
          2016,
          1992,
          2012,
          2015,
          2008,
          1993,
          2004,
          1989,
          1997,
          2017,
          2004,
          2015,
          2020,
          1962,
          2017,
          2009,
          1991,
          2012,
          1966,
          1967,
          1965,
          1964,
          1985,
          1985,
          1991,
          1978,
          1996,
          1994,
          2016,
          1979,
          2019,
          2017,
          2008,
          2016,
          1984,
          2013,
          2015,
          1969,
          1998,
          2016,
          1982,
          2002,
          1992,
          2015,
          2006,
          2007,
          1966,
          2020,
          2015,
          1980,
          1994,
          2017,
          1995,
          1976,
          2003,
          1979,
          1970,
          1969,
          1989,
          2017,
          2006,
          1991,
          2020,
          2012,
          1958,
          1968,
          2010,
          1983,
          1970,
          1951,
          1988,
          1958,
          1996,
          2013,
          2011,
          2018,
          2013,
          1981,
          2011,
          1962,
          1993,
          2021,
          1993,
          2002,
          1969,
          1986,
          1982,
          2007,
          1988,
          2005,
          2017,
          2007,
          1989,
          2017,
          1997,
          1980,
          1970,
          1998,
          1999,
          1959,
          2003,
          2017,
          1979,
          1983,
          1961,
          1982,
          2014,
          1958,
          1964,
          1986,
          1997,
          1991,
          2016,
          2005,
          2021,
          2006,
          1964,
          1952,
          1994,
          1992,
          1999,
          1964,
          2018,
          2009,
          2009,
          1976,
          1981,
          1996,
          1982,
          1937,
          2016,
          1993,
          1989,
          2002,
          1975,
          1992,
          1968,
          1996,
          1969,
          2018,
          1936,
          1961,
          1966,
          1968,
          2016,
          2016,
          1993,
          2021,
          1996,
          2017,
          1960,
          2006,
          2005,
          2005,
          2017,
          2008,
          1979,
          1986,
          1984,
          1980,
          2019,
          2008,
          2011,
          2003,
          1982,
          1998,
          2013,
          2013,
          1982,
          1969,
          1978,
          1991,
          2004,
          1995,
          1991,
          2001,
          1999,
          1996,
          1986,
          1982,
          1970,
          1966,
          1979,
          2007,
          2012,
          2020,
          1951,
          1958,
          2020,
          2019,
          2006,
          2021,
          2019,
          2015,
          2012,
          2017,
          2021,
          2019,
          2018,
          2017,
          1955,
          1972,
          2010,
          1994,
          2005,
          1996,
          2020,
          2019,
          2017,
          2006,
          1972,
          2019,
          2014,
          2017,
          2005,
          2006,
          2018,
          2021,
          1980,
          2015,
          2010,
          2005,
          1949,
          2005,
          2011,
          2015,
          2011,
          2002,
          2012,
          1946,
          2006,
          2010,
          1949,
          1974,
          2011,
          2006,
          1990,
          2011,
          2007,
          2020,
          1965,
          2002,
          1982,
          1993,
          1947,
          2020,
          1978,
          1998,
          1961,
          1954,
          2015,
          1974,
          1990,
          2012,
          1976,
          1966,
          1976,
          1991,
          1984,
          1957,
          1970,
          1976,
          2015,
          1984,
          2002,
          1981,
          2019,
          1971,
          1996,
          1969,
          1986,
          1982,
          2016,
          2008,
          1950,
          1986,
          2011,
          1964,
          1947,
          2020,
          1956,
          2017,
          1999,
          1990,
          2000,
          1968,
          2020,
          1953,
          2005,
          1979,
          2020,
          2012,
          1977,
          2001,
          2012,
          1985,
          1988,
          2016,
          2004,
          2012,
          2018,
          1975,
          1999,
          2006,
          1988,
          2007,
          2013,
          1972,
          2010,
          2016,
          2016,
          2013,
          2016,
          2009,
          2013,
          2007,
          1981,
          2013,
          1955,
          1962,
          1971,
          2017,
          1993,
          1985,
          1960,
          1982,
          1968,
          2013,
          1983,
          2017,
          2020,
          2020,
          2013,
          2017,
          2020,
          2004,
          2014,
          2019,
          2011,
          1990,
          2013,
          2009,
          1999,
          1989,
          2004,
          2015,
          2021,
          2005,
          1981,
          1999,
          2018,
          2002,
          2018,
          2017,
          2019,
          1987,
          1960,
          2015,
          2008,
          2013,
          2014,
          1986,
          2005,
          2007,
          2008,
          2005,
          1980,
          2007,
          2006,
          2016,
          2013,
          2012,
          2021,
          1973,
          2000,
          1999,
          2013,
          2002,
          2005,
          1948,
          2014,
          1998,
          1958,
          1979,
          1956,
          2009,
          1964,
          2012,
          2013,
          2014,
          2019,
          1958,
          1988,
          2018,
          2012,
          2018,
          2020,
          2018,
          1988,
          1999,
          2008,
          2013,
          2010,
          2011,
          2008,
          1989,
          1982,
          2014,
          2013,
          2007,
          1999,
          1968,
          1975,
          2004,
          1960,
          2003,
          2011,
          1989,
          2014,
          1956,
          1991,
          2009,
          2007,
          2020,
          1938,
          2010,
          2014,
          2012,
          2019,
          2003,
          2001,
          1954,
          1971,
          1966,
          2005,
          2005,
          2000,
          1968,
          1986,
          1970,
          2018,
          1960,
          2014,
          2004,
          2000,
          2016,
          2008,
          2018,
          1983,
          1982,
          2006,
          1979,
          2008,
          1949,
          1968,
          2013,
          2017,
          1984,
          2009,
          2004,
          2005,
          2016,
          1976,
          2003,
          2014,
          2019,
          2013,
          2014,
          1994,
          1987,
          2008,
          2008,
          2002,
          1985,
          1966,
          1973,
          2020,
          1979,
          1995,
          2014,
          1985,
          1992,
          1987,
          2004,
          1982,
          2003,
          1990,
          1978,
          1986,
          1980,
          1983,
          2017,
          2021,
          2018,
          2007,
          1999,
          2020,
          1995,
          2004,
          1999,
          2013,
          2003,
          1990,
          1993,
          1992,
          1986,
          1993,
          2020,
          1956,
          1981,
          2019,
          1958,
          1996,
          1969,
          2009,
          2020,
          2015,
          1988,
          2014,
          1998,
          1986,
          1972,
          1955,
          2005,
          2020,
          2021,
          1943,
          2011,
          2015,
          1976,
          2000,
          1967,
          1990,
          1995,
          2019,
          2013,
          1979,
          1984,
          1997,
          1995,
          1984,
          2000,
          1995,
          2019,
          1970,
          1965,
          1966,
          2002,
          2008,
          2008,
          2006,
          2004,
          2017,
          1985,
          1980,
          2006,
          1977,
          2016,
          2009,
          1968,
          1973,
          1965,
          2010,
          1965,
          1938,
          2016,
          2010,
          1966,
          1966,
          2003,
          1994,
          1985,
          2011,
          2005,
          2019,
          2017,
          2000,
          2009,
          2001,
          2015,
          2016,
          1989,
          1963,
          2010,
          2001,
          2011,
          2012,
          1978,
          2009,
          1984,
          2018,
          2014,
          2020,
          1982,
          1982,
          1985,
          2012,
          1993,
          2016,
          2018,
          2015,
          1988,
          2012,
          2019,
          1999,
          2002,
          1990,
          1983,
          2011,
          2009,
          2020,
          2010,
          2016,
          2001,
          1979,
          2019,
          2005,
          2015,
          1989,
          2014,
          2013,
          2016,
          2021,
          2005,
          2016,
          2019,
          2017,
          2013,
          1980,
          1977,
          1976,
          1941,
          2007,
          2018,
          1988,
          2014,
          2011,
          2013,
          1995,
          2017,
          2019,
          2009,
          1953,
          2005,
          2010,
          2010,
          2017,
          2008,
          2015,
          2009,
          1994,
          2017,
          2021,
          2014,
          2013,
          1979,
          2007,
          2019,
          2020,
          2014,
          2003,
          2020,
          2019,
          2017,
          2017,
          2020,
          2014,
          2017,
          2011,
          2010,
          2017,
          2018,
          2020,
          2006,
          2019,
          2016,
          2014,
          2002,
          2008,
          2019,
          1931,
          2013,
          2014,
          2015,
          2013,
          1994,
          1995,
          2011,
          2001,
          1980,
          2007,
          2016,
          2018,
          2015,
          2019,
          2021,
          2009,
          2000,
          1935,
          2020,
          2017,
          2020,
          2000,
          2014,
          1952,
          2015,
          1992,
          2014,
          2020,
          2019,
          2015,
          2015,
          1968,
          2019,
          2017,
          2015,
          1996,
          2009,
          2017,
          2019,
          2015,
          1980,
          2017,
          2013,
          2010,
          2014,
          2015,
          2010,
          2001,
          2002,
          2009,
          2021,
          2021,
          2018,
          2013,
          2015,
          2014,
          1967,
          2019,
          1981,
          1987,
          2016,
          1992,
          2008,
          1990,
          2017,
          1980,
          1953,
          1983,
          2018,
          2015,
          2009,
          1978,
          2018,
          1969,
          2016,
          2017,
          2014,
          2017,
          2015,
          2005,
          2021,
          2019,
          1977,
          1992,
          1998,
          2018,
          2014,
          2014,
          2016,
          2000,
          2018,
          2010,
          1984,
          1988,
          2017,
          2006,
          2018,
          1937,
          2010,
          1978,
          2016,
          2005,
          2020,
          2019,
          2014,
          2019,
          1989,
          2016,
          2007,
          2015,
          1998,
          2016,
          2011,
          2021,
          1989,
          1985,
          1995,
          1991,
          2014,
          1988,
          1978,
          1985,
          1994,
          2020,
          1996,
          2017,
          2021,
          2003,
          2015,
          1971,
          2008,
          2016,
          2001,
          1970,
          2011,
          1990,
          2009,
          2010,
          2002,
          2004,
          2018,
          1982,
          1978,
          2017,
          2002,
          1969,
          1996,
          2011,
          2017,
          2016,
          2012,
          2013,
          1992,
          2017,
          2008,
          2011,
          2017,
          2018,
          1976,
          2016,
          2013,
          2008,
          1959,
          1974,
          2019,
          1975,
          2019,
          1970,
          2006,
          1992,
          1982,
          2014,
          2006,
          2015,
          2015,
          2007,
          1980,
          2014,
          2014,
          1996,
          2017,
          2019,
          2006,
          2020,
          2019,
          1971,
          1967,
          2019,
          1955,
          2018,
          2019,
          1970,
          1960,
          1989,
          1982,
          2015,
          1984,
          2011,
          1987,
          2006,
          2004,
          2015,
          2020,
          2005,
          2009,
          2005,
          1968,
          1999,
          2004,
          2018,
          1988,
          1982,
          1962,
          2006,
          1946,
          2000,
          2021,
          1992,
          1975,
          1989,
          2001,
          2011,
          2010,
          1970,
          2001,
          2008,
          1994,
          2009,
          2017,
          1988,
          2016,
          2018,
          2018,
          1993,
          1975,
          2004,
          2011,
          2011,
          1989,
          2008,
          2017,
          1989,
          2012,
          1972,
          2017,
          2009,
          1982,
          2006,
          1990,
          1986,
          2005,
          2009,
          1988,
          1994,
          1982,
          2011,
          1986,
          2009,
          2020,
          1998,
          2017,
          2021,
          1997,
          2020,
          1992,
          2005,
          2008,
          1991,
          2011,
          2013,
          2018,
          1996,
          1992,
          2006,
          1998,
          2018,
          2010,
          2014,
          2002,
          1988,
          1985,
          2016,
          1967,
          2015,
          2016,
          1998,
          2013,
          2009,
          2017,
          2020,
          1993,
          1988,
          1981,
          2019,
          2013,
          1981,
          1954,
          2013,
          1975,
          2016,
          1987,
          2005,
          2016,
          2010,
          2006,
          2017,
          2015,
          2007,
          2015,
          2015,
          2020,
          2018,
          2020,
          2012,
          2018,
          2008,
          2009,
          2019,
          2006,
          2013,
          2009,
          2008,
          1989,
          2018,
          1998,
          2017,
          2004,
          2018,
          2011,
          2019,
          2012,
          2018,
          2003,
          2020,
          2006,
          1983,
          1983,
          1964,
          2006,
          1974,
          2004,
          1989,
          2013,
          2021,
          2003,
          2020,
          2015,
          2003,
          2008,
          2014,
          1992,
          2001,
          1984,
          2014,
          1994,
          1972,
          2020,
          2015,
          1981,
          2014,
          1977,
          1985,
          2015,
          2020,
          1958,
          2012,
          1992,
          2014,
          2001,
          2013,
          2018,
          1995,
          1996,
          2015,
          1975,
          1988,
          2006,
          2011,
          2016,
          2020,
          1984,
          2003,
          2002,
          1963,
          2014,
          1994,
          2011,
          1972,
          2014,
          2003,
          2017,
          2002,
          1999,
          2001,
          2013,
          2012,
          1980,
          2018,
          2002,
          2004,
          1996,
          2001,
          1992,
          1963,
          2019,
          2011,
          2019,
          1982,
          1982,
          2001,
          1966,
          2005,
          1977,
          1997,
          1997,
          1991,
          2016,
          2014,
          2001,
          2018,
          2016,
          1985,
          2021,
          2004,
          1979,
          2008,
          1994,
          1985,
          1990,
          1998,
          1988,
          1994,
          1993,
          1993,
          1980,
          1988,
          1995,
          1977,
          1981,
          1985,
          1994,
          2003,
          1943,
          1993,
          2013,
          1983,
          1972,
          2014,
          2005,
          1974,
          2018,
          2013,
          1958,
          1960,
          2006,
          1975,
          1986,
          1986,
          2013,
          1965,
          1988,
          2013,
          2002,
          2011,
          2012,
          2019,
          2000,
          2011,
          2018,
          1998,
          1975,
          2015,
          2001,
          1989,
          1999,
          1998
         ],
         "xaxis": "x",
         "yaxis": "y"
        }
       ],
       "layout": {
        "bargap": 0.03,
        "barmode": "relative",
        "legend": {
         "tracegroupgap": 0
        },
        "margin": {
         "t": 60
        },
        "plot_bgcolor": "slategrey",
        "template": {
         "data": {
          "bar": [
           {
            "error_x": {
             "color": "#2a3f5f"
            },
            "error_y": {
             "color": "#2a3f5f"
            },
            "marker": {
             "line": {
              "color": "#E5ECF6",
              "width": 0.5
             },
             "pattern": {
              "fillmode": "overlay",
              "size": 10,
              "solidity": 0.2
             }
            },
            "type": "bar"
           }
          ],
          "barpolar": [
           {
            "marker": {
             "line": {
              "color": "#E5ECF6",
              "width": 0.5
             },
             "pattern": {
              "fillmode": "overlay",
              "size": 10,
              "solidity": 0.2
             }
            },
            "type": "barpolar"
           }
          ],
          "carpet": [
           {
            "aaxis": {
             "endlinecolor": "#2a3f5f",
             "gridcolor": "white",
             "linecolor": "white",
             "minorgridcolor": "white",
             "startlinecolor": "#2a3f5f"
            },
            "baxis": {
             "endlinecolor": "#2a3f5f",
             "gridcolor": "white",
             "linecolor": "white",
             "minorgridcolor": "white",
             "startlinecolor": "#2a3f5f"
            },
            "type": "carpet"
           }
          ],
          "choropleth": [
           {
            "colorbar": {
             "outlinewidth": 0,
             "ticks": ""
            },
            "type": "choropleth"
           }
          ],
          "contour": [
           {
            "colorbar": {
             "outlinewidth": 0,
             "ticks": ""
            },
            "colorscale": [
             [
              0,
              "#0d0887"
             ],
             [
              0.1111111111111111,
              "#46039f"
             ],
             [
              0.2222222222222222,
              "#7201a8"
             ],
             [
              0.3333333333333333,
              "#9c179e"
             ],
             [
              0.4444444444444444,
              "#bd3786"
             ],
             [
              0.5555555555555556,
              "#d8576b"
             ],
             [
              0.6666666666666666,
              "#ed7953"
             ],
             [
              0.7777777777777778,
              "#fb9f3a"
             ],
             [
              0.8888888888888888,
              "#fdca26"
             ],
             [
              1,
              "#f0f921"
             ]
            ],
            "type": "contour"
           }
          ],
          "contourcarpet": [
           {
            "colorbar": {
             "outlinewidth": 0,
             "ticks": ""
            },
            "type": "contourcarpet"
           }
          ],
          "heatmap": [
           {
            "colorbar": {
             "outlinewidth": 0,
             "ticks": ""
            },
            "colorscale": [
             [
              0,
              "#0d0887"
             ],
             [
              0.1111111111111111,
              "#46039f"
             ],
             [
              0.2222222222222222,
              "#7201a8"
             ],
             [
              0.3333333333333333,
              "#9c179e"
             ],
             [
              0.4444444444444444,
              "#bd3786"
             ],
             [
              0.5555555555555556,
              "#d8576b"
             ],
             [
              0.6666666666666666,
              "#ed7953"
             ],
             [
              0.7777777777777778,
              "#fb9f3a"
             ],
             [
              0.8888888888888888,
              "#fdca26"
             ],
             [
              1,
              "#f0f921"
             ]
            ],
            "type": "heatmap"
           }
          ],
          "heatmapgl": [
           {
            "colorbar": {
             "outlinewidth": 0,
             "ticks": ""
            },
            "colorscale": [
             [
              0,
              "#0d0887"
             ],
             [
              0.1111111111111111,
              "#46039f"
             ],
             [
              0.2222222222222222,
              "#7201a8"
             ],
             [
              0.3333333333333333,
              "#9c179e"
             ],
             [
              0.4444444444444444,
              "#bd3786"
             ],
             [
              0.5555555555555556,
              "#d8576b"
             ],
             [
              0.6666666666666666,
              "#ed7953"
             ],
             [
              0.7777777777777778,
              "#fb9f3a"
             ],
             [
              0.8888888888888888,
              "#fdca26"
             ],
             [
              1,
              "#f0f921"
             ]
            ],
            "type": "heatmapgl"
           }
          ],
          "histogram": [
           {
            "marker": {
             "pattern": {
              "fillmode": "overlay",
              "size": 10,
              "solidity": 0.2
             }
            },
            "type": "histogram"
           }
          ],
          "histogram2d": [
           {
            "colorbar": {
             "outlinewidth": 0,
             "ticks": ""
            },
            "colorscale": [
             [
              0,
              "#0d0887"
             ],
             [
              0.1111111111111111,
              "#46039f"
             ],
             [
              0.2222222222222222,
              "#7201a8"
             ],
             [
              0.3333333333333333,
              "#9c179e"
             ],
             [
              0.4444444444444444,
              "#bd3786"
             ],
             [
              0.5555555555555556,
              "#d8576b"
             ],
             [
              0.6666666666666666,
              "#ed7953"
             ],
             [
              0.7777777777777778,
              "#fb9f3a"
             ],
             [
              0.8888888888888888,
              "#fdca26"
             ],
             [
              1,
              "#f0f921"
             ]
            ],
            "type": "histogram2d"
           }
          ],
          "histogram2dcontour": [
           {
            "colorbar": {
             "outlinewidth": 0,
             "ticks": ""
            },
            "colorscale": [
             [
              0,
              "#0d0887"
             ],
             [
              0.1111111111111111,
              "#46039f"
             ],
             [
              0.2222222222222222,
              "#7201a8"
             ],
             [
              0.3333333333333333,
              "#9c179e"
             ],
             [
              0.4444444444444444,
              "#bd3786"
             ],
             [
              0.5555555555555556,
              "#d8576b"
             ],
             [
              0.6666666666666666,
              "#ed7953"
             ],
             [
              0.7777777777777778,
              "#fb9f3a"
             ],
             [
              0.8888888888888888,
              "#fdca26"
             ],
             [
              1,
              "#f0f921"
             ]
            ],
            "type": "histogram2dcontour"
           }
          ],
          "mesh3d": [
           {
            "colorbar": {
             "outlinewidth": 0,
             "ticks": ""
            },
            "type": "mesh3d"
           }
          ],
          "parcoords": [
           {
            "line": {
             "colorbar": {
              "outlinewidth": 0,
              "ticks": ""
             }
            },
            "type": "parcoords"
           }
          ],
          "pie": [
           {
            "automargin": true,
            "type": "pie"
           }
          ],
          "scatter": [
           {
            "fillpattern": {
             "fillmode": "overlay",
             "size": 10,
             "solidity": 0.2
            },
            "type": "scatter"
           }
          ],
          "scatter3d": [
           {
            "line": {
             "colorbar": {
              "outlinewidth": 0,
              "ticks": ""
             }
            },
            "marker": {
             "colorbar": {
              "outlinewidth": 0,
              "ticks": ""
             }
            },
            "type": "scatter3d"
           }
          ],
          "scattercarpet": [
           {
            "marker": {
             "colorbar": {
              "outlinewidth": 0,
              "ticks": ""
             }
            },
            "type": "scattercarpet"
           }
          ],
          "scattergeo": [
           {
            "marker": {
             "colorbar": {
              "outlinewidth": 0,
              "ticks": ""
             }
            },
            "type": "scattergeo"
           }
          ],
          "scattergl": [
           {
            "marker": {
             "colorbar": {
              "outlinewidth": 0,
              "ticks": ""
             }
            },
            "type": "scattergl"
           }
          ],
          "scattermapbox": [
           {
            "marker": {
             "colorbar": {
              "outlinewidth": 0,
              "ticks": ""
             }
            },
            "type": "scattermapbox"
           }
          ],
          "scatterpolar": [
           {
            "marker": {
             "colorbar": {
              "outlinewidth": 0,
              "ticks": ""
             }
            },
            "type": "scatterpolar"
           }
          ],
          "scatterpolargl": [
           {
            "marker": {
             "colorbar": {
              "outlinewidth": 0,
              "ticks": ""
             }
            },
            "type": "scatterpolargl"
           }
          ],
          "scatterternary": [
           {
            "marker": {
             "colorbar": {
              "outlinewidth": 0,
              "ticks": ""
             }
            },
            "type": "scatterternary"
           }
          ],
          "surface": [
           {
            "colorbar": {
             "outlinewidth": 0,
             "ticks": ""
            },
            "colorscale": [
             [
              0,
              "#0d0887"
             ],
             [
              0.1111111111111111,
              "#46039f"
             ],
             [
              0.2222222222222222,
              "#7201a8"
             ],
             [
              0.3333333333333333,
              "#9c179e"
             ],
             [
              0.4444444444444444,
              "#bd3786"
             ],
             [
              0.5555555555555556,
              "#d8576b"
             ],
             [
              0.6666666666666666,
              "#ed7953"
             ],
             [
              0.7777777777777778,
              "#fb9f3a"
             ],
             [
              0.8888888888888888,
              "#fdca26"
             ],
             [
              1,
              "#f0f921"
             ]
            ],
            "type": "surface"
           }
          ],
          "table": [
           {
            "cells": {
             "fill": {
              "color": "#EBF0F8"
             },
             "line": {
              "color": "white"
             }
            },
            "header": {
             "fill": {
              "color": "#C8D4E3"
             },
             "line": {
              "color": "white"
             }
            },
            "type": "table"
           }
          ]
         },
         "layout": {
          "annotationdefaults": {
           "arrowcolor": "#2a3f5f",
           "arrowhead": 0,
           "arrowwidth": 1
          },
          "autotypenumbers": "strict",
          "coloraxis": {
           "colorbar": {
            "outlinewidth": 0,
            "ticks": ""
           }
          },
          "colorscale": {
           "diverging": [
            [
             0,
             "#8e0152"
            ],
            [
             0.1,
             "#c51b7d"
            ],
            [
             0.2,
             "#de77ae"
            ],
            [
             0.3,
             "#f1b6da"
            ],
            [
             0.4,
             "#fde0ef"
            ],
            [
             0.5,
             "#f7f7f7"
            ],
            [
             0.6,
             "#e6f5d0"
            ],
            [
             0.7,
             "#b8e186"
            ],
            [
             0.8,
             "#7fbc41"
            ],
            [
             0.9,
             "#4d9221"
            ],
            [
             1,
             "#276419"
            ]
           ],
           "sequential": [
            [
             0,
             "#0d0887"
            ],
            [
             0.1111111111111111,
             "#46039f"
            ],
            [
             0.2222222222222222,
             "#7201a8"
            ],
            [
             0.3333333333333333,
             "#9c179e"
            ],
            [
             0.4444444444444444,
             "#bd3786"
            ],
            [
             0.5555555555555556,
             "#d8576b"
            ],
            [
             0.6666666666666666,
             "#ed7953"
            ],
            [
             0.7777777777777778,
             "#fb9f3a"
            ],
            [
             0.8888888888888888,
             "#fdca26"
            ],
            [
             1,
             "#f0f921"
            ]
           ],
           "sequentialminus": [
            [
             0,
             "#0d0887"
            ],
            [
             0.1111111111111111,
             "#46039f"
            ],
            [
             0.2222222222222222,
             "#7201a8"
            ],
            [
             0.3333333333333333,
             "#9c179e"
            ],
            [
             0.4444444444444444,
             "#bd3786"
            ],
            [
             0.5555555555555556,
             "#d8576b"
            ],
            [
             0.6666666666666666,
             "#ed7953"
            ],
            [
             0.7777777777777778,
             "#fb9f3a"
            ],
            [
             0.8888888888888888,
             "#fdca26"
            ],
            [
             1,
             "#f0f921"
            ]
           ]
          },
          "colorway": [
           "#636efa",
           "#EF553B",
           "#00cc96",
           "#ab63fa",
           "#FFA15A",
           "#19d3f3",
           "#FF6692",
           "#B6E880",
           "#FF97FF",
           "#FECB52"
          ],
          "font": {
           "color": "#2a3f5f"
          },
          "geo": {
           "bgcolor": "white",
           "lakecolor": "white",
           "landcolor": "#E5ECF6",
           "showlakes": true,
           "showland": true,
           "subunitcolor": "white"
          },
          "hoverlabel": {
           "align": "left"
          },
          "hovermode": "closest",
          "mapbox": {
           "style": "light"
          },
          "paper_bgcolor": "white",
          "plot_bgcolor": "#E5ECF6",
          "polar": {
           "angularaxis": {
            "gridcolor": "white",
            "linecolor": "white",
            "ticks": ""
           },
           "bgcolor": "#E5ECF6",
           "radialaxis": {
            "gridcolor": "white",
            "linecolor": "white",
            "ticks": ""
           }
          },
          "scene": {
           "xaxis": {
            "backgroundcolor": "#E5ECF6",
            "gridcolor": "white",
            "gridwidth": 2,
            "linecolor": "white",
            "showbackground": true,
            "ticks": "",
            "zerolinecolor": "white"
           },
           "yaxis": {
            "backgroundcolor": "#E5ECF6",
            "gridcolor": "white",
            "gridwidth": 2,
            "linecolor": "white",
            "showbackground": true,
            "ticks": "",
            "zerolinecolor": "white"
           },
           "zaxis": {
            "backgroundcolor": "#E5ECF6",
            "gridcolor": "white",
            "gridwidth": 2,
            "linecolor": "white",
            "showbackground": true,
            "ticks": "",
            "zerolinecolor": "white"
           }
          },
          "shapedefaults": {
           "line": {
            "color": "#2a3f5f"
           }
          },
          "ternary": {
           "aaxis": {
            "gridcolor": "white",
            "linecolor": "white",
            "ticks": ""
           },
           "baxis": {
            "gridcolor": "white",
            "linecolor": "white",
            "ticks": ""
           },
           "bgcolor": "#E5ECF6",
           "caxis": {
            "gridcolor": "white",
            "linecolor": "white",
            "ticks": ""
           }
          },
          "title": {
           "x": 0.05
          },
          "xaxis": {
           "automargin": true,
           "gridcolor": "white",
           "linecolor": "white",
           "ticks": "",
           "title": {
            "standoff": 15
           },
           "zerolinecolor": "white",
           "zerolinewidth": 2
          },
          "yaxis": {
           "automargin": true,
           "gridcolor": "white",
           "linecolor": "white",
           "ticks": "",
           "title": {
            "standoff": 15
           },
           "zerolinecolor": "white",
           "zerolinewidth": 2
          }
         }
        },
        "title": {
         "font": {
          "size": 20
         },
         "text": " IMDB year",
         "x": 0.2
        },
        "xaxis": {
         "anchor": "y",
         "domain": [
          0,
          1
         ],
         "showgrid": false,
         "title": {
          "text": "Year"
         }
        },
        "yaxis": {
         "anchor": "x",
         "domain": [
          0,
          1
         ],
         "showgrid": false,
         "title": {
          "text": "Probability "
         }
        }
       }
      }
     },
     "metadata": {},
     "output_type": "display_data"
    }
   ],
   "source": [
    "color = [\"#FF6633\", \"#FFB399\", \"#FF33FF\", \"#FFFF99\", \"#00B3E6\"]\n",
    "colors = [\"#FF33FF\"]\n",
    "fig=px.histogram(df,x='Year',histnorm='probability',color_discrete_sequence=colors)\n",
    "fig.update_layout(title=' IMDB year', title_x=0.2, title_font=dict(size=20), \n",
    "                  xaxis_title='Year', yaxis_title='Probability ', \n",
    "                  xaxis=dict(showgrid=False), yaxis=dict(showgrid=False),\n",
    "                    bargap=0.03, \n",
    "                    plot_bgcolor = 'slategrey')\n",
    "fig\n"
   ]
  },
  {
   "cell_type": "markdown",
   "metadata": {},
   "source": [
    "**Duration**"
   ]
  },
  {
   "cell_type": "code",
   "execution_count": 445,
   "metadata": {},
   "outputs": [
    {
     "data": {
      "application/vnd.plotly.v1+json": {
       "config": {
        "plotlyServerURL": "https://plotly.com"
       },
       "data": [
        {
         "alignmentgroup": "True",
         "bingroup": "x",
         "histnorm": "probability",
         "hovertemplate": "Genre=Drama<br>Duration m=%{x}<br>probability=%{y}<extra></extra>",
         "legendgroup": "Drama",
         "marker": {
          "color": "#636efa",
          "pattern": {
           "shape": ""
          }
         },
         "name": "Drama",
         "nbinsx": 60,
         "offsetgroup": "Drama",
         "orientation": "v",
         "showlegend": true,
         "type": "histogram",
         "x": [
          109,
          96,
          116,
          168,
          94,
          115,
          100,
          93,
          92,
          105,
          145,
          127,
          104,
          121,
          120,
          107,
          154,
          78,
          116,
          153,
          130,
          160,
          144,
          94,
          129,
          120,
          146,
          132,
          172,
          132,
          133,
          132,
          88,
          150,
          122,
          145,
          120,
          115,
          104,
          136,
          160,
          124,
          100,
          109,
          120,
          166,
          121,
          135,
          102,
          113,
          131,
          153,
          148,
          134,
          125,
          160,
          84,
          125,
          122,
          90,
          118,
          97,
          128,
          109,
          127,
          152,
          149,
          96,
          144,
          150,
          149,
          101,
          140,
          117,
          127,
          48,
          120,
          138,
          146,
          129,
          123,
          100,
          103,
          91,
          137,
          170,
          156,
          147,
          133,
          132,
          117,
          145,
          108,
          148,
          161,
          125,
          125,
          125,
          88,
          135,
          136,
          136,
          164,
          83,
          74,
          143,
          128,
          100,
          96,
          93,
          140,
          142,
          141,
          74,
          138,
          131,
          91,
          139,
          145,
          100,
          122,
          125,
          127,
          136,
          114,
          116,
          95,
          120,
          131,
          165,
          136,
          130,
          108,
          149,
          137,
          166,
          140,
          128,
          207,
          109,
          147,
          156,
          123,
          88,
          85,
          102,
          90,
          141,
          155,
          127,
          110,
          155,
          135,
          90,
          114,
          108,
          135,
          137,
          90,
          92,
          140,
          142,
          116,
          120,
          119,
          139,
          89,
          97,
          145,
          149,
          106,
          145,
          152,
          146,
          113,
          128,
          125,
          180,
          137,
          75,
          91,
          100,
          98,
          141,
          130,
          87,
          117,
          79,
          146,
          148,
          150,
          100,
          153,
          126,
          129,
          152,
          97,
          120,
          148,
          130,
          155,
          131,
          153,
          130,
          144,
          99,
          138,
          147,
          130,
          92,
          124,
          120,
          171,
          120,
          160,
          166,
          116,
          110,
          153,
          177,
          123,
          115,
          120,
          137,
          147,
          100,
          133,
          122,
          139,
          105,
          137,
          100,
          105,
          136,
          135,
          115,
          73,
          164,
          120,
          151,
          97,
          94,
          133,
          102,
          104,
          139,
          134,
          145,
          80,
          84,
          97,
          84,
          106,
          160,
          109,
          180,
          104,
          127,
          119,
          107,
          128,
          112,
          157,
          145,
          134,
          124,
          102,
          129,
          146,
          90,
          151,
          150,
          105,
          153,
          156,
          155,
          158,
          157,
          103,
          126,
          110,
          140,
          155,
          64,
          139,
          125,
          152,
          102,
          102,
          128,
          108,
          121,
          109,
          133,
          93,
          170,
          186,
          120,
          135,
          149,
          106,
          127,
          172,
          143,
          121,
          144,
          137,
          134,
          142,
          135,
          149,
          95,
          100,
          127,
          143,
          143,
          121,
          144,
          116,
          108,
          131,
          127,
          140,
          131,
          139,
          94,
          112,
          90,
          131,
          126,
          139,
          120,
          143,
          124,
          173,
          93,
          132,
          139,
          140,
          104,
          93,
          142,
          154,
          147,
          144,
          100,
          115,
          149,
          93,
          128,
          109,
          90,
          144,
          73,
          101,
          138,
          132,
          95,
          137,
          95,
          93,
          132,
          127,
          112,
          70,
          124,
          120,
          95,
          88,
          113,
          103,
          99,
          96,
          121,
          110,
          125,
          100,
          106,
          92,
          145,
          82,
          91,
          158,
          120,
          100,
          84,
          137,
          143,
          142,
          124,
          143,
          137,
          85,
          125,
          140,
          130,
          92,
          105,
          65,
          104,
          86,
          133,
          148,
          92,
          108,
          90,
          137,
          125,
          81,
          85,
          108,
          103,
          120,
          122,
          91,
          156,
          127,
          148,
          151,
          152,
          116,
          130,
          82,
          167,
          160,
          130,
          120,
          180,
          136,
          106,
          130,
          90,
          199,
          112,
          100,
          109,
          118,
          99,
          130,
          107,
          154,
          124,
          96,
          80,
          155,
          140,
          153,
          162,
          99,
          104,
          120,
          150,
          162,
          140,
          164,
          140,
          161,
          122,
          90,
          146,
          98,
          130,
          161,
          148,
          90,
          102,
          104,
          143,
          130,
          100,
          93,
          105,
          85,
          108,
          119,
          114,
          155,
          95,
          142,
          140,
          156,
          135,
          130,
          134,
          77,
          133,
          134,
          104,
          122,
          165,
          120,
          156,
          128,
          121,
          146,
          146,
          125,
          150,
          132,
          130,
          147,
          104,
          99,
          118,
          122,
          140,
          154,
          133,
          100,
          128,
          95,
          110,
          138,
          108,
          155,
          105,
          80,
          118,
          117,
          92,
          101,
          150,
          114,
          141,
          98,
          129,
          135,
          145,
          138,
          98,
          83,
          116,
          129,
          120,
          125,
          139,
          110,
          120,
          83,
          157,
          152,
          141,
          142,
          122,
          127,
          120,
          138,
          188,
          175,
          130,
          85,
          110,
          138,
          120,
          83,
          125,
          121,
          121,
          135,
          110,
          97,
          159,
          137,
          116,
          133,
          161,
          85,
          122,
          149,
          70,
          139,
          151,
          90,
          111,
          122,
          104,
          140,
          157,
          122,
          80,
          125,
          80,
          80,
          159,
          145,
          158,
          117,
          95,
          50,
          107,
          100,
          128,
          117,
          135,
          150,
          153,
          110,
          137,
          83,
          117,
          130,
          150,
          54,
          109,
          137,
          129,
          120,
          132,
          120,
          149,
          128,
          162,
          126,
          129,
          128,
          165,
          155,
          100,
          157,
          116,
          106,
          118,
          126,
          148,
          114,
          152,
          175,
          144,
          135,
          185,
          47,
          130,
          140,
          127,
          90,
          99,
          76,
          155,
          130,
          115,
          144,
          113,
          120,
          110,
          162,
          139,
          100,
          147,
          170,
          125,
          132,
          95,
          93,
          90,
          99,
          142,
          96,
          105,
          134,
          135,
          133,
          94,
          140,
          153,
          114,
          135,
          135,
          100,
          105,
          143,
          127,
          121,
          140,
          189,
          90,
          160,
          151,
          104,
          135,
          121,
          182,
          127,
          115,
          144,
          120,
          110,
          171,
          122,
          104,
          120,
          143,
          153,
          148,
          73,
          142,
          90,
          134,
          144,
          125,
          93,
          138,
          87,
          95,
          92,
          110,
          89,
          102,
          100,
          98,
          90,
          89,
          141,
          115,
          113,
          96,
          91,
          119,
          87,
          140,
          150,
          137,
          121,
          155,
          94,
          151,
          135,
          136,
          87,
          107,
          130,
          137,
          114,
          120,
          96,
          134,
          135,
          72,
          145,
          151,
          93,
          125,
          106,
          112,
          110,
          153,
          85,
          101,
          98,
          93,
          136,
          127,
          118,
          120,
          151,
          82,
          110,
          143,
          150,
          125,
          130,
          79,
          117,
          110,
          108,
          78,
          92,
          115,
          112,
          94,
          93,
          128,
          77,
          129,
          117,
          147,
          140,
          133,
          84,
          124,
          125,
          115,
          140,
          136,
          112,
          131,
          134,
          140,
          100,
          115
         ],
         "xaxis": "x",
         "yaxis": "y"
        },
        {
         "alignmentgroup": "True",
         "bingroup": "x",
         "histnorm": "probability",
         "hovertemplate": "Genre=Comedy, Romance<br>Duration m=%{x}<br>probability=%{y}<extra></extra>",
         "legendgroup": "Comedy, Romance",
         "marker": {
          "color": "#EF553B",
          "pattern": {
           "shape": ""
          }
         },
         "name": "Comedy, Romance",
         "nbinsx": 60,
         "offsetgroup": "Comedy, Romance",
         "orientation": "v",
         "showlegend": true,
         "type": "histogram",
         "x": [
          110,
          114,
          109,
          153,
          121,
          132,
          152,
          116,
          146,
          110,
          178,
          124,
          108,
          128,
          112,
          107,
          156,
          131,
          136,
          123,
          117,
          140,
          141,
          155,
          134,
          124,
          130,
          98,
          132,
          162,
          137,
          144,
          114,
          134,
          144,
          126,
          135,
          123,
          141,
          151,
          144,
          141,
          118,
          127,
          130,
          95,
          134,
          118,
          137,
          148,
          140,
          133,
          151,
          135,
          158,
          126,
          133,
          140,
          146,
          125,
          109,
          140,
          116,
          133,
          120,
          133,
          126,
          144,
          130,
          156,
          163,
          120,
          112,
          135,
          137,
          140,
          129,
          125,
          116,
          150,
          114,
          105,
          116,
          145,
          129,
          152,
          119,
          117,
          138,
          89,
          80,
          160,
          111,
          148,
          134,
          240,
          131,
          126,
          124,
          159
         ],
         "xaxis": "x",
         "yaxis": "y"
        },
        {
         "alignmentgroup": "True",
         "bingroup": "x",
         "histnorm": "probability",
         "hovertemplate": "Genre=Comedy, Drama, Musical<br>Duration m=%{x}<br>probability=%{y}<extra></extra>",
         "legendgroup": "Comedy, Drama, Musical",
         "marker": {
          "color": "#00cc96",
          "pattern": {
           "shape": ""
          }
         },
         "name": "Comedy, Drama, Musical",
         "nbinsx": 60,
         "offsetgroup": "Comedy, Drama, Musical",
         "orientation": "v",
         "showlegend": true,
         "type": "histogram",
         "x": [
          147,
          151,
          155,
          157,
          122,
          160,
          180,
          135,
          162,
          173,
          134,
          206,
          177,
          165,
          139,
          138,
          171,
          186,
          177,
          130,
          160,
          197,
          118,
          158,
          176,
          158,
          160,
          153,
          166,
          123,
          146,
          142,
          216,
          149,
          160,
          144,
          159,
          155,
          163,
          151
         ],
         "xaxis": "x",
         "yaxis": "y"
        },
        {
         "alignmentgroup": "True",
         "bingroup": "x",
         "histnorm": "probability",
         "hovertemplate": "Genre=Drama, Romance, War<br>Duration m=%{x}<br>probability=%{y}<extra></extra>",
         "legendgroup": "Drama, Romance, War",
         "marker": {
          "color": "#ab63fa",
          "pattern": {
           "shape": ""
          }
         },
         "name": "Drama, Romance, War",
         "nbinsx": 60,
         "offsetgroup": "Drama, Romance, War",
         "orientation": "v",
         "showlegend": true,
         "type": "histogram",
         "x": [
          142,
          110,
          175,
          150
         ],
         "xaxis": "x",
         "yaxis": "y"
        },
        {
         "alignmentgroup": "True",
         "bingroup": "x",
         "histnorm": "probability",
         "hovertemplate": "Genre=Horror, Mystery, Thriller<br>Duration m=%{x}<br>probability=%{y}<extra></extra>",
         "legendgroup": "Horror, Mystery, Thriller",
         "marker": {
          "color": "#FFA15A",
          "pattern": {
           "shape": ""
          }
         },
         "name": "Horror, Mystery, Thriller",
         "nbinsx": 60,
         "offsetgroup": "Horror, Mystery, Thriller",
         "orientation": "v",
         "showlegend": true,
         "type": "histogram",
         "x": [
          82,
          136,
          85,
          99,
          90,
          117,
          180
         ],
         "xaxis": "x",
         "yaxis": "y"
        },
        {
         "alignmentgroup": "True",
         "bingroup": "x",
         "histnorm": "probability",
         "hovertemplate": "Genre=Action, Crime, Thriller<br>Duration m=%{x}<br>probability=%{y}<extra></extra>",
         "legendgroup": "Action, Crime, Thriller",
         "marker": {
          "color": "#19d3f3",
          "pattern": {
           "shape": ""
          }
         },
         "name": "Action, Crime, Thriller",
         "nbinsx": 60,
         "offsetgroup": "Action, Crime, Thriller",
         "orientation": "v",
         "showlegend": true,
         "type": "histogram",
         "x": [
          116,
          122,
          157,
          106,
          144,
          122,
          147,
          128,
          137,
          105,
          91,
          141,
          148,
          147,
          170,
          147,
          160,
          165,
          159,
          136,
          124,
          163,
          133,
          135,
          153,
          126,
          152,
          162,
          102,
          130,
          140,
          142
         ],
         "xaxis": "x",
         "yaxis": "y"
        },
        {
         "alignmentgroup": "True",
         "bingroup": "x",
         "histnorm": "probability",
         "hovertemplate": "Genre=Horror<br>Duration m=%{x}<br>probability=%{y}<extra></extra>",
         "legendgroup": "Horror",
         "marker": {
          "color": "#FF6692",
          "pattern": {
           "shape": ""
          }
         },
         "name": "Horror",
         "nbinsx": 60,
         "offsetgroup": "Horror",
         "orientation": "v",
         "showlegend": true,
         "type": "histogram",
         "x": [
          120,
          102,
          145,
          104,
          72,
          145,
          78,
          133,
          110,
          84,
          105,
          113,
          95,
          85,
          129,
          98,
          104,
          76,
          121,
          108,
          127,
          92,
          137,
          87,
          126,
          129,
          102,
          115,
          91,
          112,
          98,
          147,
          117,
          87,
          127,
          130,
          97,
          120,
          120,
          95,
          130,
          131,
          125,
          95,
          99,
          107,
          114,
          139,
          106,
          100,
          96,
          127,
          119,
          128,
          116,
          119,
          79,
          128,
          110,
          52,
          97,
          119,
          137,
          96,
          90,
          82,
          117,
          125
         ],
         "xaxis": "x",
         "yaxis": "y"
        },
        {
         "alignmentgroup": "True",
         "bingroup": "x",
         "histnorm": "probability",
         "hovertemplate": "Genre=Comedy, Drama, Romance<br>Duration m=%{x}<br>probability=%{y}<extra></extra>",
         "legendgroup": "Comedy, Drama, Romance",
         "marker": {
          "color": "#B6E880",
          "pattern": {
           "shape": ""
          }
         },
         "name": "Comedy, Drama, Romance",
         "nbinsx": 60,
         "offsetgroup": "Comedy, Drama, Romance",
         "orientation": "v",
         "showlegend": true,
         "type": "histogram",
         "x": [
          166,
          87,
          149,
          119,
          126,
          126,
          110,
          126,
          100,
          160,
          113,
          130,
          152,
          146,
          156,
          139,
          167,
          111,
          139,
          151,
          130,
          119,
          157,
          159,
          118,
          145,
          136,
          140,
          140,
          90,
          164,
          146,
          146,
          118,
          122,
          135,
          140,
          152,
          130,
          123,
          101,
          148,
          183,
          170,
          151,
          143,
          152,
          158,
          110,
          146,
          140,
          120,
          110,
          136,
          139,
          125,
          150,
          110,
          107,
          118,
          163,
          143,
          165,
          133,
          159,
          153,
          156,
          85,
          129,
          118,
          139,
          155,
          143,
          138,
          103,
          111,
          142,
          174,
          169,
          135,
          158,
          135,
          119,
          142,
          153,
          142,
          120,
          169,
          134,
          120,
          165,
          144,
          125,
          132,
          107,
          156,
          130,
          101,
          147,
          129,
          145,
          161,
          178,
          109,
          139,
          128,
          113,
          163,
          101,
          164,
          158,
          117,
          114,
          106,
          114,
          106,
          119,
          95,
          141,
          128,
          119,
          130,
          139,
          124,
          150,
          165,
          138,
          155,
          155,
          138,
          120,
          153,
          148,
          149,
          137,
          132,
          156,
          162,
          180,
          130,
          158,
          139,
          152,
          144,
          180,
          155,
          141,
          150,
          137,
          128,
          154,
          131,
          164,
          161,
          116,
          113,
          128,
          160,
          159,
          120,
          130,
          117,
          122,
          134,
          108,
          108,
          121,
          151,
          138,
          195,
          154,
          165,
          164
         ],
         "xaxis": "x",
         "yaxis": "y"
        },
        {
         "alignmentgroup": "True",
         "bingroup": "x",
         "histnorm": "probability",
         "hovertemplate": "Genre=Comedy, Drama<br>Duration m=%{x}<br>probability=%{y}<extra></extra>",
         "legendgroup": "Comedy, Drama",
         "marker": {
          "color": "#FF97FF",
          "pattern": {
           "shape": ""
          }
         },
         "name": "Comedy, Drama",
         "nbinsx": 60,
         "offsetgroup": "Comedy, Drama",
         "orientation": "v",
         "showlegend": true,
         "type": "histogram",
         "x": [
          102,
          170,
          136,
          81,
          117,
          129,
          145,
          121,
          107,
          142,
          104,
          124,
          83,
          135,
          123,
          135,
          95,
          129,
          96,
          137,
          149,
          78,
          115,
          60,
          155,
          111,
          121,
          136,
          143,
          115,
          100,
          149,
          95,
          104,
          128,
          154,
          102,
          113,
          138,
          88,
          122,
          131,
          120,
          121,
          112,
          135,
          126,
          126,
          112,
          119,
          120,
          138,
          98,
          141,
          132,
          145,
          120,
          158,
          109,
          114,
          100,
          139,
          95,
          110,
          124,
          124,
          120,
          135,
          134,
          104,
          130,
          144,
          116,
          132,
          124,
          120,
          130,
          102,
          107,
          131,
          126,
          118,
          158,
          135,
          168,
          119,
          56,
          112,
          135,
          137,
          148,
          141,
          119,
          116,
          136,
          97,
          146,
          143,
          137,
          155,
          74,
          119,
          117,
          141,
          106,
          128,
          121,
          144,
          167,
          151,
          137,
          127,
          160,
          224,
          112,
          117,
          105,
          91,
          150,
          138,
          142,
          111,
          121,
          156,
          135,
          122,
          140,
          140,
          108,
          126,
          106,
          107,
          105,
          130,
          109,
          123,
          133,
          140,
          114,
          188,
          165,
          109,
          95,
          125,
          96,
          113,
          123,
          137,
          129,
          104,
          106,
          127,
          115,
          123,
          150,
          102,
          134,
          120,
          108,
          114,
          89,
          125,
          100,
          142,
          138,
          76,
          162,
          127,
          153,
          110,
          130,
          122,
          128,
          170,
          121,
          122,
          106,
          107,
          117,
          122,
          155,
          128,
          150,
          120,
          117,
          98,
          120,
          138,
          111,
          190,
          92,
          118,
          133,
          95,
          133,
          119,
          175,
          130,
          155
         ],
         "xaxis": "x",
         "yaxis": "y"
        },
        {
         "alignmentgroup": "True",
         "bingroup": "x",
         "histnorm": "probability",
         "hovertemplate": "Genre=Comedy, Horror<br>Duration m=%{x}<br>probability=%{y}<extra></extra>",
         "legendgroup": "Comedy, Horror",
         "marker": {
          "color": "#FECB52",
          "pattern": {
           "shape": ""
          }
         },
         "name": "Comedy, Horror",
         "nbinsx": 60,
         "offsetgroup": "Comedy, Horror",
         "orientation": "v",
         "showlegend": true,
         "type": "histogram",
         "x": [
          116,
          128,
          132,
          138
         ],
         "xaxis": "x",
         "yaxis": "y"
        },
        {
         "alignmentgroup": "True",
         "bingroup": "x",
         "histnorm": "probability",
         "hovertemplate": "Genre=Action, Thriller<br>Duration m=%{x}<br>probability=%{y}<extra></extra>",
         "legendgroup": "Action, Thriller",
         "marker": {
          "color": "#636efa",
          "pattern": {
           "shape": ""
          }
         },
         "name": "Action, Thriller",
         "nbinsx": 60,
         "offsetgroup": "Action, Thriller",
         "orientation": "v",
         "showlegend": true,
         "type": "histogram",
         "x": [
          158,
          138,
          147,
          148,
          126,
          177,
          113,
          125,
          140,
          141,
          159,
          139,
          107,
          153,
          150,
          150,
          159,
          131,
          153,
          140,
          119,
          135,
          158,
          139,
          153,
          150,
          131,
          116,
          129,
          165,
          117,
          130,
          160,
          126,
          134,
          137,
          124,
          123,
          90,
          130,
          126,
          128,
          150,
          131,
          137,
          147,
          135,
          145,
          164,
          114,
          95,
          130,
          143,
          110,
          142,
          132,
          146,
          148,
          145,
          133,
          95,
          136,
          153
         ],
         "xaxis": "x",
         "yaxis": "y"
        },
        {
         "alignmentgroup": "True",
         "bingroup": "x",
         "histnorm": "probability",
         "hovertemplate": "Genre=Horror, Mystery<br>Duration m=%{x}<br>probability=%{y}<extra></extra>",
         "legendgroup": "Horror, Mystery",
         "marker": {
          "color": "#EF553B",
          "pattern": {
           "shape": ""
          }
         },
         "name": "Horror, Mystery",
         "nbinsx": 60,
         "offsetgroup": "Horror, Mystery",
         "orientation": "v",
         "showlegend": true,
         "type": "histogram",
         "x": [
          120,
          150,
          106,
          135,
          124,
          143,
          77,
          110,
          125,
          163,
          106
         ],
         "xaxis": "x",
         "yaxis": "y"
        },
        {
         "alignmentgroup": "True",
         "bingroup": "x",
         "histnorm": "probability",
         "hovertemplate": "Genre=Drama, Horror, Romance<br>Duration m=%{x}<br>probability=%{y}<extra></extra>",
         "legendgroup": "Drama, Horror, Romance",
         "marker": {
          "color": "#00cc96",
          "pattern": {
           "shape": ""
          }
         },
         "name": "Drama, Horror, Romance",
         "nbinsx": 60,
         "offsetgroup": "Drama, Horror, Romance",
         "orientation": "v",
         "showlegend": true,
         "type": "histogram",
         "x": [
          124,
          103,
          140,
          128,
          122
         ],
         "xaxis": "x",
         "yaxis": "y"
        },
        {
         "alignmentgroup": "True",
         "bingroup": "x",
         "histnorm": "probability",
         "hovertemplate": "Genre=Action, Drama, History<br>Duration m=%{x}<br>probability=%{y}<extra></extra>",
         "legendgroup": "Action, Drama, History",
         "marker": {
          "color": "#ab63fa",
          "pattern": {
           "shape": ""
          }
         },
         "name": "Action, Drama, History",
         "nbinsx": 60,
         "offsetgroup": "Action, Drama, History",
         "orientation": "v",
         "showlegend": true,
         "type": "histogram",
         "x": [
          157,
          109,
          158,
          128,
          176,
          142,
          123,
          213,
          176,
          150,
          168,
          101,
          150,
          165,
          129,
          135,
          170,
          100
         ],
         "xaxis": "x",
         "yaxis": "y"
        },
        {
         "alignmentgroup": "True",
         "bingroup": "x",
         "histnorm": "probability",
         "hovertemplate": "Genre=Thriller<br>Duration m=%{x}<br>probability=%{y}<extra></extra>",
         "legendgroup": "Thriller",
         "marker": {
          "color": "#FFA15A",
          "pattern": {
           "shape": ""
          }
         },
         "name": "Thriller",
         "nbinsx": 60,
         "offsetgroup": "Thriller",
         "orientation": "v",
         "showlegend": true,
         "type": "histogram",
         "x": [
          107,
          111,
          112,
          180,
          58,
          97,
          103,
          120,
          118,
          127,
          89,
          120,
          124,
          102,
          106,
          136,
          140,
          107,
          90,
          102,
          95,
          138,
          140,
          120,
          118,
          136,
          125,
          130,
          115,
          119,
          134,
          141,
          130,
          123,
          134,
          90,
          113,
          133,
          127,
          94,
          138,
          142,
          113,
          112,
          113,
          95,
          122,
          129,
          126,
          134,
          120,
          120,
          93,
          101,
          89,
          131,
          123,
          90,
          104,
          126,
          67,
          100,
          155,
          116,
          121,
          118,
          122,
          140,
          110,
          105,
          124,
          158,
          142,
          97,
          151,
          132
         ],
         "xaxis": "x",
         "yaxis": "y"
        },
        {
         "alignmentgroup": "True",
         "bingroup": "x",
         "histnorm": "probability",
         "hovertemplate": "Genre=Comedy<br>Duration m=%{x}<br>probability=%{y}<extra></extra>",
         "legendgroup": "Comedy",
         "marker": {
          "color": "#19d3f3",
          "pattern": {
           "shape": ""
          }
         },
         "name": "Comedy",
         "nbinsx": 60,
         "offsetgroup": "Comedy",
         "orientation": "v",
         "showlegend": true,
         "type": "histogram",
         "x": [
          113,
          130,
          122,
          128,
          78,
          136,
          149,
          169,
          91,
          173,
          135,
          155,
          142,
          65,
          138,
          148,
          95,
          120,
          133,
          120,
          136,
          128,
          115,
          115,
          120,
          122,
          131,
          126,
          93,
          119,
          126,
          130,
          126,
          92,
          111,
          127,
          95,
          130,
          107,
          130,
          110,
          155,
          110,
          129,
          139,
          104,
          130,
          143,
          147,
          132,
          140,
          117,
          86,
          112,
          85,
          141,
          120,
          138,
          108,
          134,
          90,
          130,
          132,
          136,
          120,
          125,
          117,
          136,
          135,
          102,
          102,
          47,
          130,
          104,
          126,
          120,
          118,
          125,
          155,
          93,
          139,
          133,
          136,
          134,
          109,
          136,
          120,
          119,
          103,
          155,
          140,
          112,
          107,
          121,
          143,
          124,
          136,
          87,
          161,
          92,
          113,
          108,
          130,
          126,
          132,
          129,
          117,
          140,
          145,
          127,
          146,
          137,
          130,
          96,
          119,
          103,
          180,
          108,
          87,
          119,
          95,
          146,
          128,
          128,
          136,
          160,
          89,
          162,
          123,
          88,
          131,
          143,
          120,
          139,
          128,
          126,
          138,
          135,
          130,
          180,
          162,
          88,
          139,
          139,
          135,
          134,
          129,
          140,
          73,
          122,
          127,
          115,
          153,
          110,
          139,
          160,
          107,
          125,
          110,
          90,
          124,
          124,
          92,
          100,
          123,
          120,
          135,
          144,
          116,
          135,
          152,
          115,
          117,
          92,
          141,
          117
         ],
         "xaxis": "x",
         "yaxis": "y"
        },
        {
         "alignmentgroup": "True",
         "bingroup": "x",
         "histnorm": "probability",
         "hovertemplate": "Genre=Adventure, Horror, Mystery<br>Duration m=%{x}<br>probability=%{y}<extra></extra>",
         "legendgroup": "Adventure, Horror, Mystery",
         "marker": {
          "color": "#FF6692",
          "pattern": {
           "shape": ""
          }
         },
         "name": "Adventure, Horror, Mystery",
         "nbinsx": 60,
         "offsetgroup": "Adventure, Horror, Mystery",
         "orientation": "v",
         "showlegend": true,
         "type": "histogram",
         "x": [
          80,
          126
         ],
         "xaxis": "x",
         "yaxis": "y"
        },
        {
         "alignmentgroup": "True",
         "bingroup": "x",
         "histnorm": "probability",
         "hovertemplate": "Genre=Crime, Mystery, Thriller<br>Duration m=%{x}<br>probability=%{y}<extra></extra>",
         "legendgroup": "Crime, Mystery, Thriller",
         "marker": {
          "color": "#B6E880",
          "pattern": {
           "shape": ""
          }
         },
         "name": "Crime, Mystery, Thriller",
         "nbinsx": 60,
         "offsetgroup": "Crime, Mystery, Thriller",
         "orientation": "v",
         "showlegend": true,
         "type": "histogram",
         "x": [
          149,
          105,
          113,
          136,
          111,
          117
         ],
         "xaxis": "x",
         "yaxis": "y"
        },
        {
         "alignmentgroup": "True",
         "bingroup": "x",
         "histnorm": "probability",
         "hovertemplate": "Genre=Drama, History<br>Duration m=%{x}<br>probability=%{y}<extra></extra>",
         "legendgroup": "Drama, History",
         "marker": {
          "color": "#FF97FF",
          "pattern": {
           "shape": ""
          }
         },
         "name": "Drama, History",
         "nbinsx": 60,
         "offsetgroup": "Drama, History",
         "orientation": "v",
         "showlegend": true,
         "type": "histogram",
         "x": [
          121,
          130,
          170,
          125,
          97,
          124,
          118,
          140,
          92,
          155,
          130,
          120,
          116,
          105,
          126,
          140,
          75
         ],
         "xaxis": "x",
         "yaxis": "y"
        },
        {
         "alignmentgroup": "True",
         "bingroup": "x",
         "histnorm": "probability",
         "hovertemplate": "Genre=Sport<br>Duration m=%{x}<br>probability=%{y}<extra></extra>",
         "legendgroup": "Sport",
         "marker": {
          "color": "#FECB52",
          "pattern": {
           "shape": ""
          }
         },
         "name": "Sport",
         "nbinsx": 60,
         "offsetgroup": "Sport",
         "orientation": "v",
         "showlegend": true,
         "type": "histogram",
         "x": [
          126,
          128
         ],
         "xaxis": "x",
         "yaxis": "y"
        },
        {
         "alignmentgroup": "True",
         "bingroup": "x",
         "histnorm": "probability",
         "hovertemplate": "Genre=Biography, Drama, History<br>Duration m=%{x}<br>probability=%{y}<extra></extra>",
         "legendgroup": "Biography, Drama, History",
         "marker": {
          "color": "#636efa",
          "pattern": {
           "shape": ""
          }
         },
         "name": "Biography, Drama, History",
         "nbinsx": 60,
         "offsetgroup": "Biography, Drama, History",
         "orientation": "v",
         "showlegend": true,
         "type": "histogram",
         "x": [
          188,
          176,
          146,
          100,
          97,
          128,
          208,
          175,
          173,
          130,
          106,
          153
         ],
         "xaxis": "x",
         "yaxis": "y"
        },
        {
         "alignmentgroup": "True",
         "bingroup": "x",
         "histnorm": "probability",
         "hovertemplate": "Genre=Horror, Romance<br>Duration m=%{x}<br>probability=%{y}<extra></extra>",
         "legendgroup": "Horror, Romance",
         "marker": {
          "color": "#EF553B",
          "pattern": {
           "shape": ""
          }
         },
         "name": "Horror, Romance",
         "nbinsx": 60,
         "offsetgroup": "Horror, Romance",
         "orientation": "v",
         "showlegend": true,
         "type": "histogram",
         "x": [
          103,
          112,
          101
         ],
         "xaxis": "x",
         "yaxis": "y"
        },
        {
         "alignmentgroup": "True",
         "bingroup": "x",
         "histnorm": "probability",
         "hovertemplate": "Genre=Crime, Drama<br>Duration m=%{x}<br>probability=%{y}<extra></extra>",
         "legendgroup": "Crime, Drama",
         "marker": {
          "color": "#00cc96",
          "pattern": {
           "shape": ""
          }
         },
         "name": "Crime, Drama",
         "nbinsx": 60,
         "offsetgroup": "Crime, Drama",
         "orientation": "v",
         "showlegend": true,
         "type": "histogram",
         "x": [
          115,
          90,
          148,
          130,
          93,
          114,
          130,
          165,
          97,
          150,
          145,
          175,
          120,
          136,
          105,
          150,
          110,
          142,
          146,
          129,
          149,
          150,
          129,
          137,
          140,
          111,
          127,
          120,
          113,
          111,
          153,
          112,
          97,
          103,
          157,
          120,
          135,
          125,
          138,
          142,
          121,
          120
         ],
         "xaxis": "x",
         "yaxis": "y"
        },
        {
         "alignmentgroup": "True",
         "bingroup": "x",
         "histnorm": "probability",
         "hovertemplate": "Genre=Adventure, Drama<br>Duration m=%{x}<br>probability=%{y}<extra></extra>",
         "legendgroup": "Adventure, Drama",
         "marker": {
          "color": "#ab63fa",
          "pattern": {
           "shape": ""
          }
         },
         "name": "Adventure, Drama",
         "nbinsx": 60,
         "offsetgroup": "Adventure, Drama",
         "orientation": "v",
         "showlegend": true,
         "type": "histogram",
         "x": [
          99,
          98,
          85,
          86
         ],
         "xaxis": "x",
         "yaxis": "y"
        },
        {
         "alignmentgroup": "True",
         "bingroup": "x",
         "histnorm": "probability",
         "hovertemplate": "Genre=Comedy, Mystery, Thriller<br>Duration m=%{x}<br>probability=%{y}<extra></extra>",
         "legendgroup": "Comedy, Mystery, Thriller",
         "marker": {
          "color": "#FFA15A",
          "pattern": {
           "shape": ""
          }
         },
         "name": "Comedy, Mystery, Thriller",
         "nbinsx": 60,
         "offsetgroup": "Comedy, Mystery, Thriller",
         "orientation": "v",
         "showlegend": true,
         "type": "histogram",
         "x": [
          140
         ],
         "xaxis": "x",
         "yaxis": "y"
        },
        {
         "alignmentgroup": "True",
         "bingroup": "x",
         "histnorm": "probability",
         "hovertemplate": "Genre=Drama, Romance<br>Duration m=%{x}<br>probability=%{y}<extra></extra>",
         "legendgroup": "Drama, Romance",
         "marker": {
          "color": "#19d3f3",
          "pattern": {
           "shape": ""
          }
         },
         "name": "Drama, Romance",
         "nbinsx": 60,
         "offsetgroup": "Drama, Romance",
         "orientation": "v",
         "showlegend": true,
         "type": "histogram",
         "x": [
          122,
          95,
          143,
          115,
          158,
          144,
          121,
          133,
          154,
          175,
          107,
          127,
          141,
          154,
          195,
          145,
          144,
          139,
          142,
          149,
          148,
          141,
          113,
          133,
          124,
          144,
          138,
          90,
          104,
          138,
          70,
          173,
          146,
          136,
          139,
          171,
          145,
          119,
          127,
          138,
          121,
          158,
          171,
          188,
          112,
          144,
          151,
          145,
          137,
          138,
          135,
          137,
          134,
          151,
          49,
          136,
          140,
          144,
          175,
          105,
          108,
          111,
          151,
          97,
          167,
          138,
          161,
          95,
          164,
          185,
          144,
          135,
          173,
          163,
          135,
          138,
          181,
          171,
          149,
          165,
          156,
          170,
          95,
          137,
          116,
          140,
          132,
          136,
          146,
          114,
          119,
          151,
          104,
          131,
          121,
          141,
          134,
          160,
          126,
          124,
          135,
          129,
          90,
          176,
          159,
          129,
          168,
          174,
          155,
          128,
          90,
          131,
          148,
          150,
          153,
          124,
          136,
          176,
          112,
          114,
          124,
          163,
          152,
          142,
          144,
          155,
          120,
          143,
          193,
          177,
          135,
          123,
          166,
          110,
          137,
          145,
          180,
          156,
          131,
          148,
          116,
          131,
          132,
          139,
          111,
          124,
          128,
          155,
          145,
          160,
          164,
          92,
          136,
          145,
          120,
          146,
          94,
          152,
          106,
          120,
          124,
          106,
          150,
          120,
          122,
          110,
          106,
          115,
          153,
          165,
          141,
          109,
          160,
          102,
          127,
          133,
          135,
          189,
          101,
          134,
          134,
          151,
          146,
          108,
          110,
          115,
          135,
          115,
          135,
          101,
          97,
          127,
          101,
          168,
          148,
          110,
          150,
          168,
          157,
          156,
          102,
          137,
          142,
          137,
          77,
          147,
          150,
          133,
          140,
          133,
          117,
          158,
          123,
          110,
          150,
          129,
          186,
          171,
          200,
          141,
          137,
          160,
          120,
          156,
          144,
          113,
          150,
          162,
          156,
          172,
          104,
          137,
          120,
          147,
          120,
          105,
          45,
          143,
          171,
          160,
          161,
          125,
          56,
          114,
          120,
          132,
          120,
          151,
          104,
          130,
          143,
          145,
          135,
          159,
          150,
          112,
          88,
          147,
          158,
          140,
          156,
          136,
          188,
          113,
          101,
          120,
          139,
          153,
          145,
          147,
          116,
          107,
          139,
          146,
          133,
          131
         ],
         "xaxis": "x",
         "yaxis": "y"
        },
        {
         "alignmentgroup": "True",
         "bingroup": "x",
         "histnorm": "probability",
         "hovertemplate": "Genre=Crime, Thriller<br>Duration m=%{x}<br>probability=%{y}<extra></extra>",
         "legendgroup": "Crime, Thriller",
         "marker": {
          "color": "#FF6692",
          "pattern": {
           "shape": ""
          }
         },
         "name": "Crime, Thriller",
         "nbinsx": 60,
         "offsetgroup": "Crime, Thriller",
         "orientation": "v",
         "showlegend": true,
         "type": "histogram",
         "x": [
          128,
          115,
          132,
          100,
          114,
          102,
          115,
          145,
          107,
          131,
          150,
          130,
          119,
          114,
          130,
          127,
          120,
          141,
          159,
          110,
          136,
          135,
          103,
          90
         ],
         "xaxis": "x",
         "yaxis": "y"
        },
        {
         "alignmentgroup": "True",
         "bingroup": "x",
         "histnorm": "probability",
         "hovertemplate": "Genre=Horror, Sci-Fi, Thriller<br>Duration m=%{x}<br>probability=%{y}<extra></extra>",
         "legendgroup": "Horror, Sci-Fi, Thriller",
         "marker": {
          "color": "#B6E880",
          "pattern": {
           "shape": ""
          }
         },
         "name": "Horror, Sci-Fi, Thriller",
         "nbinsx": 60,
         "offsetgroup": "Horror, Sci-Fi, Thriller",
         "orientation": "v",
         "showlegend": true,
         "type": "histogram",
         "x": [
          125
         ],
         "xaxis": "x",
         "yaxis": "y"
        },
        {
         "alignmentgroup": "True",
         "bingroup": "x",
         "histnorm": "probability",
         "hovertemplate": "Genre=Drama, Mystery, Thriller<br>Duration m=%{x}<br>probability=%{y}<extra></extra>",
         "legendgroup": "Drama, Mystery, Thriller",
         "marker": {
          "color": "#FF97FF",
          "pattern": {
           "shape": ""
          }
         },
         "name": "Drama, Mystery, Thriller",
         "nbinsx": 60,
         "offsetgroup": "Drama, Mystery, Thriller",
         "orientation": "v",
         "showlegend": true,
         "type": "histogram",
         "x": [
          121,
          137,
          97,
          137,
          90,
          120,
          155,
          109,
          120,
          151,
          130,
          48,
          109,
          120,
          103,
          127,
          112,
          137,
          145,
          102,
          99,
          136,
          134,
          121,
          104
         ],
         "xaxis": "x",
         "yaxis": "y"
        },
        {
         "alignmentgroup": "True",
         "bingroup": "x",
         "histnorm": "probability",
         "hovertemplate": "Genre=Drama, Family, Musical<br>Duration m=%{x}<br>probability=%{y}<extra></extra>",
         "legendgroup": "Drama, Family, Musical",
         "marker": {
          "color": "#FECB52",
          "pattern": {
           "shape": ""
          }
         },
         "name": "Drama, Family, Musical",
         "nbinsx": 60,
         "offsetgroup": "Drama, Family, Musical",
         "orientation": "v",
         "showlegend": true,
         "type": "histogram",
         "x": [
          113,
          134,
          160,
          150,
          170,
          135,
          159,
          167,
          162,
          160,
          145,
          134,
          145,
          138,
          192,
          165
         ],
         "xaxis": "x",
         "yaxis": "y"
        },
        {
         "alignmentgroup": "True",
         "bingroup": "x",
         "histnorm": "probability",
         "hovertemplate": "Genre=Action, Comedy<br>Duration m=%{x}<br>probability=%{y}<extra></extra>",
         "legendgroup": "Action, Comedy",
         "marker": {
          "color": "#636efa",
          "pattern": {
           "shape": ""
          }
         },
         "name": "Action, Comedy",
         "nbinsx": 60,
         "offsetgroup": "Action, Comedy",
         "orientation": "v",
         "showlegend": true,
         "type": "histogram",
         "x": [
          134,
          145,
          107,
          155,
          155,
          134,
          134,
          145,
          155,
          175,
          134,
          149,
          150,
          146,
          155,
          141,
          141,
          115,
          125,
          99,
          140,
          154
         ],
         "xaxis": "x",
         "yaxis": "y"
        },
        {
         "alignmentgroup": "True",
         "bingroup": "x",
         "histnorm": "probability",
         "hovertemplate": "Genre=Action, Adventure, Fantasy<br>Duration m=%{x}<br>probability=%{y}<extra></extra>",
         "legendgroup": "Action, Adventure, Fantasy",
         "marker": {
          "color": "#EF553B",
          "pattern": {
           "shape": ""
          }
         },
         "name": "Action, Adventure, Fantasy",
         "nbinsx": 60,
         "offsetgroup": "Action, Adventure, Fantasy",
         "orientation": "v",
         "showlegend": true,
         "type": "histogram",
         "x": [
          110,
          140,
          138,
          109,
          120,
          128,
          139,
          125,
          138
         ],
         "xaxis": "x",
         "yaxis": "y"
        },
        {
         "alignmentgroup": "True",
         "bingroup": "x",
         "histnorm": "probability",
         "hovertemplate": "Genre=Action<br>Duration m=%{x}<br>probability=%{y}<extra></extra>",
         "legendgroup": "Action",
         "marker": {
          "color": "#00cc96",
          "pattern": {
           "shape": ""
          }
         },
         "name": "Action",
         "nbinsx": 60,
         "offsetgroup": "Action",
         "orientation": "v",
         "showlegend": true,
         "type": "histogram",
         "x": [
          126,
          124,
          123,
          132,
          133,
          170,
          137,
          151,
          46,
          132,
          138,
          152,
          125,
          150,
          142,
          137,
          123,
          140,
          137,
          136,
          137,
          86,
          300,
          119,
          113,
          172,
          133,
          140,
          115,
          107,
          150,
          137,
          140,
          120,
          135,
          120,
          153,
          158,
          139,
          135,
          137,
          120,
          139,
          145,
          110,
          133,
          130,
          111,
          145,
          169,
          140,
          134,
          140,
          149,
          136,
          133,
          128,
          119,
          140,
          145,
          124,
          136,
          160,
          139,
          137,
          195,
          135,
          133,
          149,
          120,
          135,
          90,
          131,
          162,
          120,
          130,
          74,
          117,
          155,
          135,
          180,
          139,
          145,
          128,
          137,
          109,
          152,
          115,
          135,
          141,
          129,
          110,
          117,
          126,
          182,
          127,
          110,
          137,
          123,
          160,
          130,
          49,
          155,
          117,
          158,
          109,
          133,
          125,
          135,
          141,
          98,
          82,
          105,
          114,
          133,
          151,
          97,
          139,
          150,
          135,
          125,
          112,
          80,
          134,
          133,
          154,
          131,
          104,
          149,
          108,
          130,
          157,
          145,
          175,
          129,
          144,
          250,
          135,
          148,
          128,
          150,
          137
         ],
         "xaxis": "x",
         "yaxis": "y"
        },
        {
         "alignmentgroup": "True",
         "bingroup": "x",
         "histnorm": "probability",
         "hovertemplate": "Genre=Documentary<br>Duration m=%{x}<br>probability=%{y}<extra></extra>",
         "legendgroup": "Documentary",
         "marker": {
          "color": "#ab63fa",
          "pattern": {
           "shape": ""
          }
         },
         "name": "Documentary",
         "nbinsx": 60,
         "offsetgroup": "Documentary",
         "orientation": "v",
         "showlegend": true,
         "type": "histogram",
         "x": [
          100,
          102,
          81,
          68,
          83,
          164,
          150,
          90,
          96,
          82,
          102,
          82,
          127,
          80,
          136,
          59,
          113,
          124,
          123,
          60,
          66,
          101,
          65,
          48,
          92
         ],
         "xaxis": "x",
         "yaxis": "y"
        },
        {
         "alignmentgroup": "True",
         "bingroup": "x",
         "histnorm": "probability",
         "hovertemplate": "Genre=Drama, Horror, Musical<br>Duration m=%{x}<br>probability=%{y}<extra></extra>",
         "legendgroup": "Drama, Horror, Musical",
         "marker": {
          "color": "#FFA15A",
          "pattern": {
           "shape": ""
          }
         },
         "name": "Drama, Horror, Musical",
         "nbinsx": 60,
         "offsetgroup": "Drama, Horror, Musical",
         "orientation": "v",
         "showlegend": true,
         "type": "histogram",
         "x": [
          127
         ],
         "xaxis": "x",
         "yaxis": "y"
        },
        {
         "alignmentgroup": "True",
         "bingroup": "x",
         "histnorm": "probability",
         "hovertemplate": "Genre=Action, Biography, Drama<br>Duration m=%{x}<br>probability=%{y}<extra></extra>",
         "legendgroup": "Action, Biography, Drama",
         "marker": {
          "color": "#19d3f3",
          "pattern": {
           "shape": ""
          }
         },
         "name": "Action, Biography, Drama",
         "nbinsx": 60,
         "offsetgroup": "Action, Biography, Drama",
         "orientation": "v",
         "showlegend": true,
         "type": "histogram",
         "x": [
          130,
          180,
          161,
          112,
          148,
          122,
          122,
          150,
          135,
          155,
          106,
          130
         ],
         "xaxis": "x",
         "yaxis": "y"
        },
        {
         "alignmentgroup": "True",
         "bingroup": "x",
         "histnorm": "probability",
         "hovertemplate": "Genre=Action, Fantasy, Mystery<br>Duration m=%{x}<br>probability=%{y}<extra></extra>",
         "legendgroup": "Action, Fantasy, Mystery",
         "marker": {
          "color": "#FF6692",
          "pattern": {
           "shape": ""
          }
         },
         "name": "Action, Fantasy, Mystery",
         "nbinsx": 60,
         "offsetgroup": "Action, Fantasy, Mystery",
         "orientation": "v",
         "showlegend": true,
         "type": "histogram",
         "x": [
          122
         ],
         "xaxis": "x",
         "yaxis": "y"
        },
        {
         "alignmentgroup": "True",
         "bingroup": "x",
         "histnorm": "probability",
         "hovertemplate": "Genre=Mystery, Thriller<br>Duration m=%{x}<br>probability=%{y}<extra></extra>",
         "legendgroup": "Mystery, Thriller",
         "marker": {
          "color": "#B6E880",
          "pattern": {
           "shape": ""
          }
         },
         "name": "Mystery, Thriller",
         "nbinsx": 60,
         "offsetgroup": "Mystery, Thriller",
         "orientation": "v",
         "showlegend": true,
         "type": "histogram",
         "x": [
          119,
          127,
          89,
          138,
          122,
          127,
          101,
          123,
          173,
          106,
          125,
          141,
          135,
          123,
          132,
          125,
          158,
          139,
          156,
          101,
          113,
          120,
          121
         ],
         "xaxis": "x",
         "yaxis": "y"
        },
        {
         "alignmentgroup": "True",
         "bingroup": "x",
         "histnorm": "probability",
         "hovertemplate": "Genre=Musical, Romance<br>Duration m=%{x}<br>probability=%{y}<extra></extra>",
         "legendgroup": "Musical, Romance",
         "marker": {
          "color": "#FF97FF",
          "pattern": {
           "shape": ""
          }
         },
         "name": "Musical, Romance",
         "nbinsx": 60,
         "offsetgroup": "Musical, Romance",
         "orientation": "v",
         "showlegend": true,
         "type": "histogram",
         "x": [
          128,
          170,
          148,
          129,
          128,
          112,
          187,
          157,
          123,
          156,
          133,
          174,
          138,
          138,
          211,
          141,
          247,
          129,
          137,
          150,
          167,
          134,
          118,
          160,
          136,
          111,
          121,
          143,
          113
         ],
         "xaxis": "x",
         "yaxis": "y"
        },
        {
         "alignmentgroup": "True",
         "bingroup": "x",
         "histnorm": "probability",
         "hovertemplate": "Genre=Drama, Thriller<br>Duration m=%{x}<br>probability=%{y}<extra></extra>",
         "legendgroup": "Drama, Thriller",
         "marker": {
          "color": "#FECB52",
          "pattern": {
           "shape": ""
          }
         },
         "name": "Drama, Thriller",
         "nbinsx": 60,
         "offsetgroup": "Drama, Thriller",
         "orientation": "v",
         "showlegend": true,
         "type": "histogram",
         "x": [
          110,
          164,
          152,
          129,
          147,
          105,
          85,
          119,
          116,
          126,
          92,
          140,
          110,
          129,
          162,
          134,
          105,
          119,
          140,
          137,
          117,
          139,
          144,
          137,
          149,
          148,
          125,
          145,
          125,
          97,
          128,
          66,
          122,
          116,
          91,
          100,
          142,
          135,
          110,
          140,
          125,
          120,
          105,
          57,
          132
         ],
         "xaxis": "x",
         "yaxis": "y"
        },
        {
         "alignmentgroup": "True",
         "bingroup": "x",
         "histnorm": "probability",
         "hovertemplate": "Genre=Action, Adventure, Comedy<br>Duration m=%{x}<br>probability=%{y}<extra></extra>",
         "legendgroup": "Action, Adventure, Comedy",
         "marker": {
          "color": "#636efa",
          "pattern": {
           "shape": ""
          }
         },
         "name": "Action, Adventure, Comedy",
         "nbinsx": 60,
         "offsetgroup": "Action, Adventure, Comedy",
         "orientation": "v",
         "showlegend": true,
         "type": "histogram",
         "x": [
          151,
          135,
          178,
          132,
          133,
          127,
          163,
          153,
          162,
          132,
          154,
          150,
          141,
          180,
          136,
          165,
          124,
          111,
          139,
          161,
          122,
          145,
          138,
          142,
          151,
          164,
          96,
          132,
          136,
          171,
          161,
          112,
          162,
          130,
          150
         ],
         "xaxis": "x",
         "yaxis": "y"
        },
        {
         "alignmentgroup": "True",
         "bingroup": "x",
         "histnorm": "probability",
         "hovertemplate": "Genre=Romance<br>Duration m=%{x}<br>probability=%{y}<extra></extra>",
         "legendgroup": "Romance",
         "marker": {
          "color": "#EF553B",
          "pattern": {
           "shape": ""
          }
         },
         "name": "Romance",
         "nbinsx": 60,
         "offsetgroup": "Romance",
         "orientation": "v",
         "showlegend": true,
         "type": "histogram",
         "x": [
          140,
          162,
          141,
          136,
          146,
          165,
          152,
          151,
          119,
          131,
          131,
          152,
          102,
          169,
          172,
          142,
          116,
          135,
          169,
          120,
          136,
          116,
          126,
          130,
          110,
          127,
          142,
          120,
          135,
          138,
          165,
          118,
          117,
          120,
          131,
          103,
          125,
          148,
          134,
          132,
          127,
          173,
          144,
          161,
          155,
          133,
          148,
          135,
          116,
          106,
          125,
          100,
          160,
          122,
          107,
          157,
          180,
          124,
          130,
          45,
          137,
          99,
          152,
          155,
          119,
          133,
          132,
          87,
          143,
          132,
          132,
          130,
          142,
          146,
          114,
          140,
          132,
          118,
          109,
          155,
          150,
          150,
          135,
          154,
          136,
          145,
          120,
          117,
          144,
          112,
          139,
          132,
          109,
          168,
          132,
          115,
          138,
          133,
          111,
          160,
          107,
          143,
          143,
          122,
          120,
          195,
          97,
          88,
          155,
          136,
          127,
          140,
          90,
          121,
          150,
          108,
          106,
          120
         ],
         "xaxis": "x",
         "yaxis": "y"
        },
        {
         "alignmentgroup": "True",
         "bingroup": "x",
         "histnorm": "probability",
         "hovertemplate": "Genre=Action, Crime, Drama<br>Duration m=%{x}<br>probability=%{y}<extra></extra>",
         "legendgroup": "Action, Crime, Drama",
         "marker": {
          "color": "#00cc96",
          "pattern": {
           "shape": ""
          }
         },
         "name": "Action, Crime, Drama",
         "nbinsx": 60,
         "offsetgroup": "Action, Crime, Drama",
         "orientation": "v",
         "showlegend": true,
         "type": "histogram",
         "x": [
          104,
          105,
          153,
          164,
          164,
          120,
          171,
          99,
          143,
          149,
          155,
          129,
          120,
          161,
          165,
          123,
          144,
          176,
          141,
          168,
          173,
          171,
          126,
          137,
          180,
          135,
          134,
          146,
          140,
          154,
          136,
          153,
          160,
          128,
          148,
          143,
          109,
          103,
          149,
          137,
          138,
          118,
          103,
          154,
          150,
          138,
          98,
          165,
          142,
          117,
          120,
          150,
          155,
          173,
          168,
          174,
          145,
          139,
          146,
          132,
          129,
          145,
          156,
          136,
          150,
          139,
          166,
          128,
          143,
          142,
          180,
          155,
          145,
          170,
          166,
          150,
          122,
          170,
          164,
          137,
          152,
          157,
          123,
          153,
          130,
          163,
          127,
          162,
          162,
          145,
          160,
          138,
          131,
          180,
          138,
          111,
          149,
          145,
          145,
          129,
          152,
          178,
          141,
          175,
          129,
          172,
          155,
          180,
          172,
          139,
          119,
          123,
          138,
          140,
          139,
          150,
          153,
          143,
          130,
          162,
          117,
          154,
          150,
          157,
          174,
          140,
          223,
          124,
          162,
          151,
          132,
          160,
          135,
          160,
          100,
          137,
          117,
          140,
          144,
          129,
          126,
          202,
          142,
          107,
          176,
          118,
          175,
          133,
          160,
          119,
          135,
          121,
          113,
          103,
          132,
          117,
          110,
          157,
          153,
          102,
          149,
          92,
          95,
          136,
          115,
          128,
          133,
          96,
          125,
          155,
          134,
          160,
          107,
          125,
          154,
          115,
          150,
          138,
          120,
          164,
          150,
          162,
          157,
          149,
          143,
          122,
          122,
          138,
          155,
          119,
          130,
          102,
          118,
          140,
          142,
          144,
          127,
          158,
          124,
          130,
          125,
          170,
          142,
          125,
          98,
          143,
          121,
          121,
          166,
          137,
          153,
          138,
          146,
          146,
          142,
          143,
          147,
          128,
          139,
          145,
          138,
          175,
          142,
          134,
          139,
          217,
          144,
          136,
          126,
          125,
          152,
          140,
          121,
          163,
          151,
          116,
          125,
          92,
          117,
          154,
          129,
          160,
          116,
          173,
          148,
          134,
          150,
          145,
          164,
          135,
          135,
          161,
          159,
          99,
          152,
          180,
          156,
          156,
          103,
          120,
          130,
          98,
          145,
          155,
          75,
          131,
          154,
          125
         ],
         "xaxis": "x",
         "yaxis": "y"
        },
        {
         "alignmentgroup": "True",
         "bingroup": "x",
         "histnorm": "probability",
         "hovertemplate": "Genre=Musical, Romance, Drama<br>Duration m=%{x}<br>probability=%{y}<extra></extra>",
         "legendgroup": "Musical, Romance, Drama",
         "marker": {
          "color": "#ab63fa",
          "pattern": {
           "shape": ""
          }
         },
         "name": "Musical, Romance, Drama",
         "nbinsx": 60,
         "offsetgroup": "Musical, Romance, Drama",
         "orientation": "v",
         "showlegend": true,
         "type": "histogram",
         "x": [
          177,
          142
         ],
         "xaxis": "x",
         "yaxis": "y"
        },
        {
         "alignmentgroup": "True",
         "bingroup": "x",
         "histnorm": "probability",
         "hovertemplate": "Genre=Action, Sci-Fi, Thriller<br>Duration m=%{x}<br>probability=%{y}<extra></extra>",
         "legendgroup": "Action, Sci-Fi, Thriller",
         "marker": {
          "color": "#FFA15A",
          "pattern": {
           "shape": ""
          }
         },
         "name": "Action, Sci-Fi, Thriller",
         "nbinsx": 60,
         "offsetgroup": "Action, Sci-Fi, Thriller",
         "orientation": "v",
         "showlegend": true,
         "type": "histogram",
         "x": [
          117,
          138
         ],
         "xaxis": "x",
         "yaxis": "y"
        },
        {
         "alignmentgroup": "True",
         "bingroup": "x",
         "histnorm": "probability",
         "hovertemplate": "Genre=Fantasy<br>Duration m=%{x}<br>probability=%{y}<extra></extra>",
         "legendgroup": "Fantasy",
         "marker": {
          "color": "#19d3f3",
          "pattern": {
           "shape": ""
          }
         },
         "name": "Fantasy",
         "nbinsx": 60,
         "offsetgroup": "Fantasy",
         "orientation": "v",
         "showlegend": true,
         "type": "histogram",
         "x": [
          144,
          142,
          127,
          135,
          176,
          176,
          99,
          113,
          120,
          137,
          160,
          163,
          162,
          130,
          136,
          120,
          137
         ],
         "xaxis": "x",
         "yaxis": "y"
        },
        {
         "alignmentgroup": "True",
         "bingroup": "x",
         "histnorm": "probability",
         "hovertemplate": "Genre=Comedy, Crime, Drama<br>Duration m=%{x}<br>probability=%{y}<extra></extra>",
         "legendgroup": "Comedy, Crime, Drama",
         "marker": {
          "color": "#FF6692",
          "pattern": {
           "shape": ""
          }
         },
         "name": "Comedy, Crime, Drama",
         "nbinsx": 60,
         "offsetgroup": "Comedy, Crime, Drama",
         "orientation": "v",
         "showlegend": true,
         "type": "histogram",
         "x": [
          170,
          117,
          126,
          120,
          142,
          125,
          97,
          93,
          137,
          104,
          105,
          170,
          106,
          105,
          128,
          112,
          143,
          138,
          180,
          148,
          90,
          122,
          126,
          137,
          132,
          126,
          141,
          90,
          135,
          110,
          147,
          140,
          105,
          155,
          138,
          137,
          100,
          148,
          157,
          115,
          108,
          122,
          167,
          125,
          120,
          112,
          140,
          168,
          87,
          128
         ],
         "xaxis": "x",
         "yaxis": "y"
        },
        {
         "alignmentgroup": "True",
         "bingroup": "x",
         "histnorm": "probability",
         "hovertemplate": "Genre=Drama, Romance, Thriller<br>Duration m=%{x}<br>probability=%{y}<extra></extra>",
         "legendgroup": "Drama, Romance, Thriller",
         "marker": {
          "color": "#B6E880",
          "pattern": {
           "shape": ""
          }
         },
         "name": "Drama, Romance, Thriller",
         "nbinsx": 60,
         "offsetgroup": "Drama, Romance, Thriller",
         "orientation": "v",
         "showlegend": true,
         "type": "histogram",
         "x": [
          168,
          115,
          160,
          135,
          144,
          150,
          169,
          120,
          140,
          155,
          121,
          123,
          122,
          140,
          136,
          130,
          127,
          159,
          100,
          130,
          104,
          144,
          165,
          123,
          157,
          130,
          148,
          120,
          138,
          138,
          100,
          150,
          180,
          109,
          137,
          159
         ],
         "xaxis": "x",
         "yaxis": "y"
        },
        {
         "alignmentgroup": "True",
         "bingroup": "x",
         "histnorm": "probability",
         "hovertemplate": "Genre=Drama, Family<br>Duration m=%{x}<br>probability=%{y}<extra></extra>",
         "legendgroup": "Drama, Family",
         "marker": {
          "color": "#FF97FF",
          "pattern": {
           "shape": ""
          }
         },
         "name": "Drama, Family",
         "nbinsx": 60,
         "offsetgroup": "Drama, Family",
         "orientation": "v",
         "showlegend": true,
         "type": "histogram",
         "x": [
          138,
          107,
          145,
          161,
          161,
          153,
          137,
          127,
          77,
          86,
          145,
          147,
          148,
          130,
          132,
          124,
          135,
          139,
          133,
          142,
          156,
          120,
          168,
          151,
          136,
          174,
          110,
          100,
          137,
          140,
          95,
          148,
          128,
          59,
          153,
          120,
          128,
          100,
          148,
          110,
          142,
          94,
          136,
          123,
          154,
          114,
          92,
          134,
          125,
          136,
          144,
          130,
          101,
          164,
          133,
          138,
          134,
          92,
          159,
          136,
          99,
          135,
          158,
          156,
          152,
          169,
          137,
          100,
          165,
          113,
          105,
          148,
          147,
          151,
          142,
          142,
          150,
          138,
          148,
          120,
          189,
          129,
          158,
          116,
          112,
          142,
          132,
          100,
          126,
          122,
          98,
          134,
          147,
          125,
          128,
          115,
          158,
          148,
          144,
          148,
          109,
          128,
          140,
          138,
          133,
          139,
          106,
          158,
          138,
          109,
          135,
          77,
          134,
          161,
          146,
          135,
          164,
          111,
          145,
          126,
          125,
          139,
          160,
          125,
          136,
          120,
          133,
          108,
          140,
          135,
          95,
          139,
          124,
          134,
          126,
          95,
          132,
          122,
          120,
          126
         ],
         "xaxis": "x",
         "yaxis": "y"
        },
        {
         "alignmentgroup": "True",
         "bingroup": "x",
         "histnorm": "probability",
         "hovertemplate": "Genre=Action, Drama<br>Duration m=%{x}<br>probability=%{y}<extra></extra>",
         "legendgroup": "Action, Drama",
         "marker": {
          "color": "#FECB52",
          "pattern": {
           "shape": ""
          }
         },
         "name": "Action, Drama",
         "nbinsx": 60,
         "offsetgroup": "Action, Drama",
         "orientation": "v",
         "showlegend": true,
         "type": "histogram",
         "x": [
          180,
          135,
          153,
          157,
          128,
          125,
          151,
          103,
          132,
          128,
          160,
          140,
          148,
          155,
          114,
          149,
          164,
          155,
          153,
          153,
          134,
          158,
          163,
          201,
          166,
          158,
          147,
          118,
          175,
          127,
          158,
          161,
          127,
          160,
          148,
          155,
          128,
          158,
          147,
          162,
          140,
          180,
          141,
          152,
          169,
          139,
          109,
          45,
          149,
          127,
          126,
          148,
          142,
          126,
          167,
          158,
          199,
          139,
          137,
          149,
          130,
          163,
          161,
          156,
          140,
          162,
          150,
          134,
          129,
          144,
          157,
          175,
          125,
          139,
          132,
          172,
          184,
          137,
          162,
          157,
          145,
          131,
          131,
          160,
          157,
          150,
          185,
          168,
          145,
          130,
          156,
          141,
          210,
          169,
          90,
          140,
          145,
          172,
          139,
          180,
          162,
          131,
          155,
          136,
          155,
          150,
          150,
          151,
          164,
          155,
          163,
          150,
          132,
          163,
          157,
          214,
          139,
          120,
          137,
          120,
          132,
          156,
          142,
          150,
          159,
          165,
          141,
          146,
          126,
          146,
          132,
          141,
          159,
          130,
          110,
          151,
          157,
          120,
          127,
          133,
          144,
          164,
          143,
          144,
          135,
          133,
          150,
          148,
          117,
          135,
          137,
          170,
          160,
          144,
          144,
          180,
          157,
          134,
          118,
          169,
          168,
          151,
          148,
          120,
          151,
          101,
          134,
          169,
          162,
          141,
          135,
          161,
          187,
          155,
          168,
          155,
          173,
          150,
          134,
          142,
          131,
          159,
          163,
          129,
          130
         ],
         "xaxis": "x",
         "yaxis": "y"
        },
        {
         "alignmentgroup": "True",
         "bingroup": "x",
         "histnorm": "probability",
         "hovertemplate": "Genre=Drama, Musical, Romance<br>Duration m=%{x}<br>probability=%{y}<extra></extra>",
         "legendgroup": "Drama, Musical, Romance",
         "marker": {
          "color": "#636efa",
          "pattern": {
           "shape": ""
          }
         },
         "name": "Drama, Musical, Romance",
         "nbinsx": 60,
         "offsetgroup": "Drama, Musical, Romance",
         "orientation": "v",
         "showlegend": true,
         "type": "histogram",
         "x": [
          150,
          177,
          142,
          142,
          145,
          122,
          150,
          169,
          145,
          193,
          165,
          157,
          150,
          145,
          144,
          154,
          186,
          127,
          169,
          148,
          150,
          158,
          150,
          135,
          167,
          169,
          120,
          174,
          168,
          125,
          143,
          167,
          116,
          168,
          151,
          210,
          138,
          160,
          171,
          187,
          152,
          161,
          133,
          107,
          151,
          170,
          150,
          157,
          191,
          130,
          137,
          200,
          183,
          153,
          162,
          110,
          178,
          150,
          207,
          158,
          181,
          142,
          238,
          129,
          149,
          136,
          179,
          122,
          150,
          145,
          160,
          192,
          160
         ],
         "xaxis": "x",
         "yaxis": "y"
        },
        {
         "alignmentgroup": "True",
         "bingroup": "x",
         "histnorm": "probability",
         "hovertemplate": "Genre=Action, Romance<br>Duration m=%{x}<br>probability=%{y}<extra></extra>",
         "legendgroup": "Action, Romance",
         "marker": {
          "color": "#EF553B",
          "pattern": {
           "shape": ""
          }
         },
         "name": "Action, Romance",
         "nbinsx": 60,
         "offsetgroup": "Action, Romance",
         "orientation": "v",
         "showlegend": true,
         "type": "histogram",
         "x": [
          170,
          123,
          160,
          148,
          116,
          144,
          163,
          153,
          164,
          129,
          146,
          150,
          180,
          171,
          110,
          170,
          154,
          112,
          156,
          165,
          152,
          125
         ],
         "xaxis": "x",
         "yaxis": "y"
        },
        {
         "alignmentgroup": "True",
         "bingroup": "x",
         "histnorm": "probability",
         "hovertemplate": "Genre=Action, Crime<br>Duration m=%{x}<br>probability=%{y}<extra></extra>",
         "legendgroup": "Action, Crime",
         "marker": {
          "color": "#00cc96",
          "pattern": {
           "shape": ""
          }
         },
         "name": "Action, Crime",
         "nbinsx": 60,
         "offsetgroup": "Action, Crime",
         "orientation": "v",
         "showlegend": true,
         "type": "histogram",
         "x": [
          128,
          127,
          146,
          121,
          140,
          138,
          143,
          146,
          127,
          138,
          166,
          114,
          135,
          149,
          122
         ],
         "xaxis": "x",
         "yaxis": "y"
        },
        {
         "alignmentgroup": "True",
         "bingroup": "x",
         "histnorm": "probability",
         "hovertemplate": "Genre=Action, Drama, Crime<br>Duration m=%{x}<br>probability=%{y}<extra></extra>",
         "legendgroup": "Action, Drama, Crime",
         "marker": {
          "color": "#ab63fa",
          "pattern": {
           "shape": ""
          }
         },
         "name": "Action, Drama, Crime",
         "nbinsx": 60,
         "offsetgroup": "Action, Drama, Crime",
         "orientation": "v",
         "showlegend": true,
         "type": "histogram",
         "x": [
          137,
          141
         ],
         "xaxis": "x",
         "yaxis": "y"
        },
        {
         "alignmentgroup": "True",
         "bingroup": "x",
         "histnorm": "probability",
         "hovertemplate": "Genre=Drama, Family, Music<br>Duration m=%{x}<br>probability=%{y}<extra></extra>",
         "legendgroup": "Drama, Family, Music",
         "marker": {
          "color": "#FFA15A",
          "pattern": {
           "shape": ""
          }
         },
         "name": "Drama, Family, Music",
         "nbinsx": 60,
         "offsetgroup": "Drama, Family, Music",
         "orientation": "v",
         "showlegend": true,
         "type": "histogram",
         "x": [
          137,
          126,
          133,
          98,
          175
         ],
         "xaxis": "x",
         "yaxis": "y"
        },
        {
         "alignmentgroup": "True",
         "bingroup": "x",
         "histnorm": "probability",
         "hovertemplate": "Genre=Action, Drama, Family<br>Duration m=%{x}<br>probability=%{y}<extra></extra>",
         "legendgroup": "Action, Drama, Family",
         "marker": {
          "color": "#19d3f3",
          "pattern": {
           "shape": ""
          }
         },
         "name": "Action, Drama, Family",
         "nbinsx": 60,
         "offsetgroup": "Action, Drama, Family",
         "orientation": "v",
         "showlegend": true,
         "type": "histogram",
         "x": [
          149,
          138,
          139,
          159,
          150,
          136,
          148,
          131,
          90
         ],
         "xaxis": "x",
         "yaxis": "y"
        },
        {
         "alignmentgroup": "True",
         "bingroup": "x",
         "histnorm": "probability",
         "hovertemplate": "Genre=Drama, History, Romance<br>Duration m=%{x}<br>probability=%{y}<extra></extra>",
         "legendgroup": "Drama, History, Romance",
         "marker": {
          "color": "#FF6692",
          "pattern": {
           "shape": ""
          }
         },
         "name": "Drama, History, Romance",
         "nbinsx": 60,
         "offsetgroup": "Drama, History, Romance",
         "orientation": "v",
         "showlegend": true,
         "type": "histogram",
         "x": [
          139,
          130,
          164,
          121,
          118
         ],
         "xaxis": "x",
         "yaxis": "y"
        },
        {
         "alignmentgroup": "True",
         "bingroup": "x",
         "histnorm": "probability",
         "hovertemplate": "Genre=Sci-Fi<br>Duration m=%{x}<br>probability=%{y}<extra></extra>",
         "legendgroup": "Sci-Fi",
         "marker": {
          "color": "#B6E880",
          "pattern": {
           "shape": ""
          }
         },
         "name": "Sci-Fi",
         "nbinsx": 60,
         "offsetgroup": "Sci-Fi",
         "orientation": "v",
         "showlegend": true,
         "type": "histogram",
         "x": [
          116,
          125,
          65
         ],
         "xaxis": "x",
         "yaxis": "y"
        },
        {
         "alignmentgroup": "True",
         "bingroup": "x",
         "histnorm": "probability",
         "hovertemplate": "Genre=Comedy, Drama, Family<br>Duration m=%{x}<br>probability=%{y}<extra></extra>",
         "legendgroup": "Comedy, Drama, Family",
         "marker": {
          "color": "#FF97FF",
          "pattern": {
           "shape": ""
          }
         },
         "name": "Comedy, Drama, Family",
         "nbinsx": 60,
         "offsetgroup": "Comedy, Drama, Family",
         "orientation": "v",
         "showlegend": true,
         "type": "histogram",
         "x": [
          150,
          150,
          130,
          145,
          90,
          155,
          118,
          133,
          112,
          135,
          115,
          141,
          134,
          140,
          109,
          130,
          154,
          90,
          96,
          88,
          175,
          138,
          132,
          112,
          126,
          171,
          165,
          149,
          139,
          108,
          159,
          147,
          117,
          171,
          154,
          115,
          145,
          96,
          133,
          153,
          90,
          106,
          145,
          153,
          115
         ],
         "xaxis": "x",
         "yaxis": "y"
        },
        {
         "alignmentgroup": "True",
         "bingroup": "x",
         "histnorm": "probability",
         "hovertemplate": "Genre=Crime, Mystery, Romance<br>Duration m=%{x}<br>probability=%{y}<extra></extra>",
         "legendgroup": "Crime, Mystery, Romance",
         "marker": {
          "color": "#FECB52",
          "pattern": {
           "shape": ""
          }
         },
         "name": "Crime, Mystery, Romance",
         "nbinsx": 60,
         "offsetgroup": "Crime, Mystery, Romance",
         "orientation": "v",
         "showlegend": true,
         "type": "histogram",
         "x": [
          163
         ],
         "xaxis": "x",
         "yaxis": "y"
        },
        {
         "alignmentgroup": "True",
         "bingroup": "x",
         "histnorm": "probability",
         "hovertemplate": "Genre=Comedy, Family, Fantasy<br>Duration m=%{x}<br>probability=%{y}<extra></extra>",
         "legendgroup": "Comedy, Family, Fantasy",
         "marker": {
          "color": "#636efa",
          "pattern": {
           "shape": ""
          }
         },
         "name": "Comedy, Family, Fantasy",
         "nbinsx": 60,
         "offsetgroup": "Comedy, Family, Fantasy",
         "orientation": "v",
         "showlegend": true,
         "type": "histogram",
         "x": [
          140,
          86,
          90
         ],
         "xaxis": "x",
         "yaxis": "y"
        },
        {
         "alignmentgroup": "True",
         "bingroup": "x",
         "histnorm": "probability",
         "hovertemplate": "Genre=Romance, Drama<br>Duration m=%{x}<br>probability=%{y}<extra></extra>",
         "legendgroup": "Romance, Drama",
         "marker": {
          "color": "#EF553B",
          "pattern": {
           "shape": ""
          }
         },
         "name": "Romance, Drama",
         "nbinsx": 60,
         "offsetgroup": "Romance, Drama",
         "orientation": "v",
         "showlegend": true,
         "type": "histogram",
         "x": [
          153,
          150,
          150,
          105,
          133
         ],
         "xaxis": "x",
         "yaxis": "y"
        },
        {
         "alignmentgroup": "True",
         "bingroup": "x",
         "histnorm": "probability",
         "hovertemplate": "Genre=Drama, Family, Romance<br>Duration m=%{x}<br>probability=%{y}<extra></extra>",
         "legendgroup": "Drama, Family, Romance",
         "marker": {
          "color": "#00cc96",
          "pattern": {
           "shape": ""
          }
         },
         "name": "Drama, Family, Romance",
         "nbinsx": 60,
         "offsetgroup": "Drama, Family, Romance",
         "orientation": "v",
         "showlegend": true,
         "type": "histogram",
         "x": [
          128,
          163,
          142,
          169,
          100,
          122,
          147,
          137,
          142,
          144,
          120,
          134,
          127,
          165,
          131,
          80,
          133,
          122,
          117,
          120,
          136,
          157,
          187,
          138,
          123,
          154,
          182,
          138,
          135,
          149
         ],
         "xaxis": "x",
         "yaxis": "y"
        },
        {
         "alignmentgroup": "True",
         "bingroup": "x",
         "histnorm": "probability",
         "hovertemplate": "Genre=Action, Drama, Romance<br>Duration m=%{x}<br>probability=%{y}<extra></extra>",
         "legendgroup": "Action, Drama, Romance",
         "marker": {
          "color": "#ab63fa",
          "pattern": {
           "shape": ""
          }
         },
         "name": "Action, Drama, Romance",
         "nbinsx": 60,
         "offsetgroup": "Action, Drama, Romance",
         "orientation": "v",
         "showlegend": true,
         "type": "histogram",
         "x": [
          180,
          157,
          147,
          136,
          153,
          146,
          150,
          135,
          176,
          161,
          145,
          105,
          178,
          148,
          117,
          157,
          159,
          128,
          156,
          168,
          170,
          152,
          187,
          138,
          147,
          185,
          165,
          141,
          143,
          91,
          152,
          132,
          120,
          170,
          157,
          173,
          157,
          123,
          171,
          156,
          171,
          126,
          186,
          159,
          165,
          172,
          136,
          152,
          146,
          146,
          120,
          168,
          154,
          155,
          155,
          148,
          173,
          163,
          167,
          140,
          134,
          168,
          148,
          170,
          134,
          145,
          152,
          130,
          153,
          155,
          120,
          106,
          157,
          173,
          130,
          172,
          163,
          138,
          170,
          149,
          151,
          172
         ],
         "xaxis": "x",
         "yaxis": "y"
        },
        {
         "alignmentgroup": "True",
         "bingroup": "x",
         "histnorm": "probability",
         "hovertemplate": "Genre=Romance, Drama, Family<br>Duration m=%{x}<br>probability=%{y}<extra></extra>",
         "legendgroup": "Romance, Drama, Family",
         "marker": {
          "color": "#FFA15A",
          "pattern": {
           "shape": ""
          }
         },
         "name": "Romance, Drama, Family",
         "nbinsx": 60,
         "offsetgroup": "Romance, Drama, Family",
         "orientation": "v",
         "showlegend": true,
         "type": "histogram",
         "x": [
          145,
          175
         ],
         "xaxis": "x",
         "yaxis": "y"
        },
        {
         "alignmentgroup": "True",
         "bingroup": "x",
         "histnorm": "probability",
         "hovertemplate": "Genre=Action, Comedy, Drama<br>Duration m=%{x}<br>probability=%{y}<extra></extra>",
         "legendgroup": "Action, Comedy, Drama",
         "marker": {
          "color": "#19d3f3",
          "pattern": {
           "shape": ""
          }
         },
         "name": "Action, Comedy, Drama",
         "nbinsx": 60,
         "offsetgroup": "Action, Comedy, Drama",
         "orientation": "v",
         "showlegend": true,
         "type": "histogram",
         "x": [
          145,
          125,
          144,
          165,
          141,
          131,
          150,
          114,
          130,
          139,
          161,
          140,
          177,
          163,
          171,
          158,
          165,
          159,
          122,
          165,
          160,
          132,
          155,
          152,
          162,
          120,
          150,
          143,
          161,
          128,
          152,
          146,
          113,
          137,
          180,
          147,
          184,
          161,
          169,
          161,
          140,
          140,
          153,
          125,
          138,
          199,
          161,
          127,
          142,
          160,
          150,
          141,
          131,
          174,
          149,
          144,
          181,
          179,
          134,
          197,
          146,
          171,
          132,
          171,
          162,
          134,
          160,
          162,
          148,
          136,
          97,
          161,
          165,
          163,
          169,
          174,
          125,
          129,
          152,
          137,
          119,
          160,
          142,
          146,
          146,
          180,
          165,
          153,
          145,
          138,
          145,
          126,
          136,
          162
         ],
         "xaxis": "x",
         "yaxis": "y"
        },
        {
         "alignmentgroup": "True",
         "bingroup": "x",
         "histnorm": "probability",
         "hovertemplate": "Genre=Musical, Romance, Thriller<br>Duration m=%{x}<br>probability=%{y}<extra></extra>",
         "legendgroup": "Musical, Romance, Thriller",
         "marker": {
          "color": "#FF6692",
          "pattern": {
           "shape": ""
          }
         },
         "name": "Musical, Romance, Thriller",
         "nbinsx": 60,
         "offsetgroup": "Musical, Romance, Thriller",
         "orientation": "v",
         "showlegend": true,
         "type": "histogram",
         "x": [
          146,
          168,
          140,
          165
         ],
         "xaxis": "x",
         "yaxis": "y"
        },
        {
         "alignmentgroup": "True",
         "bingroup": "x",
         "histnorm": "probability",
         "hovertemplate": "Genre=Family, Musical, Romance<br>Duration m=%{x}<br>probability=%{y}<extra></extra>",
         "legendgroup": "Family, Musical, Romance",
         "marker": {
          "color": "#B6E880",
          "pattern": {
           "shape": ""
          }
         },
         "name": "Family, Musical, Romance",
         "nbinsx": 60,
         "offsetgroup": "Family, Musical, Romance",
         "orientation": "v",
         "showlegend": true,
         "type": "histogram",
         "x": [
          156,
          174,
          156
         ],
         "xaxis": "x",
         "yaxis": "y"
        },
        {
         "alignmentgroup": "True",
         "bingroup": "x",
         "histnorm": "probability",
         "hovertemplate": "Genre=Drama, Music, Musical<br>Duration m=%{x}<br>probability=%{y}<extra></extra>",
         "legendgroup": "Drama, Music, Musical",
         "marker": {
          "color": "#FF97FF",
          "pattern": {
           "shape": ""
          }
         },
         "name": "Drama, Music, Musical",
         "nbinsx": 60,
         "offsetgroup": "Drama, Music, Musical",
         "orientation": "v",
         "showlegend": true,
         "type": "histogram",
         "x": [
          132,
          158,
          110,
          130
         ],
         "xaxis": "x",
         "yaxis": "y"
        },
        {
         "alignmentgroup": "True",
         "bingroup": "x",
         "histnorm": "probability",
         "hovertemplate": "Genre=Drama, Mystery<br>Duration m=%{x}<br>probability=%{y}<extra></extra>",
         "legendgroup": "Drama, Mystery",
         "marker": {
          "color": "#FECB52",
          "pattern": {
           "shape": ""
          }
         },
         "name": "Drama, Mystery",
         "nbinsx": 60,
         "offsetgroup": "Drama, Mystery",
         "orientation": "v",
         "showlegend": true,
         "type": "histogram",
         "x": [
          145,
          118,
          113,
          104,
          123,
          106,
          150,
          90,
          118,
          150
         ],
         "xaxis": "x",
         "yaxis": "y"
        },
        {
         "alignmentgroup": "True",
         "bingroup": "x",
         "histnorm": "probability",
         "hovertemplate": "Genre=Adventure, Comedy, Romance<br>Duration m=%{x}<br>probability=%{y}<extra></extra>",
         "legendgroup": "Adventure, Comedy, Romance",
         "marker": {
          "color": "#636efa",
          "pattern": {
           "shape": ""
          }
         },
         "name": "Adventure, Comedy, Romance",
         "nbinsx": 60,
         "offsetgroup": "Adventure, Comedy, Romance",
         "orientation": "v",
         "showlegend": true,
         "type": "histogram",
         "x": [
          88
         ],
         "xaxis": "x",
         "yaxis": "y"
        },
        {
         "alignmentgroup": "True",
         "bingroup": "x",
         "histnorm": "probability",
         "hovertemplate": "Genre=Action, Drama, Thriller<br>Duration m=%{x}<br>probability=%{y}<extra></extra>",
         "legendgroup": "Action, Drama, Thriller",
         "marker": {
          "color": "#EF553B",
          "pattern": {
           "shape": ""
          }
         },
         "name": "Action, Drama, Thriller",
         "nbinsx": 60,
         "offsetgroup": "Action, Drama, Thriller",
         "orientation": "v",
         "showlegend": true,
         "type": "histogram",
         "x": [
          167,
          135,
          157,
          180,
          137,
          155,
          152,
          121,
          140,
          139,
          135,
          142,
          152,
          143,
          155,
          122,
          149,
          144,
          143,
          167,
          152,
          163,
          130,
          143,
          154,
          177,
          187,
          60,
          136,
          138,
          140,
          132,
          120,
          141,
          149,
          188,
          168,
          174,
          149,
          192,
          161,
          127,
          157
         ],
         "xaxis": "x",
         "yaxis": "y"
        },
        {
         "alignmentgroup": "True",
         "bingroup": "x",
         "histnorm": "probability",
         "hovertemplate": "Genre=Action, Musical, Thriller<br>Duration m=%{x}<br>probability=%{y}<extra></extra>",
         "legendgroup": "Action, Musical, Thriller",
         "marker": {
          "color": "#00cc96",
          "pattern": {
           "shape": ""
          }
         },
         "name": "Action, Musical, Thriller",
         "nbinsx": 60,
         "offsetgroup": "Action, Musical, Thriller",
         "orientation": "v",
         "showlegend": true,
         "type": "histogram",
         "x": [
          125,
          125
         ],
         "xaxis": "x",
         "yaxis": "y"
        },
        {
         "alignmentgroup": "True",
         "bingroup": "x",
         "histnorm": "probability",
         "hovertemplate": "Genre=Action, Drama, War<br>Duration m=%{x}<br>probability=%{y}<extra></extra>",
         "legendgroup": "Action, Drama, War",
         "marker": {
          "color": "#ab63fa",
          "pattern": {
           "shape": ""
          }
         },
         "name": "Action, Drama, War",
         "nbinsx": 60,
         "offsetgroup": "Action, Drama, War",
         "orientation": "v",
         "showlegend": true,
         "type": "histogram",
         "x": [
          193,
          105,
          152,
          187,
          138
         ],
         "xaxis": "x",
         "yaxis": "y"
        },
        {
         "alignmentgroup": "True",
         "bingroup": "x",
         "histnorm": "probability",
         "hovertemplate": "Genre=Romance, Thriller<br>Duration m=%{x}<br>probability=%{y}<extra></extra>",
         "legendgroup": "Romance, Thriller",
         "marker": {
          "color": "#FFA15A",
          "pattern": {
           "shape": ""
          }
         },
         "name": "Romance, Thriller",
         "nbinsx": 60,
         "offsetgroup": "Romance, Thriller",
         "orientation": "v",
         "showlegend": true,
         "type": "histogram",
         "x": [
          137,
          133,
          142,
          102,
          110,
          175,
          108,
          136,
          175
         ],
         "xaxis": "x",
         "yaxis": "y"
        },
        {
         "alignmentgroup": "True",
         "bingroup": "x",
         "histnorm": "probability",
         "hovertemplate": "Genre=Drama, Music<br>Duration m=%{x}<br>probability=%{y}<extra></extra>",
         "legendgroup": "Drama, Music",
         "marker": {
          "color": "#19d3f3",
          "pattern": {
           "shape": ""
          }
         },
         "name": "Drama, Music",
         "nbinsx": 60,
         "offsetgroup": "Drama, Music",
         "orientation": "v",
         "showlegend": true,
         "type": "histogram",
         "x": [
          160,
          85,
          130,
          134,
          103,
          146,
          110,
          143,
          145,
          150,
          146,
          138,
          72
         ],
         "xaxis": "x",
         "yaxis": "y"
        },
        {
         "alignmentgroup": "True",
         "bingroup": "x",
         "histnorm": "probability",
         "hovertemplate": "Genre=Drama, Musical<br>Duration m=%{x}<br>probability=%{y}<extra></extra>",
         "legendgroup": "Drama, Musical",
         "marker": {
          "color": "#FF6692",
          "pattern": {
           "shape": ""
          }
         },
         "name": "Drama, Musical",
         "nbinsx": 60,
         "offsetgroup": "Drama, Musical",
         "orientation": "v",
         "showlegend": true,
         "type": "histogram",
         "x": [
          122,
          160,
          122,
          126,
          174,
          153,
          149,
          177,
          139,
          158,
          160,
          148,
          141,
          100,
          172,
          152,
          94,
          132,
          204
         ],
         "xaxis": "x",
         "yaxis": "y"
        },
        {
         "alignmentgroup": "True",
         "bingroup": "x",
         "histnorm": "probability",
         "hovertemplate": "Genre=Crime, Drama, Thriller<br>Duration m=%{x}<br>probability=%{y}<extra></extra>",
         "legendgroup": "Crime, Drama, Thriller",
         "marker": {
          "color": "#B6E880",
          "pattern": {
           "shape": ""
          }
         },
         "name": "Crime, Drama, Thriller",
         "nbinsx": 60,
         "offsetgroup": "Crime, Drama, Thriller",
         "orientation": "v",
         "showlegend": true,
         "type": "histogram",
         "x": [
          105,
          110,
          180,
          137,
          157,
          134,
          107,
          126,
          97,
          150,
          140,
          131,
          122,
          150,
          147,
          142,
          68,
          77,
          68,
          123,
          132,
          108,
          150,
          146,
          177,
          153,
          100,
          152,
          136,
          133,
          163,
          131,
          149,
          114,
          124,
          144,
          120,
          166,
          113,
          140,
          155,
          107,
          114,
          137,
          130
         ],
         "xaxis": "x",
         "yaxis": "y"
        },
        {
         "alignmentgroup": "True",
         "bingroup": "x",
         "histnorm": "probability",
         "hovertemplate": "Genre=Action, Crime, Mystery<br>Duration m=%{x}<br>probability=%{y}<extra></extra>",
         "legendgroup": "Action, Crime, Mystery",
         "marker": {
          "color": "#FF97FF",
          "pattern": {
           "shape": ""
          }
         },
         "name": "Action, Crime, Mystery",
         "nbinsx": 60,
         "offsetgroup": "Action, Crime, Mystery",
         "orientation": "v",
         "showlegend": true,
         "type": "histogram",
         "x": [
          108,
          136,
          173
         ],
         "xaxis": "x",
         "yaxis": "y"
        },
        {
         "alignmentgroup": "True",
         "bingroup": "x",
         "histnorm": "probability",
         "hovertemplate": "Genre=Action, Adventure, Thriller<br>Duration m=%{x}<br>probability=%{y}<extra></extra>",
         "legendgroup": "Action, Adventure, Thriller",
         "marker": {
          "color": "#FECB52",
          "pattern": {
           "shape": ""
          }
         },
         "name": "Action, Adventure, Thriller",
         "nbinsx": 60,
         "offsetgroup": "Action, Adventure, Thriller",
         "orientation": "v",
         "showlegend": true,
         "type": "histogram",
         "x": [
          158,
          136,
          160,
          147,
          127,
          123,
          155,
          145,
          168,
          161,
          154,
          154
         ],
         "xaxis": "x",
         "yaxis": "y"
        },
        {
         "alignmentgroup": "True",
         "bingroup": "x",
         "histnorm": "probability",
         "hovertemplate": "Genre=Comedy, Romance, Sci-Fi<br>Duration m=%{x}<br>probability=%{y}<extra></extra>",
         "legendgroup": "Comedy, Romance, Sci-Fi",
         "marker": {
          "color": "#636efa",
          "pattern": {
           "shape": ""
          }
         },
         "name": "Comedy, Romance, Sci-Fi",
         "nbinsx": 60,
         "offsetgroup": "Comedy, Romance, Sci-Fi",
         "orientation": "v",
         "showlegend": true,
         "type": "histogram",
         "x": [
          129
         ],
         "xaxis": "x",
         "yaxis": "y"
        },
        {
         "alignmentgroup": "True",
         "bingroup": "x",
         "histnorm": "probability",
         "hovertemplate": "Genre=Action, Drama, Mystery<br>Duration m=%{x}<br>probability=%{y}<extra></extra>",
         "legendgroup": "Action, Drama, Mystery",
         "marker": {
          "color": "#EF553B",
          "pattern": {
           "shape": ""
          }
         },
         "name": "Action, Drama, Mystery",
         "nbinsx": 60,
         "offsetgroup": "Action, Drama, Mystery",
         "orientation": "v",
         "showlegend": true,
         "type": "histogram",
         "x": [
          137,
          128,
          143,
          105,
          186,
          140,
          146,
          142,
          116
         ],
         "xaxis": "x",
         "yaxis": "y"
        },
        {
         "alignmentgroup": "True",
         "bingroup": "x",
         "histnorm": "probability",
         "hovertemplate": "Genre=Action, Comedy, Thriller<br>Duration m=%{x}<br>probability=%{y}<extra></extra>",
         "legendgroup": "Action, Comedy, Thriller",
         "marker": {
          "color": "#00cc96",
          "pattern": {
           "shape": ""
          }
         },
         "name": "Action, Comedy, Thriller",
         "nbinsx": 60,
         "offsetgroup": "Action, Comedy, Thriller",
         "orientation": "v",
         "showlegend": true,
         "type": "histogram",
         "x": [
          150,
          125,
          143,
          169
         ],
         "xaxis": "x",
         "yaxis": "y"
        },
        {
         "alignmentgroup": "True",
         "bingroup": "x",
         "histnorm": "probability",
         "hovertemplate": "Genre=Biography, Drama<br>Duration m=%{x}<br>probability=%{y}<extra></extra>",
         "legendgroup": "Biography, Drama",
         "marker": {
          "color": "#ab63fa",
          "pattern": {
           "shape": ""
          }
         },
         "name": "Biography, Drama",
         "nbinsx": 60,
         "offsetgroup": "Biography, Drama",
         "orientation": "v",
         "showlegend": true,
         "type": "histogram",
         "x": [
          130,
          114,
          120,
          122,
          114,
          148,
          112,
          118,
          130,
          112,
          98,
          110,
          150,
          169,
          114,
          136,
          126,
          110,
          146,
          131,
          129,
          126,
          127,
          140,
          154,
          127,
          120,
          112,
          165,
          240
         ],
         "xaxis": "x",
         "yaxis": "y"
        },
        {
         "alignmentgroup": "True",
         "bingroup": "x",
         "histnorm": "probability",
         "hovertemplate": "Genre=Action, Comedy, Fantasy<br>Duration m=%{x}<br>probability=%{y}<extra></extra>",
         "legendgroup": "Action, Comedy, Fantasy",
         "marker": {
          "color": "#FFA15A",
          "pattern": {
           "shape": ""
          }
         },
         "name": "Action, Comedy, Fantasy",
         "nbinsx": 60,
         "offsetgroup": "Action, Comedy, Fantasy",
         "orientation": "v",
         "showlegend": true,
         "type": "histogram",
         "x": [
          145,
          140,
          139,
          162
         ],
         "xaxis": "x",
         "yaxis": "y"
        },
        {
         "alignmentgroup": "True",
         "bingroup": "x",
         "histnorm": "probability",
         "hovertemplate": "Genre=Drama, Family, Horror<br>Duration m=%{x}<br>probability=%{y}<extra></extra>",
         "legendgroup": "Drama, Family, Horror",
         "marker": {
          "color": "#19d3f3",
          "pattern": {
           "shape": ""
          }
         },
         "name": "Drama, Family, Horror",
         "nbinsx": 60,
         "offsetgroup": "Drama, Family, Horror",
         "orientation": "v",
         "showlegend": true,
         "type": "histogram",
         "x": [
          106
         ],
         "xaxis": "x",
         "yaxis": "y"
        },
        {
         "alignmentgroup": "True",
         "bingroup": "x",
         "histnorm": "probability",
         "hovertemplate": "Genre=Adventure<br>Duration m=%{x}<br>probability=%{y}<extra></extra>",
         "legendgroup": "Adventure",
         "marker": {
          "color": "#FF6692",
          "pattern": {
           "shape": ""
          }
         },
         "name": "Adventure",
         "nbinsx": 60,
         "offsetgroup": "Adventure",
         "orientation": "v",
         "showlegend": true,
         "type": "histogram",
         "x": [
          120,
          151,
          115,
          136,
          75,
          142,
          84,
          171,
          138,
          136,
          158,
          112,
          90
         ],
         "xaxis": "x",
         "yaxis": "y"
        },
        {
         "alignmentgroup": "True",
         "bingroup": "x",
         "histnorm": "probability",
         "hovertemplate": "Genre=Action, Adventure, Family<br>Duration m=%{x}<br>probability=%{y}<extra></extra>",
         "legendgroup": "Action, Adventure, Family",
         "marker": {
          "color": "#B6E880",
          "pattern": {
           "shape": ""
          }
         },
         "name": "Action, Adventure, Family",
         "nbinsx": 60,
         "offsetgroup": "Action, Adventure, Family",
         "orientation": "v",
         "showlegend": true,
         "type": "histogram",
         "x": [
          153,
          109
         ],
         "xaxis": "x",
         "yaxis": "y"
        },
        {
         "alignmentgroup": "True",
         "bingroup": "x",
         "histnorm": "probability",
         "hovertemplate": "Genre=Action, Drama, Musical<br>Duration m=%{x}<br>probability=%{y}<extra></extra>",
         "legendgroup": "Action, Drama, Musical",
         "marker": {
          "color": "#FF97FF",
          "pattern": {
           "shape": ""
          }
         },
         "name": "Action, Drama, Musical",
         "nbinsx": 60,
         "offsetgroup": "Action, Drama, Musical",
         "orientation": "v",
         "showlegend": true,
         "type": "histogram",
         "x": [
          152,
          127,
          153,
          150,
          139,
          57,
          142,
          152,
          178,
          165,
          159,
          162,
          127,
          142,
          166,
          158,
          136,
          192,
          164,
          156,
          164,
          161,
          190,
          159,
          156,
          167,
          125
         ],
         "xaxis": "x",
         "yaxis": "y"
        },
        {
         "alignmentgroup": "True",
         "bingroup": "x",
         "histnorm": "probability",
         "hovertemplate": "Genre=Action, Comedy, Crime<br>Duration m=%{x}<br>probability=%{y}<extra></extra>",
         "legendgroup": "Action, Comedy, Crime",
         "marker": {
          "color": "#FECB52",
          "pattern": {
           "shape": ""
          }
         },
         "name": "Action, Comedy, Crime",
         "nbinsx": 60,
         "offsetgroup": "Action, Comedy, Crime",
         "orientation": "v",
         "showlegend": true,
         "type": "histogram",
         "x": [
          153,
          108,
          133,
          143,
          132,
          158,
          103,
          175,
          152,
          133,
          144,
          120,
          114,
          133,
          164,
          143,
          155,
          138,
          138,
          145,
          126,
          162,
          185,
          103,
          164,
          133,
          180,
          144,
          128,
          165,
          321,
          150,
          180,
          142,
          137,
          146,
          123,
          122,
          110,
          136,
          149,
          92,
          135,
          125,
          139,
          169,
          125,
          139,
          156,
          149,
          141,
          130,
          126,
          123,
          128,
          132,
          140,
          164,
          158,
          135,
          100,
          130,
          100,
          152
         ],
         "xaxis": "x",
         "yaxis": "y"
        },
        {
         "alignmentgroup": "True",
         "bingroup": "x",
         "histnorm": "probability",
         "hovertemplate": "Genre=Adventure, Thriller<br>Duration m=%{x}<br>probability=%{y}<extra></extra>",
         "legendgroup": "Adventure, Thriller",
         "marker": {
          "color": "#636efa",
          "pattern": {
           "shape": ""
          }
         },
         "name": "Adventure, Thriller",
         "nbinsx": 60,
         "offsetgroup": "Adventure, Thriller",
         "orientation": "v",
         "showlegend": true,
         "type": "histogram",
         "x": [
          134,
          145,
          109
         ],
         "xaxis": "x",
         "yaxis": "y"
        },
        {
         "alignmentgroup": "True",
         "bingroup": "x",
         "histnorm": "probability",
         "hovertemplate": "Genre=Crime, Mystery<br>Duration m=%{x}<br>probability=%{y}<extra></extra>",
         "legendgroup": "Crime, Mystery",
         "marker": {
          "color": "#EF553B",
          "pattern": {
           "shape": ""
          }
         },
         "name": "Crime, Mystery",
         "nbinsx": 60,
         "offsetgroup": "Crime, Mystery",
         "orientation": "v",
         "showlegend": true,
         "type": "histogram",
         "x": [
          92,
          123,
          107,
          139,
          107
         ],
         "xaxis": "x",
         "yaxis": "y"
        },
        {
         "alignmentgroup": "True",
         "bingroup": "x",
         "histnorm": "probability",
         "hovertemplate": "Genre=Adventure, Comedy, Drama<br>Duration m=%{x}<br>probability=%{y}<extra></extra>",
         "legendgroup": "Adventure, Comedy, Drama",
         "marker": {
          "color": "#00cc96",
          "pattern": {
           "shape": ""
          }
         },
         "name": "Adventure, Comedy, Drama",
         "nbinsx": 60,
         "offsetgroup": "Adventure, Comedy, Drama",
         "orientation": "v",
         "showlegend": true,
         "type": "histogram",
         "x": [
          153,
          82,
          150,
          154,
          102,
          105,
          114,
          140,
          112,
          103,
          117,
          146,
          162,
          137,
          123,
          91,
          98
         ],
         "xaxis": "x",
         "yaxis": "y"
        },
        {
         "alignmentgroup": "True",
         "bingroup": "x",
         "histnorm": "probability",
         "hovertemplate": "Genre=Drama, Crime<br>Duration m=%{x}<br>probability=%{y}<extra></extra>",
         "legendgroup": "Drama, Crime",
         "marker": {
          "color": "#ab63fa",
          "pattern": {
           "shape": ""
          }
         },
         "name": "Drama, Crime",
         "nbinsx": 60,
         "offsetgroup": "Drama, Crime",
         "orientation": "v",
         "showlegend": true,
         "type": "histogram",
         "x": [
          138
         ],
         "xaxis": "x",
         "yaxis": "y"
        },
        {
         "alignmentgroup": "True",
         "bingroup": "x",
         "histnorm": "probability",
         "hovertemplate": "Genre=Drama, Fantasy, Romance<br>Duration m=%{x}<br>probability=%{y}<extra></extra>",
         "legendgroup": "Drama, Fantasy, Romance",
         "marker": {
          "color": "#FFA15A",
          "pattern": {
           "shape": ""
          }
         },
         "name": "Drama, Fantasy, Romance",
         "nbinsx": 60,
         "offsetgroup": "Drama, Fantasy, Romance",
         "orientation": "v",
         "showlegend": true,
         "type": "histogram",
         "x": [
          126,
          82,
          103,
          125,
          123
         ],
         "xaxis": "x",
         "yaxis": "y"
        },
        {
         "alignmentgroup": "True",
         "bingroup": "x",
         "histnorm": "probability",
         "hovertemplate": "Genre=Musical, Comedy, Drama<br>Duration m=%{x}<br>probability=%{y}<extra></extra>",
         "legendgroup": "Musical, Comedy, Drama",
         "marker": {
          "color": "#19d3f3",
          "pattern": {
           "shape": ""
          }
         },
         "name": "Musical, Comedy, Drama",
         "nbinsx": 60,
         "offsetgroup": "Musical, Comedy, Drama",
         "orientation": "v",
         "showlegend": true,
         "type": "histogram",
         "x": [
          124
         ],
         "xaxis": "x",
         "yaxis": "y"
        },
        {
         "alignmentgroup": "True",
         "bingroup": "x",
         "histnorm": "probability",
         "hovertemplate": "Genre=Drama, Horror, Mystery<br>Duration m=%{x}<br>probability=%{y}<extra></extra>",
         "legendgroup": "Drama, Horror, Mystery",
         "marker": {
          "color": "#FF6692",
          "pattern": {
           "shape": ""
          }
         },
         "name": "Drama, Horror, Mystery",
         "nbinsx": 60,
         "offsetgroup": "Drama, Horror, Mystery",
         "orientation": "v",
         "showlegend": true,
         "type": "histogram",
         "x": [
          130,
          94,
          95,
          127,
          131,
          90,
          100,
          128,
          110,
          110,
          93,
          180
         ],
         "xaxis": "x",
         "yaxis": "y"
        },
        {
         "alignmentgroup": "True",
         "bingroup": "x",
         "histnorm": "probability",
         "hovertemplate": "Genre=Action, Comedy, Romance<br>Duration m=%{x}<br>probability=%{y}<extra></extra>",
         "legendgroup": "Action, Comedy, Romance",
         "marker": {
          "color": "#B6E880",
          "pattern": {
           "shape": ""
          }
         },
         "name": "Action, Comedy, Romance",
         "nbinsx": 60,
         "offsetgroup": "Action, Comedy, Romance",
         "orientation": "v",
         "showlegend": true,
         "type": "histogram",
         "x": [
          150,
          160,
          140,
          130,
          147,
          153,
          138,
          130,
          142,
          119,
          128,
          150,
          146,
          145,
          138,
          155,
          137,
          148,
          148
         ],
         "xaxis": "x",
         "yaxis": "y"
        },
        {
         "alignmentgroup": "True",
         "bingroup": "x",
         "histnorm": "probability",
         "hovertemplate": "Genre=Drama, History, Musical<br>Duration m=%{x}<br>probability=%{y}<extra></extra>",
         "legendgroup": "Drama, History, Musical",
         "marker": {
          "color": "#FF97FF",
          "pattern": {
           "shape": ""
          }
         },
         "name": "Drama, History, Musical",
         "nbinsx": 60,
         "offsetgroup": "Drama, History, Musical",
         "orientation": "v",
         "showlegend": true,
         "type": "histogram",
         "x": [
          139
         ],
         "xaxis": "x",
         "yaxis": "y"
        },
        {
         "alignmentgroup": "True",
         "bingroup": "x",
         "histnorm": "probability",
         "hovertemplate": "Genre=Action, Crime, Horror<br>Duration m=%{x}<br>probability=%{y}<extra></extra>",
         "legendgroup": "Action, Crime, Horror",
         "marker": {
          "color": "#FECB52",
          "pattern": {
           "shape": ""
          }
         },
         "name": "Action, Crime, Horror",
         "nbinsx": 60,
         "offsetgroup": "Action, Crime, Horror",
         "orientation": "v",
         "showlegend": true,
         "type": "histogram",
         "x": [
          184
         ],
         "xaxis": "x",
         "yaxis": "y"
        },
        {
         "alignmentgroup": "True",
         "bingroup": "x",
         "histnorm": "probability",
         "hovertemplate": "Genre=Crime, Drama, Mystery<br>Duration m=%{x}<br>probability=%{y}<extra></extra>",
         "legendgroup": "Crime, Drama, Mystery",
         "marker": {
          "color": "#636efa",
          "pattern": {
           "shape": ""
          }
         },
         "name": "Crime, Drama, Mystery",
         "nbinsx": 60,
         "offsetgroup": "Crime, Drama, Mystery",
         "orientation": "v",
         "showlegend": true,
         "type": "histogram",
         "x": [
          127,
          120,
          120,
          130,
          154,
          160,
          169,
          123,
          141,
          163,
          51,
          120,
          145,
          97,
          135,
          128,
          114,
          137,
          132,
          122,
          123,
          108,
          21,
          135,
          149,
          124,
          135,
          124,
          120,
          110,
          132,
          103,
          144,
          120,
          95,
          90,
          125,
          97,
          131,
          128,
          122,
          130,
          132
         ],
         "xaxis": "x",
         "yaxis": "y"
        },
        {
         "alignmentgroup": "True",
         "bingroup": "x",
         "histnorm": "probability",
         "hovertemplate": "Genre=Adventure, Fantasy<br>Duration m=%{x}<br>probability=%{y}<extra></extra>",
         "legendgroup": "Adventure, Fantasy",
         "marker": {
          "color": "#EF553B",
          "pattern": {
           "shape": ""
          }
         },
         "name": "Adventure, Fantasy",
         "nbinsx": 60,
         "offsetgroup": "Adventure, Fantasy",
         "orientation": "v",
         "showlegend": true,
         "type": "histogram",
         "x": [
          144,
          150,
          144,
          162
         ],
         "xaxis": "x",
         "yaxis": "y"
        },
        {
         "alignmentgroup": "True",
         "bingroup": "x",
         "histnorm": "probability",
         "hovertemplate": "Genre=Action, Drama, Fantasy<br>Duration m=%{x}<br>probability=%{y}<extra></extra>",
         "legendgroup": "Action, Drama, Fantasy",
         "marker": {
          "color": "#00cc96",
          "pattern": {
           "shape": ""
          }
         },
         "name": "Action, Drama, Fantasy",
         "nbinsx": 60,
         "offsetgroup": "Action, Drama, Fantasy",
         "orientation": "v",
         "showlegend": true,
         "type": "histogram",
         "x": [
          123,
          161,
          168,
          170,
          175,
          90,
          129,
          141,
          152,
          147
         ],
         "xaxis": "x",
         "yaxis": "y"
        },
        {
         "alignmentgroup": "True",
         "bingroup": "x",
         "histnorm": "probability",
         "hovertemplate": "Genre=Adventure, Drama, Fantasy<br>Duration m=%{x}<br>probability=%{y}<extra></extra>",
         "legendgroup": "Adventure, Drama, Fantasy",
         "marker": {
          "color": "#ab63fa",
          "pattern": {
           "shape": ""
          }
         },
         "name": "Adventure, Drama, Fantasy",
         "nbinsx": 60,
         "offsetgroup": "Adventure, Drama, Fantasy",
         "orientation": "v",
         "showlegend": true,
         "type": "histogram",
         "x": [
          144,
          168,
          135,
          124,
          110,
          127,
          136,
          137,
          139,
          155
         ],
         "xaxis": "x",
         "yaxis": "y"
        },
        {
         "alignmentgroup": "True",
         "bingroup": "x",
         "histnorm": "probability",
         "hovertemplate": "Genre=Adventure, Fantasy, Romance<br>Duration m=%{x}<br>probability=%{y}<extra></extra>",
         "legendgroup": "Adventure, Fantasy, Romance",
         "marker": {
          "color": "#FFA15A",
          "pattern": {
           "shape": ""
          }
         },
         "name": "Adventure, Fantasy, Romance",
         "nbinsx": 60,
         "offsetgroup": "Adventure, Fantasy, Romance",
         "orientation": "v",
         "showlegend": true,
         "type": "histogram",
         "x": [
          154,
          68
         ],
         "xaxis": "x",
         "yaxis": "y"
        },
        {
         "alignmentgroup": "True",
         "bingroup": "x",
         "histnorm": "probability",
         "hovertemplate": "Genre=Action, Adventure, Drama<br>Duration m=%{x}<br>probability=%{y}<extra></extra>",
         "legendgroup": "Action, Adventure, Drama",
         "marker": {
          "color": "#19d3f3",
          "pattern": {
           "shape": ""
          }
         },
         "name": "Action, Adventure, Drama",
         "nbinsx": 60,
         "offsetgroup": "Action, Adventure, Drama",
         "orientation": "v",
         "showlegend": true,
         "type": "histogram",
         "x": [
          145,
          141,
          153,
          172,
          139,
          134,
          136,
          175,
          137,
          145,
          135,
          152,
          142,
          145,
          90,
          193,
          133,
          155,
          180,
          141,
          130,
          155,
          137,
          130,
          120,
          144,
          106,
          144,
          155,
          153,
          142,
          125,
          160,
          101,
          169,
          130,
          128,
          154
         ],
         "xaxis": "x",
         "yaxis": "y"
        },
        {
         "alignmentgroup": "True",
         "bingroup": "x",
         "histnorm": "probability",
         "hovertemplate": "Genre=Action, Adventure<br>Duration m=%{x}<br>probability=%{y}<extra></extra>",
         "legendgroup": "Action, Adventure",
         "marker": {
          "color": "#FF6692",
          "pattern": {
           "shape": ""
          }
         },
         "name": "Action, Adventure",
         "nbinsx": 60,
         "offsetgroup": "Action, Adventure",
         "orientation": "v",
         "showlegend": true,
         "type": "histogram",
         "x": [
          163,
          142,
          155,
          97,
          166,
          137,
          148,
          131,
          150,
          138,
          140,
          164,
          164,
          169
         ],
         "xaxis": "x",
         "yaxis": "y"
        },
        {
         "alignmentgroup": "True",
         "bingroup": "x",
         "histnorm": "probability",
         "hovertemplate": "Genre=Adventure, Drama, Romance<br>Duration m=%{x}<br>probability=%{y}<extra></extra>",
         "legendgroup": "Adventure, Drama, Romance",
         "marker": {
          "color": "#B6E880",
          "pattern": {
           "shape": ""
          }
         },
         "name": "Adventure, Drama, Romance",
         "nbinsx": 60,
         "offsetgroup": "Adventure, Drama, Romance",
         "orientation": "v",
         "showlegend": true,
         "type": "histogram",
         "x": [
          152,
          137,
          136
         ],
         "xaxis": "x",
         "yaxis": "y"
        },
        {
         "alignmentgroup": "True",
         "bingroup": "x",
         "histnorm": "probability",
         "hovertemplate": "Genre=Horror, Thriller<br>Duration m=%{x}<br>probability=%{y}<extra></extra>",
         "legendgroup": "Horror, Thriller",
         "marker": {
          "color": "#FF97FF",
          "pattern": {
           "shape": ""
          }
         },
         "name": "Horror, Thriller",
         "nbinsx": 60,
         "offsetgroup": "Horror, Thriller",
         "orientation": "v",
         "showlegend": true,
         "type": "histogram",
         "x": [
          134,
          97,
          100,
          108,
          124,
          155,
          144,
          109,
          110,
          100,
          121,
          130,
          162,
          113,
          130
         ],
         "xaxis": "x",
         "yaxis": "y"
        },
        {
         "alignmentgroup": "True",
         "bingroup": "x",
         "histnorm": "probability",
         "hovertemplate": "Genre=Family<br>Duration m=%{x}<br>probability=%{y}<extra></extra>",
         "legendgroup": "Family",
         "marker": {
          "color": "#FECB52",
          "pattern": {
           "shape": ""
          }
         },
         "name": "Family",
         "nbinsx": 60,
         "offsetgroup": "Family",
         "orientation": "v",
         "showlegend": true,
         "type": "histogram",
         "x": [
          153,
          155,
          102,
          79,
          145,
          72,
          126,
          85,
          71,
          124,
          125,
          141,
          82,
          167,
          125,
          105,
          80,
          131,
          100,
          143,
          118,
          78,
          107,
          127,
          155,
          137,
          122,
          120
         ],
         "xaxis": "x",
         "yaxis": "y"
        },
        {
         "alignmentgroup": "True",
         "bingroup": "x",
         "histnorm": "probability",
         "hovertemplate": "Genre=Mystery<br>Duration m=%{x}<br>probability=%{y}<extra></extra>",
         "legendgroup": "Mystery",
         "marker": {
          "color": "#636efa",
          "pattern": {
           "shape": ""
          }
         },
         "name": "Mystery",
         "nbinsx": 60,
         "offsetgroup": "Mystery",
         "orientation": "v",
         "showlegend": true,
         "type": "histogram",
         "x": [
          95,
          131,
          160,
          114,
          114,
          111,
          110,
          150,
          135,
          79,
          95,
          130,
          82,
          115,
          137,
          166
         ],
         "xaxis": "x",
         "yaxis": "y"
        },
        {
         "alignmentgroup": "True",
         "bingroup": "x",
         "histnorm": "probability",
         "hovertemplate": "Genre=Drama, Fantasy, Thriller<br>Duration m=%{x}<br>probability=%{y}<extra></extra>",
         "legendgroup": "Drama, Fantasy, Thriller",
         "marker": {
          "color": "#EF553B",
          "pattern": {
           "shape": ""
          }
         },
         "name": "Drama, Fantasy, Thriller",
         "nbinsx": 60,
         "offsetgroup": "Drama, Fantasy, Thriller",
         "orientation": "v",
         "showlegend": true,
         "type": "histogram",
         "x": [
          110,
          138,
          129
         ],
         "xaxis": "x",
         "yaxis": "y"
        },
        {
         "alignmentgroup": "True",
         "bingroup": "x",
         "histnorm": "probability",
         "hovertemplate": "Genre=Musical, Fantasy<br>Duration m=%{x}<br>probability=%{y}<extra></extra>",
         "legendgroup": "Musical, Fantasy",
         "marker": {
          "color": "#00cc96",
          "pattern": {
           "shape": ""
          }
         },
         "name": "Musical, Fantasy",
         "nbinsx": 60,
         "offsetgroup": "Musical, Fantasy",
         "orientation": "v",
         "showlegend": true,
         "type": "histogram",
         "x": [
          119
         ],
         "xaxis": "x",
         "yaxis": "y"
        },
        {
         "alignmentgroup": "True",
         "bingroup": "x",
         "histnorm": "probability",
         "hovertemplate": "Genre=Documentary, Thriller<br>Duration m=%{x}<br>probability=%{y}<extra></extra>",
         "legendgroup": "Documentary, Thriller",
         "marker": {
          "color": "#ab63fa",
          "pattern": {
           "shape": ""
          }
         },
         "name": "Documentary, Thriller",
         "nbinsx": 60,
         "offsetgroup": "Documentary, Thriller",
         "orientation": "v",
         "showlegend": true,
         "type": "histogram",
         "x": [
          96
         ],
         "xaxis": "x",
         "yaxis": "y"
        },
        {
         "alignmentgroup": "True",
         "bingroup": "x",
         "histnorm": "probability",
         "hovertemplate": "Genre=Mystery, Romance, Musical<br>Duration m=%{x}<br>probability=%{y}<extra></extra>",
         "legendgroup": "Mystery, Romance, Musical",
         "marker": {
          "color": "#FFA15A",
          "pattern": {
           "shape": ""
          }
         },
         "name": "Mystery, Romance, Musical",
         "nbinsx": 60,
         "offsetgroup": "Mystery, Romance, Musical",
         "orientation": "v",
         "showlegend": true,
         "type": "histogram",
         "x": [
          125
         ],
         "xaxis": "x",
         "yaxis": "y"
        },
        {
         "alignmentgroup": "True",
         "bingroup": "x",
         "histnorm": "probability",
         "hovertemplate": "Genre=History, Musical, Romance<br>Duration m=%{x}<br>probability=%{y}<extra></extra>",
         "legendgroup": "History, Musical, Romance",
         "marker": {
          "color": "#19d3f3",
          "pattern": {
           "shape": ""
          }
         },
         "name": "History, Musical, Romance",
         "nbinsx": 60,
         "offsetgroup": "History, Musical, Romance",
         "orientation": "v",
         "showlegend": true,
         "type": "histogram",
         "x": [
          175
         ],
         "xaxis": "x",
         "yaxis": "y"
        },
        {
         "alignmentgroup": "True",
         "bingroup": "x",
         "histnorm": "probability",
         "hovertemplate": "Genre=Crime, Drama, Music<br>Duration m=%{x}<br>probability=%{y}<extra></extra>",
         "legendgroup": "Crime, Drama, Music",
         "marker": {
          "color": "#FF6692",
          "pattern": {
           "shape": ""
          }
         },
         "name": "Crime, Drama, Music",
         "nbinsx": 60,
         "offsetgroup": "Crime, Drama, Music",
         "orientation": "v",
         "showlegend": true,
         "type": "histogram",
         "x": [
          139,
          170
         ],
         "xaxis": "x",
         "yaxis": "y"
        },
        {
         "alignmentgroup": "True",
         "bingroup": "x",
         "histnorm": "probability",
         "hovertemplate": "Genre=Musical, Thriller, Mystery<br>Duration m=%{x}<br>probability=%{y}<extra></extra>",
         "legendgroup": "Musical, Thriller, Mystery",
         "marker": {
          "color": "#B6E880",
          "pattern": {
           "shape": ""
          }
         },
         "name": "Musical, Thriller, Mystery",
         "nbinsx": 60,
         "offsetgroup": "Musical, Thriller, Mystery",
         "orientation": "v",
         "showlegend": true,
         "type": "histogram",
         "x": [
          154
         ],
         "xaxis": "x",
         "yaxis": "y"
        },
        {
         "alignmentgroup": "True",
         "bingroup": "x",
         "histnorm": "probability",
         "hovertemplate": "Genre=Biography<br>Duration m=%{x}<br>probability=%{y}<extra></extra>",
         "legendgroup": "Biography",
         "marker": {
          "color": "#FF97FF",
          "pattern": {
           "shape": ""
          }
         },
         "name": "Biography",
         "nbinsx": 60,
         "offsetgroup": "Biography",
         "orientation": "v",
         "showlegend": true,
         "type": "histogram",
         "x": [
          142,
          150,
          120,
          178,
          165,
          131
         ],
         "xaxis": "x",
         "yaxis": "y"
        },
        {
         "alignmentgroup": "True",
         "bingroup": "x",
         "histnorm": "probability",
         "hovertemplate": "Genre=History<br>Duration m=%{x}<br>probability=%{y}<extra></extra>",
         "legendgroup": "History",
         "marker": {
          "color": "#FECB52",
          "pattern": {
           "shape": ""
          }
         },
         "name": "History",
         "nbinsx": 60,
         "offsetgroup": "History",
         "orientation": "v",
         "showlegend": true,
         "type": "histogram",
         "x": [
          154,
          185,
          140,
          147,
          126,
          146
         ],
         "xaxis": "x",
         "yaxis": "y"
        },
        {
         "alignmentgroup": "True",
         "bingroup": "x",
         "histnorm": "probability",
         "hovertemplate": "Genre=Biography, Drama, Music<br>Duration m=%{x}<br>probability=%{y}<extra></extra>",
         "legendgroup": "Biography, Drama, Music",
         "marker": {
          "color": "#636efa",
          "pattern": {
           "shape": ""
          }
         },
         "name": "Biography, Drama, Music",
         "nbinsx": 60,
         "offsetgroup": "Biography, Drama, Music",
         "orientation": "v",
         "showlegend": true,
         "type": "histogram",
         "x": [
          154
         ],
         "xaxis": "x",
         "yaxis": "y"
        },
        {
         "alignmentgroup": "True",
         "bingroup": "x",
         "histnorm": "probability",
         "hovertemplate": "Genre=Drama, Sci-Fi<br>Duration m=%{x}<br>probability=%{y}<extra></extra>",
         "legendgroup": "Drama, Sci-Fi",
         "marker": {
          "color": "#EF553B",
          "pattern": {
           "shape": ""
          }
         },
         "name": "Drama, Sci-Fi",
         "nbinsx": 60,
         "offsetgroup": "Drama, Sci-Fi",
         "orientation": "v",
         "showlegend": true,
         "type": "histogram",
         "x": [
          110,
          129
         ],
         "xaxis": "x",
         "yaxis": "y"
        },
        {
         "alignmentgroup": "True",
         "bingroup": "x",
         "histnorm": "probability",
         "hovertemplate": "Genre=Comedy, Musical, Romance<br>Duration m=%{x}<br>probability=%{y}<extra></extra>",
         "legendgroup": "Comedy, Musical, Romance",
         "marker": {
          "color": "#00cc96",
          "pattern": {
           "shape": ""
          }
         },
         "name": "Comedy, Musical, Romance",
         "nbinsx": 60,
         "offsetgroup": "Comedy, Musical, Romance",
         "orientation": "v",
         "showlegend": true,
         "type": "histogram",
         "x": [
          134,
          128,
          173,
          165,
          164,
          127,
          168,
          136,
          158,
          153,
          122,
          157,
          148,
          122,
          106
         ],
         "xaxis": "x",
         "yaxis": "y"
        },
        {
         "alignmentgroup": "True",
         "bingroup": "x",
         "histnorm": "probability",
         "hovertemplate": "Genre=Drama, Sport<br>Duration m=%{x}<br>probability=%{y}<extra></extra>",
         "legendgroup": "Drama, Sport",
         "marker": {
          "color": "#ab63fa",
          "pattern": {
           "shape": ""
          }
         },
         "name": "Drama, Sport",
         "nbinsx": 60,
         "offsetgroup": "Drama, Sport",
         "orientation": "v",
         "showlegend": true,
         "type": "histogram",
         "x": [
          173,
          86,
          167,
          132,
          120,
          132,
          120,
          131,
          140,
          130,
          160,
          94
         ],
         "xaxis": "x",
         "yaxis": "y"
        },
        {
         "alignmentgroup": "True",
         "bingroup": "x",
         "histnorm": "probability",
         "hovertemplate": "Genre=Drama, Family, Comedy<br>Duration m=%{x}<br>probability=%{y}<extra></extra>",
         "legendgroup": "Drama, Family, Comedy",
         "marker": {
          "color": "#FFA15A",
          "pattern": {
           "shape": ""
          }
         },
         "name": "Drama, Family, Comedy",
         "nbinsx": 60,
         "offsetgroup": "Drama, Family, Comedy",
         "orientation": "v",
         "showlegend": true,
         "type": "histogram",
         "x": [
          123
         ],
         "xaxis": "x",
         "yaxis": "y"
        },
        {
         "alignmentgroup": "True",
         "bingroup": "x",
         "histnorm": "probability",
         "hovertemplate": "Genre=Action, Thriller, Romance<br>Duration m=%{x}<br>probability=%{y}<extra></extra>",
         "legendgroup": "Action, Thriller, Romance",
         "marker": {
          "color": "#19d3f3",
          "pattern": {
           "shape": ""
          }
         },
         "name": "Action, Thriller, Romance",
         "nbinsx": 60,
         "offsetgroup": "Action, Thriller, Romance",
         "orientation": "v",
         "showlegend": true,
         "type": "histogram",
         "x": [
          128
         ],
         "xaxis": "x",
         "yaxis": "y"
        },
        {
         "alignmentgroup": "True",
         "bingroup": "x",
         "histnorm": "probability",
         "hovertemplate": "Genre=Comedy, Romance, Thriller<br>Duration m=%{x}<br>probability=%{y}<extra></extra>",
         "legendgroup": "Comedy, Romance, Thriller",
         "marker": {
          "color": "#FF6692",
          "pattern": {
           "shape": ""
          }
         },
         "name": "Comedy, Romance, Thriller",
         "nbinsx": 60,
         "offsetgroup": "Comedy, Romance, Thriller",
         "orientation": "v",
         "showlegend": true,
         "type": "histogram",
         "x": [
          154,
          151,
          176,
          170,
          135
         ],
         "xaxis": "x",
         "yaxis": "y"
        },
        {
         "alignmentgroup": "True",
         "bingroup": "x",
         "histnorm": "probability",
         "hovertemplate": "Genre=Action, Crime, Musical<br>Duration m=%{x}<br>probability=%{y}<extra></extra>",
         "legendgroup": "Action, Crime, Musical",
         "marker": {
          "color": "#B6E880",
          "pattern": {
           "shape": ""
          }
         },
         "name": "Action, Crime, Musical",
         "nbinsx": 60,
         "offsetgroup": "Action, Crime, Musical",
         "orientation": "v",
         "showlegend": true,
         "type": "histogram",
         "x": [
          133,
          138
         ],
         "xaxis": "x",
         "yaxis": "y"
        },
        {
         "alignmentgroup": "True",
         "bingroup": "x",
         "histnorm": "probability",
         "hovertemplate": "Genre=Action, Crime, Romance<br>Duration m=%{x}<br>probability=%{y}<extra></extra>",
         "legendgroup": "Action, Crime, Romance",
         "marker": {
          "color": "#FF97FF",
          "pattern": {
           "shape": ""
          }
         },
         "name": "Action, Crime, Romance",
         "nbinsx": 60,
         "offsetgroup": "Action, Crime, Romance",
         "orientation": "v",
         "showlegend": true,
         "type": "histogram",
         "x": [
          150,
          146,
          130,
          119,
          134,
          152,
          112,
          105
         ],
         "xaxis": "x",
         "yaxis": "y"
        },
        {
         "alignmentgroup": "True",
         "bingroup": "x",
         "histnorm": "probability",
         "hovertemplate": "Genre=Documentary, History<br>Duration m=%{x}<br>probability=%{y}<extra></extra>",
         "legendgroup": "Documentary, History",
         "marker": {
          "color": "#FECB52",
          "pattern": {
           "shape": ""
          }
         },
         "name": "Documentary, History",
         "nbinsx": 60,
         "offsetgroup": "Documentary, History",
         "orientation": "v",
         "showlegend": true,
         "type": "histogram",
         "x": [
          105,
          83,
          87,
          56
         ],
         "xaxis": "x",
         "yaxis": "y"
        },
        {
         "alignmentgroup": "True",
         "bingroup": "x",
         "histnorm": "probability",
         "hovertemplate": "Genre=Comedy, Musical<br>Duration m=%{x}<br>probability=%{y}<extra></extra>",
         "legendgroup": "Comedy, Musical",
         "marker": {
          "color": "#636efa",
          "pattern": {
           "shape": ""
          }
         },
         "name": "Comedy, Musical",
         "nbinsx": 60,
         "offsetgroup": "Comedy, Musical",
         "orientation": "v",
         "showlegend": true,
         "type": "histogram",
         "x": [
          120,
          115,
          141
         ],
         "xaxis": "x",
         "yaxis": "y"
        },
        {
         "alignmentgroup": "True",
         "bingroup": "x",
         "histnorm": "probability",
         "hovertemplate": "Genre=Biography, Crime, Thriller<br>Duration m=%{x}<br>probability=%{y}<extra></extra>",
         "legendgroup": "Biography, Crime, Thriller",
         "marker": {
          "color": "#EF553B",
          "pattern": {
           "shape": ""
          }
         },
         "name": "Biography, Crime, Thriller",
         "nbinsx": 60,
         "offsetgroup": "Biography, Crime, Thriller",
         "orientation": "v",
         "showlegend": true,
         "type": "histogram",
         "x": [
          171
         ],
         "xaxis": "x",
         "yaxis": "y"
        },
        {
         "alignmentgroup": "True",
         "bingroup": "x",
         "histnorm": "probability",
         "hovertemplate": "Genre=Adventure, Mystery, Thriller<br>Duration m=%{x}<br>probability=%{y}<extra></extra>",
         "legendgroup": "Adventure, Mystery, Thriller",
         "marker": {
          "color": "#00cc96",
          "pattern": {
           "shape": ""
          }
         },
         "name": "Adventure, Mystery, Thriller",
         "nbinsx": 60,
         "offsetgroup": "Adventure, Mystery, Thriller",
         "orientation": "v",
         "showlegend": true,
         "type": "histogram",
         "x": [
          156
         ],
         "xaxis": "x",
         "yaxis": "y"
        },
        {
         "alignmentgroup": "True",
         "bingroup": "x",
         "histnorm": "probability",
         "hovertemplate": "Genre=Biography, Drama, Sport<br>Duration m=%{x}<br>probability=%{y}<extra></extra>",
         "legendgroup": "Biography, Drama, Sport",
         "marker": {
          "color": "#ab63fa",
          "pattern": {
           "shape": ""
          }
         },
         "name": "Biography, Drama, Sport",
         "nbinsx": 60,
         "offsetgroup": "Biography, Drama, Sport",
         "orientation": "v",
         "showlegend": true,
         "type": "histogram",
         "x": [
          130,
          186,
          112,
          135,
          131
         ],
         "xaxis": "x",
         "yaxis": "y"
        },
        {
         "alignmentgroup": "True",
         "bingroup": "x",
         "histnorm": "probability",
         "hovertemplate": "Genre=Crime, Drama, Romance<br>Duration m=%{x}<br>probability=%{y}<extra></extra>",
         "legendgroup": "Crime, Drama, Romance",
         "marker": {
          "color": "#FFA15A",
          "pattern": {
           "shape": ""
          }
         },
         "name": "Crime, Drama, Romance",
         "nbinsx": 60,
         "offsetgroup": "Crime, Drama, Romance",
         "orientation": "v",
         "showlegend": true,
         "type": "histogram",
         "x": [
          133,
          136,
          123,
          156,
          169,
          110,
          160,
          100,
          133,
          110,
          140,
          112,
          121,
          115,
          100,
          113,
          118,
          150,
          115,
          131,
          83,
          109,
          102,
          150
         ],
         "xaxis": "x",
         "yaxis": "y"
        },
        {
         "alignmentgroup": "True",
         "bingroup": "x",
         "histnorm": "probability",
         "hovertemplate": "Genre=Mystery, Romance, Thriller<br>Duration m=%{x}<br>probability=%{y}<extra></extra>",
         "legendgroup": "Mystery, Romance, Thriller",
         "marker": {
          "color": "#19d3f3",
          "pattern": {
           "shape": ""
          }
         },
         "name": "Mystery, Romance, Thriller",
         "nbinsx": 60,
         "offsetgroup": "Mystery, Romance, Thriller",
         "orientation": "v",
         "showlegend": true,
         "type": "histogram",
         "x": [
          145,
          145,
          86,
          131,
          115
         ],
         "xaxis": "x",
         "yaxis": "y"
        },
        {
         "alignmentgroup": "True",
         "bingroup": "x",
         "histnorm": "probability",
         "hovertemplate": "Genre=Comedy, Horror, Musical<br>Duration m=%{x}<br>probability=%{y}<extra></extra>",
         "legendgroup": "Comedy, Horror, Musical",
         "marker": {
          "color": "#FF6692",
          "pattern": {
           "shape": ""
          }
         },
         "name": "Comedy, Horror, Musical",
         "nbinsx": 60,
         "offsetgroup": "Comedy, Horror, Musical",
         "orientation": "v",
         "showlegend": true,
         "type": "histogram",
         "x": [
          99
         ],
         "xaxis": "x",
         "yaxis": "y"
        },
        {
         "alignmentgroup": "True",
         "bingroup": "x",
         "histnorm": "probability",
         "hovertemplate": "Genre=Family, Thriller<br>Duration m=%{x}<br>probability=%{y}<extra></extra>",
         "legendgroup": "Family, Thriller",
         "marker": {
          "color": "#B6E880",
          "pattern": {
           "shape": ""
          }
         },
         "name": "Family, Thriller",
         "nbinsx": 60,
         "offsetgroup": "Family, Thriller",
         "orientation": "v",
         "showlegend": true,
         "type": "histogram",
         "x": [
          135
         ],
         "xaxis": "x",
         "yaxis": "y"
        },
        {
         "alignmentgroup": "True",
         "bingroup": "x",
         "histnorm": "probability",
         "hovertemplate": "Genre=Drama, Action, Crime<br>Duration m=%{x}<br>probability=%{y}<extra></extra>",
         "legendgroup": "Drama, Action, Crime",
         "marker": {
          "color": "#FF97FF",
          "pattern": {
           "shape": ""
          }
         },
         "name": "Drama, Action, Crime",
         "nbinsx": 60,
         "offsetgroup": "Drama, Action, Crime",
         "orientation": "v",
         "showlegend": true,
         "type": "histogram",
         "x": [
          146
         ],
         "xaxis": "x",
         "yaxis": "y"
        },
        {
         "alignmentgroup": "True",
         "bingroup": "x",
         "histnorm": "probability",
         "hovertemplate": "Genre=Action, Comedy, Musical<br>Duration m=%{x}<br>probability=%{y}<extra></extra>",
         "legendgroup": "Action, Comedy, Musical",
         "marker": {
          "color": "#FECB52",
          "pattern": {
           "shape": ""
          }
         },
         "name": "Action, Comedy, Musical",
         "nbinsx": 60,
         "offsetgroup": "Action, Comedy, Musical",
         "orientation": "v",
         "showlegend": true,
         "type": "histogram",
         "x": [
          140,
          161,
          125,
          136,
          169
         ],
         "xaxis": "x",
         "yaxis": "y"
        },
        {
         "alignmentgroup": "True",
         "bingroup": "x",
         "histnorm": "probability",
         "hovertemplate": "Genre=Drama, War<br>Duration m=%{x}<br>probability=%{y}<extra></extra>",
         "legendgroup": "Drama, War",
         "marker": {
          "color": "#636efa",
          "pattern": {
           "shape": ""
          }
         },
         "name": "Drama, War",
         "nbinsx": 60,
         "offsetgroup": "Drama, War",
         "orientation": "v",
         "showlegend": true,
         "type": "histogram",
         "x": [
          122,
          98,
          80,
          114,
          111,
          136
         ],
         "xaxis": "x",
         "yaxis": "y"
        },
        {
         "alignmentgroup": "True",
         "bingroup": "x",
         "histnorm": "probability",
         "hovertemplate": "Genre=Comedy, Drama, Thriller<br>Duration m=%{x}<br>probability=%{y}<extra></extra>",
         "legendgroup": "Comedy, Drama, Thriller",
         "marker": {
          "color": "#EF553B",
          "pattern": {
           "shape": ""
          }
         },
         "name": "Comedy, Drama, Thriller",
         "nbinsx": 60,
         "offsetgroup": "Comedy, Drama, Thriller",
         "orientation": "v",
         "showlegend": true,
         "type": "histogram",
         "x": [
          110,
          121,
          127,
          99,
          173,
          137,
          108,
          100,
          116,
          78
         ],
         "xaxis": "x",
         "yaxis": "y"
        },
        {
         "alignmentgroup": "True",
         "bingroup": "x",
         "histnorm": "probability",
         "hovertemplate": "Genre=Animation<br>Duration m=%{x}<br>probability=%{y}<extra></extra>",
         "legendgroup": "Animation",
         "marker": {
          "color": "#00cc96",
          "pattern": {
           "shape": ""
          }
         },
         "name": "Animation",
         "nbinsx": 60,
         "offsetgroup": "Animation",
         "orientation": "v",
         "showlegend": true,
         "type": "histogram",
         "x": [
          68,
          81,
          134,
          130,
          97,
          117,
          89,
          65,
          120,
          106,
          190
         ],
         "xaxis": "x",
         "yaxis": "y"
        },
        {
         "alignmentgroup": "True",
         "bingroup": "x",
         "histnorm": "probability",
         "hovertemplate": "Genre=Action, Drama, Horror<br>Duration m=%{x}<br>probability=%{y}<extra></extra>",
         "legendgroup": "Action, Drama, Horror",
         "marker": {
          "color": "#ab63fa",
          "pattern": {
           "shape": ""
          }
         },
         "name": "Action, Drama, Horror",
         "nbinsx": 60,
         "offsetgroup": "Action, Drama, Horror",
         "orientation": "v",
         "showlegend": true,
         "type": "histogram",
         "x": [
          145,
          79,
          117,
          135
         ],
         "xaxis": "x",
         "yaxis": "y"
        },
        {
         "alignmentgroup": "True",
         "bingroup": "x",
         "histnorm": "probability",
         "hovertemplate": "Genre=Biography, Crime, Drama<br>Duration m=%{x}<br>probability=%{y}<extra></extra>",
         "legendgroup": "Biography, Crime, Drama",
         "marker": {
          "color": "#FFA15A",
          "pattern": {
           "shape": ""
          }
         },
         "name": "Biography, Crime, Drama",
         "nbinsx": 60,
         "offsetgroup": "Biography, Crime, Drama",
         "orientation": "v",
         "showlegend": true,
         "type": "histogram",
         "x": [
          119,
          106,
          136,
          153
         ],
         "xaxis": "x",
         "yaxis": "y"
        },
        {
         "alignmentgroup": "True",
         "bingroup": "x",
         "histnorm": "probability",
         "hovertemplate": "Genre=Action, Drama, Music<br>Duration m=%{x}<br>probability=%{y}<extra></extra>",
         "legendgroup": "Action, Drama, Music",
         "marker": {
          "color": "#19d3f3",
          "pattern": {
           "shape": ""
          }
         },
         "name": "Action, Drama, Music",
         "nbinsx": 60,
         "offsetgroup": "Action, Drama, Music",
         "orientation": "v",
         "showlegend": true,
         "type": "histogram",
         "x": [
          137,
          102,
          123,
          140,
          108
         ],
         "xaxis": "x",
         "yaxis": "y"
        },
        {
         "alignmentgroup": "True",
         "bingroup": "x",
         "histnorm": "probability",
         "hovertemplate": "Genre=Adventure, Drama, Family<br>Duration m=%{x}<br>probability=%{y}<extra></extra>",
         "legendgroup": "Adventure, Drama, Family",
         "marker": {
          "color": "#FF6692",
          "pattern": {
           "shape": ""
          }
         },
         "name": "Adventure, Drama, Family",
         "nbinsx": 60,
         "offsetgroup": "Adventure, Drama, Family",
         "orientation": "v",
         "showlegend": true,
         "type": "histogram",
         "x": [
          80,
          89,
          94,
          120,
          104,
          109,
          115
         ],
         "xaxis": "x",
         "yaxis": "y"
        },
        {
         "alignmentgroup": "True",
         "bingroup": "x",
         "histnorm": "probability",
         "hovertemplate": "Genre=War<br>Duration m=%{x}<br>probability=%{y}<extra></extra>",
         "legendgroup": "War",
         "marker": {
          "color": "#B6E880",
          "pattern": {
           "shape": ""
          }
         },
         "name": "War",
         "nbinsx": 60,
         "offsetgroup": "War",
         "orientation": "v",
         "showlegend": true,
         "type": "histogram",
         "x": [
          131,
          170,
          100
         ],
         "xaxis": "x",
         "yaxis": "y"
        },
        {
         "alignmentgroup": "True",
         "bingroup": "x",
         "histnorm": "probability",
         "hovertemplate": "Genre=Comedy, Musical, Drama<br>Duration m=%{x}<br>probability=%{y}<extra></extra>",
         "legendgroup": "Comedy, Musical, Drama",
         "marker": {
          "color": "#FF97FF",
          "pattern": {
           "shape": ""
          }
         },
         "name": "Comedy, Musical, Drama",
         "nbinsx": 60,
         "offsetgroup": "Comedy, Musical, Drama",
         "orientation": "v",
         "showlegend": true,
         "type": "histogram",
         "x": [
          130
         ],
         "xaxis": "x",
         "yaxis": "y"
        },
        {
         "alignmentgroup": "True",
         "bingroup": "x",
         "histnorm": "probability",
         "hovertemplate": "Genre=Adventure, Crime, Drama<br>Duration m=%{x}<br>probability=%{y}<extra></extra>",
         "legendgroup": "Adventure, Crime, Drama",
         "marker": {
          "color": "#FECB52",
          "pattern": {
           "shape": ""
          }
         },
         "name": "Adventure, Crime, Drama",
         "nbinsx": 60,
         "offsetgroup": "Adventure, Crime, Drama",
         "orientation": "v",
         "showlegend": true,
         "type": "histogram",
         "x": [
          121,
          102
         ],
         "xaxis": "x",
         "yaxis": "y"
        },
        {
         "alignmentgroup": "True",
         "bingroup": "x",
         "histnorm": "probability",
         "hovertemplate": "Genre=Family, Romance<br>Duration m=%{x}<br>probability=%{y}<extra></extra>",
         "legendgroup": "Family, Romance",
         "marker": {
          "color": "#636efa",
          "pattern": {
           "shape": ""
          }
         },
         "name": "Family, Romance",
         "nbinsx": 60,
         "offsetgroup": "Family, Romance",
         "orientation": "v",
         "showlegend": true,
         "type": "histogram",
         "x": [
          162,
          151,
          158,
          130,
          130,
          154,
          120,
          161,
          135
         ],
         "xaxis": "x",
         "yaxis": "y"
        },
        {
         "alignmentgroup": "True",
         "bingroup": "x",
         "histnorm": "probability",
         "hovertemplate": "Genre=Musical<br>Duration m=%{x}<br>probability=%{y}<extra></extra>",
         "legendgroup": "Musical",
         "marker": {
          "color": "#EF553B",
          "pattern": {
           "shape": ""
          }
         },
         "name": "Musical",
         "nbinsx": 60,
         "offsetgroup": "Musical",
         "orientation": "v",
         "showlegend": true,
         "type": "histogram",
         "x": [
          160,
          135,
          122,
          127,
          119,
          125,
          103,
          132
         ],
         "xaxis": "x",
         "yaxis": "y"
        },
        {
         "alignmentgroup": "True",
         "bingroup": "x",
         "histnorm": "probability",
         "hovertemplate": "Genre=Crime, Fantasy, Mystery<br>Duration m=%{x}<br>probability=%{y}<extra></extra>",
         "legendgroup": "Crime, Fantasy, Mystery",
         "marker": {
          "color": "#00cc96",
          "pattern": {
           "shape": ""
          }
         },
         "name": "Crime, Fantasy, Mystery",
         "nbinsx": 60,
         "offsetgroup": "Crime, Fantasy, Mystery",
         "orientation": "v",
         "showlegend": true,
         "type": "histogram",
         "x": [
          99
         ],
         "xaxis": "x",
         "yaxis": "y"
        },
        {
         "alignmentgroup": "True",
         "bingroup": "x",
         "histnorm": "probability",
         "hovertemplate": "Genre=Documentary, Biography, Drama<br>Duration m=%{x}<br>probability=%{y}<extra></extra>",
         "legendgroup": "Documentary, Biography, Drama",
         "marker": {
          "color": "#ab63fa",
          "pattern": {
           "shape": ""
          }
         },
         "name": "Documentary, Biography, Drama",
         "nbinsx": 60,
         "offsetgroup": "Documentary, Biography, Drama",
         "orientation": "v",
         "showlegend": true,
         "type": "histogram",
         "x": [
          64,
          115,
          94
         ],
         "xaxis": "x",
         "yaxis": "y"
        },
        {
         "alignmentgroup": "True",
         "bingroup": "x",
         "histnorm": "probability",
         "hovertemplate": "Genre=Action, Fantasy, Thriller<br>Duration m=%{x}<br>probability=%{y}<extra></extra>",
         "legendgroup": "Action, Fantasy, Thriller",
         "marker": {
          "color": "#FFA15A",
          "pattern": {
           "shape": ""
          }
         },
         "name": "Action, Fantasy, Thriller",
         "nbinsx": 60,
         "offsetgroup": "Action, Fantasy, Thriller",
         "orientation": "v",
         "showlegend": true,
         "type": "histogram",
         "x": [
          118,
          145,
          163
         ],
         "xaxis": "x",
         "yaxis": "y"
        },
        {
         "alignmentgroup": "True",
         "bingroup": "x",
         "histnorm": "probability",
         "hovertemplate": "Genre=Animation, Drama, History<br>Duration m=%{x}<br>probability=%{y}<extra></extra>",
         "legendgroup": "Animation, Drama, History",
         "marker": {
          "color": "#19d3f3",
          "pattern": {
           "shape": ""
          }
         },
         "name": "Animation, Drama, History",
         "nbinsx": 60,
         "offsetgroup": "Animation, Drama, History",
         "orientation": "v",
         "showlegend": true,
         "type": "histogram",
         "x": [
          160
         ],
         "xaxis": "x",
         "yaxis": "y"
        },
        {
         "alignmentgroup": "True",
         "bingroup": "x",
         "histnorm": "probability",
         "hovertemplate": "Genre=Biography, Drama, Musical<br>Duration m=%{x}<br>probability=%{y}<extra></extra>",
         "legendgroup": "Biography, Drama, Musical",
         "marker": {
          "color": "#FF6692",
          "pattern": {
           "shape": ""
          }
         },
         "name": "Biography, Drama, Musical",
         "nbinsx": 60,
         "offsetgroup": "Biography, Drama, Musical",
         "orientation": "v",
         "showlegend": true,
         "type": "histogram",
         "x": [
          154,
          145
         ],
         "xaxis": "x",
         "yaxis": "y"
        },
        {
         "alignmentgroup": "True",
         "bingroup": "x",
         "histnorm": "probability",
         "hovertemplate": "Genre=Adventure, Drama, History<br>Duration m=%{x}<br>probability=%{y}<extra></extra>",
         "legendgroup": "Adventure, Drama, History",
         "marker": {
          "color": "#B6E880",
          "pattern": {
           "shape": ""
          }
         },
         "name": "Adventure, Drama, History",
         "nbinsx": 60,
         "offsetgroup": "Adventure, Drama, History",
         "orientation": "v",
         "showlegend": true,
         "type": "histogram",
         "x": [
          140,
          170,
          118,
          105,
          136
         ],
         "xaxis": "x",
         "yaxis": "y"
        },
        {
         "alignmentgroup": "True",
         "bingroup": "x",
         "histnorm": "probability",
         "hovertemplate": "Genre=Family, Comedy<br>Duration m=%{x}<br>probability=%{y}<extra></extra>",
         "legendgroup": "Family, Comedy",
         "marker": {
          "color": "#FF97FF",
          "pattern": {
           "shape": ""
          }
         },
         "name": "Family, Comedy",
         "nbinsx": 60,
         "offsetgroup": "Family, Comedy",
         "orientation": "v",
         "showlegend": true,
         "type": "histogram",
         "x": [
          156
         ],
         "xaxis": "x",
         "yaxis": "y"
        },
        {
         "alignmentgroup": "True",
         "bingroup": "x",
         "histnorm": "probability",
         "hovertemplate": "Genre=Comedy, Drama, Music<br>Duration m=%{x}<br>probability=%{y}<extra></extra>",
         "legendgroup": "Comedy, Drama, Music",
         "marker": {
          "color": "#FECB52",
          "pattern": {
           "shape": ""
          }
         },
         "name": "Comedy, Drama, Music",
         "nbinsx": 60,
         "offsetgroup": "Comedy, Drama, Music",
         "orientation": "v",
         "showlegend": true,
         "type": "histogram",
         "x": [
          131,
          122,
          133,
          158,
          140,
          167,
          146
         ],
         "xaxis": "x",
         "yaxis": "y"
        },
        {
         "alignmentgroup": "True",
         "bingroup": "x",
         "histnorm": "probability",
         "hovertemplate": "Genre=Comedy, Horror, Mystery<br>Duration m=%{x}<br>probability=%{y}<extra></extra>",
         "legendgroup": "Comedy, Horror, Mystery",
         "marker": {
          "color": "#636efa",
          "pattern": {
           "shape": ""
          }
         },
         "name": "Comedy, Horror, Mystery",
         "nbinsx": 60,
         "offsetgroup": "Comedy, Horror, Mystery",
         "orientation": "v",
         "showlegend": true,
         "type": "histogram",
         "x": [
          159,
          145
         ],
         "xaxis": "x",
         "yaxis": "y"
        },
        {
         "alignmentgroup": "True",
         "bingroup": "x",
         "histnorm": "probability",
         "hovertemplate": "Genre=Animation, Action, Adventure<br>Duration m=%{x}<br>probability=%{y}<extra></extra>",
         "legendgroup": "Animation, Action, Adventure",
         "marker": {
          "color": "#EF553B",
          "pattern": {
           "shape": ""
          }
         },
         "name": "Animation, Action, Adventure",
         "nbinsx": 60,
         "offsetgroup": "Animation, Action, Adventure",
         "orientation": "v",
         "showlegend": true,
         "type": "histogram",
         "x": [
          133,
          97,
          111,
          117,
          95
         ],
         "xaxis": "x",
         "yaxis": "y"
        },
        {
         "alignmentgroup": "True",
         "bingroup": "x",
         "histnorm": "probability",
         "hovertemplate": "Genre=Comedy, Drama, Fantasy<br>Duration m=%{x}<br>probability=%{y}<extra></extra>",
         "legendgroup": "Comedy, Drama, Fantasy",
         "marker": {
          "color": "#00cc96",
          "pattern": {
           "shape": ""
          }
         },
         "name": "Comedy, Drama, Fantasy",
         "nbinsx": 60,
         "offsetgroup": "Comedy, Drama, Fantasy",
         "orientation": "v",
         "showlegend": true,
         "type": "histogram",
         "x": [
          155,
          171,
          89,
          152,
          134,
          125,
          122,
          94,
          150,
          105,
          125,
          138,
          159
         ],
         "xaxis": "x",
         "yaxis": "y"
        },
        {
         "alignmentgroup": "True",
         "bingroup": "x",
         "histnorm": "probability",
         "hovertemplate": "Genre=Documentary, History, News<br>Duration m=%{x}<br>probability=%{y}<extra></extra>",
         "legendgroup": "Documentary, History, News",
         "marker": {
          "color": "#ab63fa",
          "pattern": {
           "shape": ""
          }
         },
         "name": "Documentary, History, News",
         "nbinsx": 60,
         "offsetgroup": "Documentary, History, News",
         "orientation": "v",
         "showlegend": true,
         "type": "histogram",
         "x": [
          89
         ],
         "xaxis": "x",
         "yaxis": "y"
        },
        {
         "alignmentgroup": "True",
         "bingroup": "x",
         "histnorm": "probability",
         "hovertemplate": "Genre=Action, Crime, Family<br>Duration m=%{x}<br>probability=%{y}<extra></extra>",
         "legendgroup": "Action, Crime, Family",
         "marker": {
          "color": "#FFA15A",
          "pattern": {
           "shape": ""
          }
         },
         "name": "Action, Crime, Family",
         "nbinsx": 60,
         "offsetgroup": "Action, Crime, Family",
         "orientation": "v",
         "showlegend": true,
         "type": "histogram",
         "x": [
          113
         ],
         "xaxis": "x",
         "yaxis": "y"
        },
        {
         "alignmentgroup": "True",
         "bingroup": "x",
         "histnorm": "probability",
         "hovertemplate": "Genre=Drama, Musical, Mystery<br>Duration m=%{x}<br>probability=%{y}<extra></extra>",
         "legendgroup": "Drama, Musical, Mystery",
         "marker": {
          "color": "#19d3f3",
          "pattern": {
           "shape": ""
          }
         },
         "name": "Drama, Musical, Mystery",
         "nbinsx": 60,
         "offsetgroup": "Drama, Musical, Mystery",
         "orientation": "v",
         "showlegend": true,
         "type": "histogram",
         "x": [
          154,
          153,
          128,
          154
         ],
         "xaxis": "x",
         "yaxis": "y"
        },
        {
         "alignmentgroup": "True",
         "bingroup": "x",
         "histnorm": "probability",
         "hovertemplate": "Genre=Comedy, Family<br>Duration m=%{x}<br>probability=%{y}<extra></extra>",
         "legendgroup": "Comedy, Family",
         "marker": {
          "color": "#FF6692",
          "pattern": {
           "shape": ""
          }
         },
         "name": "Comedy, Family",
         "nbinsx": 60,
         "offsetgroup": "Comedy, Family",
         "orientation": "v",
         "showlegend": true,
         "type": "histogram",
         "x": [
          139,
          148,
          138,
          98,
          95,
          141,
          128,
          120
         ],
         "xaxis": "x",
         "yaxis": "y"
        },
        {
         "alignmentgroup": "True",
         "bingroup": "x",
         "histnorm": "probability",
         "hovertemplate": "Genre=Action, Thriller, Mystery<br>Duration m=%{x}<br>probability=%{y}<extra></extra>",
         "legendgroup": "Action, Thriller, Mystery",
         "marker": {
          "color": "#B6E880",
          "pattern": {
           "shape": ""
          }
         },
         "name": "Action, Thriller, Mystery",
         "nbinsx": 60,
         "offsetgroup": "Action, Thriller, Mystery",
         "orientation": "v",
         "showlegend": true,
         "type": "histogram",
         "x": [
          154
         ],
         "xaxis": "x",
         "yaxis": "y"
        },
        {
         "alignmentgroup": "True",
         "bingroup": "x",
         "histnorm": "probability",
         "hovertemplate": "Genre=Drama, Family, Fantasy<br>Duration m=%{x}<br>probability=%{y}<extra></extra>",
         "legendgroup": "Drama, Family, Fantasy",
         "marker": {
          "color": "#FF97FF",
          "pattern": {
           "shape": ""
          }
         },
         "name": "Drama, Family, Fantasy",
         "nbinsx": 60,
         "offsetgroup": "Drama, Family, Fantasy",
         "orientation": "v",
         "showlegend": true,
         "type": "histogram",
         "x": [
          83,
          144,
          140,
          144,
          135
         ],
         "xaxis": "x",
         "yaxis": "y"
        },
        {
         "alignmentgroup": "True",
         "bingroup": "x",
         "histnorm": "probability",
         "hovertemplate": "Genre=Action, Family<br>Duration m=%{x}<br>probability=%{y}<extra></extra>",
         "legendgroup": "Action, Family",
         "marker": {
          "color": "#FECB52",
          "pattern": {
           "shape": ""
          }
         },
         "name": "Action, Family",
         "nbinsx": 60,
         "offsetgroup": "Action, Family",
         "orientation": "v",
         "showlegend": true,
         "type": "histogram",
         "x": [
          152,
          163
         ],
         "xaxis": "x",
         "yaxis": "y"
        },
        {
         "alignmentgroup": "True",
         "bingroup": "x",
         "histnorm": "probability",
         "hovertemplate": "Genre=Action, Adventure, Mystery<br>Duration m=%{x}<br>probability=%{y}<extra></extra>",
         "legendgroup": "Action, Adventure, Mystery",
         "marker": {
          "color": "#636efa",
          "pattern": {
           "shape": ""
          }
         },
         "name": "Action, Adventure, Mystery",
         "nbinsx": 60,
         "offsetgroup": "Action, Adventure, Mystery",
         "orientation": "v",
         "showlegend": true,
         "type": "histogram",
         "x": [
          119
         ],
         "xaxis": "x",
         "yaxis": "y"
        },
        {
         "alignmentgroup": "True",
         "bingroup": "x",
         "histnorm": "probability",
         "hovertemplate": "Genre=Comedy, Action<br>Duration m=%{x}<br>probability=%{y}<extra></extra>",
         "legendgroup": "Comedy, Action",
         "marker": {
          "color": "#EF553B",
          "pattern": {
           "shape": ""
          }
         },
         "name": "Comedy, Action",
         "nbinsx": 60,
         "offsetgroup": "Comedy, Action",
         "orientation": "v",
         "showlegend": true,
         "type": "histogram",
         "x": [
          164
         ],
         "xaxis": "x",
         "yaxis": "y"
        },
        {
         "alignmentgroup": "True",
         "bingroup": "x",
         "histnorm": "probability",
         "hovertemplate": "Genre=Animation, Drama, Romance<br>Duration m=%{x}<br>probability=%{y}<extra></extra>",
         "legendgroup": "Animation, Drama, Romance",
         "marker": {
          "color": "#00cc96",
          "pattern": {
           "shape": ""
          }
         },
         "name": "Animation, Drama, Romance",
         "nbinsx": 60,
         "offsetgroup": "Animation, Drama, Romance",
         "orientation": "v",
         "showlegend": true,
         "type": "histogram",
         "x": [
          97
         ],
         "xaxis": "x",
         "yaxis": "y"
        },
        {
         "alignmentgroup": "True",
         "bingroup": "x",
         "histnorm": "probability",
         "hovertemplate": "Genre=Comedy, Crime, Romance<br>Duration m=%{x}<br>probability=%{y}<extra></extra>",
         "legendgroup": "Comedy, Crime, Romance",
         "marker": {
          "color": "#ab63fa",
          "pattern": {
           "shape": ""
          }
         },
         "name": "Comedy, Crime, Romance",
         "nbinsx": 60,
         "offsetgroup": "Comedy, Crime, Romance",
         "orientation": "v",
         "showlegend": true,
         "type": "histogram",
         "x": [
          120,
          151,
          131
         ],
         "xaxis": "x",
         "yaxis": "y"
        },
        {
         "alignmentgroup": "True",
         "bingroup": "x",
         "histnorm": "probability",
         "hovertemplate": "Genre=Comedy, Drama, Sport<br>Duration m=%{x}<br>probability=%{y}<extra></extra>",
         "legendgroup": "Comedy, Drama, Sport",
         "marker": {
          "color": "#FFA15A",
          "pattern": {
           "shape": ""
          }
         },
         "name": "Comedy, Drama, Sport",
         "nbinsx": 60,
         "offsetgroup": "Comedy, Drama, Sport",
         "orientation": "v",
         "showlegend": true,
         "type": "histogram",
         "x": [
          101,
          121
         ],
         "xaxis": "x",
         "yaxis": "y"
        },
        {
         "alignmentgroup": "True",
         "bingroup": "x",
         "histnorm": "probability",
         "hovertemplate": "Genre=Documentary, Crime, History<br>Duration m=%{x}<br>probability=%{y}<extra></extra>",
         "legendgroup": "Documentary, Crime, History",
         "marker": {
          "color": "#19d3f3",
          "pattern": {
           "shape": ""
          }
         },
         "name": "Documentary, Crime, History",
         "nbinsx": 60,
         "offsetgroup": "Documentary, Crime, History",
         "orientation": "v",
         "showlegend": true,
         "type": "histogram",
         "x": [
          82
         ],
         "xaxis": "x",
         "yaxis": "y"
        },
        {
         "alignmentgroup": "True",
         "bingroup": "x",
         "histnorm": "probability",
         "hovertemplate": "Genre=Action, Drama, Sport<br>Duration m=%{x}<br>probability=%{y}<extra></extra>",
         "legendgroup": "Action, Drama, Sport",
         "marker": {
          "color": "#FF6692",
          "pattern": {
           "shape": ""
          }
         },
         "name": "Action, Drama, Sport",
         "nbinsx": 60,
         "offsetgroup": "Action, Drama, Sport",
         "orientation": "v",
         "showlegend": true,
         "type": "histogram",
         "x": [
          156,
          150,
          145,
          166,
          109,
          140,
          170,
          154,
          133
         ],
         "xaxis": "x",
         "yaxis": "y"
        },
        {
         "alignmentgroup": "True",
         "bingroup": "x",
         "histnorm": "probability",
         "hovertemplate": "Genre=Musical, Mystery, Drama<br>Duration m=%{x}<br>probability=%{y}<extra></extra>",
         "legendgroup": "Musical, Mystery, Drama",
         "marker": {
          "color": "#B6E880",
          "pattern": {
           "shape": ""
          }
         },
         "name": "Musical, Mystery, Drama",
         "nbinsx": 60,
         "offsetgroup": "Musical, Mystery, Drama",
         "orientation": "v",
         "showlegend": true,
         "type": "histogram",
         "x": [
          138,
          122
         ],
         "xaxis": "x",
         "yaxis": "y"
        },
        {
         "alignmentgroup": "True",
         "bingroup": "x",
         "histnorm": "probability",
         "hovertemplate": "Genre=Drama, Family, Thriller<br>Duration m=%{x}<br>probability=%{y}<extra></extra>",
         "legendgroup": "Drama, Family, Thriller",
         "marker": {
          "color": "#FF97FF",
          "pattern": {
           "shape": ""
          }
         },
         "name": "Drama, Family, Thriller",
         "nbinsx": 60,
         "offsetgroup": "Drama, Family, Thriller",
         "orientation": "v",
         "showlegend": true,
         "type": "histogram",
         "x": [
          124,
          113
         ],
         "xaxis": "x",
         "yaxis": "y"
        },
        {
         "alignmentgroup": "True",
         "bingroup": "x",
         "histnorm": "probability",
         "hovertemplate": "Genre=Drama, Musical, Thriller<br>Duration m=%{x}<br>probability=%{y}<extra></extra>",
         "legendgroup": "Drama, Musical, Thriller",
         "marker": {
          "color": "#FECB52",
          "pattern": {
           "shape": ""
          }
         },
         "name": "Drama, Musical, Thriller",
         "nbinsx": 60,
         "offsetgroup": "Drama, Musical, Thriller",
         "orientation": "v",
         "showlegend": true,
         "type": "histogram",
         "x": [
          95
         ],
         "xaxis": "x",
         "yaxis": "y"
        },
        {
         "alignmentgroup": "True",
         "bingroup": "x",
         "histnorm": "probability",
         "hovertemplate": "Genre=Animation, Action, Comedy<br>Duration m=%{x}<br>probability=%{y}<extra></extra>",
         "legendgroup": "Animation, Action, Comedy",
         "marker": {
          "color": "#636efa",
          "pattern": {
           "shape": ""
          }
         },
         "name": "Animation, Action, Comedy",
         "nbinsx": 60,
         "offsetgroup": "Animation, Action, Comedy",
         "orientation": "v",
         "showlegend": true,
         "type": "histogram",
         "x": [
          77
         ],
         "xaxis": "x",
         "yaxis": "y"
        },
        {
         "alignmentgroup": "True",
         "bingroup": "x",
         "histnorm": "probability",
         "hovertemplate": "Genre=Drama, Fantasy, Sci-Fi<br>Duration m=%{x}<br>probability=%{y}<extra></extra>",
         "legendgroup": "Drama, Fantasy, Sci-Fi",
         "marker": {
          "color": "#EF553B",
          "pattern": {
           "shape": ""
          }
         },
         "name": "Drama, Fantasy, Sci-Fi",
         "nbinsx": 60,
         "offsetgroup": "Drama, Fantasy, Sci-Fi",
         "orientation": "v",
         "showlegend": true,
         "type": "histogram",
         "x": [
          119
         ],
         "xaxis": "x",
         "yaxis": "y"
        },
        {
         "alignmentgroup": "True",
         "bingroup": "x",
         "histnorm": "probability",
         "hovertemplate": "Genre=Comedy, Crime<br>Duration m=%{x}<br>probability=%{y}<extra></extra>",
         "legendgroup": "Comedy, Crime",
         "marker": {
          "color": "#00cc96",
          "pattern": {
           "shape": ""
          }
         },
         "name": "Comedy, Crime",
         "nbinsx": 60,
         "offsetgroup": "Comedy, Crime",
         "orientation": "v",
         "showlegend": true,
         "type": "histogram",
         "x": [
          120,
          142,
          132,
          129,
          135,
          153,
          100,
          62,
          135
         ],
         "xaxis": "x",
         "yaxis": "y"
        },
        {
         "alignmentgroup": "True",
         "bingroup": "x",
         "histnorm": "probability",
         "hovertemplate": "Genre=Drama, Family, Sport<br>Duration m=%{x}<br>probability=%{y}<extra></extra>",
         "legendgroup": "Drama, Family, Sport",
         "marker": {
          "color": "#ab63fa",
          "pattern": {
           "shape": ""
          }
         },
         "name": "Drama, Family, Sport",
         "nbinsx": 60,
         "offsetgroup": "Drama, Family, Sport",
         "orientation": "v",
         "showlegend": true,
         "type": "histogram",
         "x": [
          153,
          120,
          107
         ],
         "xaxis": "x",
         "yaxis": "y"
        },
        {
         "alignmentgroup": "True",
         "bingroup": "x",
         "histnorm": "probability",
         "hovertemplate": "Genre=Action, Mystery, Thriller<br>Duration m=%{x}<br>probability=%{y}<extra></extra>",
         "legendgroup": "Action, Mystery, Thriller",
         "marker": {
          "color": "#FFA15A",
          "pattern": {
           "shape": ""
          }
         },
         "name": "Action, Mystery, Thriller",
         "nbinsx": 60,
         "offsetgroup": "Action, Mystery, Thriller",
         "orientation": "v",
         "showlegend": true,
         "type": "histogram",
         "x": [
          130,
          134,
          136
         ],
         "xaxis": "x",
         "yaxis": "y"
        },
        {
         "alignmentgroup": "True",
         "bingroup": "x",
         "histnorm": "probability",
         "hovertemplate": "Genre=Comedy, Fantasy, Romance<br>Duration m=%{x}<br>probability=%{y}<extra></extra>",
         "legendgroup": "Comedy, Fantasy, Romance",
         "marker": {
          "color": "#19d3f3",
          "pattern": {
           "shape": ""
          }
         },
         "name": "Comedy, Fantasy, Romance",
         "nbinsx": 60,
         "offsetgroup": "Comedy, Fantasy, Romance",
         "orientation": "v",
         "showlegend": true,
         "type": "histogram",
         "x": [
          152,
          98
         ],
         "xaxis": "x",
         "yaxis": "y"
        },
        {
         "alignmentgroup": "True",
         "bingroup": "x",
         "histnorm": "probability",
         "hovertemplate": "Genre=Action, Adventure, History<br>Duration m=%{x}<br>probability=%{y}<extra></extra>",
         "legendgroup": "Action, Adventure, History",
         "marker": {
          "color": "#FF6692",
          "pattern": {
           "shape": ""
          }
         },
         "name": "Action, Adventure, History",
         "nbinsx": 60,
         "offsetgroup": "Action, Adventure, History",
         "orientation": "v",
         "showlegend": true,
         "type": "histogram",
         "x": [
          135
         ],
         "xaxis": "x",
         "yaxis": "y"
        },
        {
         "alignmentgroup": "True",
         "bingroup": "x",
         "histnorm": "probability",
         "hovertemplate": "Genre=Comedy, Family, Romance<br>Duration m=%{x}<br>probability=%{y}<extra></extra>",
         "legendgroup": "Comedy, Family, Romance",
         "marker": {
          "color": "#B6E880",
          "pattern": {
           "shape": ""
          }
         },
         "name": "Comedy, Family, Romance",
         "nbinsx": 60,
         "offsetgroup": "Comedy, Family, Romance",
         "orientation": "v",
         "showlegend": true,
         "type": "histogram",
         "x": [
          145,
          137
         ],
         "xaxis": "x",
         "yaxis": "y"
        },
        {
         "alignmentgroup": "True",
         "bingroup": "x",
         "histnorm": "probability",
         "hovertemplate": "Genre=Animation, Adventure, Fantasy<br>Duration m=%{x}<br>probability=%{y}<extra></extra>",
         "legendgroup": "Animation, Adventure, Fantasy",
         "marker": {
          "color": "#FF97FF",
          "pattern": {
           "shape": ""
          }
         },
         "name": "Animation, Adventure, Fantasy",
         "nbinsx": 60,
         "offsetgroup": "Animation, Adventure, Fantasy",
         "orientation": "v",
         "showlegend": true,
         "type": "histogram",
         "x": [
          88,
          65
         ],
         "xaxis": "x",
         "yaxis": "y"
        },
        {
         "alignmentgroup": "True",
         "bingroup": "x",
         "histnorm": "probability",
         "hovertemplate": "Genre=Adventure, Comedy, Family<br>Duration m=%{x}<br>probability=%{y}<extra></extra>",
         "legendgroup": "Adventure, Comedy, Family",
         "marker": {
          "color": "#FECB52",
          "pattern": {
           "shape": ""
          }
         },
         "name": "Adventure, Comedy, Family",
         "nbinsx": 60,
         "offsetgroup": "Adventure, Comedy, Family",
         "orientation": "v",
         "showlegend": true,
         "type": "histogram",
         "x": [
          103
         ],
         "xaxis": "x",
         "yaxis": "y"
        },
        {
         "alignmentgroup": "True",
         "bingroup": "x",
         "histnorm": "probability",
         "hovertemplate": "Genre=Drama, History, War<br>Duration m=%{x}<br>probability=%{y}<extra></extra>",
         "legendgroup": "Drama, History, War",
         "marker": {
          "color": "#636efa",
          "pattern": {
           "shape": ""
          }
         },
         "name": "Drama, History, War",
         "nbinsx": 60,
         "offsetgroup": "Drama, History, War",
         "orientation": "v",
         "showlegend": true,
         "type": "histogram",
         "x": [
          160,
          108,
          98,
          255
         ],
         "xaxis": "x",
         "yaxis": "y"
        },
        {
         "alignmentgroup": "True",
         "bingroup": "x",
         "histnorm": "probability",
         "hovertemplate": "Genre=Action, Musical, Romance<br>Duration m=%{x}<br>probability=%{y}<extra></extra>",
         "legendgroup": "Action, Musical, Romance",
         "marker": {
          "color": "#EF553B",
          "pattern": {
           "shape": ""
          }
         },
         "name": "Action, Musical, Romance",
         "nbinsx": 60,
         "offsetgroup": "Action, Musical, Romance",
         "orientation": "v",
         "showlegend": true,
         "type": "histogram",
         "x": [
          139,
          173,
          172,
          146,
          111,
          142
         ],
         "xaxis": "x",
         "yaxis": "y"
        },
        {
         "alignmentgroup": "True",
         "bingroup": "x",
         "histnorm": "probability",
         "hovertemplate": "Genre=Fantasy, Drama<br>Duration m=%{x}<br>probability=%{y}<extra></extra>",
         "legendgroup": "Fantasy, Drama",
         "marker": {
          "color": "#00cc96",
          "pattern": {
           "shape": ""
          }
         },
         "name": "Fantasy, Drama",
         "nbinsx": 60,
         "offsetgroup": "Fantasy, Drama",
         "orientation": "v",
         "showlegend": true,
         "type": "histogram",
         "x": [
          124,
          148
         ],
         "xaxis": "x",
         "yaxis": "y"
        },
        {
         "alignmentgroup": "True",
         "bingroup": "x",
         "histnorm": "probability",
         "hovertemplate": "Genre=Biography, Drama, Romance<br>Duration m=%{x}<br>probability=%{y}<extra></extra>",
         "legendgroup": "Biography, Drama, Romance",
         "marker": {
          "color": "#ab63fa",
          "pattern": {
           "shape": ""
          }
         },
         "name": "Biography, Drama, Romance",
         "nbinsx": 60,
         "offsetgroup": "Biography, Drama, Romance",
         "orientation": "v",
         "showlegend": true,
         "type": "histogram",
         "x": [
          132,
          156
         ],
         "xaxis": "x",
         "yaxis": "y"
        },
        {
         "alignmentgroup": "True",
         "bingroup": "x",
         "histnorm": "probability",
         "hovertemplate": "Genre=Action, Horror, Sci-Fi<br>Duration m=%{x}<br>probability=%{y}<extra></extra>",
         "legendgroup": "Action, Horror, Sci-Fi",
         "marker": {
          "color": "#FFA15A",
          "pattern": {
           "shape": ""
          }
         },
         "name": "Action, Horror, Sci-Fi",
         "nbinsx": 60,
         "offsetgroup": "Action, Horror, Sci-Fi",
         "orientation": "v",
         "showlegend": true,
         "type": "histogram",
         "x": [
          134,
          106
         ],
         "xaxis": "x",
         "yaxis": "y"
        },
        {
         "alignmentgroup": "True",
         "bingroup": "x",
         "histnorm": "probability",
         "hovertemplate": "Genre=Action, Romance, Thriller<br>Duration m=%{x}<br>probability=%{y}<extra></extra>",
         "legendgroup": "Action, Romance, Thriller",
         "marker": {
          "color": "#19d3f3",
          "pattern": {
           "shape": ""
          }
         },
         "name": "Action, Romance, Thriller",
         "nbinsx": 60,
         "offsetgroup": "Action, Romance, Thriller",
         "orientation": "v",
         "showlegend": true,
         "type": "histogram",
         "x": [
          123,
          132,
          156,
          135,
          155,
          148,
          160
         ],
         "xaxis": "x",
         "yaxis": "y"
        },
        {
         "alignmentgroup": "True",
         "bingroup": "x",
         "histnorm": "probability",
         "hovertemplate": "Genre=Mystery, Sci-Fi, Thriller<br>Duration m=%{x}<br>probability=%{y}<extra></extra>",
         "legendgroup": "Mystery, Sci-Fi, Thriller",
         "marker": {
          "color": "#FF6692",
          "pattern": {
           "shape": ""
          }
         },
         "name": "Mystery, Sci-Fi, Thriller",
         "nbinsx": 60,
         "offsetgroup": "Mystery, Sci-Fi, Thriller",
         "orientation": "v",
         "showlegend": true,
         "type": "histogram",
         "x": [
          84
         ],
         "xaxis": "x",
         "yaxis": "y"
        },
        {
         "alignmentgroup": "True",
         "bingroup": "x",
         "histnorm": "probability",
         "hovertemplate": "Genre=Biography, Family<br>Duration m=%{x}<br>probability=%{y}<extra></extra>",
         "legendgroup": "Biography, Family",
         "marker": {
          "color": "#B6E880",
          "pattern": {
           "shape": ""
          }
         },
         "name": "Biography, Family",
         "nbinsx": 60,
         "offsetgroup": "Biography, Family",
         "orientation": "v",
         "showlegend": true,
         "type": "histogram",
         "x": [
          130
         ],
         "xaxis": "x",
         "yaxis": "y"
        },
        {
         "alignmentgroup": "True",
         "bingroup": "x",
         "histnorm": "probability",
         "hovertemplate": "Genre=Drama, Action, Comedy<br>Duration m=%{x}<br>probability=%{y}<extra></extra>",
         "legendgroup": "Drama, Action, Comedy",
         "marker": {
          "color": "#FF97FF",
          "pattern": {
           "shape": ""
          }
         },
         "name": "Drama, Action, Comedy",
         "nbinsx": 60,
         "offsetgroup": "Drama, Action, Comedy",
         "orientation": "v",
         "showlegend": true,
         "type": "histogram",
         "x": [
          138,
          127,
          156
         ],
         "xaxis": "x",
         "yaxis": "y"
        },
        {
         "alignmentgroup": "True",
         "bingroup": "x",
         "histnorm": "probability",
         "hovertemplate": "Genre=Action, Biography, Crime<br>Duration m=%{x}<br>probability=%{y}<extra></extra>",
         "legendgroup": "Action, Biography, Crime",
         "marker": {
          "color": "#FECB52",
          "pattern": {
           "shape": ""
          }
         },
         "name": "Action, Biography, Crime",
         "nbinsx": 60,
         "offsetgroup": "Action, Biography, Crime",
         "orientation": "v",
         "showlegend": true,
         "type": "histogram",
         "x": [
          134,
          119,
          98,
          135,
          125,
          135,
          155,
          125
         ],
         "xaxis": "x",
         "yaxis": "y"
        },
        {
         "alignmentgroup": "True",
         "bingroup": "x",
         "histnorm": "probability",
         "hovertemplate": "Genre=Action, Adventure, Crime<br>Duration m=%{x}<br>probability=%{y}<extra></extra>",
         "legendgroup": "Action, Adventure, Crime",
         "marker": {
          "color": "#636efa",
          "pattern": {
           "shape": ""
          }
         },
         "name": "Action, Adventure, Crime",
         "nbinsx": 60,
         "offsetgroup": "Action, Adventure, Crime",
         "orientation": "v",
         "showlegend": true,
         "type": "histogram",
         "x": [
          93,
          160,
          143,
          190,
          139,
          181,
          137,
          157,
          132
         ],
         "xaxis": "x",
         "yaxis": "y"
        },
        {
         "alignmentgroup": "True",
         "bingroup": "x",
         "histnorm": "probability",
         "hovertemplate": "Genre=Adventure, Drama, Musical<br>Duration m=%{x}<br>probability=%{y}<extra></extra>",
         "legendgroup": "Adventure, Drama, Musical",
         "marker": {
          "color": "#EF553B",
          "pattern": {
           "shape": ""
          }
         },
         "name": "Adventure, Drama, Musical",
         "nbinsx": 60,
         "offsetgroup": "Adventure, Drama, Musical",
         "orientation": "v",
         "showlegend": true,
         "type": "histogram",
         "x": [
          134,
          122,
          106
         ],
         "xaxis": "x",
         "yaxis": "y"
        },
        {
         "alignmentgroup": "True",
         "bingroup": "x",
         "histnorm": "probability",
         "hovertemplate": "Genre=Adventure, Drama, Sci-Fi<br>Duration m=%{x}<br>probability=%{y}<extra></extra>",
         "legendgroup": "Adventure, Drama, Sci-Fi",
         "marker": {
          "color": "#00cc96",
          "pattern": {
           "shape": ""
          }
         },
         "name": "Adventure, Drama, Sci-Fi",
         "nbinsx": 60,
         "offsetgroup": "Adventure, Drama, Sci-Fi",
         "orientation": "v",
         "showlegend": true,
         "type": "histogram",
         "x": [
          108
         ],
         "xaxis": "x",
         "yaxis": "y"
        },
        {
         "alignmentgroup": "True",
         "bingroup": "x",
         "histnorm": "probability",
         "hovertemplate": "Genre=Family, Music, Romance<br>Duration m=%{x}<br>probability=%{y}<extra></extra>",
         "legendgroup": "Family, Music, Romance",
         "marker": {
          "color": "#ab63fa",
          "pattern": {
           "shape": ""
          }
         },
         "name": "Family, Music, Romance",
         "nbinsx": 60,
         "offsetgroup": "Family, Music, Romance",
         "orientation": "v",
         "showlegend": true,
         "type": "histogram",
         "x": [
          124
         ],
         "xaxis": "x",
         "yaxis": "y"
        },
        {
         "alignmentgroup": "True",
         "bingroup": "x",
         "histnorm": "probability",
         "hovertemplate": "Genre=Fantasy, Mystery, Romance<br>Duration m=%{x}<br>probability=%{y}<extra></extra>",
         "legendgroup": "Fantasy, Mystery, Romance",
         "marker": {
          "color": "#FFA15A",
          "pattern": {
           "shape": ""
          }
         },
         "name": "Fantasy, Mystery, Romance",
         "nbinsx": 60,
         "offsetgroup": "Fantasy, Mystery, Romance",
         "orientation": "v",
         "showlegend": true,
         "type": "histogram",
         "x": [
          130
         ],
         "xaxis": "x",
         "yaxis": "y"
        },
        {
         "alignmentgroup": "True",
         "bingroup": "x",
         "histnorm": "probability",
         "hovertemplate": "Genre=Animation, Family<br>Duration m=%{x}<br>probability=%{y}<extra></extra>",
         "legendgroup": "Animation, Family",
         "marker": {
          "color": "#19d3f3",
          "pattern": {
           "shape": ""
          }
         },
         "name": "Animation, Family",
         "nbinsx": 60,
         "offsetgroup": "Animation, Family",
         "orientation": "v",
         "showlegend": true,
         "type": "histogram",
         "x": [
          119,
          91,
          105,
          117
         ],
         "xaxis": "x",
         "yaxis": "y"
        },
        {
         "alignmentgroup": "True",
         "bingroup": "x",
         "histnorm": "probability",
         "hovertemplate": "Genre=Action, Adventure, Romance<br>Duration m=%{x}<br>probability=%{y}<extra></extra>",
         "legendgroup": "Action, Adventure, Romance",
         "marker": {
          "color": "#FF6692",
          "pattern": {
           "shape": ""
          }
         },
         "name": "Action, Adventure, Romance",
         "nbinsx": 60,
         "offsetgroup": "Action, Adventure, Romance",
         "orientation": "v",
         "showlegend": true,
         "type": "histogram",
         "x": [
          143,
          146,
          161,
          128,
          109
         ],
         "xaxis": "x",
         "yaxis": "y"
        },
        {
         "alignmentgroup": "True",
         "bingroup": "x",
         "histnorm": "probability",
         "hovertemplate": "Genre=Comedy, Thriller<br>Duration m=%{x}<br>probability=%{y}<extra></extra>",
         "legendgroup": "Comedy, Thriller",
         "marker": {
          "color": "#B6E880",
          "pattern": {
           "shape": ""
          }
         },
         "name": "Comedy, Thriller",
         "nbinsx": 60,
         "offsetgroup": "Comedy, Thriller",
         "orientation": "v",
         "showlegend": true,
         "type": "histogram",
         "x": [
          126,
          150,
          132,
          112,
          102,
          135,
          135,
          114,
          155,
          152
         ],
         "xaxis": "x",
         "yaxis": "y"
        },
        {
         "alignmentgroup": "True",
         "bingroup": "x",
         "histnorm": "probability",
         "hovertemplate": "Genre=Romance, Comedy, Drama<br>Duration m=%{x}<br>probability=%{y}<extra></extra>",
         "legendgroup": "Romance, Comedy, Drama",
         "marker": {
          "color": "#FF97FF",
          "pattern": {
           "shape": ""
          }
         },
         "name": "Romance, Comedy, Drama",
         "nbinsx": 60,
         "offsetgroup": "Romance, Comedy, Drama",
         "orientation": "v",
         "showlegend": true,
         "type": "histogram",
         "x": [
          130,
          164,
          146
         ],
         "xaxis": "x",
         "yaxis": "y"
        },
        {
         "alignmentgroup": "True",
         "bingroup": "x",
         "histnorm": "probability",
         "hovertemplate": "Genre=Animation, Adventure, Comedy<br>Duration m=%{x}<br>probability=%{y}<extra></extra>",
         "legendgroup": "Animation, Adventure, Comedy",
         "marker": {
          "color": "#FECB52",
          "pattern": {
           "shape": ""
          }
         },
         "name": "Animation, Adventure, Comedy",
         "nbinsx": 60,
         "offsetgroup": "Animation, Adventure, Comedy",
         "orientation": "v",
         "showlegend": true,
         "type": "histogram",
         "x": [
          96,
          93
         ],
         "xaxis": "x",
         "yaxis": "y"
        },
        {
         "alignmentgroup": "True",
         "bingroup": "x",
         "histnorm": "probability",
         "hovertemplate": "Genre=Music<br>Duration m=%{x}<br>probability=%{y}<extra></extra>",
         "legendgroup": "Music",
         "marker": {
          "color": "#636efa",
          "pattern": {
           "shape": ""
          }
         },
         "name": "Music",
         "nbinsx": 60,
         "offsetgroup": "Music",
         "orientation": "v",
         "showlegend": true,
         "type": "histogram",
         "x": [
          94
         ],
         "xaxis": "x",
         "yaxis": "y"
        },
        {
         "alignmentgroup": "True",
         "bingroup": "x",
         "histnorm": "probability",
         "hovertemplate": "Genre=Crime, Drama, Family<br>Duration m=%{x}<br>probability=%{y}<extra></extra>",
         "legendgroup": "Crime, Drama, Family",
         "marker": {
          "color": "#EF553B",
          "pattern": {
           "shape": ""
          }
         },
         "name": "Crime, Drama, Family",
         "nbinsx": 60,
         "offsetgroup": "Crime, Drama, Family",
         "orientation": "v",
         "showlegend": true,
         "type": "histogram",
         "x": [
          140,
          152,
          122,
          121
         ],
         "xaxis": "x",
         "yaxis": "y"
        },
        {
         "alignmentgroup": "True",
         "bingroup": "x",
         "histnorm": "probability",
         "hovertemplate": "Genre=Family, Drama<br>Duration m=%{x}<br>probability=%{y}<extra></extra>",
         "legendgroup": "Family, Drama",
         "marker": {
          "color": "#00cc96",
          "pattern": {
           "shape": ""
          }
         },
         "name": "Family, Drama",
         "nbinsx": 60,
         "offsetgroup": "Family, Drama",
         "orientation": "v",
         "showlegend": true,
         "type": "histogram",
         "x": [
          159,
          153,
          137,
          147
         ],
         "xaxis": "x",
         "yaxis": "y"
        },
        {
         "alignmentgroup": "True",
         "bingroup": "x",
         "histnorm": "probability",
         "hovertemplate": "Genre=Comedy, Crime, Mystery<br>Duration m=%{x}<br>probability=%{y}<extra></extra>",
         "legendgroup": "Comedy, Crime, Mystery",
         "marker": {
          "color": "#ab63fa",
          "pattern": {
           "shape": ""
          }
         },
         "name": "Comedy, Crime, Mystery",
         "nbinsx": 60,
         "offsetgroup": "Comedy, Crime, Mystery",
         "orientation": "v",
         "showlegend": true,
         "type": "histogram",
         "x": [
          145,
          135,
          166
         ],
         "xaxis": "x",
         "yaxis": "y"
        },
        {
         "alignmentgroup": "True",
         "bingroup": "x",
         "histnorm": "probability",
         "hovertemplate": "Genre=Comedy, Mystery<br>Duration m=%{x}<br>probability=%{y}<extra></extra>",
         "legendgroup": "Comedy, Mystery",
         "marker": {
          "color": "#FFA15A",
          "pattern": {
           "shape": ""
          }
         },
         "name": "Comedy, Mystery",
         "nbinsx": 60,
         "offsetgroup": "Comedy, Mystery",
         "orientation": "v",
         "showlegend": true,
         "type": "histogram",
         "x": [
          135,
          172
         ],
         "xaxis": "x",
         "yaxis": "y"
        },
        {
         "alignmentgroup": "True",
         "bingroup": "x",
         "histnorm": "probability",
         "hovertemplate": "Genre=Musical, Drama<br>Duration m=%{x}<br>probability=%{y}<extra></extra>",
         "legendgroup": "Musical, Drama",
         "marker": {
          "color": "#19d3f3",
          "pattern": {
           "shape": ""
          }
         },
         "name": "Musical, Drama",
         "nbinsx": 60,
         "offsetgroup": "Musical, Drama",
         "orientation": "v",
         "showlegend": true,
         "type": "histogram",
         "x": [
          135,
          136,
          143
         ],
         "xaxis": "x",
         "yaxis": "y"
        },
        {
         "alignmentgroup": "True",
         "bingroup": "x",
         "histnorm": "probability",
         "hovertemplate": "Genre=Adventure, Drama, Music<br>Duration m=%{x}<br>probability=%{y}<extra></extra>",
         "legendgroup": "Adventure, Drama, Music",
         "marker": {
          "color": "#FF6692",
          "pattern": {
           "shape": ""
          }
         },
         "name": "Adventure, Drama, Music",
         "nbinsx": 60,
         "offsetgroup": "Adventure, Drama, Music",
         "orientation": "v",
         "showlegend": true,
         "type": "histogram",
         "x": [
          83
         ],
         "xaxis": "x",
         "yaxis": "y"
        },
        {
         "alignmentgroup": "True",
         "bingroup": "x",
         "histnorm": "probability",
         "hovertemplate": "Genre=Musical, Drama, Family<br>Duration m=%{x}<br>probability=%{y}<extra></extra>",
         "legendgroup": "Musical, Drama, Family",
         "marker": {
          "color": "#B6E880",
          "pattern": {
           "shape": ""
          }
         },
         "name": "Musical, Drama, Family",
         "nbinsx": 60,
         "offsetgroup": "Musical, Drama, Family",
         "orientation": "v",
         "showlegend": true,
         "type": "histogram",
         "x": [
          165,
          139,
          124,
          161,
          136,
          144
         ],
         "xaxis": "x",
         "yaxis": "y"
        },
        {
         "alignmentgroup": "True",
         "bingroup": "x",
         "histnorm": "probability",
         "hovertemplate": "Genre=Drama, Musical, Family<br>Duration m=%{x}<br>probability=%{y}<extra></extra>",
         "legendgroup": "Drama, Musical, Family",
         "marker": {
          "color": "#FF97FF",
          "pattern": {
           "shape": ""
          }
         },
         "name": "Drama, Musical, Family",
         "nbinsx": 60,
         "offsetgroup": "Drama, Musical, Family",
         "orientation": "v",
         "showlegend": true,
         "type": "histogram",
         "x": [
          147,
          125,
          172
         ],
         "xaxis": "x",
         "yaxis": "y"
        },
        {
         "alignmentgroup": "True",
         "bingroup": "x",
         "histnorm": "probability",
         "hovertemplate": "Genre=Adventure, Comedy, Crime<br>Duration m=%{x}<br>probability=%{y}<extra></extra>",
         "legendgroup": "Adventure, Comedy, Crime",
         "marker": {
          "color": "#FECB52",
          "pattern": {
           "shape": ""
          }
         },
         "name": "Adventure, Comedy, Crime",
         "nbinsx": 60,
         "offsetgroup": "Adventure, Comedy, Crime",
         "orientation": "v",
         "showlegend": true,
         "type": "histogram",
         "x": [
          143,
          129
         ],
         "xaxis": "x",
         "yaxis": "y"
        },
        {
         "alignmentgroup": "True",
         "bingroup": "x",
         "histnorm": "probability",
         "hovertemplate": "Genre=Comedy, Crime, Thriller<br>Duration m=%{x}<br>probability=%{y}<extra></extra>",
         "legendgroup": "Comedy, Crime, Thriller",
         "marker": {
          "color": "#636efa",
          "pattern": {
           "shape": ""
          }
         },
         "name": "Comedy, Crime, Thriller",
         "nbinsx": 60,
         "offsetgroup": "Comedy, Crime, Thriller",
         "orientation": "v",
         "showlegend": true,
         "type": "histogram",
         "x": [
          143,
          137,
          110,
          90
         ],
         "xaxis": "x",
         "yaxis": "y"
        },
        {
         "alignmentgroup": "True",
         "bingroup": "x",
         "histnorm": "probability",
         "hovertemplate": "Genre=Action, History<br>Duration m=%{x}<br>probability=%{y}<extra></extra>",
         "legendgroup": "Action, History",
         "marker": {
          "color": "#EF553B",
          "pattern": {
           "shape": ""
          }
         },
         "name": "Action, History",
         "nbinsx": 60,
         "offsetgroup": "Action, History",
         "orientation": "v",
         "showlegend": true,
         "type": "histogram",
         "x": [
          126
         ],
         "xaxis": "x",
         "yaxis": "y"
        },
        {
         "alignmentgroup": "True",
         "bingroup": "x",
         "histnorm": "probability",
         "hovertemplate": "Genre=Horror, Romance, Thriller<br>Duration m=%{x}<br>probability=%{y}<extra></extra>",
         "legendgroup": "Horror, Romance, Thriller",
         "marker": {
          "color": "#00cc96",
          "pattern": {
           "shape": ""
          }
         },
         "name": "Horror, Romance, Thriller",
         "nbinsx": 60,
         "offsetgroup": "Horror, Romance, Thriller",
         "orientation": "v",
         "showlegend": true,
         "type": "histogram",
         "x": [
          135,
          139
         ],
         "xaxis": "x",
         "yaxis": "y"
        },
        {
         "alignmentgroup": "True",
         "bingroup": "x",
         "histnorm": "probability",
         "hovertemplate": "Genre=Adventure, Drama, Thriller<br>Duration m=%{x}<br>probability=%{y}<extra></extra>",
         "legendgroup": "Adventure, Drama, Thriller",
         "marker": {
          "color": "#ab63fa",
          "pattern": {
           "shape": ""
          }
         },
         "name": "Adventure, Drama, Thriller",
         "nbinsx": 60,
         "offsetgroup": "Adventure, Drama, Thriller",
         "orientation": "v",
         "showlegend": true,
         "type": "histogram",
         "x": [
          133,
          133,
          100,
          108,
          104,
          142
         ],
         "xaxis": "x",
         "yaxis": "y"
        },
        {
         "alignmentgroup": "True",
         "bingroup": "x",
         "histnorm": "probability",
         "hovertemplate": "Genre=Drama, History, Thriller<br>Duration m=%{x}<br>probability=%{y}<extra></extra>",
         "legendgroup": "Drama, History, Thriller",
         "marker": {
          "color": "#FFA15A",
          "pattern": {
           "shape": ""
          }
         },
         "name": "Drama, History, Thriller",
         "nbinsx": 60,
         "offsetgroup": "Drama, History, Thriller",
         "orientation": "v",
         "showlegend": true,
         "type": "histogram",
         "x": [
          101
         ],
         "xaxis": "x",
         "yaxis": "y"
        },
        {
         "alignmentgroup": "True",
         "bingroup": "x",
         "histnorm": "probability",
         "hovertemplate": "Genre=Documentary, Drama<br>Duration m=%{x}<br>probability=%{y}<extra></extra>",
         "legendgroup": "Documentary, Drama",
         "marker": {
          "color": "#19d3f3",
          "pattern": {
           "shape": ""
          }
         },
         "name": "Documentary, Drama",
         "nbinsx": 60,
         "offsetgroup": "Documentary, Drama",
         "orientation": "v",
         "showlegend": true,
         "type": "histogram",
         "x": [
          88,
          148,
          84,
          91,
          92
         ],
         "xaxis": "x",
         "yaxis": "y"
        },
        {
         "alignmentgroup": "True",
         "bingroup": "x",
         "histnorm": "probability",
         "hovertemplate": "Genre=Comedy, Sport<br>Duration m=%{x}<br>probability=%{y}<extra></extra>",
         "legendgroup": "Comedy, Sport",
         "marker": {
          "color": "#FF6692",
          "pattern": {
           "shape": ""
          }
         },
         "name": "Comedy, Sport",
         "nbinsx": 60,
         "offsetgroup": "Comedy, Sport",
         "orientation": "v",
         "showlegend": true,
         "type": "histogram",
         "x": [
          120
         ],
         "xaxis": "x",
         "yaxis": "y"
        },
        {
         "alignmentgroup": "True",
         "bingroup": "x",
         "histnorm": "probability",
         "hovertemplate": "Genre=Animation, Comedy, Family<br>Duration m=%{x}<br>probability=%{y}<extra></extra>",
         "legendgroup": "Animation, Comedy, Family",
         "marker": {
          "color": "#B6E880",
          "pattern": {
           "shape": ""
          }
         },
         "name": "Animation, Comedy, Family",
         "nbinsx": 60,
         "offsetgroup": "Animation, Comedy, Family",
         "orientation": "v",
         "showlegend": true,
         "type": "histogram",
         "x": [
          74
         ],
         "xaxis": "x",
         "yaxis": "y"
        },
        {
         "alignmentgroup": "True",
         "bingroup": "x",
         "histnorm": "probability",
         "hovertemplate": "Genre=Drama, Fantasy<br>Duration m=%{x}<br>probability=%{y}<extra></extra>",
         "legendgroup": "Drama, Fantasy",
         "marker": {
          "color": "#FF97FF",
          "pattern": {
           "shape": ""
          }
         },
         "name": "Drama, Fantasy",
         "nbinsx": 60,
         "offsetgroup": "Drama, Fantasy",
         "orientation": "v",
         "showlegend": true,
         "type": "histogram",
         "x": [
          122,
          145,
          150,
          166,
          124,
          99,
          90
         ],
         "xaxis": "x",
         "yaxis": "y"
        },
        {
         "alignmentgroup": "True",
         "bingroup": "x",
         "histnorm": "probability",
         "hovertemplate": "Genre=Crime<br>Duration m=%{x}<br>probability=%{y}<extra></extra>",
         "legendgroup": "Crime",
         "marker": {
          "color": "#FECB52",
          "pattern": {
           "shape": ""
          }
         },
         "name": "Crime",
         "nbinsx": 60,
         "offsetgroup": "Crime",
         "orientation": "v",
         "showlegend": true,
         "type": "histogram",
         "x": [
          125,
          123,
          110,
          108,
          78,
          113,
          107,
          115,
          65,
          153,
          115,
          100,
          109,
          113,
          80,
          120,
          90,
          113,
          150,
          108
         ],
         "xaxis": "x",
         "yaxis": "y"
        },
        {
         "alignmentgroup": "True",
         "bingroup": "x",
         "histnorm": "probability",
         "hovertemplate": "Genre=Drama, Horror<br>Duration m=%{x}<br>probability=%{y}<extra></extra>",
         "legendgroup": "Drama, Horror",
         "marker": {
          "color": "#636efa",
          "pattern": {
           "shape": ""
          }
         },
         "name": "Drama, Horror",
         "nbinsx": 60,
         "offsetgroup": "Drama, Horror",
         "orientation": "v",
         "showlegend": true,
         "type": "histogram",
         "x": [
          135,
          102,
          120
         ],
         "xaxis": "x",
         "yaxis": "y"
        },
        {
         "alignmentgroup": "True",
         "bingroup": "x",
         "histnorm": "probability",
         "hovertemplate": "Genre=Comedy, Crime, Musical<br>Duration m=%{x}<br>probability=%{y}<extra></extra>",
         "legendgroup": "Comedy, Crime, Musical",
         "marker": {
          "color": "#EF553B",
          "pattern": {
           "shape": ""
          }
         },
         "name": "Comedy, Crime, Musical",
         "nbinsx": 60,
         "offsetgroup": "Comedy, Crime, Musical",
         "orientation": "v",
         "showlegend": true,
         "type": "histogram",
         "x": [
          139
         ],
         "xaxis": "x",
         "yaxis": "y"
        },
        {
         "alignmentgroup": "True",
         "bingroup": "x",
         "histnorm": "probability",
         "hovertemplate": "Genre=Drama, Family, Action<br>Duration m=%{x}<br>probability=%{y}<extra></extra>",
         "legendgroup": "Drama, Family, Action",
         "marker": {
          "color": "#00cc96",
          "pattern": {
           "shape": ""
          }
         },
         "name": "Drama, Family, Action",
         "nbinsx": 60,
         "offsetgroup": "Drama, Family, Action",
         "orientation": "v",
         "showlegend": true,
         "type": "histogram",
         "x": [
          136,
          166
         ],
         "xaxis": "x",
         "yaxis": "y"
        },
        {
         "alignmentgroup": "True",
         "bingroup": "x",
         "histnorm": "probability",
         "hovertemplate": "Genre=Biography, History<br>Duration m=%{x}<br>probability=%{y}<extra></extra>",
         "legendgroup": "Biography, History",
         "marker": {
          "color": "#ab63fa",
          "pattern": {
           "shape": ""
          }
         },
         "name": "Biography, History",
         "nbinsx": 60,
         "offsetgroup": "Biography, History",
         "orientation": "v",
         "showlegend": true,
         "type": "histogram",
         "x": [
          108,
          129,
          117
         ],
         "xaxis": "x",
         "yaxis": "y"
        },
        {
         "alignmentgroup": "True",
         "bingroup": "x",
         "histnorm": "probability",
         "hovertemplate": "Genre=History, Romance<br>Duration m=%{x}<br>probability=%{y}<extra></extra>",
         "legendgroup": "History, Romance",
         "marker": {
          "color": "#FFA15A",
          "pattern": {
           "shape": ""
          }
         },
         "name": "History, Romance",
         "nbinsx": 60,
         "offsetgroup": "History, Romance",
         "orientation": "v",
         "showlegend": true,
         "type": "histogram",
         "x": [
          105
         ],
         "xaxis": "x",
         "yaxis": "y"
        },
        {
         "alignmentgroup": "True",
         "bingroup": "x",
         "histnorm": "probability",
         "hovertemplate": "Genre=Drama, History, Sport<br>Duration m=%{x}<br>probability=%{y}<extra></extra>",
         "legendgroup": "Drama, History, Sport",
         "marker": {
          "color": "#19d3f3",
          "pattern": {
           "shape": ""
          }
         },
         "name": "Drama, History, Sport",
         "nbinsx": 60,
         "offsetgroup": "Drama, History, Sport",
         "orientation": "v",
         "showlegend": true,
         "type": "histogram",
         "x": [
          151
         ],
         "xaxis": "x",
         "yaxis": "y"
        },
        {
         "alignmentgroup": "True",
         "bingroup": "x",
         "histnorm": "probability",
         "hovertemplate": "Genre=Animation, Comedy, Drama<br>Duration m=%{x}<br>probability=%{y}<extra></extra>",
         "legendgroup": "Animation, Comedy, Drama",
         "marker": {
          "color": "#FF6692",
          "pattern": {
           "shape": ""
          }
         },
         "name": "Animation, Comedy, Drama",
         "nbinsx": 60,
         "offsetgroup": "Animation, Comedy, Drama",
         "orientation": "v",
         "showlegend": true,
         "type": "histogram",
         "x": [
          79
         ],
         "xaxis": "x",
         "yaxis": "y"
        },
        {
         "alignmentgroup": "True",
         "bingroup": "x",
         "histnorm": "probability",
         "hovertemplate": "Genre=Drama, Comedy, Family<br>Duration m=%{x}<br>probability=%{y}<extra></extra>",
         "legendgroup": "Drama, Comedy, Family",
         "marker": {
          "color": "#B6E880",
          "pattern": {
           "shape": ""
          }
         },
         "name": "Drama, Comedy, Family",
         "nbinsx": 60,
         "offsetgroup": "Drama, Comedy, Family",
         "orientation": "v",
         "showlegend": true,
         "type": "histogram",
         "x": [
          121,
          151,
          125
         ],
         "xaxis": "x",
         "yaxis": "y"
        },
        {
         "alignmentgroup": "True",
         "bingroup": "x",
         "histnorm": "probability",
         "hovertemplate": "Genre=Biography, Drama, War<br>Duration m=%{x}<br>probability=%{y}<extra></extra>",
         "legendgroup": "Biography, Drama, War",
         "marker": {
          "color": "#FF97FF",
          "pattern": {
           "shape": ""
          }
         },
         "name": "Biography, Drama, War",
         "nbinsx": 60,
         "offsetgroup": "Biography, Drama, War",
         "orientation": "v",
         "showlegend": true,
         "type": "histogram",
         "x": [
          132
         ],
         "xaxis": "x",
         "yaxis": "y"
        },
        {
         "alignmentgroup": "True",
         "bingroup": "x",
         "histnorm": "probability",
         "hovertemplate": "Genre=Drama, Music, Romance<br>Duration m=%{x}<br>probability=%{y}<extra></extra>",
         "legendgroup": "Drama, Music, Romance",
         "marker": {
          "color": "#FECB52",
          "pattern": {
           "shape": ""
          }
         },
         "name": "Drama, Music, Romance",
         "nbinsx": 60,
         "offsetgroup": "Drama, Music, Romance",
         "orientation": "v",
         "showlegend": true,
         "type": "histogram",
         "x": [
          154,
          159,
          107,
          145
         ],
         "xaxis": "x",
         "yaxis": "y"
        },
        {
         "alignmentgroup": "True",
         "bingroup": "x",
         "histnorm": "probability",
         "hovertemplate": "Genre=Musical, Mystery, Thriller<br>Duration m=%{x}<br>probability=%{y}<extra></extra>",
         "legendgroup": "Musical, Mystery, Thriller",
         "marker": {
          "color": "#636efa",
          "pattern": {
           "shape": ""
          }
         },
         "name": "Musical, Mystery, Thriller",
         "nbinsx": 60,
         "offsetgroup": "Musical, Mystery, Thriller",
         "orientation": "v",
         "showlegend": true,
         "type": "histogram",
         "x": [
          107,
          170
         ],
         "xaxis": "x",
         "yaxis": "y"
        },
        {
         "alignmentgroup": "True",
         "bingroup": "x",
         "histnorm": "probability",
         "hovertemplate": "Genre=Music, Romance<br>Duration m=%{x}<br>probability=%{y}<extra></extra>",
         "legendgroup": "Music, Romance",
         "marker": {
          "color": "#EF553B",
          "pattern": {
           "shape": ""
          }
         },
         "name": "Music, Romance",
         "nbinsx": 60,
         "offsetgroup": "Music, Romance",
         "orientation": "v",
         "showlegend": true,
         "type": "histogram",
         "x": [
          79,
          120
         ],
         "xaxis": "x",
         "yaxis": "y"
        },
        {
         "alignmentgroup": "True",
         "bingroup": "x",
         "histnorm": "probability",
         "hovertemplate": "Genre=Musical, Comedy, Romance<br>Duration m=%{x}<br>probability=%{y}<extra></extra>",
         "legendgroup": "Musical, Comedy, Romance",
         "marker": {
          "color": "#00cc96",
          "pattern": {
           "shape": ""
          }
         },
         "name": "Musical, Comedy, Romance",
         "nbinsx": 60,
         "offsetgroup": "Musical, Comedy, Romance",
         "orientation": "v",
         "showlegend": true,
         "type": "histogram",
         "x": [
          168,
          152
         ],
         "xaxis": "x",
         "yaxis": "y"
        },
        {
         "alignmentgroup": "True",
         "bingroup": "x",
         "histnorm": "probability",
         "hovertemplate": "Genre=Musical, Action, Drama<br>Duration m=%{x}<br>probability=%{y}<extra></extra>",
         "legendgroup": "Musical, Action, Drama",
         "marker": {
          "color": "#ab63fa",
          "pattern": {
           "shape": ""
          }
         },
         "name": "Musical, Action, Drama",
         "nbinsx": 60,
         "offsetgroup": "Musical, Action, Drama",
         "orientation": "v",
         "showlegend": true,
         "type": "histogram",
         "x": [
          127,
          162,
          131
         ],
         "xaxis": "x",
         "yaxis": "y"
        },
        {
         "alignmentgroup": "True",
         "bingroup": "x",
         "histnorm": "probability",
         "hovertemplate": "Genre=Romance, Comedy<br>Duration m=%{x}<br>probability=%{y}<extra></extra>",
         "legendgroup": "Romance, Comedy",
         "marker": {
          "color": "#FFA15A",
          "pattern": {
           "shape": ""
          }
         },
         "name": "Romance, Comedy",
         "nbinsx": 60,
         "offsetgroup": "Romance, Comedy",
         "orientation": "v",
         "showlegend": true,
         "type": "histogram",
         "x": [
          108,
          125
         ],
         "xaxis": "x",
         "yaxis": "y"
        },
        {
         "alignmentgroup": "True",
         "bingroup": "x",
         "histnorm": "probability",
         "hovertemplate": "Genre=Musical, Drama, Romance<br>Duration m=%{x}<br>probability=%{y}<extra></extra>",
         "legendgroup": "Musical, Drama, Romance",
         "marker": {
          "color": "#19d3f3",
          "pattern": {
           "shape": ""
          }
         },
         "name": "Musical, Drama, Romance",
         "nbinsx": 60,
         "offsetgroup": "Musical, Drama, Romance",
         "orientation": "v",
         "showlegend": true,
         "type": "histogram",
         "x": [
          160,
          180,
          216,
          153,
          133,
          171,
          160
         ],
         "xaxis": "x",
         "yaxis": "y"
        },
        {
         "alignmentgroup": "True",
         "bingroup": "x",
         "histnorm": "probability",
         "hovertemplate": "Genre=Action, Fantasy, Horror<br>Duration m=%{x}<br>probability=%{y}<extra></extra>",
         "legendgroup": "Action, Fantasy, Horror",
         "marker": {
          "color": "#FF6692",
          "pattern": {
           "shape": ""
          }
         },
         "name": "Action, Fantasy, Horror",
         "nbinsx": 60,
         "offsetgroup": "Action, Fantasy, Horror",
         "orientation": "v",
         "showlegend": true,
         "type": "histogram",
         "x": [
          143
         ],
         "xaxis": "x",
         "yaxis": "y"
        },
        {
         "alignmentgroup": "True",
         "bingroup": "x",
         "histnorm": "probability",
         "hovertemplate": "Genre=Drama, Horror, Thriller<br>Duration m=%{x}<br>probability=%{y}<extra></extra>",
         "legendgroup": "Drama, Horror, Thriller",
         "marker": {
          "color": "#B6E880",
          "pattern": {
           "shape": ""
          }
         },
         "name": "Drama, Horror, Thriller",
         "nbinsx": 60,
         "offsetgroup": "Drama, Horror, Thriller",
         "orientation": "v",
         "showlegend": true,
         "type": "histogram",
         "x": [
          129,
          105,
          111,
          86,
          88
         ],
         "xaxis": "x",
         "yaxis": "y"
        },
        {
         "alignmentgroup": "True",
         "bingroup": "x",
         "histnorm": "probability",
         "hovertemplate": "Genre=Drama, Romance, Musical<br>Duration m=%{x}<br>probability=%{y}<extra></extra>",
         "legendgroup": "Drama, Romance, Musical",
         "marker": {
          "color": "#FF97FF",
          "pattern": {
           "shape": ""
          }
         },
         "name": "Drama, Romance, Musical",
         "nbinsx": 60,
         "offsetgroup": "Drama, Romance, Musical",
         "orientation": "v",
         "showlegend": true,
         "type": "histogram",
         "x": [
          184,
          152,
          128
         ],
         "xaxis": "x",
         "yaxis": "y"
        },
        {
         "alignmentgroup": "True",
         "bingroup": "x",
         "histnorm": "probability",
         "hovertemplate": "Genre=Crime, Drama, History<br>Duration m=%{x}<br>probability=%{y}<extra></extra>",
         "legendgroup": "Crime, Drama, History",
         "marker": {
          "color": "#FECB52",
          "pattern": {
           "shape": ""
          }
         },
         "name": "Crime, Drama, History",
         "nbinsx": 60,
         "offsetgroup": "Crime, Drama, History",
         "orientation": "v",
         "showlegend": true,
         "type": "histogram",
         "x": [
          186
         ],
         "xaxis": "x",
         "yaxis": "y"
        },
        {
         "alignmentgroup": "True",
         "bingroup": "x",
         "histnorm": "probability",
         "hovertemplate": "Genre=Comedy, Drama, Horror<br>Duration m=%{x}<br>probability=%{y}<extra></extra>",
         "legendgroup": "Comedy, Drama, Horror",
         "marker": {
          "color": "#636efa",
          "pattern": {
           "shape": ""
          }
         },
         "name": "Comedy, Drama, Horror",
         "nbinsx": 60,
         "offsetgroup": "Comedy, Drama, Horror",
         "orientation": "v",
         "showlegend": true,
         "type": "histogram",
         "x": [
          98,
          133,
          144,
          168
         ],
         "xaxis": "x",
         "yaxis": "y"
        },
        {
         "alignmentgroup": "True",
         "bingroup": "x",
         "histnorm": "probability",
         "hovertemplate": "Genre=Crime, Horror, Thriller<br>Duration m=%{x}<br>probability=%{y}<extra></extra>",
         "legendgroup": "Crime, Horror, Thriller",
         "marker": {
          "color": "#EF553B",
          "pattern": {
           "shape": ""
          }
         },
         "name": "Crime, Horror, Thriller",
         "nbinsx": 60,
         "offsetgroup": "Crime, Horror, Thriller",
         "orientation": "v",
         "showlegend": true,
         "type": "histogram",
         "x": [
          101
         ],
         "xaxis": "x",
         "yaxis": "y"
        },
        {
         "alignmentgroup": "True",
         "bingroup": "x",
         "histnorm": "probability",
         "hovertemplate": "Genre=Comedy, Sci-Fi<br>Duration m=%{x}<br>probability=%{y}<extra></extra>",
         "legendgroup": "Comedy, Sci-Fi",
         "marker": {
          "color": "#00cc96",
          "pattern": {
           "shape": ""
          }
         },
         "name": "Comedy, Sci-Fi",
         "nbinsx": 60,
         "offsetgroup": "Comedy, Sci-Fi",
         "orientation": "v",
         "showlegend": true,
         "type": "histogram",
         "x": [
          130
         ],
         "xaxis": "x",
         "yaxis": "y"
        },
        {
         "alignmentgroup": "True",
         "bingroup": "x",
         "histnorm": "probability",
         "hovertemplate": "Genre=Romance, Action, Crime<br>Duration m=%{x}<br>probability=%{y}<extra></extra>",
         "legendgroup": "Romance, Action, Crime",
         "marker": {
          "color": "#ab63fa",
          "pattern": {
           "shape": ""
          }
         },
         "name": "Romance, Action, Crime",
         "nbinsx": 60,
         "offsetgroup": "Romance, Action, Crime",
         "orientation": "v",
         "showlegend": true,
         "type": "histogram",
         "x": [
          140
         ],
         "xaxis": "x",
         "yaxis": "y"
        },
        {
         "alignmentgroup": "True",
         "bingroup": "x",
         "histnorm": "probability",
         "hovertemplate": "Genre=Musical, Thriller<br>Duration m=%{x}<br>probability=%{y}<extra></extra>",
         "legendgroup": "Musical, Thriller",
         "marker": {
          "color": "#FFA15A",
          "pattern": {
           "shape": ""
          }
         },
         "name": "Musical, Thriller",
         "nbinsx": 60,
         "offsetgroup": "Musical, Thriller",
         "orientation": "v",
         "showlegend": true,
         "type": "histogram",
         "x": [
          153
         ],
         "xaxis": "x",
         "yaxis": "y"
        },
        {
         "alignmentgroup": "True",
         "bingroup": "x",
         "histnorm": "probability",
         "hovertemplate": "Genre=Horror, Drama, Mystery<br>Duration m=%{x}<br>probability=%{y}<extra></extra>",
         "legendgroup": "Horror, Drama, Mystery",
         "marker": {
          "color": "#19d3f3",
          "pattern": {
           "shape": ""
          }
         },
         "name": "Horror, Drama, Mystery",
         "nbinsx": 60,
         "offsetgroup": "Horror, Drama, Mystery",
         "orientation": "v",
         "showlegend": true,
         "type": "histogram",
         "x": [
          119
         ],
         "xaxis": "x",
         "yaxis": "y"
        },
        {
         "alignmentgroup": "True",
         "bingroup": "x",
         "histnorm": "probability",
         "hovertemplate": "Genre=Thriller, Mystery, Family<br>Duration m=%{x}<br>probability=%{y}<extra></extra>",
         "legendgroup": "Thriller, Mystery, Family",
         "marker": {
          "color": "#FF6692",
          "pattern": {
           "shape": ""
          }
         },
         "name": "Thriller, Mystery, Family",
         "nbinsx": 60,
         "offsetgroup": "Thriller, Mystery, Family",
         "orientation": "v",
         "showlegend": true,
         "type": "histogram",
         "x": [
          142
         ],
         "xaxis": "x",
         "yaxis": "y"
        },
        {
         "alignmentgroup": "True",
         "bingroup": "x",
         "histnorm": "probability",
         "hovertemplate": "Genre=Comedy, Drama, Sci-Fi<br>Duration m=%{x}<br>probability=%{y}<extra></extra>",
         "legendgroup": "Comedy, Drama, Sci-Fi",
         "marker": {
          "color": "#B6E880",
          "pattern": {
           "shape": ""
          }
         },
         "name": "Comedy, Drama, Sci-Fi",
         "nbinsx": 60,
         "offsetgroup": "Comedy, Drama, Sci-Fi",
         "orientation": "v",
         "showlegend": true,
         "type": "histogram",
         "x": [
          92
         ],
         "xaxis": "x",
         "yaxis": "y"
        },
        {
         "alignmentgroup": "True",
         "bingroup": "x",
         "histnorm": "probability",
         "hovertemplate": "Genre=Comedy, Fantasy<br>Duration m=%{x}<br>probability=%{y}<extra></extra>",
         "legendgroup": "Comedy, Fantasy",
         "marker": {
          "color": "#FF97FF",
          "pattern": {
           "shape": ""
          }
         },
         "name": "Comedy, Fantasy",
         "nbinsx": 60,
         "offsetgroup": "Comedy, Fantasy",
         "orientation": "v",
         "showlegend": true,
         "type": "histogram",
         "x": [
          173,
          121,
          136
         ],
         "xaxis": "x",
         "yaxis": "y"
        },
        {
         "alignmentgroup": "True",
         "bingroup": "x",
         "histnorm": "probability",
         "hovertemplate": "Genre=Action, Crime, Sci-Fi<br>Duration m=%{x}<br>probability=%{y}<extra></extra>",
         "legendgroup": "Action, Crime, Sci-Fi",
         "marker": {
          "color": "#FECB52",
          "pattern": {
           "shape": ""
          }
         },
         "name": "Action, Crime, Sci-Fi",
         "nbinsx": 60,
         "offsetgroup": "Action, Crime, Sci-Fi",
         "orientation": "v",
         "showlegend": true,
         "type": "histogram",
         "x": [
          155
         ],
         "xaxis": "x",
         "yaxis": "y"
        },
        {
         "alignmentgroup": "True",
         "bingroup": "x",
         "histnorm": "probability",
         "hovertemplate": "Genre=Drama, Fantasy, History<br>Duration m=%{x}<br>probability=%{y}<extra></extra>",
         "legendgroup": "Drama, Fantasy, History",
         "marker": {
          "color": "#636efa",
          "pattern": {
           "shape": ""
          }
         },
         "name": "Drama, Fantasy, History",
         "nbinsx": 60,
         "offsetgroup": "Drama, Fantasy, History",
         "orientation": "v",
         "showlegend": true,
         "type": "histogram",
         "x": [
          127
         ],
         "xaxis": "x",
         "yaxis": "y"
        },
        {
         "alignmentgroup": "True",
         "bingroup": "x",
         "histnorm": "probability",
         "hovertemplate": "Genre=Drama, Family, Mystery<br>Duration m=%{x}<br>probability=%{y}<extra></extra>",
         "legendgroup": "Drama, Family, Mystery",
         "marker": {
          "color": "#EF553B",
          "pattern": {
           "shape": ""
          }
         },
         "name": "Drama, Family, Mystery",
         "nbinsx": 60,
         "offsetgroup": "Drama, Family, Mystery",
         "orientation": "v",
         "showlegend": true,
         "type": "histogram",
         "x": [
          94
         ],
         "xaxis": "x",
         "yaxis": "y"
        },
        {
         "alignmentgroup": "True",
         "bingroup": "x",
         "histnorm": "probability",
         "hovertemplate": "Genre=Adventure, Romance<br>Duration m=%{x}<br>probability=%{y}<extra></extra>",
         "legendgroup": "Adventure, Romance",
         "marker": {
          "color": "#00cc96",
          "pattern": {
           "shape": ""
          }
         },
         "name": "Adventure, Romance",
         "nbinsx": 60,
         "offsetgroup": "Adventure, Romance",
         "orientation": "v",
         "showlegend": true,
         "type": "histogram",
         "x": [
          140
         ],
         "xaxis": "x",
         "yaxis": "y"
        },
        {
         "alignmentgroup": "True",
         "bingroup": "x",
         "histnorm": "probability",
         "hovertemplate": "Genre=Romance, Action, Drama<br>Duration m=%{x}<br>probability=%{y}<extra></extra>",
         "legendgroup": "Romance, Action, Drama",
         "marker": {
          "color": "#ab63fa",
          "pattern": {
           "shape": ""
          }
         },
         "name": "Romance, Action, Drama",
         "nbinsx": 60,
         "offsetgroup": "Romance, Action, Drama",
         "orientation": "v",
         "showlegend": true,
         "type": "histogram",
         "x": [
          160
         ],
         "xaxis": "x",
         "yaxis": "y"
        },
        {
         "alignmentgroup": "True",
         "bingroup": "x",
         "histnorm": "probability",
         "hovertemplate": "Genre=Crime, Drama, Musical<br>Duration m=%{x}<br>probability=%{y}<extra></extra>",
         "legendgroup": "Crime, Drama, Musical",
         "marker": {
          "color": "#FFA15A",
          "pattern": {
           "shape": ""
          }
         },
         "name": "Crime, Drama, Musical",
         "nbinsx": 60,
         "offsetgroup": "Crime, Drama, Musical",
         "orientation": "v",
         "showlegend": true,
         "type": "histogram",
         "x": [
          186,
          163,
          125,
          168,
          135
         ],
         "xaxis": "x",
         "yaxis": "y"
        },
        {
         "alignmentgroup": "True",
         "bingroup": "x",
         "histnorm": "probability",
         "hovertemplate": "Genre=Comedy, Music, Romance<br>Duration m=%{x}<br>probability=%{y}<extra></extra>",
         "legendgroup": "Comedy, Music, Romance",
         "marker": {
          "color": "#19d3f3",
          "pattern": {
           "shape": ""
          }
         },
         "name": "Comedy, Music, Romance",
         "nbinsx": 60,
         "offsetgroup": "Comedy, Music, Romance",
         "orientation": "v",
         "showlegend": true,
         "type": "histogram",
         "x": [
          143,
          110
         ],
         "xaxis": "x",
         "yaxis": "y"
        },
        {
         "alignmentgroup": "True",
         "bingroup": "x",
         "histnorm": "probability",
         "hovertemplate": "Genre=Comedy, Family, Sci-Fi<br>Duration m=%{x}<br>probability=%{y}<extra></extra>",
         "legendgroup": "Comedy, Family, Sci-Fi",
         "marker": {
          "color": "#FF6692",
          "pattern": {
           "shape": ""
          }
         },
         "name": "Comedy, Family, Sci-Fi",
         "nbinsx": 60,
         "offsetgroup": "Comedy, Family, Sci-Fi",
         "orientation": "v",
         "showlegend": true,
         "type": "histogram",
         "x": [
          104
         ],
         "xaxis": "x",
         "yaxis": "y"
        },
        {
         "alignmentgroup": "True",
         "bingroup": "x",
         "histnorm": "probability",
         "hovertemplate": "Genre=Action, Drama, Western<br>Duration m=%{x}<br>probability=%{y}<extra></extra>",
         "legendgroup": "Action, Drama, Western",
         "marker": {
          "color": "#B6E880",
          "pattern": {
           "shape": ""
          }
         },
         "name": "Action, Drama, Western",
         "nbinsx": 60,
         "offsetgroup": "Action, Drama, Western",
         "orientation": "v",
         "showlegend": true,
         "type": "histogram",
         "x": [
          107
         ],
         "xaxis": "x",
         "yaxis": "y"
        },
        {
         "alignmentgroup": "True",
         "bingroup": "x",
         "histnorm": "probability",
         "hovertemplate": "Genre=Comedy, Drama, Mystery<br>Duration m=%{x}<br>probability=%{y}<extra></extra>",
         "legendgroup": "Comedy, Drama, Mystery",
         "marker": {
          "color": "#FF97FF",
          "pattern": {
           "shape": ""
          }
         },
         "name": "Comedy, Drama, Mystery",
         "nbinsx": 60,
         "offsetgroup": "Comedy, Drama, Mystery",
         "orientation": "v",
         "showlegend": true,
         "type": "histogram",
         "x": [
          121,
          108
         ],
         "xaxis": "x",
         "yaxis": "y"
        },
        {
         "alignmentgroup": "True",
         "bingroup": "x",
         "histnorm": "probability",
         "hovertemplate": "Genre=Biography, Comedy, Drama<br>Duration m=%{x}<br>probability=%{y}<extra></extra>",
         "legendgroup": "Biography, Comedy, Drama",
         "marker": {
          "color": "#FECB52",
          "pattern": {
           "shape": ""
          }
         },
         "name": "Biography, Comedy, Drama",
         "nbinsx": 60,
         "offsetgroup": "Biography, Comedy, Drama",
         "orientation": "v",
         "showlegend": true,
         "type": "histogram",
         "x": [
          109,
          155,
          144,
          147,
          120
         ],
         "xaxis": "x",
         "yaxis": "y"
        },
        {
         "alignmentgroup": "True",
         "bingroup": "x",
         "histnorm": "probability",
         "hovertemplate": "Genre=Action, Mystery, Romance<br>Duration m=%{x}<br>probability=%{y}<extra></extra>",
         "legendgroup": "Action, Mystery, Romance",
         "marker": {
          "color": "#636efa",
          "pattern": {
           "shape": ""
          }
         },
         "name": "Action, Mystery, Romance",
         "nbinsx": 60,
         "offsetgroup": "Action, Mystery, Romance",
         "orientation": "v",
         "showlegend": true,
         "type": "histogram",
         "x": [
          136,
          157,
          148
         ],
         "xaxis": "x",
         "yaxis": "y"
        },
        {
         "alignmentgroup": "True",
         "bingroup": "x",
         "histnorm": "probability",
         "hovertemplate": "Genre=Action, Musical<br>Duration m=%{x}<br>probability=%{y}<extra></extra>",
         "legendgroup": "Action, Musical",
         "marker": {
          "color": "#EF553B",
          "pattern": {
           "shape": ""
          }
         },
         "name": "Action, Musical",
         "nbinsx": 60,
         "offsetgroup": "Action, Musical",
         "orientation": "v",
         "showlegend": true,
         "type": "histogram",
         "x": [
          123
         ],
         "xaxis": "x",
         "yaxis": "y"
        },
        {
         "alignmentgroup": "True",
         "bingroup": "x",
         "histnorm": "probability",
         "hovertemplate": "Genre=Drama, Family, History<br>Duration m=%{x}<br>probability=%{y}<extra></extra>",
         "legendgroup": "Drama, Family, History",
         "marker": {
          "color": "#00cc96",
          "pattern": {
           "shape": ""
          }
         },
         "name": "Drama, Family, History",
         "nbinsx": 60,
         "offsetgroup": "Drama, Family, History",
         "orientation": "v",
         "showlegend": true,
         "type": "histogram",
         "x": [
          140
         ],
         "xaxis": "x",
         "yaxis": "y"
        },
        {
         "alignmentgroup": "True",
         "bingroup": "x",
         "histnorm": "probability",
         "hovertemplate": "Genre=Drama, Mystery, Romance<br>Duration m=%{x}<br>probability=%{y}<extra></extra>",
         "legendgroup": "Drama, Mystery, Romance",
         "marker": {
          "color": "#ab63fa",
          "pattern": {
           "shape": ""
          }
         },
         "name": "Drama, Mystery, Romance",
         "nbinsx": 60,
         "offsetgroup": "Drama, Mystery, Romance",
         "orientation": "v",
         "showlegend": true,
         "type": "histogram",
         "x": [
          135,
          143,
          100,
          135,
          150,
          83,
          136,
          140,
          105,
          135
         ],
         "xaxis": "x",
         "yaxis": "y"
        },
        {
         "alignmentgroup": "True",
         "bingroup": "x",
         "histnorm": "probability",
         "hovertemplate": "Genre=Biography, Drama, Family<br>Duration m=%{x}<br>probability=%{y}<extra></extra>",
         "legendgroup": "Biography, Drama, Family",
         "marker": {
          "color": "#FFA15A",
          "pattern": {
           "shape": ""
          }
         },
         "name": "Biography, Drama, Family",
         "nbinsx": 60,
         "offsetgroup": "Biography, Drama, Family",
         "orientation": "v",
         "showlegend": true,
         "type": "histogram",
         "x": [
          160
         ],
         "xaxis": "x",
         "yaxis": "y"
        },
        {
         "alignmentgroup": "True",
         "bingroup": "x",
         "histnorm": "probability",
         "hovertemplate": "Genre=Action, Family, Mystery<br>Duration m=%{x}<br>probability=%{y}<extra></extra>",
         "legendgroup": "Action, Family, Mystery",
         "marker": {
          "color": "#19d3f3",
          "pattern": {
           "shape": ""
          }
         },
         "name": "Action, Family, Mystery",
         "nbinsx": 60,
         "offsetgroup": "Action, Family, Mystery",
         "orientation": "v",
         "showlegend": true,
         "type": "histogram",
         "x": [
          134
         ],
         "xaxis": "x",
         "yaxis": "y"
        },
        {
         "alignmentgroup": "True",
         "bingroup": "x",
         "histnorm": "probability",
         "hovertemplate": "Genre=Animation, Adventure, Family<br>Duration m=%{x}<br>probability=%{y}<extra></extra>",
         "legendgroup": "Animation, Adventure, Family",
         "marker": {
          "color": "#FF6692",
          "pattern": {
           "shape": ""
          }
         },
         "name": "Animation, Adventure, Family",
         "nbinsx": 60,
         "offsetgroup": "Animation, Adventure, Family",
         "orientation": "v",
         "showlegend": true,
         "type": "histogram",
         "x": [
          79,
          98,
          77
         ],
         "xaxis": "x",
         "yaxis": "y"
        },
        {
         "alignmentgroup": "True",
         "bingroup": "x",
         "histnorm": "probability",
         "hovertemplate": "Genre=Comedy, Mystery, Romance<br>Duration m=%{x}<br>probability=%{y}<extra></extra>",
         "legendgroup": "Comedy, Mystery, Romance",
         "marker": {
          "color": "#B6E880",
          "pattern": {
           "shape": ""
          }
         },
         "name": "Comedy, Mystery, Romance",
         "nbinsx": 60,
         "offsetgroup": "Comedy, Mystery, Romance",
         "orientation": "v",
         "showlegend": true,
         "type": "histogram",
         "x": [
          139,
          147
         ],
         "xaxis": "x",
         "yaxis": "y"
        },
        {
         "alignmentgroup": "True",
         "bingroup": "x",
         "histnorm": "probability",
         "hovertemplate": "Genre=Action, Sci-Fi<br>Duration m=%{x}<br>probability=%{y}<extra></extra>",
         "legendgroup": "Action, Sci-Fi",
         "marker": {
          "color": "#FF97FF",
          "pattern": {
           "shape": ""
          }
         },
         "name": "Action, Sci-Fi",
         "nbinsx": 60,
         "offsetgroup": "Action, Sci-Fi",
         "orientation": "v",
         "showlegend": true,
         "type": "histogram",
         "x": [
          138
         ],
         "xaxis": "x",
         "yaxis": "y"
        },
        {
         "alignmentgroup": "True",
         "bingroup": "x",
         "histnorm": "probability",
         "hovertemplate": "Genre=Drama, Thriller, Action<br>Duration m=%{x}<br>probability=%{y}<extra></extra>",
         "legendgroup": "Drama, Thriller, Action",
         "marker": {
          "color": "#FECB52",
          "pattern": {
           "shape": ""
          }
         },
         "name": "Drama, Thriller, Action",
         "nbinsx": 60,
         "offsetgroup": "Drama, Thriller, Action",
         "orientation": "v",
         "showlegend": true,
         "type": "histogram",
         "x": [
          172,
          166
         ],
         "xaxis": "x",
         "yaxis": "y"
        },
        {
         "alignmentgroup": "True",
         "bingroup": "x",
         "histnorm": "probability",
         "hovertemplate": "Genre=Drama, Romance, Sport<br>Duration m=%{x}<br>probability=%{y}<extra></extra>",
         "legendgroup": "Drama, Romance, Sport",
         "marker": {
          "color": "#636efa",
          "pattern": {
           "shape": ""
          }
         },
         "name": "Drama, Romance, Sport",
         "nbinsx": 60,
         "offsetgroup": "Drama, Romance, Sport",
         "orientation": "v",
         "showlegend": true,
         "type": "histogram",
         "x": [
          90
         ],
         "xaxis": "x",
         "yaxis": "y"
        },
        {
         "alignmentgroup": "True",
         "bingroup": "x",
         "histnorm": "probability",
         "hovertemplate": "Genre=Drama, Fantasy, Horror<br>Duration m=%{x}<br>probability=%{y}<extra></extra>",
         "legendgroup": "Drama, Fantasy, Horror",
         "marker": {
          "color": "#EF553B",
          "pattern": {
           "shape": ""
          }
         },
         "name": "Drama, Fantasy, Horror",
         "nbinsx": 60,
         "offsetgroup": "Drama, Fantasy, Horror",
         "orientation": "v",
         "showlegend": true,
         "type": "histogram",
         "x": [
          96,
          104
         ],
         "xaxis": "x",
         "yaxis": "y"
        },
        {
         "alignmentgroup": "True",
         "bingroup": "x",
         "histnorm": "probability",
         "hovertemplate": "Genre=Action, Adventure, Sci-Fi<br>Duration m=%{x}<br>probability=%{y}<extra></extra>",
         "legendgroup": "Action, Adventure, Sci-Fi",
         "marker": {
          "color": "#00cc96",
          "pattern": {
           "shape": ""
          }
         },
         "name": "Action, Adventure, Sci-Fi",
         "nbinsx": 60,
         "offsetgroup": "Action, Adventure, Sci-Fi",
         "orientation": "v",
         "showlegend": true,
         "type": "histogram",
         "x": [
          154,
          152,
          156,
          123,
          123,
          136
         ],
         "xaxis": "x",
         "yaxis": "y"
        },
        {
         "alignmentgroup": "True",
         "bingroup": "x",
         "histnorm": "probability",
         "hovertemplate": "Genre=Drama, Musical, Sport<br>Duration m=%{x}<br>probability=%{y}<extra></extra>",
         "legendgroup": "Drama, Musical, Sport",
         "marker": {
          "color": "#ab63fa",
          "pattern": {
           "shape": ""
          }
         },
         "name": "Drama, Musical, Sport",
         "nbinsx": 60,
         "offsetgroup": "Drama, Musical, Sport",
         "orientation": "v",
         "showlegend": true,
         "type": "histogram",
         "x": [
          224
         ],
         "xaxis": "x",
         "yaxis": "y"
        },
        {
         "alignmentgroup": "True",
         "bingroup": "x",
         "histnorm": "probability",
         "hovertemplate": "Genre=Action, Comedy, Horror<br>Duration m=%{x}<br>probability=%{y}<extra></extra>",
         "legendgroup": "Action, Comedy, Horror",
         "marker": {
          "color": "#FFA15A",
          "pattern": {
           "shape": ""
          }
         },
         "name": "Action, Comedy, Horror",
         "nbinsx": 60,
         "offsetgroup": "Action, Comedy, Horror",
         "orientation": "v",
         "showlegend": true,
         "type": "histogram",
         "x": [
          141
         ],
         "xaxis": "x",
         "yaxis": "y"
        },
        {
         "alignmentgroup": "True",
         "bingroup": "x",
         "histnorm": "probability",
         "hovertemplate": "Genre=Documentary, Music<br>Duration m=%{x}<br>probability=%{y}<extra></extra>",
         "legendgroup": "Documentary, Music",
         "marker": {
          "color": "#19d3f3",
          "pattern": {
           "shape": ""
          }
         },
         "name": "Documentary, Music",
         "nbinsx": 60,
         "offsetgroup": "Documentary, Music",
         "orientation": "v",
         "showlegend": true,
         "type": "histogram",
         "x": [
          115
         ],
         "xaxis": "x",
         "yaxis": "y"
        },
        {
         "alignmentgroup": "True",
         "bingroup": "x",
         "histnorm": "probability",
         "hovertemplate": "Genre=Drama, Fantasy, Musical<br>Duration m=%{x}<br>probability=%{y}<extra></extra>",
         "legendgroup": "Drama, Fantasy, Musical",
         "marker": {
          "color": "#FF6692",
          "pattern": {
           "shape": ""
          }
         },
         "name": "Drama, Fantasy, Musical",
         "nbinsx": 60,
         "offsetgroup": "Drama, Fantasy, Musical",
         "orientation": "v",
         "showlegend": true,
         "type": "histogram",
         "x": [
          171,
          119
         ],
         "xaxis": "x",
         "yaxis": "y"
        },
        {
         "alignmentgroup": "True",
         "bingroup": "x",
         "histnorm": "probability",
         "hovertemplate": "Genre=Action, Fantasy, Musical<br>Duration m=%{x}<br>probability=%{y}<extra></extra>",
         "legendgroup": "Action, Fantasy, Musical",
         "marker": {
          "color": "#B6E880",
          "pattern": {
           "shape": ""
          }
         },
         "name": "Action, Fantasy, Musical",
         "nbinsx": 60,
         "offsetgroup": "Action, Fantasy, Musical",
         "orientation": "v",
         "showlegend": true,
         "type": "histogram",
         "x": [
          126
         ],
         "xaxis": "x",
         "yaxis": "y"
        },
        {
         "alignmentgroup": "True",
         "bingroup": "x",
         "histnorm": "probability",
         "hovertemplate": "Genre=Animation, Action<br>Duration m=%{x}<br>probability=%{y}<extra></extra>",
         "legendgroup": "Animation, Action",
         "marker": {
          "color": "#FF97FF",
          "pattern": {
           "shape": ""
          }
         },
         "name": "Animation, Action",
         "nbinsx": 60,
         "offsetgroup": "Animation, Action",
         "orientation": "v",
         "showlegend": true,
         "type": "histogram",
         "x": [
          69
         ],
         "xaxis": "x",
         "yaxis": "y"
        },
        {
         "alignmentgroup": "True",
         "bingroup": "x",
         "histnorm": "probability",
         "hovertemplate": "Genre=Comedy, Music<br>Duration m=%{x}<br>probability=%{y}<extra></extra>",
         "legendgroup": "Comedy, Music",
         "marker": {
          "color": "#FECB52",
          "pattern": {
           "shape": ""
          }
         },
         "name": "Comedy, Music",
         "nbinsx": 60,
         "offsetgroup": "Comedy, Music",
         "orientation": "v",
         "showlegend": true,
         "type": "histogram",
         "x": [
          88
         ],
         "xaxis": "x",
         "yaxis": "y"
        },
        {
         "alignmentgroup": "True",
         "bingroup": "x",
         "histnorm": "probability",
         "hovertemplate": "Genre=Action, Fantasy<br>Duration m=%{x}<br>probability=%{y}<extra></extra>",
         "legendgroup": "Action, Fantasy",
         "marker": {
          "color": "#636efa",
          "pattern": {
           "shape": ""
          }
         },
         "name": "Action, Fantasy",
         "nbinsx": 60,
         "offsetgroup": "Action, Fantasy",
         "orientation": "v",
         "showlegend": true,
         "type": "histogram",
         "x": [
          124,
          174,
          131
         ],
         "xaxis": "x",
         "yaxis": "y"
        },
        {
         "alignmentgroup": "True",
         "bingroup": "x",
         "histnorm": "probability",
         "hovertemplate": "Genre=Fantasy, Musical, Mystery<br>Duration m=%{x}<br>probability=%{y}<extra></extra>",
         "legendgroup": "Fantasy, Musical, Mystery",
         "marker": {
          "color": "#EF553B",
          "pattern": {
           "shape": ""
          }
         },
         "name": "Fantasy, Musical, Mystery",
         "nbinsx": 60,
         "offsetgroup": "Fantasy, Musical, Mystery",
         "orientation": "v",
         "showlegend": true,
         "type": "histogram",
         "x": [
          110
         ],
         "xaxis": "x",
         "yaxis": "y"
        },
        {
         "alignmentgroup": "True",
         "bingroup": "x",
         "histnorm": "probability",
         "hovertemplate": "Genre=Adventure, Family, Fantasy<br>Duration m=%{x}<br>probability=%{y}<extra></extra>",
         "legendgroup": "Adventure, Family, Fantasy",
         "marker": {
          "color": "#00cc96",
          "pattern": {
           "shape": ""
          }
         },
         "name": "Adventure, Family, Fantasy",
         "nbinsx": 60,
         "offsetgroup": "Adventure, Family, Fantasy",
         "orientation": "v",
         "showlegend": true,
         "type": "histogram",
         "x": [
          130,
          117
         ],
         "xaxis": "x",
         "yaxis": "y"
        },
        {
         "alignmentgroup": "True",
         "bingroup": "x",
         "histnorm": "probability",
         "hovertemplate": "Genre=Drama, Fantasy, War<br>Duration m=%{x}<br>probability=%{y}<extra></extra>",
         "legendgroup": "Drama, Fantasy, War",
         "marker": {
          "color": "#ab63fa",
          "pattern": {
           "shape": ""
          }
         },
         "name": "Drama, Fantasy, War",
         "nbinsx": 60,
         "offsetgroup": "Drama, Fantasy, War",
         "orientation": "v",
         "showlegend": true,
         "type": "histogram",
         "x": [
          137
         ],
         "xaxis": "x",
         "yaxis": "y"
        },
        {
         "alignmentgroup": "True",
         "bingroup": "x",
         "histnorm": "probability",
         "hovertemplate": "Genre=Action, War<br>Duration m=%{x}<br>probability=%{y}<extra></extra>",
         "legendgroup": "Action, War",
         "marker": {
          "color": "#FFA15A",
          "pattern": {
           "shape": ""
          }
         },
         "name": "Action, War",
         "nbinsx": 60,
         "offsetgroup": "Action, War",
         "orientation": "v",
         "showlegend": true,
         "type": "histogram",
         "x": [
          145
         ],
         "xaxis": "x",
         "yaxis": "y"
        },
        {
         "alignmentgroup": "True",
         "bingroup": "x",
         "histnorm": "probability",
         "hovertemplate": "Genre=Animation, Family, Musical<br>Duration m=%{x}<br>probability=%{y}<extra></extra>",
         "legendgroup": "Animation, Family, Musical",
         "marker": {
          "color": "#19d3f3",
          "pattern": {
           "shape": ""
          }
         },
         "name": "Animation, Family, Musical",
         "nbinsx": 60,
         "offsetgroup": "Animation, Family, Musical",
         "orientation": "v",
         "showlegend": true,
         "type": "histogram",
         "x": [
          134
         ],
         "xaxis": "x",
         "yaxis": "y"
        },
        {
         "alignmentgroup": "True",
         "bingroup": "x",
         "histnorm": "probability",
         "hovertemplate": "Genre=Comedy, Romance, Musical<br>Duration m=%{x}<br>probability=%{y}<extra></extra>",
         "legendgroup": "Comedy, Romance, Musical",
         "marker": {
          "color": "#FF6692",
          "pattern": {
           "shape": ""
          }
         },
         "name": "Comedy, Romance, Musical",
         "nbinsx": 60,
         "offsetgroup": "Comedy, Romance, Musical",
         "orientation": "v",
         "showlegend": true,
         "type": "histogram",
         "x": [
          131
         ],
         "xaxis": "x",
         "yaxis": "y"
        },
        {
         "alignmentgroup": "True",
         "bingroup": "x",
         "histnorm": "probability",
         "hovertemplate": "Genre=Adventure, Biography, Drama<br>Duration m=%{x}<br>probability=%{y}<extra></extra>",
         "legendgroup": "Adventure, Biography, Drama",
         "marker": {
          "color": "#B6E880",
          "pattern": {
           "shape": ""
          }
         },
         "name": "Adventure, Biography, Drama",
         "nbinsx": 60,
         "offsetgroup": "Adventure, Biography, Drama",
         "orientation": "v",
         "showlegend": true,
         "type": "histogram",
         "x": [
          120,
          117
         ],
         "xaxis": "x",
         "yaxis": "y"
        },
        {
         "alignmentgroup": "True",
         "bingroup": "x",
         "histnorm": "probability",
         "hovertemplate": "Genre=Drama, Romance, Family<br>Duration m=%{x}<br>probability=%{y}<extra></extra>",
         "legendgroup": "Drama, Romance, Family",
         "marker": {
          "color": "#FF97FF",
          "pattern": {
           "shape": ""
          }
         },
         "name": "Drama, Romance, Family",
         "nbinsx": 60,
         "offsetgroup": "Drama, Romance, Family",
         "orientation": "v",
         "showlegend": true,
         "type": "histogram",
         "x": [
          150
         ],
         "xaxis": "x",
         "yaxis": "y"
        },
        {
         "alignmentgroup": "True",
         "bingroup": "x",
         "histnorm": "probability",
         "hovertemplate": "Genre=Comedy, Crime, Family<br>Duration m=%{x}<br>probability=%{y}<extra></extra>",
         "legendgroup": "Comedy, Crime, Family",
         "marker": {
          "color": "#FECB52",
          "pattern": {
           "shape": ""
          }
         },
         "name": "Comedy, Crime, Family",
         "nbinsx": 60,
         "offsetgroup": "Comedy, Crime, Family",
         "orientation": "v",
         "showlegend": true,
         "type": "histogram",
         "x": [
          154
         ],
         "xaxis": "x",
         "yaxis": "y"
        },
        {
         "alignmentgroup": "True",
         "bingroup": "x",
         "histnorm": "probability",
         "hovertemplate": "Genre=Biography, Drama, Thriller<br>Duration m=%{x}<br>probability=%{y}<extra></extra>",
         "legendgroup": "Biography, Drama, Thriller",
         "marker": {
          "color": "#636efa",
          "pattern": {
           "shape": ""
          }
         },
         "name": "Biography, Drama, Thriller",
         "nbinsx": 60,
         "offsetgroup": "Biography, Drama, Thriller",
         "orientation": "v",
         "showlegend": true,
         "type": "histogram",
         "x": [
          124,
          122
         ],
         "xaxis": "x",
         "yaxis": "y"
        },
        {
         "alignmentgroup": "True",
         "bingroup": "x",
         "histnorm": "probability",
         "hovertemplate": "Genre=Action, Comedy, Mystery<br>Duration m=%{x}<br>probability=%{y}<extra></extra>",
         "legendgroup": "Action, Comedy, Mystery",
         "marker": {
          "color": "#EF553B",
          "pattern": {
           "shape": ""
          }
         },
         "name": "Action, Comedy, Mystery",
         "nbinsx": 60,
         "offsetgroup": "Action, Comedy, Mystery",
         "orientation": "v",
         "showlegend": true,
         "type": "histogram",
         "x": [
          130,
          135
         ],
         "xaxis": "x",
         "yaxis": "y"
        },
        {
         "alignmentgroup": "True",
         "bingroup": "x",
         "histnorm": "probability",
         "hovertemplate": "Genre=Drama, Fantasy, Mystery<br>Duration m=%{x}<br>probability=%{y}<extra></extra>",
         "legendgroup": "Drama, Fantasy, Mystery",
         "marker": {
          "color": "#00cc96",
          "pattern": {
           "shape": ""
          }
         },
         "name": "Drama, Fantasy, Mystery",
         "nbinsx": 60,
         "offsetgroup": "Drama, Fantasy, Mystery",
         "orientation": "v",
         "showlegend": true,
         "type": "histogram",
         "x": [
          73,
          99
         ],
         "xaxis": "x",
         "yaxis": "y"
        },
        {
         "alignmentgroup": "True",
         "bingroup": "x",
         "histnorm": "probability",
         "hovertemplate": "Genre=Mystery, Romance<br>Duration m=%{x}<br>probability=%{y}<extra></extra>",
         "legendgroup": "Mystery, Romance",
         "marker": {
          "color": "#ab63fa",
          "pattern": {
           "shape": ""
          }
         },
         "name": "Mystery, Romance",
         "nbinsx": 60,
         "offsetgroup": "Mystery, Romance",
         "orientation": "v",
         "showlegend": true,
         "type": "histogram",
         "x": [
          127
         ],
         "xaxis": "x",
         "yaxis": "y"
        },
        {
         "alignmentgroup": "True",
         "bingroup": "x",
         "histnorm": "probability",
         "hovertemplate": "Genre=Thriller, Action<br>Duration m=%{x}<br>probability=%{y}<extra></extra>",
         "legendgroup": "Thriller, Action",
         "marker": {
          "color": "#FFA15A",
          "pattern": {
           "shape": ""
          }
         },
         "name": "Thriller, Action",
         "nbinsx": 60,
         "offsetgroup": "Thriller, Action",
         "orientation": "v",
         "showlegend": true,
         "type": "histogram",
         "x": [
          129
         ],
         "xaxis": "x",
         "yaxis": "y"
        },
        {
         "alignmentgroup": "True",
         "bingroup": "x",
         "histnorm": "probability",
         "hovertemplate": "Genre=Fantasy, Romance<br>Duration m=%{x}<br>probability=%{y}<extra></extra>",
         "legendgroup": "Fantasy, Romance",
         "marker": {
          "color": "#19d3f3",
          "pattern": {
           "shape": ""
          }
         },
         "name": "Fantasy, Romance",
         "nbinsx": 60,
         "offsetgroup": "Fantasy, Romance",
         "orientation": "v",
         "showlegend": true,
         "type": "histogram",
         "x": [
          137
         ],
         "xaxis": "x",
         "yaxis": "y"
        },
        {
         "alignmentgroup": "True",
         "bingroup": "x",
         "histnorm": "probability",
         "hovertemplate": "Genre=Action, Mystery<br>Duration m=%{x}<br>probability=%{y}<extra></extra>",
         "legendgroup": "Action, Mystery",
         "marker": {
          "color": "#FF6692",
          "pattern": {
           "shape": ""
          }
         },
         "name": "Action, Mystery",
         "nbinsx": 60,
         "offsetgroup": "Action, Mystery",
         "orientation": "v",
         "showlegend": true,
         "type": "histogram",
         "x": [
          146,
          115,
          135,
          108,
          120
         ],
         "xaxis": "x",
         "yaxis": "y"
        },
        {
         "alignmentgroup": "True",
         "bingroup": "x",
         "histnorm": "probability",
         "hovertemplate": "Genre=Crime, Romance, Thriller<br>Duration m=%{x}<br>probability=%{y}<extra></extra>",
         "legendgroup": "Crime, Romance, Thriller",
         "marker": {
          "color": "#B6E880",
          "pattern": {
           "shape": ""
          }
         },
         "name": "Crime, Romance, Thriller",
         "nbinsx": 60,
         "offsetgroup": "Crime, Romance, Thriller",
         "orientation": "v",
         "showlegend": true,
         "type": "histogram",
         "x": [
          128,
          125
         ],
         "xaxis": "x",
         "yaxis": "y"
        },
        {
         "alignmentgroup": "True",
         "bingroup": "x",
         "histnorm": "probability",
         "hovertemplate": "Genre=Fantasy, Horror, Mystery<br>Duration m=%{x}<br>probability=%{y}<extra></extra>",
         "legendgroup": "Fantasy, Horror, Mystery",
         "marker": {
          "color": "#FF97FF",
          "pattern": {
           "shape": ""
          }
         },
         "name": "Fantasy, Horror, Mystery",
         "nbinsx": 60,
         "offsetgroup": "Fantasy, Horror, Mystery",
         "orientation": "v",
         "showlegend": true,
         "type": "histogram",
         "x": [
          136
         ],
         "xaxis": "x",
         "yaxis": "y"
        },
        {
         "alignmentgroup": "True",
         "bingroup": "x",
         "histnorm": "probability",
         "hovertemplate": "Genre=Crime, Horror, Mystery<br>Duration m=%{x}<br>probability=%{y}<extra></extra>",
         "legendgroup": "Crime, Horror, Mystery",
         "marker": {
          "color": "#FECB52",
          "pattern": {
           "shape": ""
          }
         },
         "name": "Crime, Horror, Mystery",
         "nbinsx": 60,
         "offsetgroup": "Crime, Horror, Mystery",
         "orientation": "v",
         "showlegend": true,
         "type": "histogram",
         "x": [
          146
         ],
         "xaxis": "x",
         "yaxis": "y"
        },
        {
         "alignmentgroup": "True",
         "bingroup": "x",
         "histnorm": "probability",
         "hovertemplate": "Genre=Romance, Thriller, Mystery<br>Duration m=%{x}<br>probability=%{y}<extra></extra>",
         "legendgroup": "Romance, Thriller, Mystery",
         "marker": {
          "color": "#636efa",
          "pattern": {
           "shape": ""
          }
         },
         "name": "Romance, Thriller, Mystery",
         "nbinsx": 60,
         "offsetgroup": "Romance, Thriller, Mystery",
         "orientation": "v",
         "showlegend": true,
         "type": "histogram",
         "x": [
          136
         ],
         "xaxis": "x",
         "yaxis": "y"
        },
        {
         "alignmentgroup": "True",
         "bingroup": "x",
         "histnorm": "probability",
         "hovertemplate": "Genre=Action, Adventure, Biography<br>Duration m=%{x}<br>probability=%{y}<extra></extra>",
         "legendgroup": "Action, Adventure, Biography",
         "marker": {
          "color": "#EF553B",
          "pattern": {
           "shape": ""
          }
         },
         "name": "Action, Adventure, Biography",
         "nbinsx": 60,
         "offsetgroup": "Action, Adventure, Biography",
         "orientation": "v",
         "showlegend": true,
         "type": "histogram",
         "x": [
          100
         ],
         "xaxis": "x",
         "yaxis": "y"
        },
        {
         "alignmentgroup": "True",
         "bingroup": "x",
         "histnorm": "probability",
         "hovertemplate": "Genre=Horror, Mystery, Romance<br>Duration m=%{x}<br>probability=%{y}<extra></extra>",
         "legendgroup": "Horror, Mystery, Romance",
         "marker": {
          "color": "#00cc96",
          "pattern": {
           "shape": ""
          }
         },
         "name": "Horror, Mystery, Romance",
         "nbinsx": 60,
         "offsetgroup": "Horror, Mystery, Romance",
         "orientation": "v",
         "showlegend": true,
         "type": "histogram",
         "x": [
          109,
          128
         ],
         "xaxis": "x",
         "yaxis": "y"
        },
        {
         "alignmentgroup": "True",
         "bingroup": "x",
         "histnorm": "probability",
         "hovertemplate": "Genre=Action, Family, Drama<br>Duration m=%{x}<br>probability=%{y}<extra></extra>",
         "legendgroup": "Action, Family, Drama",
         "marker": {
          "color": "#ab63fa",
          "pattern": {
           "shape": ""
          }
         },
         "name": "Action, Family, Drama",
         "nbinsx": 60,
         "offsetgroup": "Action, Family, Drama",
         "orientation": "v",
         "showlegend": true,
         "type": "histogram",
         "x": [
          149
         ],
         "xaxis": "x",
         "yaxis": "y"
        },
        {
         "alignmentgroup": "True",
         "bingroup": "x",
         "histnorm": "probability",
         "hovertemplate": "Genre=Documentary, Family<br>Duration m=%{x}<br>probability=%{y}<extra></extra>",
         "legendgroup": "Documentary, Family",
         "marker": {
          "color": "#FFA15A",
          "pattern": {
           "shape": ""
          }
         },
         "name": "Documentary, Family",
         "nbinsx": 60,
         "offsetgroup": "Documentary, Family",
         "orientation": "v",
         "showlegend": true,
         "type": "histogram",
         "x": [
          45
         ],
         "xaxis": "x",
         "yaxis": "y"
        },
        {
         "alignmentgroup": "True",
         "bingroup": "x",
         "histnorm": "probability",
         "hovertemplate": "Genre=Action, Fantasy, Sci-Fi<br>Duration m=%{x}<br>probability=%{y}<extra></extra>",
         "legendgroup": "Action, Fantasy, Sci-Fi",
         "marker": {
          "color": "#19d3f3",
          "pattern": {
           "shape": ""
          }
         },
         "name": "Action, Fantasy, Sci-Fi",
         "nbinsx": 60,
         "offsetgroup": "Action, Fantasy, Sci-Fi",
         "orientation": "v",
         "showlegend": true,
         "type": "histogram",
         "x": [
          143
         ],
         "xaxis": "x",
         "yaxis": "y"
        },
        {
         "alignmentgroup": "True",
         "bingroup": "x",
         "histnorm": "probability",
         "hovertemplate": "Genre=Drama, Comedy, Action<br>Duration m=%{x}<br>probability=%{y}<extra></extra>",
         "legendgroup": "Drama, Comedy, Action",
         "marker": {
          "color": "#FF6692",
          "pattern": {
           "shape": ""
          }
         },
         "name": "Drama, Comedy, Action",
         "nbinsx": 60,
         "offsetgroup": "Drama, Comedy, Action",
         "orientation": "v",
         "showlegend": true,
         "type": "histogram",
         "x": [
          160
         ],
         "xaxis": "x",
         "yaxis": "y"
        },
        {
         "alignmentgroup": "True",
         "bingroup": "x",
         "histnorm": "probability",
         "hovertemplate": "Genre=Documentary, Sport<br>Duration m=%{x}<br>probability=%{y}<extra></extra>",
         "legendgroup": "Documentary, Sport",
         "marker": {
          "color": "#B6E880",
          "pattern": {
           "shape": ""
          }
         },
         "name": "Documentary, Sport",
         "nbinsx": 60,
         "offsetgroup": "Documentary, Sport",
         "orientation": "v",
         "showlegend": true,
         "type": "histogram",
         "x": [
          138
         ],
         "xaxis": "x",
         "yaxis": "y"
        },
        {
         "alignmentgroup": "True",
         "bingroup": "x",
         "histnorm": "probability",
         "hovertemplate": "Genre=Adventure, History, Thriller<br>Duration m=%{x}<br>probability=%{y}<extra></extra>",
         "legendgroup": "Adventure, History, Thriller",
         "marker": {
          "color": "#FF97FF",
          "pattern": {
           "shape": ""
          }
         },
         "name": "Adventure, History, Thriller",
         "nbinsx": 60,
         "offsetgroup": "Adventure, History, Thriller",
         "orientation": "v",
         "showlegend": true,
         "type": "histogram",
         "x": [
          145
         ],
         "xaxis": "x",
         "yaxis": "y"
        },
        {
         "alignmentgroup": "True",
         "bingroup": "x",
         "histnorm": "probability",
         "hovertemplate": "Genre=Drama, Adventure, Action<br>Duration m=%{x}<br>probability=%{y}<extra></extra>",
         "legendgroup": "Drama, Adventure, Action",
         "marker": {
          "color": "#FECB52",
          "pattern": {
           "shape": ""
          }
         },
         "name": "Drama, Adventure, Action",
         "nbinsx": 60,
         "offsetgroup": "Drama, Adventure, Action",
         "orientation": "v",
         "showlegend": true,
         "type": "histogram",
         "x": [
          183
         ],
         "xaxis": "x",
         "yaxis": "y"
        },
        {
         "alignmentgroup": "True",
         "bingroup": "x",
         "histnorm": "probability",
         "hovertemplate": "Genre=Documentary, Biography<br>Duration m=%{x}<br>probability=%{y}<extra></extra>",
         "legendgroup": "Documentary, Biography",
         "marker": {
          "color": "#636efa",
          "pattern": {
           "shape": ""
          }
         },
         "name": "Documentary, Biography",
         "nbinsx": 60,
         "offsetgroup": "Documentary, Biography",
         "orientation": "v",
         "showlegend": true,
         "type": "histogram",
         "x": [
          131
         ],
         "xaxis": "x",
         "yaxis": "y"
        },
        {
         "alignmentgroup": "True",
         "bingroup": "x",
         "histnorm": "probability",
         "hovertemplate": "Genre=Documentary, Biography, Crime<br>Duration m=%{x}<br>probability=%{y}<extra></extra>",
         "legendgroup": "Documentary, Biography, Crime",
         "marker": {
          "color": "#EF553B",
          "pattern": {
           "shape": ""
          }
         },
         "name": "Documentary, Biography, Crime",
         "nbinsx": 60,
         "offsetgroup": "Documentary, Biography, Crime",
         "orientation": "v",
         "showlegend": true,
         "type": "histogram",
         "x": [
          58
         ],
         "xaxis": "x",
         "yaxis": "y"
        },
        {
         "alignmentgroup": "True",
         "bingroup": "x",
         "histnorm": "probability",
         "hovertemplate": "Genre=Adventure, Horror, Romance<br>Duration m=%{x}<br>probability=%{y}<extra></extra>",
         "legendgroup": "Adventure, Horror, Romance",
         "marker": {
          "color": "#00cc96",
          "pattern": {
           "shape": ""
          }
         },
         "name": "Adventure, Horror, Romance",
         "nbinsx": 60,
         "offsetgroup": "Adventure, Horror, Romance",
         "orientation": "v",
         "showlegend": true,
         "type": "histogram",
         "x": [
          145
         ],
         "xaxis": "x",
         "yaxis": "y"
        },
        {
         "alignmentgroup": "True",
         "bingroup": "x",
         "histnorm": "probability",
         "hovertemplate": "Genre=Mystery, Musical, Romance<br>Duration m=%{x}<br>probability=%{y}<extra></extra>",
         "legendgroup": "Mystery, Musical, Romance",
         "marker": {
          "color": "#ab63fa",
          "pattern": {
           "shape": ""
          }
         },
         "name": "Mystery, Musical, Romance",
         "nbinsx": 60,
         "offsetgroup": "Mystery, Musical, Romance",
         "orientation": "v",
         "showlegend": true,
         "type": "histogram",
         "x": [
          164
         ],
         "xaxis": "x",
         "yaxis": "y"
        },
        {
         "alignmentgroup": "True",
         "bingroup": "x",
         "histnorm": "probability",
         "hovertemplate": "Genre=Thriller, Mystery<br>Duration m=%{x}<br>probability=%{y}<extra></extra>",
         "legendgroup": "Thriller, Mystery",
         "marker": {
          "color": "#FFA15A",
          "pattern": {
           "shape": ""
          }
         },
         "name": "Thriller, Mystery",
         "nbinsx": 60,
         "offsetgroup": "Thriller, Mystery",
         "orientation": "v",
         "showlegend": true,
         "type": "histogram",
         "x": [
          168
         ],
         "xaxis": "x",
         "yaxis": "y"
        },
        {
         "alignmentgroup": "True",
         "bingroup": "x",
         "histnorm": "probability",
         "hovertemplate": "Genre=Action, Crime, History<br>Duration m=%{x}<br>probability=%{y}<extra></extra>",
         "legendgroup": "Action, Crime, History",
         "marker": {
          "color": "#19d3f3",
          "pattern": {
           "shape": ""
          }
         },
         "name": "Action, Crime, History",
         "nbinsx": 60,
         "offsetgroup": "Action, Crime, History",
         "orientation": "v",
         "showlegend": true,
         "type": "histogram",
         "x": [
          122
         ],
         "xaxis": "x",
         "yaxis": "y"
        },
        {
         "alignmentgroup": "True",
         "bingroup": "x",
         "histnorm": "probability",
         "hovertemplate": "Genre=Adventure, Drama, Mystery<br>Duration m=%{x}<br>probability=%{y}<extra></extra>",
         "legendgroup": "Adventure, Drama, Mystery",
         "marker": {
          "color": "#FF6692",
          "pattern": {
           "shape": ""
          }
         },
         "name": "Adventure, Drama, Mystery",
         "nbinsx": 60,
         "offsetgroup": "Adventure, Drama, Mystery",
         "orientation": "v",
         "showlegend": true,
         "type": "histogram",
         "x": [
          101,
          97
         ],
         "xaxis": "x",
         "yaxis": "y"
        },
        {
         "alignmentgroup": "True",
         "bingroup": "x",
         "histnorm": "probability",
         "hovertemplate": "Genre=Sci-Fi, Thriller<br>Duration m=%{x}<br>probability=%{y}<extra></extra>",
         "legendgroup": "Sci-Fi, Thriller",
         "marker": {
          "color": "#B6E880",
          "pattern": {
           "shape": ""
          }
         },
         "name": "Sci-Fi, Thriller",
         "nbinsx": 60,
         "offsetgroup": "Sci-Fi, Thriller",
         "orientation": "v",
         "showlegend": true,
         "type": "histogram",
         "x": [
          109
         ],
         "xaxis": "x",
         "yaxis": "y"
        },
        {
         "alignmentgroup": "True",
         "bingroup": "x",
         "histnorm": "probability",
         "hovertemplate": "Genre=Documentary, Family, History<br>Duration m=%{x}<br>probability=%{y}<extra></extra>",
         "legendgroup": "Documentary, Family, History",
         "marker": {
          "color": "#FF97FF",
          "pattern": {
           "shape": ""
          }
         },
         "name": "Documentary, Family, History",
         "nbinsx": 60,
         "offsetgroup": "Documentary, Family, History",
         "orientation": "v",
         "showlegend": true,
         "type": "histogram",
         "x": [
          64
         ],
         "xaxis": "x",
         "yaxis": "y"
        },
        {
         "alignmentgroup": "True",
         "bingroup": "x",
         "histnorm": "probability",
         "hovertemplate": "Genre=Fantasy, Horror<br>Duration m=%{x}<br>probability=%{y}<extra></extra>",
         "legendgroup": "Fantasy, Horror",
         "marker": {
          "color": "#FECB52",
          "pattern": {
           "shape": ""
          }
         },
         "name": "Fantasy, Horror",
         "nbinsx": 60,
         "offsetgroup": "Fantasy, Horror",
         "orientation": "v",
         "showlegend": true,
         "type": "histogram",
         "x": [
          94,
          161
         ],
         "xaxis": "x",
         "yaxis": "y"
        },
        {
         "alignmentgroup": "True",
         "bingroup": "x",
         "histnorm": "probability",
         "hovertemplate": "Genre=Animation, Drama, Musical<br>Duration m=%{x}<br>probability=%{y}<extra></extra>",
         "legendgroup": "Animation, Drama, Musical",
         "marker": {
          "color": "#636efa",
          "pattern": {
           "shape": ""
          }
         },
         "name": "Animation, Drama, Musical",
         "nbinsx": 60,
         "offsetgroup": "Animation, Drama, Musical",
         "orientation": "v",
         "showlegend": true,
         "type": "histogram",
         "x": [
          85
         ],
         "xaxis": "x",
         "yaxis": "y"
        },
        {
         "alignmentgroup": "True",
         "bingroup": "x",
         "histnorm": "probability",
         "hovertemplate": "Genre=Comedy, Musical, Mystery<br>Duration m=%{x}<br>probability=%{y}<extra></extra>",
         "legendgroup": "Comedy, Musical, Mystery",
         "marker": {
          "color": "#EF553B",
          "pattern": {
           "shape": ""
          }
         },
         "name": "Comedy, Musical, Mystery",
         "nbinsx": 60,
         "offsetgroup": "Comedy, Musical, Mystery",
         "orientation": "v",
         "showlegend": true,
         "type": "histogram",
         "x": [
          157,
          172
         ],
         "xaxis": "x",
         "yaxis": "y"
        },
        {
         "alignmentgroup": "True",
         "bingroup": "x",
         "histnorm": "probability",
         "hovertemplate": "Genre=Romance, Musical, Action<br>Duration m=%{x}<br>probability=%{y}<extra></extra>",
         "legendgroup": "Romance, Musical, Action",
         "marker": {
          "color": "#00cc96",
          "pattern": {
           "shape": ""
          }
         },
         "name": "Romance, Musical, Action",
         "nbinsx": 60,
         "offsetgroup": "Romance, Musical, Action",
         "orientation": "v",
         "showlegend": true,
         "type": "histogram",
         "x": [
          155
         ],
         "xaxis": "x",
         "yaxis": "y"
        },
        {
         "alignmentgroup": "True",
         "bingroup": "x",
         "histnorm": "probability",
         "hovertemplate": "Genre=Crime, Romance<br>Duration m=%{x}<br>probability=%{y}<extra></extra>",
         "legendgroup": "Crime, Romance",
         "marker": {
          "color": "#ab63fa",
          "pattern": {
           "shape": ""
          }
         },
         "name": "Crime, Romance",
         "nbinsx": 60,
         "offsetgroup": "Crime, Romance",
         "orientation": "v",
         "showlegend": true,
         "type": "histogram",
         "x": [
          180,
          113
         ],
         "xaxis": "x",
         "yaxis": "y"
        },
        {
         "alignmentgroup": "True",
         "bingroup": "x",
         "histnorm": "probability",
         "hovertemplate": "Genre=Animation, Family, History<br>Duration m=%{x}<br>probability=%{y}<extra></extra>",
         "legendgroup": "Animation, Family, History",
         "marker": {
          "color": "#FFA15A",
          "pattern": {
           "shape": ""
          }
         },
         "name": "Animation, Family, History",
         "nbinsx": 60,
         "offsetgroup": "Animation, Family, History",
         "orientation": "v",
         "showlegend": true,
         "type": "histogram",
         "x": [
          65
         ],
         "xaxis": "x",
         "yaxis": "y"
        },
        {
         "alignmentgroup": "True",
         "bingroup": "x",
         "histnorm": "probability",
         "hovertemplate": "Genre=Action, Adventure, Musical<br>Duration m=%{x}<br>probability=%{y}<extra></extra>",
         "legendgroup": "Action, Adventure, Musical",
         "marker": {
          "color": "#19d3f3",
          "pattern": {
           "shape": ""
          }
         },
         "name": "Action, Adventure, Musical",
         "nbinsx": 60,
         "offsetgroup": "Action, Adventure, Musical",
         "orientation": "v",
         "showlegend": true,
         "type": "histogram",
         "x": [
          99
         ],
         "xaxis": "x",
         "yaxis": "y"
        },
        {
         "alignmentgroup": "True",
         "bingroup": "x",
         "histnorm": "probability",
         "hovertemplate": "Genre=Romance, Musical, Comedy<br>Duration m=%{x}<br>probability=%{y}<extra></extra>",
         "legendgroup": "Romance, Musical, Comedy",
         "marker": {
          "color": "#FF6692",
          "pattern": {
           "shape": ""
          }
         },
         "name": "Romance, Musical, Comedy",
         "nbinsx": 60,
         "offsetgroup": "Romance, Musical, Comedy",
         "orientation": "v",
         "showlegend": true,
         "type": "histogram",
         "x": [
          149
         ],
         "xaxis": "x",
         "yaxis": "y"
        },
        {
         "alignmentgroup": "True",
         "bingroup": "x",
         "histnorm": "probability",
         "hovertemplate": "Genre=Comedy, Drama, History<br>Duration m=%{x}<br>probability=%{y}<extra></extra>",
         "legendgroup": "Comedy, Drama, History",
         "marker": {
          "color": "#B6E880",
          "pattern": {
           "shape": ""
          }
         },
         "name": "Comedy, Drama, History",
         "nbinsx": 60,
         "offsetgroup": "Comedy, Drama, History",
         "orientation": "v",
         "showlegend": true,
         "type": "histogram",
         "x": [
          129
         ],
         "xaxis": "x",
         "yaxis": "y"
        },
        {
         "alignmentgroup": "True",
         "bingroup": "x",
         "histnorm": "probability",
         "hovertemplate": "Genre=Action, Thriller, War<br>Duration m=%{x}<br>probability=%{y}<extra></extra>",
         "legendgroup": "Action, Thriller, War",
         "marker": {
          "color": "#FF97FF",
          "pattern": {
           "shape": ""
          }
         },
         "name": "Action, Thriller, War",
         "nbinsx": 60,
         "offsetgroup": "Action, Thriller, War",
         "orientation": "v",
         "showlegend": true,
         "type": "histogram",
         "x": [
          116
         ],
         "xaxis": "x",
         "yaxis": "y"
        },
        {
         "alignmentgroup": "True",
         "bingroup": "x",
         "histnorm": "probability",
         "hovertemplate": "Genre=Animation, Drama, Adventure<br>Duration m=%{x}<br>probability=%{y}<extra></extra>",
         "legendgroup": "Animation, Drama, Adventure",
         "marker": {
          "color": "#FECB52",
          "pattern": {
           "shape": ""
          }
         },
         "name": "Animation, Drama, Adventure",
         "nbinsx": 60,
         "offsetgroup": "Animation, Drama, Adventure",
         "orientation": "v",
         "showlegend": true,
         "type": "histogram",
         "x": [
          97
         ],
         "xaxis": "x",
         "yaxis": "y"
        },
        {
         "alignmentgroup": "True",
         "bingroup": "x",
         "histnorm": "probability",
         "hovertemplate": "Genre=Drama, Mystery, Sci-Fi<br>Duration m=%{x}<br>probability=%{y}<extra></extra>",
         "legendgroup": "Drama, Mystery, Sci-Fi",
         "marker": {
          "color": "#636efa",
          "pattern": {
           "shape": ""
          }
         },
         "name": "Drama, Mystery, Sci-Fi",
         "nbinsx": 60,
         "offsetgroup": "Drama, Mystery, Sci-Fi",
         "orientation": "v",
         "showlegend": true,
         "type": "histogram",
         "x": [
          75
         ],
         "xaxis": "x",
         "yaxis": "y"
        },
        {
         "alignmentgroup": "True",
         "bingroup": "x",
         "histnorm": "probability",
         "hovertemplate": "Genre=Crime, Horror, Romance<br>Duration m=%{x}<br>probability=%{y}<extra></extra>",
         "legendgroup": "Crime, Horror, Romance",
         "marker": {
          "color": "#EF553B",
          "pattern": {
           "shape": ""
          }
         },
         "name": "Crime, Horror, Romance",
         "nbinsx": 60,
         "offsetgroup": "Crime, Horror, Romance",
         "orientation": "v",
         "showlegend": true,
         "type": "histogram",
         "x": [
          106
         ],
         "xaxis": "x",
         "yaxis": "y"
        },
        {
         "alignmentgroup": "True",
         "bingroup": "x",
         "histnorm": "probability",
         "hovertemplate": "Genre=Fantasy, Horror, Romance<br>Duration m=%{x}<br>probability=%{y}<extra></extra>",
         "legendgroup": "Fantasy, Horror, Romance",
         "marker": {
          "color": "#00cc96",
          "pattern": {
           "shape": ""
          }
         },
         "name": "Fantasy, Horror, Romance",
         "nbinsx": 60,
         "offsetgroup": "Fantasy, Horror, Romance",
         "orientation": "v",
         "showlegend": true,
         "type": "histogram",
         "x": [
          129
         ],
         "xaxis": "x",
         "yaxis": "y"
        },
        {
         "alignmentgroup": "True",
         "bingroup": "x",
         "histnorm": "probability",
         "hovertemplate": "Genre=Comedy, Fantasy, Musical<br>Duration m=%{x}<br>probability=%{y}<extra></extra>",
         "legendgroup": "Comedy, Fantasy, Musical",
         "marker": {
          "color": "#ab63fa",
          "pattern": {
           "shape": ""
          }
         },
         "name": "Comedy, Fantasy, Musical",
         "nbinsx": 60,
         "offsetgroup": "Comedy, Fantasy, Musical",
         "orientation": "v",
         "showlegend": true,
         "type": "histogram",
         "x": [
          151
         ],
         "xaxis": "x",
         "yaxis": "y"
        },
        {
         "alignmentgroup": "True",
         "bingroup": "x",
         "histnorm": "probability",
         "hovertemplate": "Genre=Animation, Action, Drama<br>Duration m=%{x}<br>probability=%{y}<extra></extra>",
         "legendgroup": "Animation, Action, Drama",
         "marker": {
          "color": "#FFA15A",
          "pattern": {
           "shape": ""
          }
         },
         "name": "Animation, Action, Drama",
         "nbinsx": 60,
         "offsetgroup": "Animation, Action, Drama",
         "orientation": "v",
         "showlegend": true,
         "type": "histogram",
         "x": [
          85
         ],
         "xaxis": "x",
         "yaxis": "y"
        },
        {
         "alignmentgroup": "True",
         "bingroup": "x",
         "histnorm": "probability",
         "hovertemplate": "Genre=Crime, Musical, Thriller<br>Duration m=%{x}<br>probability=%{y}<extra></extra>",
         "legendgroup": "Crime, Musical, Thriller",
         "marker": {
          "color": "#19d3f3",
          "pattern": {
           "shape": ""
          }
         },
         "name": "Crime, Musical, Thriller",
         "nbinsx": 60,
         "offsetgroup": "Crime, Musical, Thriller",
         "orientation": "v",
         "showlegend": true,
         "type": "histogram",
         "x": [
          137
         ],
         "xaxis": "x",
         "yaxis": "y"
        },
        {
         "alignmentgroup": "True",
         "bingroup": "x",
         "histnorm": "probability",
         "hovertemplate": "Genre=Comedy, War<br>Duration m=%{x}<br>probability=%{y}<extra></extra>",
         "legendgroup": "Comedy, War",
         "marker": {
          "color": "#FF6692",
          "pattern": {
           "shape": ""
          }
         },
         "name": "Comedy, War",
         "nbinsx": 60,
         "offsetgroup": "Comedy, War",
         "orientation": "v",
         "showlegend": true,
         "type": "histogram",
         "x": [
          119
         ],
         "xaxis": "x",
         "yaxis": "y"
        },
        {
         "alignmentgroup": "True",
         "bingroup": "x",
         "histnorm": "probability",
         "hovertemplate": "Genre=Action, Comedy, War<br>Duration m=%{x}<br>probability=%{y}<extra></extra>",
         "legendgroup": "Action, Comedy, War",
         "marker": {
          "color": "#B6E880",
          "pattern": {
           "shape": ""
          }
         },
         "name": "Action, Comedy, War",
         "nbinsx": 60,
         "offsetgroup": "Action, Comedy, War",
         "orientation": "v",
         "showlegend": true,
         "type": "histogram",
         "x": [
          131
         ],
         "xaxis": "x",
         "yaxis": "y"
        },
        {
         "alignmentgroup": "True",
         "bingroup": "x",
         "histnorm": "probability",
         "hovertemplate": "Genre=Crime, Drama, Horror<br>Duration m=%{x}<br>probability=%{y}<extra></extra>",
         "legendgroup": "Crime, Drama, Horror",
         "marker": {
          "color": "#FF97FF",
          "pattern": {
           "shape": ""
          }
         },
         "name": "Crime, Drama, Horror",
         "nbinsx": 60,
         "offsetgroup": "Crime, Drama, Horror",
         "orientation": "v",
         "showlegend": true,
         "type": "histogram",
         "x": [
          126
         ],
         "xaxis": "x",
         "yaxis": "y"
        },
        {
         "alignmentgroup": "True",
         "bingroup": "x",
         "histnorm": "probability",
         "hovertemplate": "Genre=Mystery, Sci-Fi<br>Duration m=%{x}<br>probability=%{y}<extra></extra>",
         "legendgroup": "Mystery, Sci-Fi",
         "marker": {
          "color": "#FECB52",
          "pattern": {
           "shape": ""
          }
         },
         "name": "Mystery, Sci-Fi",
         "nbinsx": 60,
         "offsetgroup": "Mystery, Sci-Fi",
         "orientation": "v",
         "showlegend": true,
         "type": "histogram",
         "x": [
          153
         ],
         "xaxis": "x",
         "yaxis": "y"
        },
        {
         "alignmentgroup": "True",
         "bingroup": "x",
         "histnorm": "probability",
         "hovertemplate": "Genre=Horror, Romance, Sci-Fi<br>Duration m=%{x}<br>probability=%{y}<extra></extra>",
         "legendgroup": "Horror, Romance, Sci-Fi",
         "marker": {
          "color": "#636efa",
          "pattern": {
           "shape": ""
          }
         },
         "name": "Horror, Romance, Sci-Fi",
         "nbinsx": 60,
         "offsetgroup": "Horror, Romance, Sci-Fi",
         "orientation": "v",
         "showlegend": true,
         "type": "histogram",
         "x": [
          90
         ],
         "xaxis": "x",
         "yaxis": "y"
        },
        {
         "alignmentgroup": "True",
         "bingroup": "x",
         "histnorm": "probability",
         "hovertemplate": "Genre=Romance, Musical, Drama<br>Duration m=%{x}<br>probability=%{y}<extra></extra>",
         "legendgroup": "Romance, Musical, Drama",
         "marker": {
          "color": "#EF553B",
          "pattern": {
           "shape": ""
          }
         },
         "name": "Romance, Musical, Drama",
         "nbinsx": 60,
         "offsetgroup": "Romance, Musical, Drama",
         "orientation": "v",
         "showlegend": true,
         "type": "histogram",
         "x": [
          138
         ],
         "xaxis": "x",
         "yaxis": "y"
        },
        {
         "alignmentgroup": "True",
         "bingroup": "x",
         "histnorm": "probability",
         "hovertemplate": "Genre=Documentary, Biography, Musical<br>Duration m=%{x}<br>probability=%{y}<extra></extra>",
         "legendgroup": "Documentary, Biography, Musical",
         "marker": {
          "color": "#00cc96",
          "pattern": {
           "shape": ""
          }
         },
         "name": "Documentary, Biography, Musical",
         "nbinsx": 60,
         "offsetgroup": "Documentary, Biography, Musical",
         "orientation": "v",
         "showlegend": true,
         "type": "histogram",
         "x": [
          120
         ],
         "xaxis": "x",
         "yaxis": "y"
        }
       ],
       "layout": {
        "bargap": 0.02,
        "barmode": "relative",
        "legend": {
         "title": {
          "text": "Genre"
         },
         "tracegroupgap": 0
        },
        "margin": {
         "t": 60
        },
        "plot_bgcolor": "slategrey",
        "template": {
         "data": {
          "bar": [
           {
            "error_x": {
             "color": "#2a3f5f"
            },
            "error_y": {
             "color": "#2a3f5f"
            },
            "marker": {
             "line": {
              "color": "#E5ECF6",
              "width": 0.5
             },
             "pattern": {
              "fillmode": "overlay",
              "size": 10,
              "solidity": 0.2
             }
            },
            "type": "bar"
           }
          ],
          "barpolar": [
           {
            "marker": {
             "line": {
              "color": "#E5ECF6",
              "width": 0.5
             },
             "pattern": {
              "fillmode": "overlay",
              "size": 10,
              "solidity": 0.2
             }
            },
            "type": "barpolar"
           }
          ],
          "carpet": [
           {
            "aaxis": {
             "endlinecolor": "#2a3f5f",
             "gridcolor": "white",
             "linecolor": "white",
             "minorgridcolor": "white",
             "startlinecolor": "#2a3f5f"
            },
            "baxis": {
             "endlinecolor": "#2a3f5f",
             "gridcolor": "white",
             "linecolor": "white",
             "minorgridcolor": "white",
             "startlinecolor": "#2a3f5f"
            },
            "type": "carpet"
           }
          ],
          "choropleth": [
           {
            "colorbar": {
             "outlinewidth": 0,
             "ticks": ""
            },
            "type": "choropleth"
           }
          ],
          "contour": [
           {
            "colorbar": {
             "outlinewidth": 0,
             "ticks": ""
            },
            "colorscale": [
             [
              0,
              "#0d0887"
             ],
             [
              0.1111111111111111,
              "#46039f"
             ],
             [
              0.2222222222222222,
              "#7201a8"
             ],
             [
              0.3333333333333333,
              "#9c179e"
             ],
             [
              0.4444444444444444,
              "#bd3786"
             ],
             [
              0.5555555555555556,
              "#d8576b"
             ],
             [
              0.6666666666666666,
              "#ed7953"
             ],
             [
              0.7777777777777778,
              "#fb9f3a"
             ],
             [
              0.8888888888888888,
              "#fdca26"
             ],
             [
              1,
              "#f0f921"
             ]
            ],
            "type": "contour"
           }
          ],
          "contourcarpet": [
           {
            "colorbar": {
             "outlinewidth": 0,
             "ticks": ""
            },
            "type": "contourcarpet"
           }
          ],
          "heatmap": [
           {
            "colorbar": {
             "outlinewidth": 0,
             "ticks": ""
            },
            "colorscale": [
             [
              0,
              "#0d0887"
             ],
             [
              0.1111111111111111,
              "#46039f"
             ],
             [
              0.2222222222222222,
              "#7201a8"
             ],
             [
              0.3333333333333333,
              "#9c179e"
             ],
             [
              0.4444444444444444,
              "#bd3786"
             ],
             [
              0.5555555555555556,
              "#d8576b"
             ],
             [
              0.6666666666666666,
              "#ed7953"
             ],
             [
              0.7777777777777778,
              "#fb9f3a"
             ],
             [
              0.8888888888888888,
              "#fdca26"
             ],
             [
              1,
              "#f0f921"
             ]
            ],
            "type": "heatmap"
           }
          ],
          "heatmapgl": [
           {
            "colorbar": {
             "outlinewidth": 0,
             "ticks": ""
            },
            "colorscale": [
             [
              0,
              "#0d0887"
             ],
             [
              0.1111111111111111,
              "#46039f"
             ],
             [
              0.2222222222222222,
              "#7201a8"
             ],
             [
              0.3333333333333333,
              "#9c179e"
             ],
             [
              0.4444444444444444,
              "#bd3786"
             ],
             [
              0.5555555555555556,
              "#d8576b"
             ],
             [
              0.6666666666666666,
              "#ed7953"
             ],
             [
              0.7777777777777778,
              "#fb9f3a"
             ],
             [
              0.8888888888888888,
              "#fdca26"
             ],
             [
              1,
              "#f0f921"
             ]
            ],
            "type": "heatmapgl"
           }
          ],
          "histogram": [
           {
            "marker": {
             "pattern": {
              "fillmode": "overlay",
              "size": 10,
              "solidity": 0.2
             }
            },
            "type": "histogram"
           }
          ],
          "histogram2d": [
           {
            "colorbar": {
             "outlinewidth": 0,
             "ticks": ""
            },
            "colorscale": [
             [
              0,
              "#0d0887"
             ],
             [
              0.1111111111111111,
              "#46039f"
             ],
             [
              0.2222222222222222,
              "#7201a8"
             ],
             [
              0.3333333333333333,
              "#9c179e"
             ],
             [
              0.4444444444444444,
              "#bd3786"
             ],
             [
              0.5555555555555556,
              "#d8576b"
             ],
             [
              0.6666666666666666,
              "#ed7953"
             ],
             [
              0.7777777777777778,
              "#fb9f3a"
             ],
             [
              0.8888888888888888,
              "#fdca26"
             ],
             [
              1,
              "#f0f921"
             ]
            ],
            "type": "histogram2d"
           }
          ],
          "histogram2dcontour": [
           {
            "colorbar": {
             "outlinewidth": 0,
             "ticks": ""
            },
            "colorscale": [
             [
              0,
              "#0d0887"
             ],
             [
              0.1111111111111111,
              "#46039f"
             ],
             [
              0.2222222222222222,
              "#7201a8"
             ],
             [
              0.3333333333333333,
              "#9c179e"
             ],
             [
              0.4444444444444444,
              "#bd3786"
             ],
             [
              0.5555555555555556,
              "#d8576b"
             ],
             [
              0.6666666666666666,
              "#ed7953"
             ],
             [
              0.7777777777777778,
              "#fb9f3a"
             ],
             [
              0.8888888888888888,
              "#fdca26"
             ],
             [
              1,
              "#f0f921"
             ]
            ],
            "type": "histogram2dcontour"
           }
          ],
          "mesh3d": [
           {
            "colorbar": {
             "outlinewidth": 0,
             "ticks": ""
            },
            "type": "mesh3d"
           }
          ],
          "parcoords": [
           {
            "line": {
             "colorbar": {
              "outlinewidth": 0,
              "ticks": ""
             }
            },
            "type": "parcoords"
           }
          ],
          "pie": [
           {
            "automargin": true,
            "type": "pie"
           }
          ],
          "scatter": [
           {
            "fillpattern": {
             "fillmode": "overlay",
             "size": 10,
             "solidity": 0.2
            },
            "type": "scatter"
           }
          ],
          "scatter3d": [
           {
            "line": {
             "colorbar": {
              "outlinewidth": 0,
              "ticks": ""
             }
            },
            "marker": {
             "colorbar": {
              "outlinewidth": 0,
              "ticks": ""
             }
            },
            "type": "scatter3d"
           }
          ],
          "scattercarpet": [
           {
            "marker": {
             "colorbar": {
              "outlinewidth": 0,
              "ticks": ""
             }
            },
            "type": "scattercarpet"
           }
          ],
          "scattergeo": [
           {
            "marker": {
             "colorbar": {
              "outlinewidth": 0,
              "ticks": ""
             }
            },
            "type": "scattergeo"
           }
          ],
          "scattergl": [
           {
            "marker": {
             "colorbar": {
              "outlinewidth": 0,
              "ticks": ""
             }
            },
            "type": "scattergl"
           }
          ],
          "scattermapbox": [
           {
            "marker": {
             "colorbar": {
              "outlinewidth": 0,
              "ticks": ""
             }
            },
            "type": "scattermapbox"
           }
          ],
          "scatterpolar": [
           {
            "marker": {
             "colorbar": {
              "outlinewidth": 0,
              "ticks": ""
             }
            },
            "type": "scatterpolar"
           }
          ],
          "scatterpolargl": [
           {
            "marker": {
             "colorbar": {
              "outlinewidth": 0,
              "ticks": ""
             }
            },
            "type": "scatterpolargl"
           }
          ],
          "scatterternary": [
           {
            "marker": {
             "colorbar": {
              "outlinewidth": 0,
              "ticks": ""
             }
            },
            "type": "scatterternary"
           }
          ],
          "surface": [
           {
            "colorbar": {
             "outlinewidth": 0,
             "ticks": ""
            },
            "colorscale": [
             [
              0,
              "#0d0887"
             ],
             [
              0.1111111111111111,
              "#46039f"
             ],
             [
              0.2222222222222222,
              "#7201a8"
             ],
             [
              0.3333333333333333,
              "#9c179e"
             ],
             [
              0.4444444444444444,
              "#bd3786"
             ],
             [
              0.5555555555555556,
              "#d8576b"
             ],
             [
              0.6666666666666666,
              "#ed7953"
             ],
             [
              0.7777777777777778,
              "#fb9f3a"
             ],
             [
              0.8888888888888888,
              "#fdca26"
             ],
             [
              1,
              "#f0f921"
             ]
            ],
            "type": "surface"
           }
          ],
          "table": [
           {
            "cells": {
             "fill": {
              "color": "#EBF0F8"
             },
             "line": {
              "color": "white"
             }
            },
            "header": {
             "fill": {
              "color": "#C8D4E3"
             },
             "line": {
              "color": "white"
             }
            },
            "type": "table"
           }
          ]
         },
         "layout": {
          "annotationdefaults": {
           "arrowcolor": "#2a3f5f",
           "arrowhead": 0,
           "arrowwidth": 1
          },
          "autotypenumbers": "strict",
          "coloraxis": {
           "colorbar": {
            "outlinewidth": 0,
            "ticks": ""
           }
          },
          "colorscale": {
           "diverging": [
            [
             0,
             "#8e0152"
            ],
            [
             0.1,
             "#c51b7d"
            ],
            [
             0.2,
             "#de77ae"
            ],
            [
             0.3,
             "#f1b6da"
            ],
            [
             0.4,
             "#fde0ef"
            ],
            [
             0.5,
             "#f7f7f7"
            ],
            [
             0.6,
             "#e6f5d0"
            ],
            [
             0.7,
             "#b8e186"
            ],
            [
             0.8,
             "#7fbc41"
            ],
            [
             0.9,
             "#4d9221"
            ],
            [
             1,
             "#276419"
            ]
           ],
           "sequential": [
            [
             0,
             "#0d0887"
            ],
            [
             0.1111111111111111,
             "#46039f"
            ],
            [
             0.2222222222222222,
             "#7201a8"
            ],
            [
             0.3333333333333333,
             "#9c179e"
            ],
            [
             0.4444444444444444,
             "#bd3786"
            ],
            [
             0.5555555555555556,
             "#d8576b"
            ],
            [
             0.6666666666666666,
             "#ed7953"
            ],
            [
             0.7777777777777778,
             "#fb9f3a"
            ],
            [
             0.8888888888888888,
             "#fdca26"
            ],
            [
             1,
             "#f0f921"
            ]
           ],
           "sequentialminus": [
            [
             0,
             "#0d0887"
            ],
            [
             0.1111111111111111,
             "#46039f"
            ],
            [
             0.2222222222222222,
             "#7201a8"
            ],
            [
             0.3333333333333333,
             "#9c179e"
            ],
            [
             0.4444444444444444,
             "#bd3786"
            ],
            [
             0.5555555555555556,
             "#d8576b"
            ],
            [
             0.6666666666666666,
             "#ed7953"
            ],
            [
             0.7777777777777778,
             "#fb9f3a"
            ],
            [
             0.8888888888888888,
             "#fdca26"
            ],
            [
             1,
             "#f0f921"
            ]
           ]
          },
          "colorway": [
           "#636efa",
           "#EF553B",
           "#00cc96",
           "#ab63fa",
           "#FFA15A",
           "#19d3f3",
           "#FF6692",
           "#B6E880",
           "#FF97FF",
           "#FECB52"
          ],
          "font": {
           "color": "#2a3f5f"
          },
          "geo": {
           "bgcolor": "white",
           "lakecolor": "white",
           "landcolor": "#E5ECF6",
           "showlakes": true,
           "showland": true,
           "subunitcolor": "white"
          },
          "hoverlabel": {
           "align": "left"
          },
          "hovermode": "closest",
          "mapbox": {
           "style": "light"
          },
          "paper_bgcolor": "white",
          "plot_bgcolor": "#E5ECF6",
          "polar": {
           "angularaxis": {
            "gridcolor": "white",
            "linecolor": "white",
            "ticks": ""
           },
           "bgcolor": "#E5ECF6",
           "radialaxis": {
            "gridcolor": "white",
            "linecolor": "white",
            "ticks": ""
           }
          },
          "scene": {
           "xaxis": {
            "backgroundcolor": "#E5ECF6",
            "gridcolor": "white",
            "gridwidth": 2,
            "linecolor": "white",
            "showbackground": true,
            "ticks": "",
            "zerolinecolor": "white"
           },
           "yaxis": {
            "backgroundcolor": "#E5ECF6",
            "gridcolor": "white",
            "gridwidth": 2,
            "linecolor": "white",
            "showbackground": true,
            "ticks": "",
            "zerolinecolor": "white"
           },
           "zaxis": {
            "backgroundcolor": "#E5ECF6",
            "gridcolor": "white",
            "gridwidth": 2,
            "linecolor": "white",
            "showbackground": true,
            "ticks": "",
            "zerolinecolor": "white"
           }
          },
          "shapedefaults": {
           "line": {
            "color": "#2a3f5f"
           }
          },
          "ternary": {
           "aaxis": {
            "gridcolor": "white",
            "linecolor": "white",
            "ticks": ""
           },
           "baxis": {
            "gridcolor": "white",
            "linecolor": "white",
            "ticks": ""
           },
           "bgcolor": "#E5ECF6",
           "caxis": {
            "gridcolor": "white",
            "linecolor": "white",
            "ticks": ""
           }
          },
          "title": {
           "x": 0.05
          },
          "xaxis": {
           "automargin": true,
           "gridcolor": "white",
           "linecolor": "white",
           "ticks": "",
           "title": {
            "standoff": 15
           },
           "zerolinecolor": "white",
           "zerolinewidth": 2
          },
          "yaxis": {
           "automargin": true,
           "gridcolor": "white",
           "linecolor": "white",
           "ticks": "",
           "title": {
            "standoff": 15
           },
           "zerolinecolor": "white",
           "zerolinewidth": 2
          }
         }
        },
        "title": {
         "font": {
          "size": 20
         },
         "text": "IMDB Duration",
         "x": 0.2
        },
        "xaxis": {
         "anchor": "y",
         "domain": [
          0,
          1
         ],
         "showgrid": false,
         "title": {
          "text": "Duration"
         }
        },
        "yaxis": {
         "anchor": "x",
         "domain": [
          0,
          1
         ],
         "showgrid": false,
         "title": {
          "text": "Probability"
         }
        }
       }
      }
     },
     "metadata": {},
     "output_type": "display_data"
    }
   ],
   "source": [
    "\n",
    "fig2 = px.histogram(df, x='Duration m', color='Genre', nbins=60, histnorm='probability')\n",
    "fig2.update_layout(\n",
    "    title='IMDB Duration', title_x=0.2, title_font=dict(size=20),\n",
    "    xaxis_title='Duration', yaxis_title='Probability',\n",
    "    xaxis=dict(showgrid=False), yaxis=dict(showgrid=False),\n",
    "    bargap=0.02,\n",
    "    plot_bgcolor='slategrey'\n",
    ")"
   ]
  },
  {
   "cell_type": "code",
   "execution_count": 446,
   "metadata": {},
   "outputs": [],
   "source": [
    "yearavg=df.groupby(['Year','Name'])['Rating'].mean().reset_index()"
   ]
  },
  {
   "cell_type": "code",
   "execution_count": 447,
   "metadata": {},
   "outputs": [],
   "source": [
    "yearavg2=df.groupby(['Year'])['Rating'].mean().reset_index()"
   ]
  },
  {
   "cell_type": "code",
   "execution_count": 448,
   "metadata": {},
   "outputs": [
    {
     "data": {
      "application/vnd.plotly.v1+json": {
       "config": {
        "plotlyServerURL": "https://plotly.com"
       },
       "data": [
        {
         "hovertemplate": "Year=%{x}<br>Rating=%{y}<extra></extra>",
         "legendgroup": "",
         "line": {
          "color": "#FF6633",
          "dash": "solid"
         },
         "marker": {
          "symbol": "circle"
         },
         "mode": "lines",
         "name": "",
         "orientation": "v",
         "showlegend": false,
         "type": "scatter",
         "x": [
          1931,
          1932,
          1933,
          1934,
          1935,
          1936,
          1937,
          1938,
          1939,
          1940,
          1941,
          1942,
          1943,
          1944,
          1945,
          1946,
          1947,
          1948,
          1949,
          1950,
          1951,
          1952,
          1953,
          1954,
          1955,
          1956,
          1957,
          1958,
          1959,
          1960,
          1961,
          1962,
          1963,
          1964,
          1965,
          1966,
          1967,
          1968,
          1969,
          1970,
          1971,
          1972,
          1973,
          1974,
          1975,
          1976,
          1977,
          1978,
          1979,
          1980,
          1981,
          1982,
          1983,
          1984,
          1985,
          1986,
          1987,
          1988,
          1989,
          1990,
          1991,
          1992,
          1993,
          1994,
          1995,
          1996,
          1997,
          1998,
          1999,
          2000,
          2001,
          2002,
          2003,
          2004,
          2005,
          2006,
          2007,
          2008,
          2009,
          2010,
          2011,
          2012,
          2013,
          2014,
          2015,
          2016,
          2017,
          2018,
          2019,
          2020,
          2021
         ],
         "xaxis": "x",
         "y": [
          5.75,
          5.9,
          6.5,
          4.65,
          5.725,
          5.914285714285714,
          6.166666666666667,
          5.85,
          6.5,
          6.55,
          6.533333333333334,
          6.533333333333334,
          6.514285714285714,
          7.35,
          6.466666666666666,
          6.933333333333334,
          6.220000000000001,
          6.779999999999999,
          6.8375,
          6.8,
          6.433333333333334,
          7.159999999999999,
          6.973333333333333,
          6.535294117647059,
          6.776470588235294,
          6.405555555555555,
          7.034999999999999,
          6.630434782608695,
          6.68076923076923,
          6.8090909090909095,
          6.725,
          6.584,
          6.447826086956522,
          6.4750000000000005,
          6.596666666666667,
          6.597368421052631,
          6.702777777777778,
          6.445454545454546,
          6.330952380952381,
          6.678378378378378,
          6.725581395348837,
          6.440476190476191,
          6.344827586206897,
          6.695918367346939,
          6.53953488372093,
          6.373529411764705,
          6.30377358490566,
          6.474418604651162,
          6.502439024390244,
          6.424137931034483,
          6.450877192982456,
          6.417241379310345,
          6.411320754716981,
          6.075,
          6.101408450704225,
          6.1242857142857146,
          5.682222222222222,
          5.861666666666666,
          5.624358974358974,
          5.4375,
          5.268253968253968,
          5.611688311688312,
          5.315714285714286,
          5.4,
          5.309615384615385,
          5.373684210526316,
          5.515625,
          5.546774193548386,
          5.359999999999999,
          5.269444444444444,
          5.536470588235295,
          5.365384615384615,
          5.357731958762887,
          5.07319587628866,
          5.47542372881356,
          5.42680412371134,
          5.579439252336448,
          5.457425742574258,
          5.467307692307693,
          5.462096774193548,
          5.523076923076924,
          5.640625,
          5.762179487179487,
          5.578064516129032,
          5.820958083832336,
          5.872289156626506,
          6.018226600985222,
          6.179255319148936,
          6.320560747663551,
          6.219548872180451,
          6.5644067796610175
         ],
         "yaxis": "y"
        }
       ],
       "layout": {
        "legend": {
         "tracegroupgap": 0
        },
        "margin": {
         "t": 60
        },
        "plot_bgcolor": "white",
        "template": {
         "data": {
          "bar": [
           {
            "error_x": {
             "color": "#2a3f5f"
            },
            "error_y": {
             "color": "#2a3f5f"
            },
            "marker": {
             "line": {
              "color": "#E5ECF6",
              "width": 0.5
             },
             "pattern": {
              "fillmode": "overlay",
              "size": 10,
              "solidity": 0.2
             }
            },
            "type": "bar"
           }
          ],
          "barpolar": [
           {
            "marker": {
             "line": {
              "color": "#E5ECF6",
              "width": 0.5
             },
             "pattern": {
              "fillmode": "overlay",
              "size": 10,
              "solidity": 0.2
             }
            },
            "type": "barpolar"
           }
          ],
          "carpet": [
           {
            "aaxis": {
             "endlinecolor": "#2a3f5f",
             "gridcolor": "white",
             "linecolor": "white",
             "minorgridcolor": "white",
             "startlinecolor": "#2a3f5f"
            },
            "baxis": {
             "endlinecolor": "#2a3f5f",
             "gridcolor": "white",
             "linecolor": "white",
             "minorgridcolor": "white",
             "startlinecolor": "#2a3f5f"
            },
            "type": "carpet"
           }
          ],
          "choropleth": [
           {
            "colorbar": {
             "outlinewidth": 0,
             "ticks": ""
            },
            "type": "choropleth"
           }
          ],
          "contour": [
           {
            "colorbar": {
             "outlinewidth": 0,
             "ticks": ""
            },
            "colorscale": [
             [
              0,
              "#0d0887"
             ],
             [
              0.1111111111111111,
              "#46039f"
             ],
             [
              0.2222222222222222,
              "#7201a8"
             ],
             [
              0.3333333333333333,
              "#9c179e"
             ],
             [
              0.4444444444444444,
              "#bd3786"
             ],
             [
              0.5555555555555556,
              "#d8576b"
             ],
             [
              0.6666666666666666,
              "#ed7953"
             ],
             [
              0.7777777777777778,
              "#fb9f3a"
             ],
             [
              0.8888888888888888,
              "#fdca26"
             ],
             [
              1,
              "#f0f921"
             ]
            ],
            "type": "contour"
           }
          ],
          "contourcarpet": [
           {
            "colorbar": {
             "outlinewidth": 0,
             "ticks": ""
            },
            "type": "contourcarpet"
           }
          ],
          "heatmap": [
           {
            "colorbar": {
             "outlinewidth": 0,
             "ticks": ""
            },
            "colorscale": [
             [
              0,
              "#0d0887"
             ],
             [
              0.1111111111111111,
              "#46039f"
             ],
             [
              0.2222222222222222,
              "#7201a8"
             ],
             [
              0.3333333333333333,
              "#9c179e"
             ],
             [
              0.4444444444444444,
              "#bd3786"
             ],
             [
              0.5555555555555556,
              "#d8576b"
             ],
             [
              0.6666666666666666,
              "#ed7953"
             ],
             [
              0.7777777777777778,
              "#fb9f3a"
             ],
             [
              0.8888888888888888,
              "#fdca26"
             ],
             [
              1,
              "#f0f921"
             ]
            ],
            "type": "heatmap"
           }
          ],
          "heatmapgl": [
           {
            "colorbar": {
             "outlinewidth": 0,
             "ticks": ""
            },
            "colorscale": [
             [
              0,
              "#0d0887"
             ],
             [
              0.1111111111111111,
              "#46039f"
             ],
             [
              0.2222222222222222,
              "#7201a8"
             ],
             [
              0.3333333333333333,
              "#9c179e"
             ],
             [
              0.4444444444444444,
              "#bd3786"
             ],
             [
              0.5555555555555556,
              "#d8576b"
             ],
             [
              0.6666666666666666,
              "#ed7953"
             ],
             [
              0.7777777777777778,
              "#fb9f3a"
             ],
             [
              0.8888888888888888,
              "#fdca26"
             ],
             [
              1,
              "#f0f921"
             ]
            ],
            "type": "heatmapgl"
           }
          ],
          "histogram": [
           {
            "marker": {
             "pattern": {
              "fillmode": "overlay",
              "size": 10,
              "solidity": 0.2
             }
            },
            "type": "histogram"
           }
          ],
          "histogram2d": [
           {
            "colorbar": {
             "outlinewidth": 0,
             "ticks": ""
            },
            "colorscale": [
             [
              0,
              "#0d0887"
             ],
             [
              0.1111111111111111,
              "#46039f"
             ],
             [
              0.2222222222222222,
              "#7201a8"
             ],
             [
              0.3333333333333333,
              "#9c179e"
             ],
             [
              0.4444444444444444,
              "#bd3786"
             ],
             [
              0.5555555555555556,
              "#d8576b"
             ],
             [
              0.6666666666666666,
              "#ed7953"
             ],
             [
              0.7777777777777778,
              "#fb9f3a"
             ],
             [
              0.8888888888888888,
              "#fdca26"
             ],
             [
              1,
              "#f0f921"
             ]
            ],
            "type": "histogram2d"
           }
          ],
          "histogram2dcontour": [
           {
            "colorbar": {
             "outlinewidth": 0,
             "ticks": ""
            },
            "colorscale": [
             [
              0,
              "#0d0887"
             ],
             [
              0.1111111111111111,
              "#46039f"
             ],
             [
              0.2222222222222222,
              "#7201a8"
             ],
             [
              0.3333333333333333,
              "#9c179e"
             ],
             [
              0.4444444444444444,
              "#bd3786"
             ],
             [
              0.5555555555555556,
              "#d8576b"
             ],
             [
              0.6666666666666666,
              "#ed7953"
             ],
             [
              0.7777777777777778,
              "#fb9f3a"
             ],
             [
              0.8888888888888888,
              "#fdca26"
             ],
             [
              1,
              "#f0f921"
             ]
            ],
            "type": "histogram2dcontour"
           }
          ],
          "mesh3d": [
           {
            "colorbar": {
             "outlinewidth": 0,
             "ticks": ""
            },
            "type": "mesh3d"
           }
          ],
          "parcoords": [
           {
            "line": {
             "colorbar": {
              "outlinewidth": 0,
              "ticks": ""
             }
            },
            "type": "parcoords"
           }
          ],
          "pie": [
           {
            "automargin": true,
            "type": "pie"
           }
          ],
          "scatter": [
           {
            "fillpattern": {
             "fillmode": "overlay",
             "size": 10,
             "solidity": 0.2
            },
            "type": "scatter"
           }
          ],
          "scatter3d": [
           {
            "line": {
             "colorbar": {
              "outlinewidth": 0,
              "ticks": ""
             }
            },
            "marker": {
             "colorbar": {
              "outlinewidth": 0,
              "ticks": ""
             }
            },
            "type": "scatter3d"
           }
          ],
          "scattercarpet": [
           {
            "marker": {
             "colorbar": {
              "outlinewidth": 0,
              "ticks": ""
             }
            },
            "type": "scattercarpet"
           }
          ],
          "scattergeo": [
           {
            "marker": {
             "colorbar": {
              "outlinewidth": 0,
              "ticks": ""
             }
            },
            "type": "scattergeo"
           }
          ],
          "scattergl": [
           {
            "marker": {
             "colorbar": {
              "outlinewidth": 0,
              "ticks": ""
             }
            },
            "type": "scattergl"
           }
          ],
          "scattermapbox": [
           {
            "marker": {
             "colorbar": {
              "outlinewidth": 0,
              "ticks": ""
             }
            },
            "type": "scattermapbox"
           }
          ],
          "scatterpolar": [
           {
            "marker": {
             "colorbar": {
              "outlinewidth": 0,
              "ticks": ""
             }
            },
            "type": "scatterpolar"
           }
          ],
          "scatterpolargl": [
           {
            "marker": {
             "colorbar": {
              "outlinewidth": 0,
              "ticks": ""
             }
            },
            "type": "scatterpolargl"
           }
          ],
          "scatterternary": [
           {
            "marker": {
             "colorbar": {
              "outlinewidth": 0,
              "ticks": ""
             }
            },
            "type": "scatterternary"
           }
          ],
          "surface": [
           {
            "colorbar": {
             "outlinewidth": 0,
             "ticks": ""
            },
            "colorscale": [
             [
              0,
              "#0d0887"
             ],
             [
              0.1111111111111111,
              "#46039f"
             ],
             [
              0.2222222222222222,
              "#7201a8"
             ],
             [
              0.3333333333333333,
              "#9c179e"
             ],
             [
              0.4444444444444444,
              "#bd3786"
             ],
             [
              0.5555555555555556,
              "#d8576b"
             ],
             [
              0.6666666666666666,
              "#ed7953"
             ],
             [
              0.7777777777777778,
              "#fb9f3a"
             ],
             [
              0.8888888888888888,
              "#fdca26"
             ],
             [
              1,
              "#f0f921"
             ]
            ],
            "type": "surface"
           }
          ],
          "table": [
           {
            "cells": {
             "fill": {
              "color": "#EBF0F8"
             },
             "line": {
              "color": "white"
             }
            },
            "header": {
             "fill": {
              "color": "#C8D4E3"
             },
             "line": {
              "color": "white"
             }
            },
            "type": "table"
           }
          ]
         },
         "layout": {
          "annotationdefaults": {
           "arrowcolor": "#2a3f5f",
           "arrowhead": 0,
           "arrowwidth": 1
          },
          "autotypenumbers": "strict",
          "coloraxis": {
           "colorbar": {
            "outlinewidth": 0,
            "ticks": ""
           }
          },
          "colorscale": {
           "diverging": [
            [
             0,
             "#8e0152"
            ],
            [
             0.1,
             "#c51b7d"
            ],
            [
             0.2,
             "#de77ae"
            ],
            [
             0.3,
             "#f1b6da"
            ],
            [
             0.4,
             "#fde0ef"
            ],
            [
             0.5,
             "#f7f7f7"
            ],
            [
             0.6,
             "#e6f5d0"
            ],
            [
             0.7,
             "#b8e186"
            ],
            [
             0.8,
             "#7fbc41"
            ],
            [
             0.9,
             "#4d9221"
            ],
            [
             1,
             "#276419"
            ]
           ],
           "sequential": [
            [
             0,
             "#0d0887"
            ],
            [
             0.1111111111111111,
             "#46039f"
            ],
            [
             0.2222222222222222,
             "#7201a8"
            ],
            [
             0.3333333333333333,
             "#9c179e"
            ],
            [
             0.4444444444444444,
             "#bd3786"
            ],
            [
             0.5555555555555556,
             "#d8576b"
            ],
            [
             0.6666666666666666,
             "#ed7953"
            ],
            [
             0.7777777777777778,
             "#fb9f3a"
            ],
            [
             0.8888888888888888,
             "#fdca26"
            ],
            [
             1,
             "#f0f921"
            ]
           ],
           "sequentialminus": [
            [
             0,
             "#0d0887"
            ],
            [
             0.1111111111111111,
             "#46039f"
            ],
            [
             0.2222222222222222,
             "#7201a8"
            ],
            [
             0.3333333333333333,
             "#9c179e"
            ],
            [
             0.4444444444444444,
             "#bd3786"
            ],
            [
             0.5555555555555556,
             "#d8576b"
            ],
            [
             0.6666666666666666,
             "#ed7953"
            ],
            [
             0.7777777777777778,
             "#fb9f3a"
            ],
            [
             0.8888888888888888,
             "#fdca26"
            ],
            [
             1,
             "#f0f921"
            ]
           ]
          },
          "colorway": [
           "#636efa",
           "#EF553B",
           "#00cc96",
           "#ab63fa",
           "#FFA15A",
           "#19d3f3",
           "#FF6692",
           "#B6E880",
           "#FF97FF",
           "#FECB52"
          ],
          "font": {
           "color": "#2a3f5f"
          },
          "geo": {
           "bgcolor": "white",
           "lakecolor": "white",
           "landcolor": "#E5ECF6",
           "showlakes": true,
           "showland": true,
           "subunitcolor": "white"
          },
          "hoverlabel": {
           "align": "left"
          },
          "hovermode": "closest",
          "mapbox": {
           "style": "light"
          },
          "paper_bgcolor": "white",
          "plot_bgcolor": "#E5ECF6",
          "polar": {
           "angularaxis": {
            "gridcolor": "white",
            "linecolor": "white",
            "ticks": ""
           },
           "bgcolor": "#E5ECF6",
           "radialaxis": {
            "gridcolor": "white",
            "linecolor": "white",
            "ticks": ""
           }
          },
          "scene": {
           "xaxis": {
            "backgroundcolor": "#E5ECF6",
            "gridcolor": "white",
            "gridwidth": 2,
            "linecolor": "white",
            "showbackground": true,
            "ticks": "",
            "zerolinecolor": "white"
           },
           "yaxis": {
            "backgroundcolor": "#E5ECF6",
            "gridcolor": "white",
            "gridwidth": 2,
            "linecolor": "white",
            "showbackground": true,
            "ticks": "",
            "zerolinecolor": "white"
           },
           "zaxis": {
            "backgroundcolor": "#E5ECF6",
            "gridcolor": "white",
            "gridwidth": 2,
            "linecolor": "white",
            "showbackground": true,
            "ticks": "",
            "zerolinecolor": "white"
           }
          },
          "shapedefaults": {
           "line": {
            "color": "#2a3f5f"
           }
          },
          "ternary": {
           "aaxis": {
            "gridcolor": "white",
            "linecolor": "white",
            "ticks": ""
           },
           "baxis": {
            "gridcolor": "white",
            "linecolor": "white",
            "ticks": ""
           },
           "bgcolor": "#E5ECF6",
           "caxis": {
            "gridcolor": "white",
            "linecolor": "white",
            "ticks": ""
           }
          },
          "title": {
           "x": 0.05
          },
          "xaxis": {
           "automargin": true,
           "gridcolor": "white",
           "linecolor": "white",
           "ticks": "",
           "title": {
            "standoff": 15
           },
           "zerolinecolor": "white",
           "zerolinewidth": 2
          },
          "yaxis": {
           "automargin": true,
           "gridcolor": "white",
           "linecolor": "white",
           "ticks": "",
           "title": {
            "standoff": 15
           },
           "zerolinecolor": "white",
           "zerolinewidth": 2
          }
         }
        },
        "title": {
         "font": {
          "size": 20
         },
         "pad": {
          "t": 20
         },
         "text": "Rating trend",
         "x": 0.5
        },
        "xaxis": {
         "anchor": "y",
         "domain": [
          0,
          1
         ],
         "showgrid": false,
         "title": {
          "text": "Year"
         }
        },
        "yaxis": {
         "anchor": "x",
         "domain": [
          0,
          1
         ],
         "showgrid": false,
         "title": {
          "text": "Rating"
         }
        }
       }
      }
     },
     "metadata": {},
     "output_type": "display_data"
    }
   ],
   "source": [
    "figx=px.line(yearavg2,x='Year',y='Rating', color_discrete_sequence=color)\n",
    "figx.update_layout(title='Rating trend', title_x=0.5,\n",
    "                    title_pad=dict(t=20),\n",
    "                      title_font=dict(size=20), \n",
    "                      xaxis_title='Year', yaxis_title='Rating',\n",
    "                        xaxis=dict(showgrid=False), \n",
    "                        yaxis=dict(showgrid=False), \n",
    "                        plot_bgcolor = 'white')\n"
   ]
  },
  {
   "cell_type": "code",
   "execution_count": 449,
   "metadata": {},
   "outputs": [
    {
     "data": {
      "text/plain": [
       "Year           2021\n",
       "Name      th August\n",
       "Rating         10.0\n",
       "dtype: object"
      ]
     },
     "execution_count": 449,
     "metadata": {},
     "output_type": "execute_result"
    }
   ],
   "source": [
    "yearavg.max()"
   ]
  },
  {
   "cell_type": "code",
   "execution_count": 450,
   "metadata": {},
   "outputs": [
    {
     "data": {
      "text/html": [
       "<div>\n",
       "<style scoped>\n",
       "    .dataframe tbody tr th:only-of-type {\n",
       "        vertical-align: middle;\n",
       "    }\n",
       "\n",
       "    .dataframe tbody tr th {\n",
       "        vertical-align: top;\n",
       "    }\n",
       "\n",
       "    .dataframe thead th {\n",
       "        text-align: right;\n",
       "    }\n",
       "</style>\n",
       "<table border=\"1\" class=\"dataframe\">\n",
       "  <thead>\n",
       "    <tr style=\"text-align: right;\">\n",
       "      <th></th>\n",
       "      <th>Year</th>\n",
       "      <th>Name</th>\n",
       "      <th>Rating</th>\n",
       "    </tr>\n",
       "  </thead>\n",
       "  <tbody>\n",
       "    <tr>\n",
       "      <th>4869</th>\n",
       "      <td>2020</td>\n",
       "      <td>Love Qubool Hai</td>\n",
       "      <td>10.0</td>\n",
       "    </tr>\n",
       "    <tr>\n",
       "      <th>4942</th>\n",
       "      <td>2021</td>\n",
       "      <td>Half Songs</td>\n",
       "      <td>9.7</td>\n",
       "    </tr>\n",
       "    <tr>\n",
       "      <th>4657</th>\n",
       "      <td>2019</td>\n",
       "      <td>Gho Gho Rani</td>\n",
       "      <td>9.4</td>\n",
       "    </tr>\n",
       "    <tr>\n",
       "      <th>4915</th>\n",
       "      <td>2020</td>\n",
       "      <td>The Reluctant Crime</td>\n",
       "      <td>9.4</td>\n",
       "    </tr>\n",
       "    <tr>\n",
       "      <th>4945</th>\n",
       "      <td>2021</td>\n",
       "      <td>June</td>\n",
       "      <td>9.4</td>\n",
       "    </tr>\n",
       "    <tr>\n",
       "      <th>4404</th>\n",
       "      <td>2018</td>\n",
       "      <td>Ashok Vatika</td>\n",
       "      <td>9.3</td>\n",
       "    </tr>\n",
       "    <tr>\n",
       "      <th>4658</th>\n",
       "      <td>2019</td>\n",
       "      <td>God of gods</td>\n",
       "      <td>9.3</td>\n",
       "    </tr>\n",
       "    <tr>\n",
       "      <th>4760</th>\n",
       "      <td>2019</td>\n",
       "      <td>Sindhustan</td>\n",
       "      <td>9.3</td>\n",
       "    </tr>\n",
       "    <tr>\n",
       "      <th>4934</th>\n",
       "      <td>2021</td>\n",
       "      <td>Baikunth</td>\n",
       "      <td>9.3</td>\n",
       "    </tr>\n",
       "    <tr>\n",
       "      <th>4951</th>\n",
       "      <td>2021</td>\n",
       "      <td>Love Sorries</td>\n",
       "      <td>9.3</td>\n",
       "    </tr>\n",
       "  </tbody>\n",
       "</table>\n",
       "</div>"
      ],
      "text/plain": [
       "      Year                 Name  Rating\n",
       "4869  2020      Love Qubool Hai    10.0\n",
       "4942  2021           Half Songs     9.7\n",
       "4657  2019         Gho Gho Rani     9.4\n",
       "4915  2020  The Reluctant Crime     9.4\n",
       "4945  2021                 June     9.4\n",
       "4404  2018         Ashok Vatika     9.3\n",
       "4658  2019          God of gods     9.3\n",
       "4760  2019           Sindhustan     9.3\n",
       "4934  2021             Baikunth     9.3\n",
       "4951  2021         Love Sorries     9.3"
      ]
     },
     "execution_count": 450,
     "metadata": {},
     "output_type": "execute_result"
    }
   ],
   "source": [
    "top10=yearavg.nlargest(10,'Rating')\n",
    "top10"
   ]
  },
  {
   "cell_type": "code",
   "execution_count": 451,
   "metadata": {},
   "outputs": [],
   "source": [
    "top10['Year']=top10['Year'].astype(str)"
   ]
  },
  {
   "cell_type": "code",
   "execution_count": 452,
   "metadata": {},
   "outputs": [
    {
     "data": {
      "text/plain": [
       "dtype('O')"
      ]
     },
     "execution_count": 452,
     "metadata": {},
     "output_type": "execute_result"
    }
   ],
   "source": [
    "top10['Year'].dtype"
   ]
  },
  {
   "cell_type": "code",
   "execution_count": 453,
   "metadata": {},
   "outputs": [
    {
     "data": {
      "application/vnd.plotly.v1+json": {
       "config": {
        "plotlyServerURL": "https://plotly.com"
       },
       "data": [
        {
         "alignmentgroup": "True",
         "hovertemplate": "Name=Love Qubool Hai<br>Year=%{x}<br>Rating=%{y}<extra></extra>",
         "legendgroup": "Love Qubool Hai",
         "marker": {
          "color": "#636efa",
          "pattern": {
           "shape": ""
          }
         },
         "name": "Love Qubool Hai",
         "offsetgroup": "Love Qubool Hai",
         "orientation": "v",
         "showlegend": true,
         "textposition": "auto",
         "type": "bar",
         "x": [
          "2020"
         ],
         "xaxis": "x",
         "y": [
          10
         ],
         "yaxis": "y"
        },
        {
         "alignmentgroup": "True",
         "hovertemplate": "Name=Half Songs<br>Year=%{x}<br>Rating=%{y}<extra></extra>",
         "legendgroup": "Half Songs",
         "marker": {
          "color": "#EF553B",
          "pattern": {
           "shape": "/"
          }
         },
         "name": "Half Songs",
         "offsetgroup": "Half Songs",
         "orientation": "v",
         "showlegend": true,
         "textposition": "auto",
         "type": "bar",
         "x": [
          "2021"
         ],
         "xaxis": "x",
         "y": [
          9.7
         ],
         "yaxis": "y"
        },
        {
         "alignmentgroup": "True",
         "hovertemplate": "Name=Gho Gho Rani<br>Year=%{x}<br>Rating=%{y}<extra></extra>",
         "legendgroup": "Gho Gho Rani",
         "marker": {
          "color": "#00cc96",
          "pattern": {
           "shape": "\\"
          }
         },
         "name": "Gho Gho Rani",
         "offsetgroup": "Gho Gho Rani",
         "orientation": "v",
         "showlegend": true,
         "textposition": "auto",
         "type": "bar",
         "x": [
          "2019"
         ],
         "xaxis": "x",
         "y": [
          9.4
         ],
         "yaxis": "y"
        },
        {
         "alignmentgroup": "True",
         "hovertemplate": "Name=The Reluctant Crime<br>Year=%{x}<br>Rating=%{y}<extra></extra>",
         "legendgroup": "The Reluctant Crime",
         "marker": {
          "color": "#ab63fa",
          "pattern": {
           "shape": "x"
          }
         },
         "name": "The Reluctant Crime",
         "offsetgroup": "The Reluctant Crime",
         "orientation": "v",
         "showlegend": true,
         "textposition": "auto",
         "type": "bar",
         "x": [
          "2020"
         ],
         "xaxis": "x",
         "y": [
          9.4
         ],
         "yaxis": "y"
        },
        {
         "alignmentgroup": "True",
         "hovertemplate": "Name=June<br>Year=%{x}<br>Rating=%{y}<extra></extra>",
         "legendgroup": "June",
         "marker": {
          "color": "#FFA15A",
          "pattern": {
           "shape": "+"
          }
         },
         "name": "June",
         "offsetgroup": "June",
         "orientation": "v",
         "showlegend": true,
         "textposition": "auto",
         "type": "bar",
         "x": [
          "2021"
         ],
         "xaxis": "x",
         "y": [
          9.4
         ],
         "yaxis": "y"
        },
        {
         "alignmentgroup": "True",
         "hovertemplate": "Name=Ashok Vatika<br>Year=%{x}<br>Rating=%{y}<extra></extra>",
         "legendgroup": "Ashok Vatika",
         "marker": {
          "color": "#19d3f3",
          "pattern": {
           "shape": "."
          }
         },
         "name": "Ashok Vatika",
         "offsetgroup": "Ashok Vatika",
         "orientation": "v",
         "showlegend": true,
         "textposition": "auto",
         "type": "bar",
         "x": [
          "2018"
         ],
         "xaxis": "x",
         "y": [
          9.3
         ],
         "yaxis": "y"
        },
        {
         "alignmentgroup": "True",
         "hovertemplate": "Name=God of gods<br>Year=%{x}<br>Rating=%{y}<extra></extra>",
         "legendgroup": "God of gods",
         "marker": {
          "color": "#FF6692",
          "pattern": {
           "shape": ""
          }
         },
         "name": "God of gods",
         "offsetgroup": "God of gods",
         "orientation": "v",
         "showlegend": true,
         "textposition": "auto",
         "type": "bar",
         "x": [
          "2019"
         ],
         "xaxis": "x",
         "y": [
          9.3
         ],
         "yaxis": "y"
        },
        {
         "alignmentgroup": "True",
         "hovertemplate": "Name=Sindhustan<br>Year=%{x}<br>Rating=%{y}<extra></extra>",
         "legendgroup": "Sindhustan",
         "marker": {
          "color": "#B6E880",
          "pattern": {
           "shape": "/"
          }
         },
         "name": "Sindhustan",
         "offsetgroup": "Sindhustan",
         "orientation": "v",
         "showlegend": true,
         "textposition": "auto",
         "type": "bar",
         "x": [
          "2019"
         ],
         "xaxis": "x",
         "y": [
          9.3
         ],
         "yaxis": "y"
        },
        {
         "alignmentgroup": "True",
         "hovertemplate": "Name=Baikunth<br>Year=%{x}<br>Rating=%{y}<extra></extra>",
         "legendgroup": "Baikunth",
         "marker": {
          "color": "#FF97FF",
          "pattern": {
           "shape": "\\"
          }
         },
         "name": "Baikunth",
         "offsetgroup": "Baikunth",
         "orientation": "v",
         "showlegend": true,
         "textposition": "auto",
         "type": "bar",
         "x": [
          "2021"
         ],
         "xaxis": "x",
         "y": [
          9.3
         ],
         "yaxis": "y"
        },
        {
         "alignmentgroup": "True",
         "hovertemplate": "Name=Love Sorries<br>Year=%{x}<br>Rating=%{y}<extra></extra>",
         "legendgroup": "Love Sorries",
         "marker": {
          "color": "#FECB52",
          "pattern": {
           "shape": "x"
          }
         },
         "name": "Love Sorries",
         "offsetgroup": "Love Sorries",
         "orientation": "v",
         "showlegend": true,
         "textposition": "auto",
         "type": "bar",
         "x": [
          "2021"
         ],
         "xaxis": "x",
         "y": [
          9.3
         ],
         "yaxis": "y"
        }
       ],
       "layout": {
        "barmode": "relative",
        "legend": {
         "title": {
          "text": "Name"
         },
         "tracegroupgap": 0
        },
        "margin": {
         "t": 60
        },
        "template": {
         "data": {
          "bar": [
           {
            "error_x": {
             "color": "#2a3f5f"
            },
            "error_y": {
             "color": "#2a3f5f"
            },
            "marker": {
             "line": {
              "color": "#E5ECF6",
              "width": 0.5
             },
             "pattern": {
              "fillmode": "overlay",
              "size": 10,
              "solidity": 0.2
             }
            },
            "type": "bar"
           }
          ],
          "barpolar": [
           {
            "marker": {
             "line": {
              "color": "#E5ECF6",
              "width": 0.5
             },
             "pattern": {
              "fillmode": "overlay",
              "size": 10,
              "solidity": 0.2
             }
            },
            "type": "barpolar"
           }
          ],
          "carpet": [
           {
            "aaxis": {
             "endlinecolor": "#2a3f5f",
             "gridcolor": "white",
             "linecolor": "white",
             "minorgridcolor": "white",
             "startlinecolor": "#2a3f5f"
            },
            "baxis": {
             "endlinecolor": "#2a3f5f",
             "gridcolor": "white",
             "linecolor": "white",
             "minorgridcolor": "white",
             "startlinecolor": "#2a3f5f"
            },
            "type": "carpet"
           }
          ],
          "choropleth": [
           {
            "colorbar": {
             "outlinewidth": 0,
             "ticks": ""
            },
            "type": "choropleth"
           }
          ],
          "contour": [
           {
            "colorbar": {
             "outlinewidth": 0,
             "ticks": ""
            },
            "colorscale": [
             [
              0,
              "#0d0887"
             ],
             [
              0.1111111111111111,
              "#46039f"
             ],
             [
              0.2222222222222222,
              "#7201a8"
             ],
             [
              0.3333333333333333,
              "#9c179e"
             ],
             [
              0.4444444444444444,
              "#bd3786"
             ],
             [
              0.5555555555555556,
              "#d8576b"
             ],
             [
              0.6666666666666666,
              "#ed7953"
             ],
             [
              0.7777777777777778,
              "#fb9f3a"
             ],
             [
              0.8888888888888888,
              "#fdca26"
             ],
             [
              1,
              "#f0f921"
             ]
            ],
            "type": "contour"
           }
          ],
          "contourcarpet": [
           {
            "colorbar": {
             "outlinewidth": 0,
             "ticks": ""
            },
            "type": "contourcarpet"
           }
          ],
          "heatmap": [
           {
            "colorbar": {
             "outlinewidth": 0,
             "ticks": ""
            },
            "colorscale": [
             [
              0,
              "#0d0887"
             ],
             [
              0.1111111111111111,
              "#46039f"
             ],
             [
              0.2222222222222222,
              "#7201a8"
             ],
             [
              0.3333333333333333,
              "#9c179e"
             ],
             [
              0.4444444444444444,
              "#bd3786"
             ],
             [
              0.5555555555555556,
              "#d8576b"
             ],
             [
              0.6666666666666666,
              "#ed7953"
             ],
             [
              0.7777777777777778,
              "#fb9f3a"
             ],
             [
              0.8888888888888888,
              "#fdca26"
             ],
             [
              1,
              "#f0f921"
             ]
            ],
            "type": "heatmap"
           }
          ],
          "heatmapgl": [
           {
            "colorbar": {
             "outlinewidth": 0,
             "ticks": ""
            },
            "colorscale": [
             [
              0,
              "#0d0887"
             ],
             [
              0.1111111111111111,
              "#46039f"
             ],
             [
              0.2222222222222222,
              "#7201a8"
             ],
             [
              0.3333333333333333,
              "#9c179e"
             ],
             [
              0.4444444444444444,
              "#bd3786"
             ],
             [
              0.5555555555555556,
              "#d8576b"
             ],
             [
              0.6666666666666666,
              "#ed7953"
             ],
             [
              0.7777777777777778,
              "#fb9f3a"
             ],
             [
              0.8888888888888888,
              "#fdca26"
             ],
             [
              1,
              "#f0f921"
             ]
            ],
            "type": "heatmapgl"
           }
          ],
          "histogram": [
           {
            "marker": {
             "pattern": {
              "fillmode": "overlay",
              "size": 10,
              "solidity": 0.2
             }
            },
            "type": "histogram"
           }
          ],
          "histogram2d": [
           {
            "colorbar": {
             "outlinewidth": 0,
             "ticks": ""
            },
            "colorscale": [
             [
              0,
              "#0d0887"
             ],
             [
              0.1111111111111111,
              "#46039f"
             ],
             [
              0.2222222222222222,
              "#7201a8"
             ],
             [
              0.3333333333333333,
              "#9c179e"
             ],
             [
              0.4444444444444444,
              "#bd3786"
             ],
             [
              0.5555555555555556,
              "#d8576b"
             ],
             [
              0.6666666666666666,
              "#ed7953"
             ],
             [
              0.7777777777777778,
              "#fb9f3a"
             ],
             [
              0.8888888888888888,
              "#fdca26"
             ],
             [
              1,
              "#f0f921"
             ]
            ],
            "type": "histogram2d"
           }
          ],
          "histogram2dcontour": [
           {
            "colorbar": {
             "outlinewidth": 0,
             "ticks": ""
            },
            "colorscale": [
             [
              0,
              "#0d0887"
             ],
             [
              0.1111111111111111,
              "#46039f"
             ],
             [
              0.2222222222222222,
              "#7201a8"
             ],
             [
              0.3333333333333333,
              "#9c179e"
             ],
             [
              0.4444444444444444,
              "#bd3786"
             ],
             [
              0.5555555555555556,
              "#d8576b"
             ],
             [
              0.6666666666666666,
              "#ed7953"
             ],
             [
              0.7777777777777778,
              "#fb9f3a"
             ],
             [
              0.8888888888888888,
              "#fdca26"
             ],
             [
              1,
              "#f0f921"
             ]
            ],
            "type": "histogram2dcontour"
           }
          ],
          "mesh3d": [
           {
            "colorbar": {
             "outlinewidth": 0,
             "ticks": ""
            },
            "type": "mesh3d"
           }
          ],
          "parcoords": [
           {
            "line": {
             "colorbar": {
              "outlinewidth": 0,
              "ticks": ""
             }
            },
            "type": "parcoords"
           }
          ],
          "pie": [
           {
            "automargin": true,
            "type": "pie"
           }
          ],
          "scatter": [
           {
            "fillpattern": {
             "fillmode": "overlay",
             "size": 10,
             "solidity": 0.2
            },
            "type": "scatter"
           }
          ],
          "scatter3d": [
           {
            "line": {
             "colorbar": {
              "outlinewidth": 0,
              "ticks": ""
             }
            },
            "marker": {
             "colorbar": {
              "outlinewidth": 0,
              "ticks": ""
             }
            },
            "type": "scatter3d"
           }
          ],
          "scattercarpet": [
           {
            "marker": {
             "colorbar": {
              "outlinewidth": 0,
              "ticks": ""
             }
            },
            "type": "scattercarpet"
           }
          ],
          "scattergeo": [
           {
            "marker": {
             "colorbar": {
              "outlinewidth": 0,
              "ticks": ""
             }
            },
            "type": "scattergeo"
           }
          ],
          "scattergl": [
           {
            "marker": {
             "colorbar": {
              "outlinewidth": 0,
              "ticks": ""
             }
            },
            "type": "scattergl"
           }
          ],
          "scattermapbox": [
           {
            "marker": {
             "colorbar": {
              "outlinewidth": 0,
              "ticks": ""
             }
            },
            "type": "scattermapbox"
           }
          ],
          "scatterpolar": [
           {
            "marker": {
             "colorbar": {
              "outlinewidth": 0,
              "ticks": ""
             }
            },
            "type": "scatterpolar"
           }
          ],
          "scatterpolargl": [
           {
            "marker": {
             "colorbar": {
              "outlinewidth": 0,
              "ticks": ""
             }
            },
            "type": "scatterpolargl"
           }
          ],
          "scatterternary": [
           {
            "marker": {
             "colorbar": {
              "outlinewidth": 0,
              "ticks": ""
             }
            },
            "type": "scatterternary"
           }
          ],
          "surface": [
           {
            "colorbar": {
             "outlinewidth": 0,
             "ticks": ""
            },
            "colorscale": [
             [
              0,
              "#0d0887"
             ],
             [
              0.1111111111111111,
              "#46039f"
             ],
             [
              0.2222222222222222,
              "#7201a8"
             ],
             [
              0.3333333333333333,
              "#9c179e"
             ],
             [
              0.4444444444444444,
              "#bd3786"
             ],
             [
              0.5555555555555556,
              "#d8576b"
             ],
             [
              0.6666666666666666,
              "#ed7953"
             ],
             [
              0.7777777777777778,
              "#fb9f3a"
             ],
             [
              0.8888888888888888,
              "#fdca26"
             ],
             [
              1,
              "#f0f921"
             ]
            ],
            "type": "surface"
           }
          ],
          "table": [
           {
            "cells": {
             "fill": {
              "color": "#EBF0F8"
             },
             "line": {
              "color": "white"
             }
            },
            "header": {
             "fill": {
              "color": "#C8D4E3"
             },
             "line": {
              "color": "white"
             }
            },
            "type": "table"
           }
          ]
         },
         "layout": {
          "annotationdefaults": {
           "arrowcolor": "#2a3f5f",
           "arrowhead": 0,
           "arrowwidth": 1
          },
          "autotypenumbers": "strict",
          "coloraxis": {
           "colorbar": {
            "outlinewidth": 0,
            "ticks": ""
           }
          },
          "colorscale": {
           "diverging": [
            [
             0,
             "#8e0152"
            ],
            [
             0.1,
             "#c51b7d"
            ],
            [
             0.2,
             "#de77ae"
            ],
            [
             0.3,
             "#f1b6da"
            ],
            [
             0.4,
             "#fde0ef"
            ],
            [
             0.5,
             "#f7f7f7"
            ],
            [
             0.6,
             "#e6f5d0"
            ],
            [
             0.7,
             "#b8e186"
            ],
            [
             0.8,
             "#7fbc41"
            ],
            [
             0.9,
             "#4d9221"
            ],
            [
             1,
             "#276419"
            ]
           ],
           "sequential": [
            [
             0,
             "#0d0887"
            ],
            [
             0.1111111111111111,
             "#46039f"
            ],
            [
             0.2222222222222222,
             "#7201a8"
            ],
            [
             0.3333333333333333,
             "#9c179e"
            ],
            [
             0.4444444444444444,
             "#bd3786"
            ],
            [
             0.5555555555555556,
             "#d8576b"
            ],
            [
             0.6666666666666666,
             "#ed7953"
            ],
            [
             0.7777777777777778,
             "#fb9f3a"
            ],
            [
             0.8888888888888888,
             "#fdca26"
            ],
            [
             1,
             "#f0f921"
            ]
           ],
           "sequentialminus": [
            [
             0,
             "#0d0887"
            ],
            [
             0.1111111111111111,
             "#46039f"
            ],
            [
             0.2222222222222222,
             "#7201a8"
            ],
            [
             0.3333333333333333,
             "#9c179e"
            ],
            [
             0.4444444444444444,
             "#bd3786"
            ],
            [
             0.5555555555555556,
             "#d8576b"
            ],
            [
             0.6666666666666666,
             "#ed7953"
            ],
            [
             0.7777777777777778,
             "#fb9f3a"
            ],
            [
             0.8888888888888888,
             "#fdca26"
            ],
            [
             1,
             "#f0f921"
            ]
           ]
          },
          "colorway": [
           "#636efa",
           "#EF553B",
           "#00cc96",
           "#ab63fa",
           "#FFA15A",
           "#19d3f3",
           "#FF6692",
           "#B6E880",
           "#FF97FF",
           "#FECB52"
          ],
          "font": {
           "color": "#2a3f5f"
          },
          "geo": {
           "bgcolor": "white",
           "lakecolor": "white",
           "landcolor": "#E5ECF6",
           "showlakes": true,
           "showland": true,
           "subunitcolor": "white"
          },
          "hoverlabel": {
           "align": "left"
          },
          "hovermode": "closest",
          "mapbox": {
           "style": "light"
          },
          "paper_bgcolor": "white",
          "plot_bgcolor": "#E5ECF6",
          "polar": {
           "angularaxis": {
            "gridcolor": "white",
            "linecolor": "white",
            "ticks": ""
           },
           "bgcolor": "#E5ECF6",
           "radialaxis": {
            "gridcolor": "white",
            "linecolor": "white",
            "ticks": ""
           }
          },
          "scene": {
           "xaxis": {
            "backgroundcolor": "#E5ECF6",
            "gridcolor": "white",
            "gridwidth": 2,
            "linecolor": "white",
            "showbackground": true,
            "ticks": "",
            "zerolinecolor": "white"
           },
           "yaxis": {
            "backgroundcolor": "#E5ECF6",
            "gridcolor": "white",
            "gridwidth": 2,
            "linecolor": "white",
            "showbackground": true,
            "ticks": "",
            "zerolinecolor": "white"
           },
           "zaxis": {
            "backgroundcolor": "#E5ECF6",
            "gridcolor": "white",
            "gridwidth": 2,
            "linecolor": "white",
            "showbackground": true,
            "ticks": "",
            "zerolinecolor": "white"
           }
          },
          "shapedefaults": {
           "line": {
            "color": "#2a3f5f"
           }
          },
          "ternary": {
           "aaxis": {
            "gridcolor": "white",
            "linecolor": "white",
            "ticks": ""
           },
           "baxis": {
            "gridcolor": "white",
            "linecolor": "white",
            "ticks": ""
           },
           "bgcolor": "#E5ECF6",
           "caxis": {
            "gridcolor": "white",
            "linecolor": "white",
            "ticks": ""
           }
          },
          "title": {
           "x": 0.05
          },
          "xaxis": {
           "automargin": true,
           "gridcolor": "white",
           "linecolor": "white",
           "ticks": "",
           "title": {
            "standoff": 15
           },
           "zerolinecolor": "white",
           "zerolinewidth": 2
          },
          "yaxis": {
           "automargin": true,
           "gridcolor": "white",
           "linecolor": "white",
           "ticks": "",
           "title": {
            "standoff": 15
           },
           "zerolinecolor": "white",
           "zerolinewidth": 2
          }
         }
        },
        "xaxis": {
         "anchor": "y",
         "domain": [
          0,
          1
         ],
         "title": {
          "text": "Year"
         }
        },
        "yaxis": {
         "anchor": "x",
         "domain": [
          0,
          1
         ],
         "title": {
          "text": "Rating"
         }
        }
       }
      }
     },
     "metadata": {},
     "output_type": "display_data"
    }
   ],
   "source": [
    "fig=px.bar(top10,x='Year',y='Rating',color='Name',pattern_shape='Name')\n",
    "fig.show()"
   ]
  },
  {
   "cell_type": "code",
   "execution_count": 454,
   "metadata": {},
   "outputs": [
    {
     "data": {
      "text/html": [
       "<div>\n",
       "<style scoped>\n",
       "    .dataframe tbody tr th:only-of-type {\n",
       "        vertical-align: middle;\n",
       "    }\n",
       "\n",
       "    .dataframe tbody tr th {\n",
       "        vertical-align: top;\n",
       "    }\n",
       "\n",
       "    .dataframe thead th {\n",
       "        text-align: right;\n",
       "    }\n",
       "</style>\n",
       "<table border=\"1\" class=\"dataframe\">\n",
       "  <thead>\n",
       "    <tr style=\"text-align: right;\">\n",
       "      <th></th>\n",
       "      <th>Name</th>\n",
       "      <th>Year</th>\n",
       "      <th>Duration m</th>\n",
       "      <th>Genre</th>\n",
       "      <th>Rating</th>\n",
       "      <th>Votes</th>\n",
       "      <th>Director</th>\n",
       "      <th>Actor 1</th>\n",
       "      <th>Actor 2</th>\n",
       "      <th>Actor 3</th>\n",
       "    </tr>\n",
       "  </thead>\n",
       "  <tbody>\n",
       "    <tr>\n",
       "      <th>1</th>\n",
       "      <td>Gadhvi</td>\n",
       "      <td>2019</td>\n",
       "      <td>109</td>\n",
       "      <td>Drama</td>\n",
       "      <td>7.0</td>\n",
       "      <td>8</td>\n",
       "      <td>Gaurav Bakshi</td>\n",
       "      <td>Rasika Dugal</td>\n",
       "      <td>Vivek Ghamande</td>\n",
       "      <td>Arvind Jangid</td>\n",
       "    </tr>\n",
       "    <tr>\n",
       "      <th>3</th>\n",
       "      <td>Yaaram</td>\n",
       "      <td>2019</td>\n",
       "      <td>110</td>\n",
       "      <td>Comedy, Romance</td>\n",
       "      <td>4.4</td>\n",
       "      <td>35</td>\n",
       "      <td>Ovais Khan</td>\n",
       "      <td>Prateik</td>\n",
       "      <td>Ishita Raj</td>\n",
       "      <td>Siddhant Kapoor</td>\n",
       "    </tr>\n",
       "    <tr>\n",
       "      <th>5</th>\n",
       "      <td>Aur Pyaar Ho Gaya</td>\n",
       "      <td>1997</td>\n",
       "      <td>147</td>\n",
       "      <td>Comedy, Drama, Musical</td>\n",
       "      <td>4.7</td>\n",
       "      <td>827</td>\n",
       "      <td>Rahul Rawail</td>\n",
       "      <td>Bobby Deol</td>\n",
       "      <td>Aishwarya Rai Bachchan</td>\n",
       "      <td>Shammi Kapoor</td>\n",
       "    </tr>\n",
       "    <tr>\n",
       "      <th>6</th>\n",
       "      <td>Yahaan</td>\n",
       "      <td>2005</td>\n",
       "      <td>142</td>\n",
       "      <td>Drama, Romance, War</td>\n",
       "      <td>7.4</td>\n",
       "      <td>1086</td>\n",
       "      <td>Shoojit Sircar</td>\n",
       "      <td>Jimmy Sheirgill</td>\n",
       "      <td>Minissha Lamba</td>\n",
       "      <td>Yashpal Sharma</td>\n",
       "    </tr>\n",
       "    <tr>\n",
       "      <th>8</th>\n",
       "      <td>A Question Mark</td>\n",
       "      <td>2012</td>\n",
       "      <td>82</td>\n",
       "      <td>Horror, Mystery, Thriller</td>\n",
       "      <td>5.6</td>\n",
       "      <td>326</td>\n",
       "      <td>Allyson Patel</td>\n",
       "      <td>Yash Dave</td>\n",
       "      <td>Muntazir Ahmad</td>\n",
       "      <td>Kiran Bhatia</td>\n",
       "    </tr>\n",
       "    <tr>\n",
       "      <th>...</th>\n",
       "      <td>...</td>\n",
       "      <td>...</td>\n",
       "      <td>...</td>\n",
       "      <td>...</td>\n",
       "      <td>...</td>\n",
       "      <td>...</td>\n",
       "      <td>...</td>\n",
       "      <td>...</td>\n",
       "      <td>...</td>\n",
       "      <td>...</td>\n",
       "    </tr>\n",
       "    <tr>\n",
       "      <th>15493</th>\n",
       "      <td>Zubaan</td>\n",
       "      <td>2015</td>\n",
       "      <td>115</td>\n",
       "      <td>Drama</td>\n",
       "      <td>6.1</td>\n",
       "      <td>408</td>\n",
       "      <td>Mozez Singh</td>\n",
       "      <td>Vicky Kaushal</td>\n",
       "      <td>Sarah Jane Dias</td>\n",
       "      <td>Raaghavv Chanana</td>\n",
       "    </tr>\n",
       "    <tr>\n",
       "      <th>15494</th>\n",
       "      <td>Zubeidaa</td>\n",
       "      <td>2001</td>\n",
       "      <td>153</td>\n",
       "      <td>Biography, Drama, History</td>\n",
       "      <td>6.2</td>\n",
       "      <td>1496</td>\n",
       "      <td>Shyam Benegal</td>\n",
       "      <td>Karisma Kapoor</td>\n",
       "      <td>Rekha</td>\n",
       "      <td>Manoj Bajpayee</td>\n",
       "    </tr>\n",
       "    <tr>\n",
       "      <th>15503</th>\n",
       "      <td>Zulm Ki Zanjeer</td>\n",
       "      <td>1989</td>\n",
       "      <td>125</td>\n",
       "      <td>Action, Crime, Drama</td>\n",
       "      <td>5.8</td>\n",
       "      <td>44</td>\n",
       "      <td>S.P. Muthuraman</td>\n",
       "      <td>Chiranjeevi</td>\n",
       "      <td>Jayamalini</td>\n",
       "      <td>Rajinikanth</td>\n",
       "    </tr>\n",
       "    <tr>\n",
       "      <th>15505</th>\n",
       "      <td>Zulmi</td>\n",
       "      <td>1999</td>\n",
       "      <td>129</td>\n",
       "      <td>Action, Drama</td>\n",
       "      <td>4.5</td>\n",
       "      <td>655</td>\n",
       "      <td>Kuku Kohli</td>\n",
       "      <td>Akshay Kumar</td>\n",
       "      <td>Twinkle Khanna</td>\n",
       "      <td>Aruna Irani</td>\n",
       "    </tr>\n",
       "    <tr>\n",
       "      <th>15508</th>\n",
       "      <td>Zulm-O-Sitam</td>\n",
       "      <td>1998</td>\n",
       "      <td>130</td>\n",
       "      <td>Action, Drama</td>\n",
       "      <td>6.2</td>\n",
       "      <td>20</td>\n",
       "      <td>K.C. Bokadia</td>\n",
       "      <td>Dharmendra</td>\n",
       "      <td>Jaya Prada</td>\n",
       "      <td>Arjun Sarja</td>\n",
       "    </tr>\n",
       "  </tbody>\n",
       "</table>\n",
       "<p>4990 rows × 10 columns</p>\n",
       "</div>"
      ],
      "text/plain": [
       "                    Name  Year  Duration m                      Genre  Rating   \n",
       "1                Gadhvi   2019         109                      Drama     7.0  \\\n",
       "3                 Yaaram  2019         110            Comedy, Romance     4.4   \n",
       "5      Aur Pyaar Ho Gaya  1997         147     Comedy, Drama, Musical     4.7   \n",
       "6                 Yahaan  2005         142        Drama, Romance, War     7.4   \n",
       "8        A Question Mark  2012          82  Horror, Mystery, Thriller     5.6   \n",
       "...                  ...   ...         ...                        ...     ...   \n",
       "15493             Zubaan  2015         115                      Drama     6.1   \n",
       "15494           Zubeidaa  2001         153  Biography, Drama, History     6.2   \n",
       "15503    Zulm Ki Zanjeer  1989         125       Action, Crime, Drama     5.8   \n",
       "15505              Zulmi  1999         129              Action, Drama     4.5   \n",
       "15508       Zulm-O-Sitam  1998         130              Action, Drama     6.2   \n",
       "\n",
       "       Votes         Director          Actor 1                 Actor 2   \n",
       "1          8    Gaurav Bakshi     Rasika Dugal          Vivek Ghamande  \\\n",
       "3         35       Ovais Khan          Prateik              Ishita Raj   \n",
       "5        827     Rahul Rawail       Bobby Deol  Aishwarya Rai Bachchan   \n",
       "6       1086   Shoojit Sircar  Jimmy Sheirgill          Minissha Lamba   \n",
       "8        326    Allyson Patel        Yash Dave          Muntazir Ahmad   \n",
       "...      ...              ...              ...                     ...   \n",
       "15493    408      Mozez Singh    Vicky Kaushal         Sarah Jane Dias   \n",
       "15494   1496    Shyam Benegal   Karisma Kapoor                   Rekha   \n",
       "15503     44  S.P. Muthuraman      Chiranjeevi              Jayamalini   \n",
       "15505    655       Kuku Kohli     Akshay Kumar          Twinkle Khanna   \n",
       "15508     20     K.C. Bokadia       Dharmendra              Jaya Prada   \n",
       "\n",
       "                Actor 3  \n",
       "1         Arvind Jangid  \n",
       "3       Siddhant Kapoor  \n",
       "5         Shammi Kapoor  \n",
       "6        Yashpal Sharma  \n",
       "8          Kiran Bhatia  \n",
       "...                 ...  \n",
       "15493  Raaghavv Chanana  \n",
       "15494    Manoj Bajpayee  \n",
       "15503       Rajinikanth  \n",
       "15505       Aruna Irani  \n",
       "15508       Arjun Sarja  \n",
       "\n",
       "[4990 rows x 10 columns]"
      ]
     },
     "execution_count": 454,
     "metadata": {},
     "output_type": "execute_result"
    }
   ],
   "source": [
    "df"
   ]
  },
  {
   "cell_type": "code",
   "execution_count": 455,
   "metadata": {},
   "outputs": [],
   "source": [
    "#encoding the data using the mean method for each  string char!\n",
    "genret = df.groupby('Genre')['Rating'].transform('mean')\n"
   ]
  },
  {
   "cell_type": "code",
   "execution_count": 456,
   "metadata": {},
   "outputs": [],
   "source": [
    "directort= df.groupby('Director')['Rating'].transform('mean')\n",
    "\n",
    "actor1t= df.groupby('Actor 1')['Rating'].transform('mean')\n",
    "\n",
    "actor2t= df.groupby('Actor 2')['Rating'].transform('mean')\n",
    "\n",
    "actor3t= df.groupby('Actor 3')['Rating'].transform('mean')\n"
   ]
  },
  {
   "cell_type": "code",
   "execution_count": 457,
   "metadata": {},
   "outputs": [],
   "source": [
    "df['directort']=directort\n",
    "df['actor1t']=actor1t\n",
    "df['actor2t']=actor2t\n",
    "df['actor3t']=actor3t\n",
    "df['genret']=genret"
   ]
  },
  {
   "cell_type": "code",
   "execution_count": 458,
   "metadata": {},
   "outputs": [],
   "source": [
    "from sklearn.metrics import mean_squared_error,accuracy_score,r2_score\n",
    "from sklearn.linear_model import LinearRegression\n",
    "from sklearn.tree import DecisionTreeRegressor"
   ]
  },
  {
   "cell_type": "code",
   "execution_count": 459,
   "metadata": {},
   "outputs": [],
   "source": [
    "X = df[[ 'Year', 'Votes', 'Duration m', 'genret','directort','actor1t', 'actor2t', 'actor3t']]\n",
    "y=df['Rating']\n"
   ]
  },
  {
   "cell_type": "code",
   "execution_count": 460,
   "metadata": {},
   "outputs": [
    {
     "name": "stdout",
     "output_type": "stream",
     "text": [
      "x_train shape : (3992, 8)\n",
      "y_train shape : (3992,)\n"
     ]
    }
   ],
   "source": [
    "x_train,x_test,y_train,y_test=train_test_split(X,y,train_size=0.8,random_state=22)\n",
    "print(f'x_train shape : {x_train.shape}')\n",
    "print(f'y_train shape : {y_train.shape}')"
   ]
  },
  {
   "cell_type": "code",
   "execution_count": 461,
   "metadata": {},
   "outputs": [],
   "source": [
    "lg=LinearRegression()\n",
    "lg.fit(x_train,y_train)\n",
    "predicted=lg.predict(x_test)"
   ]
  },
  {
   "cell_type": "code",
   "execution_count": 462,
   "metadata": {},
   "outputs": [
    {
     "data": {
      "text/plain": [
       "array([8.12411418, 6.61034396, 9.44686319, 7.64261303, 4.82752051,\n",
       "       8.94259497, 5.65912188, 6.40235763, 6.10990288, 6.36045654,\n",
       "       6.0503712 , 3.96193853, 6.68577399, 5.97813532, 7.08493201,\n",
       "       8.41106653, 6.9095181 , 5.61305333, 5.58125175, 4.47899074,\n",
       "       5.43037597, 4.79426151, 5.20032323, 5.30626841, 5.89162922,\n",
       "       3.31661776, 5.57980404, 6.78368581, 8.01960965, 7.51362527,\n",
       "       5.46219955, 6.69845947, 4.99856062, 7.21174662, 6.05895686,\n",
       "       7.33136777, 6.75514705, 6.80850368, 6.88204684, 7.09424691,\n",
       "       6.33128931, 6.99079825, 7.4781985 , 6.68767735, 5.74044847,\n",
       "       6.52955332, 4.97198576, 6.87466595, 3.53285137, 4.53190341,\n",
       "       5.83994356, 3.67944192, 7.10930313, 6.91303624, 7.50956931,\n",
       "       5.98377833, 5.55588016, 5.27597206, 8.70703231, 6.40687371,\n",
       "       6.65024899, 5.14909426, 6.51974141, 7.2220945 , 2.0624695 ,\n",
       "       5.35512529, 5.08673456, 6.68092158, 4.0998348 , 3.46229305,\n",
       "       5.87231143, 7.82462544, 5.64264519, 7.04230819, 6.83057146,\n",
       "       6.59184588, 7.07294931, 6.21271697, 7.07051974, 6.65309383,\n",
       "       5.59357014, 6.33029824, 3.22237611, 4.7350503 , 3.83386487,\n",
       "       5.00047154, 6.38243672, 5.42323727, 5.89026469, 7.22836731,\n",
       "       6.97395738, 5.91890655, 5.99078804, 6.92010036, 5.28931121,\n",
       "       6.12277485, 6.79673115, 6.47779058, 5.79804678, 6.06848072,\n",
       "       3.45027521, 5.41983628, 6.58043426, 4.05411677, 4.25818017,\n",
       "       6.86533652, 7.14961271, 8.62961114, 5.2031538 , 5.9279385 ,\n",
       "       5.22495091, 7.04154205, 5.19423527, 6.36404737, 6.83318759,\n",
       "       6.21968151, 7.09209627, 5.30872425, 6.66269084, 4.55468178,\n",
       "       7.69933832, 9.82175607, 5.46830726, 6.25873664, 6.40218497,\n",
       "       6.43211373, 5.37098926, 5.31742783, 5.85417996, 5.28937204,\n",
       "       5.70809182, 5.16530114, 6.46181526, 4.32999198, 6.79123259,\n",
       "       3.07592798, 5.26558449, 6.63178457, 5.75844185, 4.31085025,\n",
       "       6.87967378, 6.95751347, 5.97600876, 6.46498799, 5.08537576,\n",
       "       5.19900763, 4.99685696, 6.17747311, 6.22680579, 6.21840043,\n",
       "       6.48478519, 5.00075016, 7.20925055, 6.43916204, 4.82806513,\n",
       "       6.44362565, 6.79002646, 6.59393537, 6.40306119, 6.00876504,\n",
       "       6.10647694, 4.48829015, 6.18754028, 5.81841531, 5.70826614,\n",
       "       3.61006671, 5.41349438, 6.50547011, 5.09823688, 4.95488947,\n",
       "       8.499082  , 7.27038279, 8.23095829, 6.9321894 , 5.91979386,\n",
       "       6.59832093, 4.55411917, 6.81422098, 5.97679867, 5.43410504,\n",
       "       3.64154412, 4.66093327, 5.56386021, 5.6920885 , 4.81714757,\n",
       "       5.43431592, 6.52771705, 7.80241788, 6.21197127, 6.2395232 ,\n",
       "       5.88627689, 5.84819569, 4.31788167, 5.77885779, 5.06019455,\n",
       "       4.29046186, 4.84091957, 3.89594978, 6.3566125 , 6.20208537,\n",
       "       7.08253394, 6.86648336, 9.65242481, 6.28337371, 3.30071496,\n",
       "       6.88878592, 4.91074786, 6.39378762, 6.97760753, 7.75932049,\n",
       "       6.14885653, 5.49516237, 6.78094983, 6.8492478 , 6.72355321,\n",
       "       4.25701465, 5.82203363, 5.98594099, 5.36780511, 4.53365478,\n",
       "       5.31279179, 2.12214936, 3.49201428, 4.7220379 , 7.91013375,\n",
       "       6.25329314, 4.27425834, 6.84291773, 5.10788322, 4.88386865,\n",
       "       5.9302801 , 5.557226  , 6.0759692 , 7.30584723, 7.06099125,\n",
       "       7.16370184, 7.27206587, 6.36841136, 6.79877733, 5.88157771,\n",
       "       5.15211022, 7.1467394 , 6.70032205, 7.55509835, 5.54667284,\n",
       "       6.10960949, 5.5457708 , 7.28654482, 5.40644569, 6.09856135,\n",
       "       6.46289812, 5.60275149, 4.34508699, 6.1617174 , 7.23029847,\n",
       "       7.44075201, 7.03320782, 4.92381639, 5.41616825, 6.77598682,\n",
       "       5.29612643, 6.57523591, 3.30202816, 5.1488507 , 6.03656183,\n",
       "       6.08169696, 5.02549168, 2.69542292, 3.45633791, 7.24584432,\n",
       "       6.06524992, 5.82938751, 5.64402778, 5.13073186, 3.98456863,\n",
       "       6.29716632, 4.08198081, 3.30495304, 5.20484391, 7.04740634,\n",
       "       5.20123566, 6.57282618, 6.38655241, 4.26032393, 6.31475884,\n",
       "       5.11560557, 5.74328052, 4.96579034, 5.01546007, 7.04480482,\n",
       "       6.64824428, 6.15113523, 6.78637364, 6.73812955, 5.58725676,\n",
       "       5.06146798, 6.74976691, 7.17077691, 7.34120917, 4.22928911,\n",
       "       4.18556328, 2.86385339, 5.73368704, 6.00256832, 4.70819735,\n",
       "       6.62653345, 5.88830939, 5.47573303, 6.60768784, 6.84462574,\n",
       "       6.20497636, 5.89349502, 5.39409397, 6.62752733, 6.8526391 ,\n",
       "       7.17117793, 5.26100534, 3.32258973, 6.59789552, 5.70211432,\n",
       "       6.64710106, 6.56156797, 9.55603677, 7.1611906 , 6.94311819,\n",
       "       7.18544378, 5.65557799, 5.80898888, 4.86265966, 5.60534446,\n",
       "       7.88744952, 5.76470415, 7.16469144, 4.9097138 , 5.70281371,\n",
       "       5.6688377 , 5.84588773, 6.72496182, 6.66978093, 6.7707065 ,\n",
       "       5.90567188, 5.82989944, 7.89448068, 4.95701708, 6.05194175,\n",
       "       4.91399684, 3.5867062 , 6.62331527, 5.8266748 , 6.90658861,\n",
       "       6.79355876, 2.41381952, 5.74137937, 6.25481497, 5.53527459,\n",
       "       4.89720443, 5.31423243, 6.52838755, 7.01114457, 5.94514682,\n",
       "       6.12614649, 5.499661  , 3.94519751, 5.39683352, 7.07442103,\n",
       "       5.28539461, 6.84483247, 4.97724703, 6.02796394, 6.71950993,\n",
       "       3.47362577, 5.39613873, 7.5919683 , 8.27586454, 5.54790384,\n",
       "       5.68368503, 7.14222918, 6.28519281, 7.43468132, 6.70886009,\n",
       "       7.08616014, 8.84111268, 4.4790641 , 6.70779918, 4.30727007,\n",
       "       4.60316961, 7.1564554 , 5.18566044, 7.3510947 , 3.47679087,\n",
       "       6.02159791, 7.12683031, 5.82891847, 5.43885298, 5.42561759,\n",
       "       7.31566833, 5.93287816, 5.94364807, 5.6135161 , 5.44104771,\n",
       "       9.57031898, 6.5420855 , 6.40984282, 6.94764637, 5.16810793,\n",
       "       5.10795577, 4.94532198, 4.19313131, 7.4880899 , 6.48249205,\n",
       "       6.68185237, 5.3745562 , 6.88362032, 6.69504008, 7.20375018,\n",
       "       6.84638276, 6.44182377, 5.21493632, 5.68427718, 4.41689851,\n",
       "       6.11178433, 6.77376005, 6.19236702, 5.64515543, 5.23819531,\n",
       "       4.64205552, 6.89997526, 5.67003038, 6.52053004, 3.74136636,\n",
       "       7.02813568, 5.34895339, 3.8491765 , 7.1755649 , 6.34206154,\n",
       "       6.6240321 , 6.74938552, 6.34432988, 5.4685498 , 5.15638708,\n",
       "       7.37035505, 4.94003038, 6.62747126, 7.08051204, 6.09151149,\n",
       "       5.66388314, 6.49576319, 6.5820076 , 6.95215977, 6.14251906,\n",
       "       6.63795651, 8.97907193, 5.636729  , 9.00845174, 6.906214  ,\n",
       "       4.44217375, 4.22988693, 5.50483235, 5.57503182, 3.97391268,\n",
       "       8.03204539, 5.46408327, 5.04601377, 4.82476498, 6.12055062,\n",
       "       6.30609614, 5.399715  , 4.64504639, 1.45177449, 6.81525847,\n",
       "       3.96414249, 8.64653322, 6.08088138, 4.73149487, 7.64155259,\n",
       "       4.54544676, 6.10776912, 6.18175274, 2.23073571, 6.21760098,\n",
       "       5.66300472, 6.86282907, 6.7818512 , 3.0132202 , 5.77555449,\n",
       "       4.13478543, 5.74797276, 3.34670021, 5.54148568, 7.7030865 ,\n",
       "       6.76915669, 5.14083724, 5.2555501 , 6.32556666, 8.57159683,\n",
       "       6.50086302, 7.43820645, 6.55282067, 6.1766022 , 7.42799991,\n",
       "       6.37529545, 4.43584955, 4.48074156, 5.67569138, 4.69238304,\n",
       "       4.7199372 , 4.01044796, 6.21655406, 5.04289597, 7.63736721,\n",
       "       5.14207543, 5.68852998, 6.57573301, 1.14585613, 7.582095  ,\n",
       "       6.25262838, 6.56288117, 6.35529646, 6.15389745, 3.99124494,\n",
       "       6.07323421, 7.01913267, 6.51746993, 5.73003659, 3.12970564,\n",
       "       6.31847256, 7.32144166, 6.91107122, 7.58350576, 3.96100659,\n",
       "       6.46646333, 6.36193668, 5.41481993, 3.01597064, 5.80916311,\n",
       "       4.74783334, 7.79356049, 5.84969392, 6.88098035, 6.93522426,\n",
       "       5.25573434, 5.74271249, 7.68516009, 6.78008332, 5.42485239,\n",
       "       3.48740063, 7.00243063, 9.57771922, 6.28713749, 3.71803256,\n",
       "       4.08049338, 6.81305594, 2.75183191, 5.32432878, 5.32938726,\n",
       "       7.03976737, 4.72968768, 3.58471655, 6.1284056 , 8.37558306,\n",
       "       2.7840426 , 5.98682065, 9.34896327, 6.82365978, 6.71957318,\n",
       "       6.78263797, 6.16346372, 5.76904413, 6.1242782 , 6.82734811,\n",
       "       6.90868497, 6.3390139 , 6.4118525 , 6.04588409, 4.92146316,\n",
       "       5.83369525, 6.10852895, 5.56840882, 4.85181413, 2.79339212,\n",
       "       4.89393224, 5.88878975, 7.60789372, 3.84919804, 4.92124644,\n",
       "       6.92370992, 3.5970386 , 3.65727863, 2.19133826, 6.02402745,\n",
       "       3.96947241, 4.56755787, 5.5096466 , 5.78480719, 5.74143348,\n",
       "       6.35094049, 5.65595822, 7.75027499, 5.35242956, 6.44306801,\n",
       "       3.75055191, 6.09035651, 4.01748301, 4.0853693 , 4.58127244,\n",
       "       4.52505979, 7.18337616, 5.80518912, 6.50357215, 6.44467267,\n",
       "       7.64337218, 6.40210688, 2.65878589, 5.6420204 , 3.87724156,\n",
       "       3.46897353, 5.24770516, 4.66497565, 6.72807189, 5.88138861,\n",
       "       3.35075048, 4.85176069, 6.78562872, 7.69379873, 6.13475324,\n",
       "       5.05101793, 8.12022653, 5.77961482, 5.50142181, 2.56366022,\n",
       "       4.93779947, 6.57653896, 5.85729484, 4.11934573, 5.96844748,\n",
       "       6.39110409, 5.96573662, 6.41823302, 7.60615276, 5.02448829,\n",
       "       6.81487172, 6.37992297, 4.76174528, 5.98491819, 4.37597806,\n",
       "       4.61012899, 6.7584892 , 5.19460434, 5.56312791, 6.54271448,\n",
       "       6.03784254, 2.09530394, 6.49297432, 7.18832187, 5.71519535,\n",
       "       8.53764124, 6.18319193, 5.52977167, 5.6029229 , 4.09149277,\n",
       "       7.49740196, 6.46463216, 6.30051543, 5.32350836, 6.17259493,\n",
       "       8.23681473, 6.31656076, 5.68997834, 5.40933529, 5.37966667,\n",
       "       6.89866116, 4.83803918, 4.16524381, 6.62782304, 7.18189652,\n",
       "       4.55808625, 3.38577506, 6.54309533, 6.30264688, 5.91361248,\n",
       "       4.90414536, 3.1781603 , 7.1622151 , 6.69073795, 5.07904638,\n",
       "       3.62720875, 5.06589599, 4.33652162, 5.73712804, 5.82758773,\n",
       "       6.45857533, 5.42553814, 6.58296928, 6.21207561, 5.04535745,\n",
       "       5.41402486, 5.44199386, 4.71777284, 4.8403335 , 6.41188128,\n",
       "       4.21027474, 3.26935045, 4.80612542, 6.00414644, 6.03932842,\n",
       "       6.44854121, 6.20584103, 6.22283875, 7.12697239, 8.03435338,\n",
       "       7.36168935, 5.46159641, 6.89843386, 6.19871241, 4.15985079,\n",
       "       4.39523645, 6.81277476, 5.49383782, 3.91471503, 2.77227254,\n",
       "       5.53308167, 6.23382019, 6.43498246, 5.25331076, 5.91218346,\n",
       "       5.61643239, 6.58051562, 5.04899033, 6.60248077, 6.4625044 ,\n",
       "       5.70373906, 7.5100815 , 6.45065805, 5.84866095, 7.8478647 ,\n",
       "       6.93599772, 6.04048923, 4.2512908 , 8.22168457, 4.76085923,\n",
       "       6.1427993 , 6.45854307, 6.30217607, 6.07243765, 4.85164913,\n",
       "       7.66459114, 4.47178483, 6.43841231, 3.90778099, 8.84867983,\n",
       "       3.55059375, 8.23602476, 5.05239556, 6.14876703, 5.66770993,\n",
       "       5.18761975, 6.8647995 , 6.60051158, 6.23731642, 4.10847864,\n",
       "       4.96351719, 7.3870778 , 8.06080882, 5.47305011, 5.01201985,\n",
       "       6.17876137, 5.86557156, 6.84848066, 5.67022692, 7.49126426,\n",
       "       6.0050747 , 6.91676817, 5.4213047 , 5.78726142, 5.96521187,\n",
       "       6.37888829, 5.95409418, 5.75062127, 3.68267852, 6.25207218,\n",
       "       6.01427777, 5.04004703, 6.95569737, 5.84873319, 7.3429044 ,\n",
       "       4.63309216, 5.43937565, 5.75124651, 4.16915104, 5.84003153,\n",
       "       6.5301277 , 4.83674602, 7.52160401, 6.56557094, 3.64919612,\n",
       "       6.67135468, 5.42473708, 6.19791886, 5.78952908, 5.68955753,\n",
       "       5.54897649, 6.10724878, 5.28919137, 5.75431118, 4.77299989,\n",
       "       6.60238566, 6.61065351, 5.70713475, 5.29181059, 9.99206945,\n",
       "       4.31638523, 6.55445507, 3.57343905, 4.37613102, 6.84474731,\n",
       "       6.34122315, 6.89969079, 3.79218617, 5.41438579, 6.19268093,\n",
       "       5.44297015, 9.73721884, 3.26394657, 7.07811406, 9.83361649,\n",
       "       5.59365066, 6.52579357, 4.39386981, 6.06546383, 5.13926637,\n",
       "       6.04712202, 4.94299449, 5.8564493 , 8.39835959, 5.76062934,\n",
       "       4.96515577, 7.00454446, 3.77206528, 6.67364476, 5.9367425 ,\n",
       "       6.97771014, 5.86793923, 5.96481898, 7.21915135, 5.68953046,\n",
       "       5.89103892, 5.25312883, 7.0129053 , 7.11555562, 8.12046024,\n",
       "       5.28606462, 5.93974458, 3.4435992 , 4.19943191, 6.78159723,\n",
       "       4.47595861, 3.22216435, 6.45887236, 6.79590921, 6.77382852,\n",
       "       7.88204852, 6.44124849, 4.99617746, 5.62533301, 5.20133685,\n",
       "       4.8246467 , 5.62771757, 5.1996955 , 6.46033755, 3.23939622,\n",
       "       5.17607093, 5.08060427, 6.02432835, 6.0994218 , 5.82252559,\n",
       "       9.17049471, 5.43456497, 5.81393894, 4.83997943, 5.05409008,\n",
       "       5.15969958, 7.24869303, 3.30741147, 4.16774802, 3.58925965,\n",
       "       6.4199275 , 4.83281448, 6.82639213, 7.06530929, 5.25827557,\n",
       "       5.12481464, 5.44842059, 3.9334519 , 4.92001064, 5.98822478,\n",
       "       3.28640141, 8.01115918, 6.17877486, 6.61610464, 6.78560548,\n",
       "       5.41377733, 4.85642539, 5.49965875, 4.7007967 , 6.81125913,\n",
       "       7.19822909, 5.6314472 , 5.30587493, 6.96571847, 5.40379677,\n",
       "       6.20421295, 5.59706995, 6.8924226 , 5.71850172, 6.76759446,\n",
       "       5.5338493 , 5.72639777, 5.1559156 , 5.92072223, 7.38503454,\n",
       "       5.77805458, 5.68047109, 6.32108015, 6.34728166, 5.46368738,\n",
       "       6.11133862, 5.28942967, 5.97251957, 5.85162887, 4.03774399,\n",
       "       5.46805582, 4.74481028, 6.12069695, 7.22262084, 7.14939197,\n",
       "       4.8717383 , 8.00024997, 6.54664071, 4.56134634, 5.79336805,\n",
       "       6.17214172, 7.05250675, 6.41082912, 6.21074521, 5.7553365 ,\n",
       "       6.80651804, 6.77751145, 6.56092426, 7.16429696, 5.8216937 ,\n",
       "       5.95092884, 7.11226942, 3.90140907, 6.12426266, 7.17094434,\n",
       "       6.00919854, 6.24157968, 6.22814227, 5.81567876, 5.41603836,\n",
       "       6.02254419, 5.1906276 , 6.46317219, 5.3487925 , 6.34907733,\n",
       "       4.78217914, 4.60974842, 6.52107394, 9.57048161, 5.32911661,\n",
       "       7.52413326, 5.39844511, 4.20786777, 4.69107244, 6.86658619,\n",
       "       6.57640798, 5.66822489, 6.24259313, 5.73861441, 6.10670592,\n",
       "       4.80112364, 6.6706081 , 5.9794396 , 4.88580946, 8.06391199,\n",
       "       7.45616453, 5.63979534, 4.97511161, 6.33368237, 7.1434454 ,\n",
       "       7.32917561, 5.25204721, 8.48677267, 5.78273369, 2.78537622,\n",
       "       5.24139205, 4.37525199, 5.4763147 ])"
      ]
     },
     "execution_count": 462,
     "metadata": {},
     "output_type": "execute_result"
    }
   ],
   "source": [
    "predicted"
   ]
  },
  {
   "cell_type": "code",
   "execution_count": 463,
   "metadata": {},
   "outputs": [],
   "source": [
    "error=mean_squared_error(y_test,predicted)\n",
    "acc=r2_score(y_test,predicted)"
   ]
  },
  {
   "cell_type": "code",
   "execution_count": 464,
   "metadata": {},
   "outputs": [
    {
     "data": {
      "text/plain": [
       "(0.4186162851087406, 0.7950685340277919)"
      ]
     },
     "execution_count": 464,
     "metadata": {},
     "output_type": "execute_result"
    }
   ],
   "source": [
    "error,acc"
   ]
  },
  {
   "cell_type": "markdown",
   "metadata": {},
   "source": [
    "**DE TREE CLASSIFIER**"
   ]
  },
  {
   "cell_type": "code",
   "execution_count": 465,
   "metadata": {},
   "outputs": [
    {
     "name": "stdout",
     "output_type": "stream",
     "text": [
      "x_train shape : (3992, 8)\n",
      "y_train shape : (3992,)\n"
     ]
    }
   ],
   "source": [
    "x_train,x_test,y_train,y_test=train_test_split(X,y,train_size=0.8,random_state=42)\n",
    "print(f'x_train shape : {x_train.shape}')\n",
    "print(f'y_train shape : {y_train.shape}')"
   ]
  },
  {
   "cell_type": "code",
   "execution_count": 466,
   "metadata": {},
   "outputs": [],
   "source": [
    "dt = DecisionTreeRegressor(random_state=42)\n",
    "dt.fit(x_train,y_train)\n",
    "predicted=dt.predict(x_test)"
   ]
  },
  {
   "cell_type": "code",
   "execution_count": 467,
   "metadata": {},
   "outputs": [],
   "source": [
    "error=mean_squared_error(y_test,predicted)\n",
    "acc=r2_score(y_test,predicted)"
   ]
  },
  {
   "cell_type": "code",
   "execution_count": 469,
   "metadata": {},
   "outputs": [
    {
     "data": {
      "text/plain": [
       "(0.6443486973947895, 0.6716886081270588)"
      ]
     },
     "execution_count": 469,
     "metadata": {},
     "output_type": "execute_result"
    }
   ],
   "source": [
    "error,acc"
   ]
  },
  {
   "cell_type": "markdown",
   "metadata": {},
   "source": [
    "**MULTIPLE REGRESSION SUITABLE THAN DECISION TREE CLASSIFIER** "
   ]
  }
 ],
 "metadata": {
  "kernelspec": {
   "display_name": "Python 3",
   "language": "python",
   "name": "python3"
  },
  "language_info": {
   "codemirror_mode": {
    "name": "ipython",
    "version": 3
   },
   "file_extension": ".py",
   "mimetype": "text/x-python",
   "name": "python",
   "nbconvert_exporter": "python",
   "pygments_lexer": "ipython3",
   "version": "3.11.3"
  }
 },
 "nbformat": 4,
 "nbformat_minor": 2
}
